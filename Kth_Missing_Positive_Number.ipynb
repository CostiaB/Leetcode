{
 "cells": [
  {
   "cell_type": "markdown",
   "id": "138e1f39",
   "metadata": {},
   "source": [
    "## 1539. Kth Missing Positive Number\n",
    "Easy\n",
    "4.7K\n",
    "302\n",
    "Companies\n",
    "\n",
    "Given an array arr of positive integers sorted in a strictly increasing order, and an integer k.\n",
    "\n",
    "Return the kth positive integer that is missing from this array.\n",
    "\n",
    " \n",
    "\n",
    "Example 1:\n",
    "\n",
    "Input: arr = [2,3,4,7,11], k = 5  \n",
    "Output: 9  \n",
    "Explanation: The missing positive integers are [1,5,6,8,9,10,12,13,...]. The 5th missing positive integer is 9.\n",
    "\n",
    "Example 2:\n",
    "\n",
    "Input: arr = [1,2,3,4], k = 2  \n",
    "Output: 6  \n",
    "Explanation: The missing positive integers are [5,6,7,...]. The 2nd missing positive integer is 6.\n",
    "\n",
    " \n",
    "\n",
    "Constraints:\n",
    "\n",
    "    1 <= arr.length <= 1000  \n",
    "    1 <= arr[i] <= 1000  \n",
    "    1 <= k <= 1000  \n",
    "    arr[i] < arr[j] for 1 <= i < j <= arr.length  \n",
    "\n",
    " \n",
    "\n",
    "Follow up:\n",
    "\n",
    "Could you solve this problem in less than O(n) complexity?"
   ]
  },
  {
   "cell_type": "code",
   "execution_count": null,
   "id": "a8e5d505",
   "metadata": {},
   "outputs": [],
   "source": [
    "class Solution:\n",
    "    def findKthPositive(self, arr: List[int], k: int) -> int:\n",
    "        n = len(arr)\n",
    "        start = 0\n",
    "        end = n-1\n",
    "        while start <= end:\n",
    "            pointer = start + (end-start) // 2\n",
    "            if arr[pointer] - (pointer + 1) < k:\n",
    "                start = pointer + 1\n",
    "            else:\n",
    "                end = pointer - 1\n",
    "        return start + k "
   ]
  },
  {
   "cell_type": "markdown",
   "id": "ecb843f4",
   "metadata": {},
   "source": [
    "Runtime 50 ms  \n",
    "Beats  \n",
    "83.18%  \n",
    "Memory 13.8 MB  \n",
    "Beats  \n",
    "98.30%  "
   ]
  }
 ],
 "metadata": {
  "kernelspec": {
   "display_name": "Python 3 (ipykernel)",
   "language": "python",
   "name": "python3"
  },
  "language_info": {
   "codemirror_mode": {
    "name": "ipython",
    "version": 3
   },
   "file_extension": ".py",
   "mimetype": "text/x-python",
   "name": "python",
   "nbconvert_exporter": "python",
   "pygments_lexer": "ipython3",
   "version": "3.8.13"
  }
 },
 "nbformat": 4,
 "nbformat_minor": 5
}
