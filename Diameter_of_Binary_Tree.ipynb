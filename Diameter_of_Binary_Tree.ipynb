{
 "cells": [
  {
   "cell_type": "markdown",
   "id": "050a36da",
   "metadata": {},
   "source": [
    "## 543. Diameter of Binary Tree\n",
    "Easy\n",
    "\n",
    "Given the root of a binary tree, return the length of the diameter of the tree.\n",
    "\n",
    "The diameter of a binary tree is the length of the longest path between any two nodes in a tree. This path may or may not pass through the root.\n",
    "\n",
    "The length of a path between two nodes is represented by the number of edges between them.\n",
    "\n",
    " \n",
    "\n",
    "Example 1:\n",
    "<img src = 'https://assets.leetcode.com/uploads/2021/03/06/diamtree.jpg'>\n",
    "Input: root = [1,2,3,4,5]\n",
    "Output: 3\n",
    "Explanation: 3 is the length of the path [4,2,1,3] or [5,2,1,3].\n",
    "\n",
    "Example 2:\n",
    "\n",
    "Input: root = [1,2]\n",
    "Output: 1\n",
    "\n",
    " \n",
    "\n",
    "Constraints:\n",
    "\n",
    "    The number of nodes in the tree is in the range [1, 104].\n",
    "    -100 <= Node.val <= 100\n",
    "\n"
   ]
  },
  {
   "cell_type": "code",
   "execution_count": null,
   "id": "1c5300a6",
   "metadata": {},
   "outputs": [],
   "source": [
    "# Definition for a binary tree node.\n",
    "# class TreeNode:\n",
    "#     def __init__(self, val=0, left=None, right=None):\n",
    "#         self.val = val\n",
    "#         self.left = left\n",
    "#         self.right = right\n",
    "class Solution:\n",
    "    def diameterOfBinaryTree(self, root: Optional[TreeNode]) -> int:\n",
    "        if not root:\n",
    "            return 0\n",
    "        self.diam = 0\n",
    "        \n",
    "        def length(root):\n",
    "            if root:\n",
    "                right = length(root.right)\n",
    "                left = length(root.left)\n",
    "                self.diam = max(self.diam, left + right)\n",
    "                return max(left, right) + 1 \n",
    "            return 0\n",
    "        \n",
    "        l = length(root)\n",
    "        return self.diam    "
   ]
  },
  {
   "cell_type": "markdown",
   "id": "9a9ce0e8",
   "metadata": {},
   "source": [
    "Runtime: 54 ms, faster than 82.83% of Python3 online submissions for Diameter of Binary Tree.  \n",
    "Memory Usage: 16.6 MB, less than 10.26% of Python3 online submissions for Diameter of Binary Tree."
   ]
  }
 ],
 "metadata": {
  "kernelspec": {
   "display_name": "Python 3 (ipykernel)",
   "language": "python",
   "name": "python3"
  },
  "language_info": {
   "codemirror_mode": {
    "name": "ipython",
    "version": 3
   },
   "file_extension": ".py",
   "mimetype": "text/x-python",
   "name": "python",
   "nbconvert_exporter": "python",
   "pygments_lexer": "ipython3",
   "version": "3.7.13"
  }
 },
 "nbformat": 4,
 "nbformat_minor": 5
}
