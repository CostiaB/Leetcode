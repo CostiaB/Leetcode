{
 "cells": [
  {
   "cell_type": "markdown",
   "id": "ff2040b7",
   "metadata": {},
   "source": [
    "## 438. Find All Anagrams in a String\n",
    "Medium\n",
    "\n",
    "Given two strings s and p, return an array of all the start indices of p's anagrams in s. You may return the answer in any order.\n",
    "\n",
    "An Anagram is a word or phrase formed by rearranging the letters of a different word or phrase, typically using all the original letters exactly once.\n",
    "\n",
    " \n",
    "\n",
    "Example 1:\n",
    "\n",
    "Input: s = \"cbaebabacd\", p = \"abc\"\n",
    "Output: [0,6]\n",
    "Explanation:\n",
    "The substring with start index = 0 is \"cba\", which is an anagram of \"abc\".\n",
    "The substring with start index = 6 is \"bac\", which is an anagram of \"abc\".\n",
    "\n",
    "Example 2:\n",
    "\n",
    "Input: s = \"abab\", p = \"ab\"\n",
    "Output: [0,1,2]\n",
    "Explanation:\n",
    "The substring with start index = 0 is \"ab\", which is an anagram of \"ab\".\n",
    "The substring with start index = 1 is \"ba\", which is an anagram of \"ab\".\n",
    "The substring with start index = 2 is \"ab\", which is an anagram of \"ab\".\n"
   ]
  },
  {
   "cell_type": "code",
   "execution_count": 14,
   "id": "a43cee2f",
   "metadata": {},
   "outputs": [],
   "source": [
    "class Solution:\n",
    "    def findAnagrams(self, s: str, p: str) -> list:\n",
    "        if len(p)>len(s): return []\n",
    "        s_count, p_count = {}, {}\n",
    "        for i in range(len(p)):\n",
    "            s_count[s[i]] = s_count.get(s[i],0) + 1\n",
    "            p_count[p[i]] = p_count.get(p[i],0) + 1\n",
    "        \n",
    "        if s_count==p_count:\n",
    "            res = [0]\n",
    "        else:\n",
    "            res = []\n",
    "        del_start_ind = 0\n",
    "        for i in range(len(p), len(s)):\n",
    "            s_count[s[i]] = s_count.get(s[i],0) + 1\n",
    "            s_count[s[del_start_ind]] -=1 # decrease count of previous element\n",
    "            if s_count[s[del_start_ind]] == 0:\n",
    "                s_count.pop(s[del_start_ind])  # remove element with count == 0\n",
    "            del_start_ind +=1    \n",
    "            if s_count==p_count:\n",
    "                res.append(del_start_ind)\n",
    "        return res"
   ]
  },
  {
   "cell_type": "code",
   "execution_count": 15,
   "id": "5a86fc5c",
   "metadata": {},
   "outputs": [
    {
     "data": {
      "text/plain": [
       "[0, 1, 2]"
      ]
     },
     "execution_count": 15,
     "metadata": {},
     "output_type": "execute_result"
    }
   ],
   "source": [
    "Solution().findAnagrams(s = \"abab\", p = \"ab\")"
   ]
  },
  {
   "cell_type": "markdown",
   "id": "8d73d5a1",
   "metadata": {},
   "source": [
    "Runtime: 198 ms, faster than 56.47% of Python3 online submissions for Find All Anagrams in a String.\n",
    "Memory Usage: 15.2 MB, less than 33.28% of Python3 online submissions for Find All Anagrams in a String."
   ]
  },
  {
   "cell_type": "markdown",
   "id": "186e3850",
   "metadata": {},
   "source": [
    "## 692. Top K Frequent Words\n",
    "Medium\n",
    "\n",
    "Given an array of strings words and an integer k, return the k most frequent strings.\n",
    "\n",
    "Return the answer sorted by the frequency from highest to lowest. Sort the words with the same frequency by their lexicographical order.\n",
    "\n",
    " \n",
    "\n",
    "Example 1:\n",
    "\n",
    "Input: words = [\"i\",\"love\",\"leetcode\",\"i\",\"love\",\"coding\"], k = 2\n",
    "Output: [\"i\",\"love\"]\n",
    "Explanation: \"i\" and \"love\" are the two most frequent words.\n",
    "Note that \"i\" comes before \"love\" due to a lower alphabetical order.\n",
    "\n",
    "Example 2:\n",
    "\n",
    "Input: words = [\"the\",\"day\",\"is\",\"sunny\",\"the\",\"the\",\"the\",\"sunny\",\"is\",\"is\"], k = 4\n",
    "Output: [\"the\",\"is\",\"sunny\",\"day\"]\n",
    "Explanation: \"the\", \"is\", \"sunny\" and \"day\" are the four most frequent words, with the number of occurrence being 4, 3, 2 and 1 respectively.\n",
    "\n",
    " \n",
    "\n",
    "Constraints:\n",
    "\n",
    "    1 <= words.length <= 500\n",
    "    1 <= words[i].length <= 10\n",
    "    words[i] consists of lowercase English letters.\n",
    "    k is in the range [1, The number of unique words[i]]\n",
    "\n",
    " \n",
    "\n",
    "Follow-up: Could you solve it in O(n log(k)) time and O(n) extra space?\n"
   ]
  },
  {
   "cell_type": "code",
   "execution_count": 10,
   "id": "563a1513",
   "metadata": {},
   "outputs": [],
   "source": [
    "class Solution:\n",
    "    def topKFrequent(self, words: list, k: int) -> list:\n",
    "        w = {}\n",
    "        for word in words:\n",
    "            w[word] = w.get(word, 0) + 1            \n",
    "        return  [t[0] for t in sorted(w.items(), key = lambda e:(-e[1],e[0]))][:k]"
   ]
  },
  {
   "cell_type": "code",
   "execution_count": 12,
   "id": "b61fe8f2",
   "metadata": {},
   "outputs": [
    {
     "data": {
      "text/plain": [
       "['i', 'love', 'coding']"
      ]
     },
     "execution_count": 12,
     "metadata": {},
     "output_type": "execute_result"
    }
   ],
   "source": [
    "Solution().topKFrequent([\"i\",\"love\",\"leetcode\",\"i\",\"love\",\"coding\"], 3)"
   ]
  },
  {
   "cell_type": "markdown",
   "id": "ce7054f8",
   "metadata": {},
   "source": [
    "Runtime: 99 ms, faster than 35.21% of Python3 online submissions for Top K Frequent Words.  \n",
    "Memory Usage: 13.9 MB, less than 94.82% of Python3 online submissions for Top K Frequent Words."
   ]
  }
 ],
 "metadata": {
  "kernelspec": {
   "display_name": "Python 3 (ipykernel)",
   "language": "python",
   "name": "python3"
  },
  "language_info": {
   "codemirror_mode": {
    "name": "ipython",
    "version": 3
   },
   "file_extension": ".py",
   "mimetype": "text/x-python",
   "name": "python",
   "nbconvert_exporter": "python",
   "pygments_lexer": "ipython3",
   "version": "3.7.13"
  }
 },
 "nbformat": 4,
 "nbformat_minor": 5
}
