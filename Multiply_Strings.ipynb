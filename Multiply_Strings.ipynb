{
 "cells": [
  {
   "cell_type": "markdown",
   "id": "7a98265e",
   "metadata": {},
   "source": [
    "## 43. Multiply Strings\n",
    "Medium\n",
    "\n",
    "Given two non-negative integers num1 and num2 represented as strings, return the product of num1 and num2, also represented as a string.\n",
    "\n",
    "Note: You must not use any built-in BigInteger library or convert the inputs to integer directly.\n",
    "\n",
    " \n",
    "\n",
    "Example 1:\n",
    "\n",
    "Input: num1 = \"2\", num2 = \"3\"\n",
    "Output: \"6\"\n",
    "\n",
    "Example 2:\n",
    "\n",
    "Input: num1 = \"123\", num2 = \"456\"\n",
    "Output: \"56088\"\n",
    "\n",
    " \n",
    "\n",
    "Constraints:\n",
    "\n",
    "    1 <= num1.length, num2.length <= 200\n",
    "    num1 and num2 consist of digits only.\n",
    "    Both num1 and num2 do not contain any leading zero, except the number 0 itself.\n",
    "\n"
   ]
  },
  {
   "cell_type": "code",
   "execution_count": 1,
   "id": "5d87cf70",
   "metadata": {},
   "outputs": [],
   "source": [
    "class Solution:\n",
    "    def multiply(self, num1: str, num2: str) -> str:\n",
    "        nums_map = {\n",
    "        '1':1,\n",
    "        '2':2,\n",
    "        '3':3,\n",
    "        '4':4,\n",
    "        '5':5,\n",
    "        '6':6,\n",
    "        '7':7,\n",
    "        '8':8,\n",
    "        '9':9,\n",
    "        '0':0,\n",
    "         }\n",
    "        n1 = sum([nums_map[j]*10**i for i,j in enumerate(num1[::-1])])\n",
    "        n2 = sum([nums_map[j]*10**i for i,j in enumerate(num2[::-1])])\n",
    "        return str(n1*n2)"
   ]
  },
  {
   "cell_type": "code",
   "execution_count": 2,
   "id": "32d8173a",
   "metadata": {},
   "outputs": [
    {
     "data": {
      "text/plain": [
       "'70092'"
      ]
     },
     "execution_count": 2,
     "metadata": {},
     "output_type": "execute_result"
    }
   ],
   "source": [
    "Solution().multiply(\"2\", \"35046\")"
   ]
  },
  {
   "cell_type": "markdown",
   "id": "5ca6f9c5",
   "metadata": {},
   "source": [
    "Runtime: 38 ms, faster than 92.85% of Python3 online submissions for Multiply Strings.  \n",
    "Memory Usage: 13.8 MB, less than 73.91% of Python3 online submissions for Multiply Strings."
   ]
  }
 ],
 "metadata": {
  "kernelspec": {
   "display_name": "Python 3 (ipykernel)",
   "language": "python",
   "name": "python3"
  },
  "language_info": {
   "codemirror_mode": {
    "name": "ipython",
    "version": 3
   },
   "file_extension": ".py",
   "mimetype": "text/x-python",
   "name": "python",
   "nbconvert_exporter": "python",
   "pygments_lexer": "ipython3",
   "version": "3.7.13"
  }
 },
 "nbformat": 4,
 "nbformat_minor": 5
}
