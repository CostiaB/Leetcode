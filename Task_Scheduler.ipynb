{
 "cells": [
  {
   "cell_type": "markdown",
   "id": "39bb2def",
   "metadata": {},
   "source": [
    "## 621. Task Scheduler\n",
    "Medium\n",
    "\n",
    "Given a characters array tasks, representing the tasks a CPU needs to do, where each letter represents a different task. Tasks could be done in any order. Each task is done in one unit of time. For each unit of time, the CPU could complete either one task or just be idle.\n",
    "\n",
    "However, there is a non-negative integer n that represents the cooldown period between two same tasks (the same letter in the array), that is that there must be at least n units of time between any two same tasks.\n",
    "\n",
    "Return the least number of units of times that the CPU will take to finish all the given tasks.\n",
    "\n",
    " \n",
    "\n",
    "Example 1:\n",
    "\n",
    "Input: tasks = [\"A\",\"A\",\"A\",\"B\",\"B\",\"B\"], n = 2  \n",
    "Output: 8  \n",
    "Explanation:   \n",
    "A -> B -> idle -> A -> B -> idle -> A -> B  \n",
    "There is at least 2 units of time between any two same tasks.  \n",
    "\n",
    "Example 2:\n",
    "\n",
    "Input: tasks = [\"A\",\"A\",\"A\",\"B\",\"B\",\"B\"], n = 0  \n",
    "Output: 6  \n",
    "Explanation: On this case any permutation of size 6 would work since n = 0.  \n",
    "[\"A\",\"A\",\"A\",\"B\",\"B\",\"B\"]  \n",
    "[\"A\",\"B\",\"A\",\"B\",\"A\",\"B\"]  \n",
    "[\"B\",\"B\",\"B\",\"A\",\"A\",\"A\"]  \n",
    "...\n",
    "And so on.\n",
    "\n",
    "Example 3:\n",
    "\n",
    "Input: tasks = [\"A\",\"A\",\"A\",\"A\",\"A\",\"A\",\"B\",\"C\",\"D\",\"E\",\"F\",\"G\"], n = 2  \n",
    "Output: 16  \n",
    "Explanation:   \n",
    "One possible solution is  \n",
    "A -> B -> C -> A -> D -> E -> A -> F -> G -> A -> idle -> idle -> A -> idle -> idle -> A  \n",
    "\n",
    " \n",
    "\n",
    "Constraints:\n",
    "\n",
    "    1 <= task.length <= 104\n",
    "    tasks[i] is upper-case English letter.\n",
    "    The integer n is in the range [0, 100].\n",
    "\n"
   ]
  },
  {
   "cell_type": "code",
   "execution_count": 9,
   "id": "c52af525",
   "metadata": {},
   "outputs": [],
   "source": [
    "from collections import Counter\n",
    "class Solution:\n",
    "    def leastInterval(self, tasks: list, n: int) -> int:\n",
    "        count = Counter(tasks)\n",
    "        max_freq = count.most_common()[0][1]\n",
    "        quantity_of_max_fr = sum([num==max_freq for c, num in count.most_common()])\n",
    "        ans = max((max_freq-1)*(n+1)  + quantity_of_max_fr, len(tasks))\n",
    "        return ans"
   ]
  },
  {
   "cell_type": "code",
   "execution_count": 12,
   "id": "404440fc",
   "metadata": {},
   "outputs": [
    {
     "data": {
      "text/plain": [
       "10"
      ]
     },
     "execution_count": 12,
     "metadata": {},
     "output_type": "execute_result"
    }
   ],
   "source": [
    "Solution().leastInterval([\"A\",\"A\",\"A\",\"B\",\"B\",\"B\",\"B\"],2)"
   ]
  },
  {
   "cell_type": "code",
   "execution_count": 10,
   "id": "5904fe53",
   "metadata": {},
   "outputs": [
    {
     "data": {
      "text/plain": [
       "16"
      ]
     },
     "execution_count": 10,
     "metadata": {},
     "output_type": "execute_result"
    }
   ],
   "source": [
    "Solution().leastInterval([\"A\",\"A\",\"A\",\"A\",\"A\",\"A\",\"B\",\"C\",\"D\",\"E\",\"F\",\"G\"],2)"
   ]
  },
  {
   "cell_type": "markdown",
   "id": "ec470360",
   "metadata": {},
   "source": [
    "Runtime: 973 ms, faster than 38.60% of Python3 online submissions for Task Scheduler.  \n",
    "Memory Usage: 14.3 MB, less than 91.40% of Python3 online submissions for Task Scheduler."
   ]
  }
 ],
 "metadata": {
  "kernelspec": {
   "display_name": "Python 3 (ipykernel)",
   "language": "python",
   "name": "python3"
  },
  "language_info": {
   "codemirror_mode": {
    "name": "ipython",
    "version": 3
   },
   "file_extension": ".py",
   "mimetype": "text/x-python",
   "name": "python",
   "nbconvert_exporter": "python",
   "pygments_lexer": "ipython3",
   "version": "3.7.13"
  }
 },
 "nbformat": 4,
 "nbformat_minor": 5
}
