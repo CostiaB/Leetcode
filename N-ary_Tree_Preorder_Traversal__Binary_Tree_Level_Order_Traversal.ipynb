{
 "cells": [
  {
   "cell_type": "markdown",
   "id": "631a819a",
   "metadata": {},
   "source": [
    "## 589. N-ary Tree Preorder Traversal\n",
    "Easy\n",
    "\n",
    "Given the root of an n-ary tree, return the preorder traversal of its nodes' values.\n",
    "\n",
    "Nary-Tree input serialization is represented in their level order traversal. Each group of children is separated by the null value (See examples)\n",
    "\n",
    " \n",
    "\n",
    "Example 1:\n",
    "<img src ='https://assets.leetcode.com/uploads/2018/10/12/narytreeexample.png' >\n",
    "Input: root = [1,null,3,2,4,null,5,6]\n",
    "Output: [1,3,5,6,2,4]\n",
    "\n",
    "Example 2:\n",
    "<img src ='https://assets.leetcode.com/uploads/2019/11/08/sample_4_964.png' >\n",
    "Input: root = [1,null,2,3,4,5,null,null,6,7,null,8,null,9,10,null,null,11,null,12,null,13,null,null,14]\n",
    "Output: [1,2,3,6,7,11,14,4,8,12,5,9,13,10]\n",
    "\n",
    " \n",
    "\n",
    "Constraints:\n",
    "\n",
    "    The number of nodes in the tree is in the range [0, 104].\n",
    "    0 <= Node.val <= 104\n",
    "    The height of the n-ary tree is less than or equal to 1000.\n",
    "\n",
    " \n",
    "\n",
    "Follow up: Recursive solution is trivial, could you do it iteratively?\n"
   ]
  },
  {
   "cell_type": "code",
   "execution_count": null,
   "id": "d3375acd",
   "metadata": {},
   "outputs": [],
   "source": [
    "\"\"\"\n",
    "# Definition for a Node.\n",
    "class Node:\n",
    "    def __init__(self, val=None, children=None):\n",
    "        self.val = val\n",
    "        self.children = children\n",
    "\"\"\"\n",
    "\n",
    "class Solution:\n",
    "    def preorder(self, root: 'Node') -> List[int]:\n",
    "        tree_list = [root]\n",
    "        ans = []\n",
    "        while len(tree_list)>0:\n",
    "            tree = tree_list.pop()\n",
    "            if not tree:\n",
    "                continue\n",
    "            ans.append(tree.val)\n",
    "            if not tree.children:\n",
    "                continue\n",
    "                \n",
    "            l = len(tree.children)\n",
    "            while l>0:\n",
    "                tree_list.append(tree.children[l-1])\n",
    "                l -= 1\n",
    "        return ans"
   ]
  },
  {
   "cell_type": "markdown",
   "id": "d5dc1836",
   "metadata": {},
   "source": [
    "Runtime: 117 ms, faster than 5.23% of Python3 online submissions for N-ary Tree Preorder Traversal.  \n",
    "Memory Usage: 16 MB, less than 97.56% of Python3 online submissions for N-ary Tree Preorder Traversal."
   ]
  },
  {
   "cell_type": "markdown",
   "id": "035067ef",
   "metadata": {},
   "source": [
    "## 102. Binary Tree Level Order Traversal\n",
    "Medium\n",
    "\n",
    "Given the root of a binary tree, return the level order traversal of its nodes' values. (i.e., from left to right, level by level).\n",
    "\n",
    " \n",
    "\n",
    "Example 1:\n",
    "<img src ='https://assets.leetcode.com/uploads/2021/02/19/tree1.jpg' >\n",
    "Input: root = [3,9,20,null,null,15,7]\n",
    "Output: [[3],[9,20],[15,7]]\n",
    "\n",
    "Example 2:\n",
    "\n",
    "Input: root = [1]\n",
    "Output: [[1]]\n",
    "\n",
    "Example 3:\n",
    "\n",
    "Input: root = []\n",
    "Output: []\n",
    "\n",
    " \n",
    "\n",
    "Constraints:\n",
    "\n",
    "    The number of nodes in the tree is in the range [0, 2000].\n",
    "    -1000 <= Node.val <= 1000\n",
    "\n"
   ]
  },
  {
   "cell_type": "code",
   "execution_count": null,
   "id": "98b3b046",
   "metadata": {},
   "outputs": [],
   "source": [
    "# Definition for a binary tree node.\n",
    "# class TreeNode:\n",
    "#     def __init__(self, val=0, left=None, right=None):\n",
    "#         self.val = val\n",
    "#         self.left = left\n",
    "#         self.right = right\n",
    "class Solution:\n",
    "    def levelOrder(self, root: Optional[TreeNode]) -> List[List[int]]:\n",
    "        ans = {}\n",
    "        stack = [(root, 0)]\n",
    "        while stack:\n",
    "            tree, level = stack.pop()\n",
    "           \n",
    "            if tree:\n",
    "                if level in ans.keys():\n",
    "                    ans[level].append(tree.val)\n",
    "                else:\n",
    "                    val = tree.val\n",
    "                    ans[level] = [val]\n",
    "                stack.append((tree.right, level+1))\n",
    "                stack.append((tree.left, level+1))\n",
    "        \n",
    "        return ans.values()"
   ]
  },
  {
   "cell_type": "markdown",
   "id": "fbed3a39",
   "metadata": {},
   "source": [
    "Runtime: 48 ms, faster than 64.42% of Python3 online submissions for Binary Tree Level Order Traversal.  \n",
    "Memory Usage: 14.1 MB, less than 84.23% of Python3 online submissions for Binary Tree Level Order Traversal."
   ]
  },
  {
   "cell_type": "code",
   "execution_count": null,
   "id": "4934aacb",
   "metadata": {},
   "outputs": [],
   "source": []
  }
 ],
 "metadata": {
  "kernelspec": {
   "display_name": "Python 3 (ipykernel)",
   "language": "python",
   "name": "python3"
  },
  "language_info": {
   "codemirror_mode": {
    "name": "ipython",
    "version": 3
   },
   "file_extension": ".py",
   "mimetype": "text/x-python",
   "name": "python",
   "nbconvert_exporter": "python",
   "pygments_lexer": "ipython3",
   "version": "3.7.13"
  }
 },
 "nbformat": 4,
 "nbformat_minor": 5
}
