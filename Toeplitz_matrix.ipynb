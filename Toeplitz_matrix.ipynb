{
 "cells": [
  {
   "cell_type": "markdown",
   "id": "962c96d7",
   "metadata": {},
   "source": [
    "## 766. Toeplitz Matrix  \n",
    "Easy\n",
    "\n",
    "Given an m x n matrix, return true if the matrix is Toeplitz. Otherwise, return false.\n",
    "\n",
    "A matrix is Toeplitz if every diagonal from top-left to bottom-right has the same elements.\n",
    "\n",
    " \n",
    "\n",
    "Example 1:\n",
    "    <img src = 'https://assets.leetcode.com/uploads/2020/11/04/ex1.jpg'>\n",
    "\n",
    "Input: matrix = [[1,2,3,4],[5,1,2,3],[9,5,1,2]]  \n",
    "Output: true  \n",
    "Explanation:  \n",
    "In the above grid, the diagonals are:  \n",
    "\"[9]\", \"[5, 5]\", \"[1, 1, 1]\", \"[2, 2, 2]\", \"[3, 3]\", \"[4]\".  \n",
    "In each diagonal all elements are the same, so the answer is True.  \n",
    "\n",
    "Example 2:\n",
    "<img src = 'https://assets.leetcode.com/uploads/2020/11/04/ex2.jpg'>\n",
    "\n",
    "\n",
    "Input: matrix = [[1,2],[2,2]]  \n",
    "Output: false  \n",
    "Explanation:  \n",
    "The diagonal \"[1, 2]\" has different elements.  \n",
    "\n",
    " \n",
    "\n",
    "Constraints:\n",
    "\n",
    "    m == matrix.length\n",
    "    n == matrix[i].length\n",
    "    1 <= m, n <= 20\n",
    "    0 <= matrix[i][j] <= 99\n",
    "\n",
    " \n",
    "\n",
    "Follow up:\n",
    "\n",
    "    What if the matrix is stored on disk, and the memory is limited such that you can only load at most one row of the matrix into the memory at once?\n",
    "    What if the matrix is so large that you can only load up a partial row into the memory at once?\n",
    "\n"
   ]
  },
  {
   "cell_type": "code",
   "execution_count": 2,
   "id": "d103643b",
   "metadata": {},
   "outputs": [],
   "source": [
    "class Solution:\n",
    "    def isToeplitzMatrix(self, matrix: list) -> bool:\n",
    "        m = len(matrix)\n",
    "        n = len(matrix[0])\n",
    "        for i in range(m-1):\n",
    "            for j in range(n-1):\n",
    "               \n",
    "                if matrix[i][j] != matrix[i+1][j+1]:\n",
    "                    return False\n",
    "        return True\n"
   ]
  },
  {
   "cell_type": "code",
   "execution_count": 3,
   "id": "84b68c69",
   "metadata": {},
   "outputs": [
    {
     "data": {
      "text/plain": [
       "True"
      ]
     },
     "execution_count": 3,
     "metadata": {},
     "output_type": "execute_result"
    }
   ],
   "source": [
    "Solution().isToeplitzMatrix([[1,2,3,4],[5,1,2,3],[9,5,1,2]])"
   ]
  },
  {
   "cell_type": "code",
   "execution_count": 4,
   "id": "c5c8730b",
   "metadata": {},
   "outputs": [
    {
     "data": {
      "text/plain": [
       "False"
      ]
     },
     "execution_count": 4,
     "metadata": {},
     "output_type": "execute_result"
    }
   ],
   "source": [
    "Solution().isToeplitzMatrix( [[1,2],[2,2]])"
   ]
  },
  {
   "cell_type": "markdown",
   "id": "4e2fe573",
   "metadata": {},
   "source": [
    "Runtime: 87 ms, faster than 95.99% of Python3 online submissions for Toeplitz Matrix.  \n",
    "Memory Usage: 13.8 MB, less than 77.98% of Python3 online submissions for Toeplitz Matrix."
   ]
  }
 ],
 "metadata": {
  "kernelspec": {
   "display_name": "Python 3 (ipykernel)",
   "language": "python",
   "name": "python3"
  },
  "language_info": {
   "codemirror_mode": {
    "name": "ipython",
    "version": 3
   },
   "file_extension": ".py",
   "mimetype": "text/x-python",
   "name": "python",
   "nbconvert_exporter": "python",
   "pygments_lexer": "ipython3",
   "version": "3.8.13"
  }
 },
 "nbformat": 4,
 "nbformat_minor": 5
}
