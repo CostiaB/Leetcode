{
 "cells": [
  {
   "cell_type": "markdown",
   "id": "ddc18c75",
   "metadata": {},
   "source": [
    "## 541. Reverse String II  \n",
    "Easy\n",
    "1.5K\n",
    "3K\n",
    "Companies\n",
    "\n",
    "Given a string s and an integer k, reverse the first k characters for every 2k characters counting from the start of the string.\n",
    "\n",
    "If there are fewer than k characters left, reverse all of them. If there are less than 2k but greater than or equal to k characters, then reverse the first k characters and leave the other as original.\n",
    "\n",
    " \n",
    "\n",
    "Example 1:\n",
    "\n",
    "Input: s = \"abcdefg\", k = 2  \n",
    "Output: \"bacdfeg\"  \n",
    "\n",
    "Example 2:\n",
    "\n",
    "Input: s = \"abcd\", k = 2  \n",
    "Output: \"bacd\"  \n",
    "\n",
    " \n",
    "\n",
    "Constraints:\n",
    "\n",
    "    1 <= s.length <= 104\n",
    "    s consists of only lowercase English letters.\n",
    "    1 <= k <= 104\n",
    "\n"
   ]
  },
  {
   "cell_type": "code",
   "execution_count": null,
   "id": "b94b7ba6",
   "metadata": {},
   "outputs": [],
   "source": [
    "class Solution:\n",
    "    def reverseStr(self, s: str, k: int) -> str:\n",
    "\n",
    "        o = []\n",
    "        while s:\n",
    "            o.append(s[:k])\n",
    "            s = s[k:]\n",
    "        #[f(x) if condition else g(x) for x in sequence]\n",
    "        ans = [t[::-1] if i % 2 == 0 else t for i,t in enumerate(o)]\n",
    "        return ''.join(ans)"
   ]
  },
  {
   "cell_type": "markdown",
   "id": "06780d75",
   "metadata": {},
   "source": [
    "Runtime  36 ms  \n",
    "Beats  \n",
    "57.65%  \n",
    "Memory 14.1 MB  \n",
    "Beats  \n",
    "15.12%  "
   ]
  }
 ],
 "metadata": {
  "kernelspec": {
   "display_name": "Python 3 (ipykernel)",
   "language": "python",
   "name": "python3"
  },
  "language_info": {
   "codemirror_mode": {
    "name": "ipython",
    "version": 3
   },
   "file_extension": ".py",
   "mimetype": "text/x-python",
   "name": "python",
   "nbconvert_exporter": "python",
   "pygments_lexer": "ipython3",
   "version": "3.8.13"
  }
 },
 "nbformat": 4,
 "nbformat_minor": 5
}
