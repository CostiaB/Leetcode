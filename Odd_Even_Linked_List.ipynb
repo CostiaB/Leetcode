{
 "cells": [
  {
   "cell_type": "markdown",
   "id": "f20b7ebb",
   "metadata": {},
   "source": [
    "## 328. Odd Even Linked List\n",
    "Medium\n",
    "\n",
    "Given the head of a singly linked list, group all the nodes with odd indices together followed by the nodes with even indices, and return the reordered list.\n",
    "\n",
    "The first node is considered odd, and the second node is even, and so on.\n",
    "\n",
    "Note that the relative order inside both the even and odd groups should remain as it was in the input.\n",
    "\n",
    "You must solve the problem in O(1) extra space complexity and O(n) time complexity.\n",
    "\n",
    " \n",
    "\n",
    "Example 1:\n",
    "<img src = 'https://assets.leetcode.com/uploads/2021/03/10/oddeven-linked-list.jpg'>\n",
    "Input: head = [1,2,3,4,5]\n",
    "Output: [1,3,5,2,4]\n",
    "\n",
    "Example 2:\n",
    "<img src = 'https://assets.leetcode.com/uploads/2021/03/10/oddeven2-linked-list.jpg'>\n",
    "Input: head = [2,1,3,5,6,4,7]\n",
    "Output: [2,3,6,7,1,5,4]\n",
    "\n",
    " \n",
    "\n",
    "Constraints:\n",
    "\n",
    "    The number of nodes in the linked list is in the range [0, 104].\n",
    "    -106 <= Node.val <= 106\n",
    "\n"
   ]
  },
  {
   "cell_type": "code",
   "execution_count": null,
   "id": "d201868e",
   "metadata": {},
   "outputs": [],
   "source": [
    "# Definition for singly-linked list.\n",
    "# class ListNode:\n",
    "#     def __init__(self, val=0, next=None):\n",
    "#         self.val = val\n",
    "#         self.next = next\n",
    "class Solution:\n",
    "    def oddEvenList(self, head: Optional[ListNode]) -> Optional[ListNode]:\n",
    "        odds = oddtmp = ListNode()\n",
    "        evens = eventmp = ListNode()\n",
    "        c = 0\n",
    "        while head:\n",
    "            if c % 2 != 0:\n",
    "                eventmp.next = head\n",
    "                eventmp = eventmp.next\n",
    "            else:\n",
    "                oddtmp.next = head\n",
    "                oddtmp = oddtmp.next\n",
    "            head = head.next\n",
    "            c += 1\n",
    "        \n",
    "        eventmp.next = None\n",
    "        oddtmp.next = evens.next\n",
    "        return odds.next\n",
    "            "
   ]
  },
  {
   "cell_type": "markdown",
   "id": "0eecebfc",
   "metadata": {},
   "source": [
    "Runtime: 88 ms, faster than 16.81% of Python3 online submissions for Odd Even Linked List.  \n",
    "Memory Usage: 16.6 MB, less than 78.26% of Python3 online submissions for Odd Even Linked List."
   ]
  }
 ],
 "metadata": {
  "kernelspec": {
   "display_name": "Python 3 (ipykernel)",
   "language": "python",
   "name": "python3"
  },
  "language_info": {
   "codemirror_mode": {
    "name": "ipython",
    "version": 3
   },
   "file_extension": ".py",
   "mimetype": "text/x-python",
   "name": "python",
   "nbconvert_exporter": "python",
   "pygments_lexer": "ipython3",
   "version": "3.8.11"
  }
 },
 "nbformat": 4,
 "nbformat_minor": 5
}
