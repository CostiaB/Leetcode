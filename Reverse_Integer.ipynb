{
 "cells": [
  {
   "cell_type": "markdown",
   "id": "6314ea46",
   "metadata": {},
   "source": [
    "## 7. Reverse Integer\n",
    "Medium\n",
    "\n",
    "Given a signed 32-bit integer x, return x with its digits reversed. If reversing x causes the value to go outside the signed 32-bit integer range [-231, 231 - 1], then return 0.\n",
    "\n",
    "Assume the environment does not allow you to store 64-bit integers (signed or unsigned).\n",
    "\n",
    " \n",
    "\n",
    "Example 1:\n",
    "\n",
    "Input: x = 123  \n",
    "Output: 321  \n",
    "\n",
    "Example 2:\n",
    "\n",
    "Input: x = -123  \n",
    "Output: -321  \n",
    "\n",
    "Example 3:\n",
    "\n",
    "Input: x = 120  \n",
    "Output: 21  \n",
    "\n",
    " \n",
    "\n",
    "Constraints:\n",
    "\n",
    "    -231 <= x <= 231 - 1\n",
    "\n"
   ]
  },
  {
   "cell_type": "code",
   "execution_count": 2,
   "id": "cedda0fb",
   "metadata": {},
   "outputs": [],
   "source": [
    "class Solution:\n",
    "    def reverse(self, x: int) -> int:\n",
    "        k = ''\n",
    "        if x < 0:\n",
    "            k = '-'\n",
    "        t = str(x)\n",
    "        ans =  (int(k + t[::-1].replace(k,'')))\n",
    "        if abs(ans) >= 2**31:\n",
    "            return 0\n",
    "        return ans\n",
    "        "
   ]
  },
  {
   "cell_type": "code",
   "execution_count": 5,
   "id": "3882f091",
   "metadata": {},
   "outputs": [
    {
     "data": {
      "text/plain": [
       "23657546"
      ]
     },
     "execution_count": 5,
     "metadata": {},
     "output_type": "execute_result"
    }
   ],
   "source": [
    "Solution().reverse(64575632)"
   ]
  },
  {
   "cell_type": "markdown",
   "id": "1590efe4",
   "metadata": {},
   "source": [
    "Runtime: 70 ms, faster than 24.08% of Python3 online submissions for Reverse Integer.  \n",
    "Memory Usage: 13.8 MB, less than 97.11% of Python3 online submissions for Reverse Integer."
   ]
  }
 ],
 "metadata": {
  "kernelspec": {
   "display_name": "Python 3 (ipykernel)",
   "language": "python",
   "name": "python3"
  },
  "language_info": {
   "codemirror_mode": {
    "name": "ipython",
    "version": 3
   },
   "file_extension": ".py",
   "mimetype": "text/x-python",
   "name": "python",
   "nbconvert_exporter": "python",
   "pygments_lexer": "ipython3",
   "version": "3.8.13"
  }
 },
 "nbformat": 4,
 "nbformat_minor": 5
}
