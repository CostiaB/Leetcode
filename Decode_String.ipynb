{
 "cells": [
  {
   "cell_type": "markdown",
   "id": "269c900a",
   "metadata": {},
   "source": []
  },
  {
   "cell_type": "code",
   "execution_count": 1,
   "id": "73235ab8",
   "metadata": {},
   "outputs": [],
   "source": [
    "class Solution:\n",
    "    def decodeString(self, s: str) -> str:\n",
    "        stack = []\n",
    "        curr_str = ''\n",
    "        mult = 0\n",
    "        for st in s:\n",
    "            if st == \"[\":\n",
    "                # append to stack curr string and multiplicator afterwards make them empty and zero\n",
    "                stack.append(curr_str)\n",
    "                stack.append(mult)\n",
    "                curr_str = ''\n",
    "                mult = 0\n",
    "                               \n",
    "            elif st.isdigit():\n",
    "                #calculate multiplication factor\n",
    "                mult = 10*mult + int(st)\n",
    "            elif st == \"]\":\n",
    "                tm = stack.pop()\n",
    "                ts = stack.pop()\n",
    "                curr_str = ts + curr_str*tm \n",
    "                ts = ''\n",
    "                tm = 0\n",
    "                               \n",
    "            else:\n",
    "                # lengthen the curr_str\n",
    "                curr_str = curr_str + st\n",
    "        return curr_str"
   ]
  },
  {
   "cell_type": "code",
   "execution_count": null,
   "id": "440e2c38",
   "metadata": {},
   "outputs": [],
   "source": []
  },
  {
   "cell_type": "markdown",
   "id": "b6434f53",
   "metadata": {},
   "source": [
    "Runtime: 41 ms, faster than 65.88% of Python3 online submissions for Decode String.  \n",
    "Memory Usage: 13.9 MB, less than 19.84% of Python3 online submissions for Decode String."
   ]
  }
 ],
 "metadata": {
  "kernelspec": {
   "display_name": "Python 3 (ipykernel)",
   "language": "python",
   "name": "python3"
  },
  "language_info": {
   "codemirror_mode": {
    "name": "ipython",
    "version": 3
   },
   "file_extension": ".py",
   "mimetype": "text/x-python",
   "name": "python",
   "nbconvert_exporter": "python",
   "pygments_lexer": "ipython3",
   "version": "3.8.11"
  }
 },
 "nbformat": 4,
 "nbformat_minor": 5
}
