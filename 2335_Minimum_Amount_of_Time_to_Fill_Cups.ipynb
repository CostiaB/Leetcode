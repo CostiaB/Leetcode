{
 "cells": [
  {
   "cell_type": "markdown",
   "id": "0e416b31",
   "metadata": {},
   "source": [
    "# 2335. Minimum Amount of Time to Fill Cups\n",
    "Easy\n",
    "\n",
    "\n",
    "You have a water dispenser that can dispense cold, warm, and hot water. Every second, you can either fill up 2 cups with different types of water, or 1 cup of any type of water.\n",
    "\n",
    "You are given a 0-indexed integer array amount of length 3 where amount[0], amount[1], and amount[2] denote the number of cold, warm, and hot water cups you need to fill respectively. Return the minimum number of seconds needed to fill up all the cups.\n",
    "\n",
    " \n",
    "\n",
    "Example 1:\n",
    "\n",
    "Input: amount = [1,4,2]  \n",
    "Output: 4\n",
    "Explanation: One way to fill up the cups is:  \n",
    "Second 1: Fill up a cold cup and a warm cup.  \n",
    "Second 2: Fill up a warm cup and a hot cup.  \n",
    "Second 3: Fill up a warm cup and a hot cup.  \n",
    "Second 4: Fill up a warm cup.  \n",
    "It can be proven that 4 is the minimum number of seconds needed.  \n",
    "\n",
    "Example 2:\n",
    "\n",
    "Input: amount = [5,4,4]  \n",
    "Output: 7\n",
    "Explanation: One way to fill up the cups is:  \n",
    "Second 1: Fill up a cold cup, and a hot cup.  \n",
    "Second 2: Fill up a cold cup, and a warm cup.  \n",
    "Second 3: Fill up a cold cup, and a warm cup.  \n",
    "Second 4: Fill up a warm cup, and a hot cup.  \n",
    "Second 5: Fill up a cold cup, and a hot cup.  \n",
    "Second 6: Fill up a cold cup, and a warm cup.  \n",
    "Second 7: Fill up a hot cup.  \n",
    "\n",
    "Example 3:  \n",
    "\n",
    "Input: amount = [5,0,0]  \n",
    "Output: 5  \n",
    "Explanation: Every second, we fill up a cold cup.  \n",
    "\n",
    " \n",
    "\n",
    "Constraints:\n",
    "\n",
    "    amount.length == 3\n",
    "    0 <= amount[i] <= 100\n",
    "\n"
   ]
  },
  {
   "cell_type": "code",
   "execution_count": null,
   "id": "7936f45f",
   "metadata": {},
   "outputs": [],
   "source": [
    "class Solution:\n",
    "    def fillCups(self, amount: List[int]) -> int:\n",
    "        times = 0\n",
    "        amount.sort()\n",
    "        while sum(amount) !=0:\n",
    "            if (amount[-2] != 0) and (amount[-1] != 0):\n",
    "                amount[-2] -= 1\n",
    "                amount [-1] -= 1\n",
    "                times += 1\n",
    "            else:\n",
    "                times += amount[-1]\n",
    "                return times\n",
    "            amount.sort()\n",
    "\n",
    "        return times"
   ]
  },
  {
   "cell_type": "markdown",
   "id": "167ddd7b",
   "metadata": {},
   "source": [
    "Runtime 44 ms Beats 35.32%  \n",
    "Memory 16.4 MB Beats 7.40%"
   ]
  },
  {
   "cell_type": "code",
   "execution_count": null,
   "id": "7f5aefda",
   "metadata": {},
   "outputs": [],
   "source": [
    "class Solution:\n",
    "    def fillCups(self, amount: List[int]) -> int:\n",
    "        total_cups = sum(amount)\n",
    "        max_time = ceil(total_cups/2)\n",
    "        return max(max(amount), max_time)\n",
    "        "
   ]
  },
  {
   "cell_type": "markdown",
   "id": "02268cd0",
   "metadata": {},
   "source": [
    "Runtime 30ms Beats 95.94%  \n",
    "Memory 16.24MB Beats 36.04%"
   ]
  }
 ],
 "metadata": {
  "kernelspec": {
   "display_name": "Python 3 (ipykernel)",
   "language": "python",
   "name": "python3"
  },
  "language_info": {
   "codemirror_mode": {
    "name": "ipython",
    "version": 3
   },
   "file_extension": ".py",
   "mimetype": "text/x-python",
   "name": "python",
   "nbconvert_exporter": "python",
   "pygments_lexer": "ipython3",
   "version": "3.10.12"
  }
 },
 "nbformat": 4,
 "nbformat_minor": 5
}
