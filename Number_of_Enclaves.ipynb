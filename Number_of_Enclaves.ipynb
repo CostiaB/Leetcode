{
 "cells": [
  {
   "cell_type": "markdown",
   "id": "a88a7164",
   "metadata": {},
   "source": [
    "## 1020. Number of Enclaves\n",
    "Medium  \n",
    "\n",
    "\n",
    "You are given an m x n binary matrix grid, where 0 represents a sea cell and 1 represents a land cell.\n",
    "\n",
    "A move consists of walking from one land cell to another adjacent (4-directionally) land cell or walking off the boundary of the grid.\n",
    "\n",
    "Return the number of land cells in grid for which we cannot walk off the boundary of the grid in any number of moves.\n",
    "\n",
    " \n",
    "\n",
    "Example 1:\n",
    "  <img src = 'https://assets.leetcode.com/uploads/2021/02/18/enclaves1.jpg'>\n",
    "\n",
    "Input: grid = [[0,0,0,0],[1,0,1,0],[0,1,1,0],[0,0,0,0]]  \n",
    "Output: 3  \n",
    "Explanation: There are three 1s that are enclosed by 0s, and one 1 that is not enclosed because its on the boundary.  \n",
    "\n",
    "Example 2:  \n",
    "  \n",
    "  <img src='https://assets.leetcode.com/uploads/2021/02/18/enclaves2.jpg'>\n",
    "Input: grid = [[0,1,1,0],[0,0,1,0],[0,0,1,0],[0,0,0,0]]  \n",
    "Output: 0  \n",
    "Explanation: All 1s are either on the boundary or can reach the boundary.  \n",
    "\n",
    " \n",
    "\n",
    "Constraints:\n",
    "\n",
    "    m == grid.length\n",
    "    n == grid[i].length\n",
    "    1 <= m, n <= 500\n",
    "    grid[i][j] is either 0 or 1.\n",
    "\n"
   ]
  },
  {
   "cell_type": "code",
   "execution_count": null,
   "id": "8287227e",
   "metadata": {},
   "outputs": [],
   "source": [
    "class Solution:\n",
    "    def numEnclaves(self, grid: List[List[int]]) -> int:\n",
    "        n = len(grid)\n",
    "        m = len(grid[0])\n",
    "        def dfs(i, j):\n",
    "            if i == -1 or j == -1 or i == n or j == m or grid[i][j] == 0:\n",
    "                return\n",
    "            grid[i][j] = 0\n",
    "            dfs(i + 1, j)\n",
    "            dfs(i -1, j) \n",
    "            dfs(i, j + 1)\n",
    "            dfs(i, j - 1)\n",
    "        for i in range(n):\n",
    "            for j in range(m):\n",
    "                if (i == 0 or j == 0 or i == n-1 or j == m-1) and grid[i][j] == 1:\n",
    "                    dfs(i, j)\n",
    "        s = 0\n",
    "        for i in range(n):\n",
    "            for j in range(m):\n",
    "                s += grid[i][j]\n",
    "        return s"
   ]
  },
  {
   "cell_type": "markdown",
   "id": "cdfd65e9",
   "metadata": {},
   "source": [
    "Runtime 653 ms  \n",
    "Beats   \n",
    "76.45%  \n",
    "Memory 75.8 MB   \n",
    "Beats  \n",
    "57.2%  "
   ]
  }
 ],
 "metadata": {
  "kernelspec": {
   "display_name": "Python 3 (ipykernel)",
   "language": "python",
   "name": "python3"
  },
  "language_info": {
   "codemirror_mode": {
    "name": "ipython",
    "version": 3
   },
   "file_extension": ".py",
   "mimetype": "text/x-python",
   "name": "python",
   "nbconvert_exporter": "python",
   "pygments_lexer": "ipython3",
   "version": "3.8.13"
  }
 },
 "nbformat": 4,
 "nbformat_minor": 5
}
