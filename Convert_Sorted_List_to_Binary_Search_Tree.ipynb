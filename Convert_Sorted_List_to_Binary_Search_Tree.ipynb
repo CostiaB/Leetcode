{
 "cells": [
  {
   "attachments": {},
   "cell_type": "markdown",
   "id": "ecde7fc0",
   "metadata": {},
   "source": [
    "## 109. Convert Sorted List to Binary Search Tree\n",
    "Medium  \n",
    "6.6K  \n",
    "141  \n",
    "Companies  \n",
    "\n",
    "Given the head of a singly linked list where elements are sorted in ascending order, convert it to a  \n",
    "height-balanced  \n",
    "binary search tree.  \n",
    "\n",
    " \n",
    "\n",
    "Example 1:  \n",
    "<img src = 'https://assets.leetcode.com/uploads/2020/08/17/linked.jpg'>\n",
    "Input: head = [-10,-3,0,5,9]  \n",
    "Output: [0,-3,9,-10,null,5]  \n",
    "Explanation: One possible answer is [0,-3,9,-10,null,5], which represents the shown height balanced BST.  \n",
    "\n",
    "Example 2:  \n",
    "\n",
    "Input: head = []  \n",
    "Output: []  \n",
    "\n",
    " \n",
    "\n",
    "Constraints:  \n",
    "\n",
    "    The number of nodes in head is in the range [0, 2 * 104].  \n",
    "    -105 <= Node.val <= 105  \n",
    "\n"
   ]
  },
  {
   "cell_type": "code",
   "execution_count": null,
   "id": "56185577",
   "metadata": {},
   "outputs": [],
   "source": [
    "# Definition for singly-linked list.\n",
    "# class ListNode:\n",
    "#     def __init__(self, val=0, next=None):\n",
    "#         self.val = val\n",
    "#         self.next = next\n",
    "# Definition for a binary tree node.\n",
    "# class TreeNode:\n",
    "#     def __init__(self, val=0, left=None, right=None):\n",
    "#         self.val = val\n",
    "#         self.left = left\n",
    "#         self.right = right\n",
    "class Solution:\n",
    "    def sortedListToBST(self, head: Optional[ListNode]) -> Optional[TreeNode]:\n",
    "        vals = []\n",
    "        while head:\n",
    "            vals.append(head.val)\n",
    "            head = head.next\n",
    "        return self.buildBST(vals, 0 , len(vals) - 1)\n",
    "    def buildBST(self, values, start, end):\n",
    "        if start > end:\n",
    "            return None\n",
    "        mid = (start + end) // 2\n",
    "        node = TreeNode(values[mid])\n",
    "        node.left = self.buildBST(values, start, mid-1)\n",
    "        node.right = self.buildBST(values, mid+1, end)\n",
    "        return node"
   ]
  },
  {
   "cell_type": "markdown",
   "id": "cf02ec77",
   "metadata": {},
   "source": [
    "Runtime 126 ms  \n",
    "Beats   \n",
    "62.96%  \n",
    "Memory 20.2 MB  \n",
    "Beats  \n",
    "49.42%  "
   ]
  }
 ],
 "metadata": {
  "kernelspec": {
   "display_name": "Python 3 (ipykernel)",
   "language": "python",
   "name": "python3"
  },
  "language_info": {
   "codemirror_mode": {
    "name": "ipython",
    "version": 3
   },
   "file_extension": ".py",
   "mimetype": "text/x-python",
   "name": "python",
   "nbconvert_exporter": "python",
   "pygments_lexer": "ipython3",
   "version": "3.8.13"
  }
 },
 "nbformat": 4,
 "nbformat_minor": 5
}
