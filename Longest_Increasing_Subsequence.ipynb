{
 "cells": [
  {
   "cell_type": "markdown",
   "id": "dbba0b58",
   "metadata": {},
   "source": [
    "##300. Longest Increasing Subsequence\n",
    "Medium\n",
    "\n",
    "Given an integer array nums, return the length of the longest strictly increasing subsequence.\n",
    "\n",
    "A subsequence is a sequence that can be derived from an array by deleting some or no elements without changing the order of the remaining elements. For example, [3,6,2,7] is a subsequence of the array [0,3,1,6,2,2,7].\n",
    "\n",
    " \n",
    "\n",
    "Example 1:\n",
    "\n",
    "Input: nums = [10,9,2,5,3,7,101,18]\n",
    "Output: 4\n",
    "Explanation: The longest increasing subsequence is [2,3,7,101], therefore the length is 4.\n",
    "\n",
    "Example 2:\n",
    "\n",
    "Input: nums = [0,1,0,3,2,3]\n",
    "Output: 4\n",
    "\n",
    "Example 3:\n",
    "\n",
    "Input: nums = [7,7,7,7,7,7,7]\n",
    "Output: 1\n",
    "\n",
    " \n",
    "\n",
    "Constraints:\n",
    "\n",
    "    1 <= nums.length <= 2500\n",
    "    -104 <= nums[i] <= 104\n",
    "\n",
    " \n",
    "\n",
    "Follow up: Can you come up with an algorithm that runs in O(n log(n)) time complexity?\n"
   ]
  },
  {
   "cell_type": "code",
   "execution_count": 2,
   "id": "4446dc16",
   "metadata": {},
   "outputs": [],
   "source": [
    "#searching closest position of an element with binary search\n",
    "def binarySearch(nums , start, end, target):\n",
    "        while start <= end:\n",
    "            middle = (start + end)//2\n",
    "            if nums[middle] == target:\n",
    "                return middle\n",
    "            elif nums[middle] > target:\n",
    "                end = middle - 1\n",
    "            else:\n",
    "                start = middle +1\n",
    "        return start\n",
    "    \n",
    "class Solution:\n",
    "       \n",
    "    def lengthOfLIS(self, nums: list) -> int:\n",
    "        ans = []\n",
    "        ans. append(nums[0])\n",
    "        for i in range(1, len(nums)):\n",
    "            if ans[-1] < nums[i]:\n",
    "                ans.append(nums[i])\n",
    "            else:\n",
    "                idx = binarySearch(ans, 0, len(ans)-1, nums[i])\n",
    "                ans[idx] = nums[i]\n",
    "                \n",
    "        return len(ans)"
   ]
  },
  {
   "cell_type": "code",
   "execution_count": null,
   "id": "64c2a80c",
   "metadata": {},
   "outputs": [],
   "source": [
    "Solution().lengthOfLIS()"
   ]
  },
  {
   "cell_type": "markdown",
   "id": "ec20ba66",
   "metadata": {},
   "source": []
  }
 ],
 "metadata": {
  "kernelspec": {
   "display_name": "Python 3 (ipykernel)",
   "language": "python",
   "name": "python3"
  },
  "language_info": {
   "codemirror_mode": {
    "name": "ipython",
    "version": 3
   },
   "file_extension": ".py",
   "mimetype": "text/x-python",
   "name": "python",
   "nbconvert_exporter": "python",
   "pygments_lexer": "ipython3",
   "version": "3.7.13"
  }
 },
 "nbformat": 4,
 "nbformat_minor": 5
}
