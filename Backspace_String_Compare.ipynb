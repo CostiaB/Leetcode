{
 "cells": [
  {
   "cell_type": "markdown",
   "id": "0f6ec43d",
   "metadata": {},
   "source": [
    "## 844. Backspace String Compare\n",
    "Easy\n",
    "\n",
    "Given two strings s and t, return true if they are equal when both are typed into empty text editors. '#' means a backspace character.\n",
    "\n",
    "Note that after backspacing an empty text, the text will continue empty.\n",
    "\n",
    " \n",
    "\n",
    "Example 1:\n",
    "\n",
    "Input: s = \"ab#c\", t = \"ad#c\"\n",
    "Output: true\n",
    "Explanation: Both s and t become \"ac\".\n",
    "\n",
    "Example 2:\n",
    "\n",
    "Input: s = \"ab##\", t = \"c#d#\"\n",
    "Output: true\n",
    "Explanation: Both s and t become \"\".\n",
    "\n",
    "Example 3:\n",
    "\n",
    "Input: s = \"a#c\", t = \"b\"\n",
    "Output: false\n",
    "Explanation: s becomes \"c\" while t becomes \"b\".\n",
    "\n",
    " \n",
    "\n",
    "Constraints:\n",
    "\n",
    "    1 <= s.length, t.length <= 200\n",
    "    s and t only contain lowercase letters and '#' characters.\n",
    "\n",
    " \n",
    "\n",
    "Follow up: Can you solve it in O(n) time and O(1) space?\n"
   ]
  },
  {
   "cell_type": "code",
   "execution_count": 2,
   "id": "6aad340e",
   "metadata": {},
   "outputs": [],
   "source": [
    "class Solution:\n",
    "    def backspaceCompare(self, s: str, t: str) -> bool:\n",
    "        a = ''\n",
    "        for l in s:\n",
    "            if l=='#':\n",
    "                a = a[:-1]\n",
    "                continue\n",
    "            a = a + l\n",
    "            \n",
    "        b = ''\n",
    "        for l in t:\n",
    "            if l=='#':\n",
    "                b = b[:-1]\n",
    "                continue\n",
    "            b = b + l\n",
    "        return a==b\n",
    "            "
   ]
  },
  {
   "cell_type": "code",
   "execution_count": 3,
   "id": "6b987d03",
   "metadata": {},
   "outputs": [
    {
     "data": {
      "text/plain": [
       "True"
      ]
     },
     "execution_count": 3,
     "metadata": {},
     "output_type": "execute_result"
    }
   ],
   "source": [
    "Solution().backspaceCompare(s = \"ab##\", t = \"c#d#\")"
   ]
  },
  {
   "cell_type": "markdown",
   "id": "6a51ec95",
   "metadata": {},
   "source": [
    "Runtime: 28 ms, faster than 97.60% of Python3 online submissions for Backspace String Compare.  \n",
    "Memory Usage: 13.9 MB, less than 73.78% of Python3 online submissions for Backspace String Compare."
   ]
  }
 ],
 "metadata": {
  "kernelspec": {
   "display_name": "Python 3 (ipykernel)",
   "language": "python",
   "name": "python3"
  },
  "language_info": {
   "codemirror_mode": {
    "name": "ipython",
    "version": 3
   },
   "file_extension": ".py",
   "mimetype": "text/x-python",
   "name": "python",
   "nbconvert_exporter": "python",
   "pygments_lexer": "ipython3",
   "version": "3.7.13"
  }
 },
 "nbformat": 4,
 "nbformat_minor": 5
}
