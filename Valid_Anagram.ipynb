{
 "cells": [
  {
   "cell_type": "markdown",
   "id": "9f6d2230",
   "metadata": {},
   "source": [
    "## 242. Valid Anagram\n",
    "Easy\n",
    "8.8K\n",
    "286\n",
    "Companies\n",
    "\n",
    "Given two strings s and t, return true if t is an anagram of s, and false otherwise.  \n",
    "\n",
    "An Anagram is a word or phrase formed by rearranging the letters of a different word or phrase, typically using all   the original letters exactly once.  \n",
    "\n",
    " \n",
    "\n",
    "Example 1:  \n",
    "  \n",
    "Input: s = \"anagram\", t = \"nagaram\"  \n",
    "Output: true  \n",
    "  \n",
    "Example 2:  \n",
    "  \n",
    "Input: s = \"rat\", t = \"car\"  \n",
    "Output: false  \n",
    "\n",
    "   \n",
    "\n",
    "Constraints:  \n",
    "\n",
    "    1 <= s.length, t.length <= 5 * 104  \n",
    "    s and t consist of lowercase English letters.  \n",
    "\n",
    "   \n",
    "\n",
    "Follow up: What if the inputs contain Unicode characters? How would you adapt your solution to such a case?\n"
   ]
  },
  {
   "cell_type": "code",
   "execution_count": null,
   "id": "25a1f5d3",
   "metadata": {},
   "outputs": [],
   "source": [
    "class Solution:\n",
    "    def isAnagram(self, s: str, t: str) -> bool:\n",
    "        l_s = [l for l in s]\n",
    "        l_t = [l for l in t]\n",
    "        l_t.sort()\n",
    "        l_s.sort()\n",
    "        \n",
    "        return l_s == l_t"
   ]
  },
  {
   "cell_type": "markdown",
   "id": "8f87fe61",
   "metadata": {},
   "source": [
    "Runtime 75 ms  \n",
    "Beats  \n",
    "6.16%  \n",
    "Memory 17.6 MB  \n",
    "Beats  \n",
    "9.76%  "
   ]
  },
  {
   "cell_type": "code",
   "execution_count": null,
   "id": "d2afba65",
   "metadata": {},
   "outputs": [],
   "source": [
    "class Solution:\n",
    "    def isAnagram(self, s: str, t: str) -> bool:\n",
    "        if len(s) != len(t):\n",
    "             return False\n",
    "        hashmap = {}\n",
    "        for c in s:\n",
    "            hashmap[c] = hashmap.get(c, 0) + 1\n",
    "\n",
    "        for c in t:\n",
    "            if c not in hashmap.keys() or hashmap[c] == 0:\n",
    "                return False\n",
    "            hashmap[c] -= 1\n",
    "           \n",
    "        return True "
   ]
  },
  {
   "cell_type": "markdown",
   "id": "ae2671ae",
   "metadata": {},
   "source": [
    "Runtime 64 ms  \n",
    "Beats  \n",
    "11.86%  \n",
    "Memory 16.9 MB  \n",
    "Beats  \n",
    "10.82%  "
   ]
  }
 ],
 "metadata": {
  "kernelspec": {
   "display_name": "Python 3 (ipykernel)",
   "language": "python",
   "name": "python3"
  },
  "language_info": {
   "codemirror_mode": {
    "name": "ipython",
    "version": 3
   },
   "file_extension": ".py",
   "mimetype": "text/x-python",
   "name": "python",
   "nbconvert_exporter": "python",
   "pygments_lexer": "ipython3",
   "version": "3.8.13"
  }
 },
 "nbformat": 4,
 "nbformat_minor": 5
}
