{
 "cells": [
  {
   "cell_type": "markdown",
   "id": "27040271",
   "metadata": {},
   "source": [
    "## 98. Validate Binary Search Tree\n",
    "Medium\n",
    "\n",
    "Given the root of a binary tree, determine if it is a valid binary search tree (BST).\n",
    "\n",
    "A valid BST is defined as follows:\n",
    "\n",
    "    The left subtree of a node contains only nodes with keys less than the node's key.\n",
    "    The right subtree of a node contains only nodes with keys greater than the node's key.\n",
    "    Both the left and right subtrees must also be binary search trees.\n",
    "\n",
    " \n",
    "\n",
    "Example 1:\n",
    "<img src=\"https://assets.leetcode.com/uploads/2020/12/01/tree1.jpg\">\n",
    "Input: root = [2,1,3]\n",
    "Output: true\n",
    "\n",
    "Example 2:\n",
    "<img src=\"https://assets.leetcode.com/uploads/2020/12/01/tree2.jpg\">\n",
    "Input: root = [5,1,4,null,null,3,6]\n",
    "Output: false\n",
    "Explanation: The root node's value is 5 but its right child's value is 4.\n",
    "\n",
    " \n",
    "\n",
    "Constraints:\n",
    "\n",
    "    The number of nodes in the tree is in the range [1, 104].\n",
    "    -231 <= Node.val <= 231 - 1\n",
    "\n"
   ]
  },
  {
   "cell_type": "code",
   "execution_count": null,
   "id": "0e8203d0",
   "metadata": {},
   "outputs": [],
   "source": [
    "# Definition for a binary tree node.\n",
    "# class TreeNode:\n",
    "#     def __init__(self, val=0, left=None, right=None):\n",
    "#         self.val = val\n",
    "#         self.left = left\n",
    "#         self.right = right\n",
    "class Solution:\n",
    "    def isValidBST(self, root: Optional[TreeNode]) -> bool:\n",
    "        left = -inf\n",
    "        right = inf\n",
    "        def check_tree(root, left, right):\n",
    "            if root == None:\n",
    "                return True\n",
    "            if root.val <= left or root.val >= right:\n",
    "                return False\n",
    "            else:\n",
    "                return check_tree(root.right, root.val, right) and check_tree(root.left, left, root.val)\n",
    "        return check_tree(root, left, right)"
   ]
  },
  {
   "cell_type": "markdown",
   "id": "3f9a8a8d",
   "metadata": {},
   "source": [
    "Runtime: 79 ms, faster than 32.50% of Python3 online submissions for Validate Binary Search Tree.  \n",
    "Memory Usage: 16.5 MB, less than 44.98% of Python3 online submissions for Validate Binary Search Tree."
   ]
  }
 ],
 "metadata": {
  "kernelspec": {
   "display_name": "Python 3 (ipykernel)",
   "language": "python",
   "name": "python3"
  },
  "language_info": {
   "codemirror_mode": {
    "name": "ipython",
    "version": 3
   },
   "file_extension": ".py",
   "mimetype": "text/x-python",
   "name": "python",
   "nbconvert_exporter": "python",
   "pygments_lexer": "ipython3",
   "version": "3.7.13"
  }
 },
 "nbformat": 4,
 "nbformat_minor": 5
}
