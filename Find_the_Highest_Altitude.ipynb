{
 "cells": [
  {
   "cell_type": "markdown",
   "id": "22ebe0ea",
   "metadata": {},
   "source": [
    "# 1732. Find the Highest Altitude\n",
    "Easy\n",
    "2.3K\n",
    "191\n",
    "Companies\n",
    "\n",
    "There is a biker going on a road trip. The road trip consists of n + 1 points at different altitudes. The biker starts his trip on point 0 with altitude equal 0.\n",
    "\n",
    "You are given an integer array gain of length n where gain[i] is the net gain in altitude between points i​​​​​​ and i + 1 for all (0 <= i < n). Return the highest altitude of a point.\n",
    "\n",
    " \n",
    "\n",
    "Example 1:\n",
    "\n",
    "Input: gain = [-5,1,5,0,-7]  \n",
    "Output: 1  \n",
    "Explanation: The altitudes are [0,-5,-4,1,1,-6]. The highest is 1.  \n",
    "\n",
    "Example 2:  \n",
    "\n",
    "Input: gain = [-4,-3,-2,-1,4,3,2]  \n",
    "Output: 0  \n",
    "Explanation: The altitudes are [0,-4,-7,-9,-10,-6,-3,-1]. The highest is 0.  \n",
    "\n",
    " \n",
    "\n",
    "Constraints:\n",
    "\n",
    "    n == gain.length\n",
    "    1 <= n <= 100\n",
    "    -100 <= gain[i] <= 100\n",
    "\n"
   ]
  },
  {
   "cell_type": "code",
   "execution_count": null,
   "id": "1a9da740",
   "metadata": {},
   "outputs": [],
   "source": [
    "class Solution:\n",
    "    def largestAltitude(self, gain: List[int]) -> int:\n",
    "        alt = [0]\n",
    "        for i, t in enumerate(gain):\n",
    "            alt.append(alt[i] + t)\n",
    "        return max(alt)"
   ]
  },
  {
   "cell_type": "markdown",
   "id": "2191283c",
   "metadata": {},
   "source": [
    "Runtime 47 ms  \n",
    "Beats  \n",
    "77.56%  \n",
    "Memory 16.4 MB  \n",
    "Beats  \n",
    "35.13%  "
   ]
  },
  {
   "cell_type": "code",
   "execution_count": null,
   "id": "6b02862e",
   "metadata": {},
   "outputs": [],
   "source": [
    "class Solution:\n",
    "    def largestAltitude(self, gain: List[int]) -> int:\n",
    "        alt = 0\n",
    "        max_alt = 0\n",
    "        for  t in gain:\n",
    "            alt += t\n",
    "            max_alt = max(max_alt, alt)\n",
    "        return max_alt"
   ]
  },
  {
   "cell_type": "markdown",
   "id": "148056f4",
   "metadata": {},
   "source": [
    "Runtime 60 ms  \n",
    "Beats  \n",
    "6.23%  \n",
    "Memory 16.2 MB  \n",
    "Beats  \n",
    "94.36%  "
   ]
  }
 ],
 "metadata": {
  "kernelspec": {
   "display_name": "Python 3 (ipykernel)",
   "language": "python",
   "name": "python3"
  },
  "language_info": {
   "codemirror_mode": {
    "name": "ipython",
    "version": 3
   },
   "file_extension": ".py",
   "mimetype": "text/x-python",
   "name": "python",
   "nbconvert_exporter": "python",
   "pygments_lexer": "ipython3",
   "version": "3.8.13"
  }
 },
 "nbformat": 4,
 "nbformat_minor": 5
}
