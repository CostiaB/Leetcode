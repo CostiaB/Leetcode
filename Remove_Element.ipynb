{
 "cells": [
  {
   "cell_type": "markdown",
   "id": "fb7e79f4",
   "metadata": {},
   "source": [
    "## 27. Remove Element\n",
    "Easy\n",
    "\n",
    "Given an integer array nums and an integer val, remove all occurrences of val in nums in-place. The relative order of the elements may be changed.\n",
    "\n",
    "Since it is impossible to change the length of the array in some languages, you must instead have the result be placed in the first part of the array nums. More formally, if there are k elements after removing the duplicates, then the first k elements of nums should hold the final result. It does not matter what you leave beyond the first k elements.\n",
    "\n",
    "Return k after placing the final result in the first k slots of nums.\n",
    "\n",
    "Do not allocate extra space for another array. You must do this by modifying the input array in-place with O(1) extra memory.\n",
    "\n",
    "Custom Judge:\n",
    "\n",
    "The judge will test your solution with the following code:\n",
    "\n",
    "int[] nums = [...]; // Input array  \n",
    "int val = ...; // Value to remove  \n",
    "int[] expectedNums = [...]; // The expected answer with correct length.  \n",
    "                            // It is sorted with no values equaling val.  \n",
    "\n",
    "int k = removeElement(nums, val); // Calls your implementation  \n",
    "\n",
    "assert k == expectedNums.length;  \n",
    "sort(nums, 0, k); // Sort the first k elements of nums  \n",
    "for (int i = 0; i < actualLength; i++) {  \n",
    "    assert nums[i] == expectedNums[i];  \n",
    "}  \n",
    "\n",
    "If all assertions pass, then your solution will be accepted.  \n",
    "\n",
    " \n",
    "\n",
    "Example 1:\n",
    "\n",
    "Input: nums = [3,2,2,3], val = 3  \n",
    "Output: 2, nums = [2,2,_,_]  \n",
    "Explanation: Your function should return k = 2, with the first two elements of nums being 2.  \n",
    "It does not matter what you leave beyond the returned k (hence they are underscores).  \n",
    "\n",
    "Example 2:\n",
    "\n",
    "Input: nums = [0,1,2,2,3,0,4,2], val = 2  \n",
    "Output: 5, nums = [0,1,4,0,3,_,_,_]  \n",
    "Explanation: Your function should return k = 5, with the first five elements of nums containing 0, 0, 1, 3, and 4.  \n",
    "Note that the five elements can be returned in any order.  \n",
    "It does not matter what you leave beyond the returned k (hence they are underscores).  \n",
    "\n",
    " \n",
    "\n",
    "Constraints:\n",
    "\n",
    "    0 <= nums.length <= 100\n",
    "    0 <= nums[i] <= 50\n",
    "    0 <= val <= 100\n",
    "\n"
   ]
  },
  {
   "cell_type": "code",
   "execution_count": 1,
   "id": "4179795f",
   "metadata": {},
   "outputs": [],
   "source": [
    "class Solution:\n",
    "    def removeElement(self, nums: list, val: int) -> int:\n",
    "        i = 0\n",
    "        while i !=(len(nums)):\n",
    "            if nums[i] == val:\n",
    "                del(nums[i])\n",
    "                i -= 1\n",
    "            i += 1\n",
    "        return len(nums)\n"
   ]
  },
  {
   "cell_type": "code",
   "execution_count": 2,
   "id": "4b682ad0",
   "metadata": {},
   "outputs": [
    {
     "data": {
      "text/plain": [
       "5"
      ]
     },
     "execution_count": 2,
     "metadata": {},
     "output_type": "execute_result"
    }
   ],
   "source": [
    "Solution().removeElement([0,1,2,2,3,0,4,2], 2)"
   ]
  },
  {
   "cell_type": "markdown",
   "id": "e13f1037",
   "metadata": {},
   "source": [
    "Runtime: 60 ms, faster than 61.84% of Python3 online submissions for Remove Element.  \n",
    "Memory Usage: 14 MB, less than 14.57% of Python3 online submissions for Remove Element."
   ]
  }
 ],
 "metadata": {
  "kernelspec": {
   "display_name": "Python 3 (ipykernel)",
   "language": "python",
   "name": "python3"
  },
  "language_info": {
   "codemirror_mode": {
    "name": "ipython",
    "version": 3
   },
   "file_extension": ".py",
   "mimetype": "text/x-python",
   "name": "python",
   "nbconvert_exporter": "python",
   "pygments_lexer": "ipython3",
   "version": "3.8.13"
  }
 },
 "nbformat": 4,
 "nbformat_minor": 5
}
