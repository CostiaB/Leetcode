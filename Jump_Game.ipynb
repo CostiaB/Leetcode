{
 "cells": [
  {
   "cell_type": "markdown",
   "id": "4bab2e10",
   "metadata": {},
   "source": [
    "## 55. Jump Game\n",
    "Medium\n",
    "\n",
    "You are given an integer array nums. You are initially positioned at the array's first index, and each element in the array represents your maximum jump length at that position.\n",
    "\n",
    "Return true if you can reach the last index, or false otherwise.\n",
    "\n",
    " \n",
    "\n",
    "Example 1:\n",
    "\n",
    "Input: nums = [2,3,1,1,4]  \n",
    "Output: true  \n",
    "Explanation: Jump 1 step from index 0 to 1, then 3 steps to the last index.  \n",
    "\n",
    "Example 2:\n",
    "\n",
    "Input: nums = [3,2,1,0,4]   \n",
    "Output: false  \n",
    "Explanation: You will always arrive at index 3 no matter what. Its maximum jump length is 0, which makes it   impossible to reach the last index.\n"
   ]
  },
  {
   "cell_type": "code",
   "execution_count": 1,
   "id": "79320751",
   "metadata": {},
   "outputs": [],
   "source": [
    "class Solution:\n",
    "    def canJump(self, nums: list) -> bool:\n",
    "        #Store curretr maximum jump in current variable\n",
    "        current = nums[0]\n",
    "        # loop through all elements\n",
    "        for i in range(1, len(nums)):\n",
    "            # If the current size is zero we can't go anywhere\n",
    "            if current == 0:\n",
    "                return False\n",
    "            #decrease jump for a potential next spep\n",
    "            current -= 1\n",
    "            # Update the current maximum jump\n",
    "            current = max(current, nums[i])       \n",
    "        return True"
   ]
  },
  {
   "cell_type": "code",
   "execution_count": 2,
   "id": "86b8e323",
   "metadata": {},
   "outputs": [
    {
     "data": {
      "text/plain": [
       "False"
      ]
     },
     "execution_count": 2,
     "metadata": {},
     "output_type": "execute_result"
    }
   ],
   "source": [
    "Solution().canJump(nums = [3,2,1,0,4])"
   ]
  },
  {
   "cell_type": "markdown",
   "id": "ecbacc42",
   "metadata": {},
   "source": [
    "Runtime: 1322 ms, faster than 31.00% of Python3 online submissions for Jump Game.  \n",
    "Memory Usage: 15.2 MB, less than 49.26% of Python3 online submissions for Jump Game."
   ]
  }
 ],
 "metadata": {
  "kernelspec": {
   "display_name": "Python 3 (ipykernel)",
   "language": "python",
   "name": "python3"
  },
  "language_info": {
   "codemirror_mode": {
    "name": "ipython",
    "version": 3
   },
   "file_extension": ".py",
   "mimetype": "text/x-python",
   "name": "python",
   "nbconvert_exporter": "python",
   "pygments_lexer": "ipython3",
   "version": "3.8.13"
  }
 },
 "nbformat": 4,
 "nbformat_minor": 5
}
