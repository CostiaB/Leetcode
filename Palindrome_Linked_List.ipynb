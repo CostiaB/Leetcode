{
 "cells": [
  {
   "cell_type": "markdown",
   "id": "cc77c6fd",
   "metadata": {},
   "source": [
    "## 234. Palindrome Linked List\n",
    "Easy\n",
    "\n",
    "Given the head of a singly linked list, return true if it is a palindrome or false otherwise.\n",
    "\n",
    " \n",
    "\n",
    "Example 1:\n",
    "<img src = 'https://assets.leetcode.com/uploads/2021/03/03/pal1linked-list.jpg'>\n",
    "Input: head = [1,2,2,1]\n",
    "Output: true\n",
    "\n",
    "Example 2:\n",
    "<img src = 'https://assets.leetcode.com/uploads/2021/03/03/pal2linked-list.jpg'>\n",
    "Input: head = [1,2]\n",
    "Output: false\n",
    "\n",
    " \n",
    "\n",
    "Constraints:\n",
    "\n",
    "    The number of nodes in the list is in the range [1, 105].\n",
    "    0 <= Node.val <= 9\n",
    "\n",
    " \n",
    "Follow up: Could you do it in O(n) time and O(1) space?"
   ]
  },
  {
   "cell_type": "code",
   "execution_count": null,
   "id": "7bbedf7b",
   "metadata": {},
   "outputs": [],
   "source": [
    "# Definition for singly-linked list.\n",
    "# class ListNode:\n",
    "#     def __init__(self, val=0, next=None):\n",
    "#         self.val = val\n",
    "#         self.next = next\n",
    "class Solution:\n",
    "    def isPalindrome(self, head: Optional[ListNode]) -> bool:\n",
    "        vals = []\n",
    "        while head.next:\n",
    "            vals.append(head.val)\n",
    "            head = head.next\n",
    "        vals.append(head.val)\n",
    "        return vals == vals[::-1]"
   ]
  },
  {
   "cell_type": "markdown",
   "id": "3104505a",
   "metadata": {},
   "source": [
    "Runtime: 1185 ms, faster than 56.72% of Python3 online submissions for Palindrome Linked List.  \n",
    "Memory Usage: 46.5 MB, less than 56.29% of Python3 online submissions for Palindrome Linked List."
   ]
  }
 ],
 "metadata": {
  "kernelspec": {
   "display_name": "Python 3 (ipykernel)",
   "language": "python",
   "name": "python3"
  },
  "language_info": {
   "codemirror_mode": {
    "name": "ipython",
    "version": 3
   },
   "file_extension": ".py",
   "mimetype": "text/x-python",
   "name": "python",
   "nbconvert_exporter": "python",
   "pygments_lexer": "ipython3",
   "version": "3.7.13"
  }
 },
 "nbformat": 4,
 "nbformat_minor": 5
}
