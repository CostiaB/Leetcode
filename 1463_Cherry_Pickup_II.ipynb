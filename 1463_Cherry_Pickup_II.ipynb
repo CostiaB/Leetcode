{
 "cells": [
  {
   "cell_type": "markdown",
   "id": "a1fa8b27",
   "metadata": {},
   "source": [
    "# 1463. Cherry Pickup II\n",
    "\n",
    "\n",
    "You are given a rows x cols matrix grid representing a field of cherries where grid[i][j] represents the number of cherries that you can collect from the (i, j) cell.\n",
    "\n",
    "You have two robots that can collect cherries for you:\n",
    "\n",
    "    Robot #1 is located at the top-left corner (0, 0), and\n",
    "    Robot #2 is located at the top-right corner (0, cols - 1).\n",
    "\n",
    "Return the maximum number of cherries collection using both robots by following the rules below:\n",
    "\n",
    "    From a cell (i, j), robots can move to cell (i + 1, j - 1), (i + 1, j), or (i + 1, j + 1).\n",
    "    When any robot passes through a cell, It picks up all cherries, and the cell becomes an empty cell.\n",
    "    When both robots stay in the same cell, only one takes the cherries.\n",
    "    Both robots cannot move outside of the grid at any moment.\n",
    "    Both robots should reach the bottom row in grid.\n",
    "\n",
    " \n",
    "\n",
    "Example 1:\n",
    "\n",
    "<img src='https://assets.leetcode.com/uploads/2020/04/29/sample_1_1802.png'>\n",
    "\n",
    "Input: grid = [[3,1,1],[2,5,1],[1,5,5],[2,1,1]]  \n",
    "Output: 24  \n",
    "Explanation: Path of robot #1 and #2 are described in color green and blue respectively.  \n",
    "Cherries taken by Robot #1, (3 + 2 + 5 + 2) = 12.  \n",
    "Cherries taken by Robot #2, (1 + 5 + 5 + 1) = 12.  \n",
    "Total of cherries: 12 + 12 = 24.  \n",
    "\n",
    "Example 2:\n",
    "\n",
    "<img src='https://assets.leetcode.com/uploads/2020/04/23/sample_2_1802.png'>\n",
    "\n",
    "Input: grid = [[1,0,0,0,0,0,1],[2,0,0,0,0,3,0],[2,0,9,0,0,0,0],[0,3,0,5,4,0,0],[1,0,2,3,0,0,6]]  \n",
    "Output: 28  \n",
    "Explanation: Path of robot #1 and #2 are described in color green and blue respectively.  \n",
    "Cherries taken by Robot #1, (1 + 9 + 5 + 2) = 17.  \n",
    "Cherries taken by Robot #2, (1 + 3 + 4 + 3) = 11.  \n",
    "Total of cherries: 17 + 11 = 28.  \n",
    "\n",
    " \n",
    "\n",
    "Constraints:\n",
    "\n",
    "    rows == grid.length\n",
    "    cols == grid[i].length\n",
    "    2 <= rows, cols <= 70\n",
    "    0 <= grid[i][j] <= 100\n",
    "\n"
   ]
  },
  {
   "cell_type": "code",
   "execution_count": 9,
   "id": "8f6fe881",
   "metadata": {},
   "outputs": [],
   "source": [
    "from functools import lru_cache\n",
    "class Solution:\n",
    "    def cherryPickup(self, grid: list[list[int]]) -> int:\n",
    "        @lru_cache(None)\n",
    "        def dfs (row, col1, col2):\n",
    "            if row == m:\n",
    "                return 0\n",
    "\n",
    "            cherries = grid[row][col1] + (0 if (col1 == col2) else grid[row][col2])\n",
    "            max_total = 0\n",
    "\n",
    "            for i in range(-1, 2):\n",
    "                for j in range(-1, 2):\n",
    "                    new_c1 = col1 + i\n",
    "                    new_c2 = col2 + j\n",
    "                \n",
    "                    if (0 <= new_c1 < n) and ( 0 <= new_c2 < n):\n",
    "                        max_total = max(max_total, dfs(row+1, new_c1, new_c2))\n",
    "\n",
    "            ans = max_total + cherries\n",
    "            return ans\n",
    "\n",
    "        memo = {}\n",
    "        m = len(grid)\n",
    "        n = len(grid[0])\n",
    "\n",
    "        return dfs(0, 0, n-1)"
   ]
  },
  {
   "cell_type": "code",
   "execution_count": 11,
   "id": "d863bcbf",
   "metadata": {},
   "outputs": [
    {
     "name": "stdout",
     "output_type": "stream",
     "text": [
      "28\n"
     ]
    }
   ],
   "source": [
    "ans = Solution().cherryPickup([[1,0,0,0,0,0,1],[2,0,0,0,0,3,0],[2,0,9,0,0,0,0],[0,3,0,5,4,0,0],[1,0,2,3,0,0,6]])\n",
    "print(ans)"
   ]
  },
  {
   "cell_type": "code",
   "execution_count": 12,
   "id": "b4ce795a",
   "metadata": {},
   "outputs": [
    {
     "name": "stdout",
     "output_type": "stream",
     "text": [
      "24\n"
     ]
    }
   ],
   "source": [
    "ans = Solution().cherryPickup([[3,1,1],[2,5,1],[1,5,5],[2,1,1]])\n",
    "print(ans)"
   ]
  },
  {
   "cell_type": "code",
   "execution_count": 14,
   "id": "48666e01",
   "metadata": {},
   "outputs": [
    {
     "name": "stdout",
     "output_type": "stream",
     "text": [
      "146\n"
     ]
    }
   ],
   "source": [
    "ans = Solution().cherryPickup([[8,8,10,9,1,7],[8,8,1,8,4,7],[8,6,10,3,7,7],\n",
    "                               [3,0,9,3,2,7],[6,8,9,4,2,5],[1,1,5,8,8,1],\n",
    "                               [5,6,5,2,9,9],[4,4,6,2,5,4],[4,4,5,3,1,6],\n",
    "                               [9,2,2,1,9,3]])\n",
    "print(ans)"
   ]
  },
  {
   "cell_type": "markdown",
   "id": "c80312b6",
   "metadata": {},
   "source": [
    "Runtime 999ms Beats 67.51% of users with Python3  \n",
    "Memory 58.67MB Beats15.23% of users with Python3"
   ]
  }
 ],
 "metadata": {
  "kernelspec": {
   "display_name": "Python 3 (ipykernel)",
   "language": "python",
   "name": "python3"
  },
  "language_info": {
   "codemirror_mode": {
    "name": "ipython",
    "version": 3
   },
   "file_extension": ".py",
   "mimetype": "text/x-python",
   "name": "python",
   "nbconvert_exporter": "python",
   "pygments_lexer": "ipython3",
   "version": "3.10.9"
  }
 },
 "nbformat": 4,
 "nbformat_minor": 5
}
