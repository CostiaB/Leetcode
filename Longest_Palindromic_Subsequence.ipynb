{
 "cells": [
  {
   "cell_type": "markdown",
   "id": "4d85040a",
   "metadata": {},
   "source": [
    "## 516. Longest Palindromic Subsequence\n",
    "Medium\n",
    "8.2K\n",
    "304\n",
    "Companies\n",
    "\n",
    "Given a string s, find the longest palindromic subsequence's length in s.\n",
    "\n",
    "A subsequence is a sequence that can be derived from another sequence by deleting some or no elements without changing the order of the remaining elements.\n",
    "\n",
    " \n",
    "\n",
    "Example 1:\n",
    "\n",
    "Input: s = \"bbbab\"  \n",
    "Output: 4  \n",
    "Explanation: One possible longest palindromic subsequence is \"bbbb\".  \n",
    "  \n",
    "Example 2:  \n",
    "  \n",
    "Input: s = \"cbbd\"  \n",
    "Output: 2  \n",
    "Explanation: One possible longest palindromic subsequence is \"bb\".  \n",
    "\n",
    " \n",
    "\n",
    "Constraints:\n",
    "\n",
    "    1 <= s.length <= 1000\n",
    "    s consists only of lowercase English letters.\n",
    "\n",
    "Accepted\n",
    "381.1K\n",
    "Submissions\n",
    "617.8K\n",
    "Acceptance Rate\n",
    "61.7%"
   ]
  },
  {
   "cell_type": "code",
   "execution_count": null,
   "id": "b82f9801",
   "metadata": {},
   "outputs": [],
   "source": [
    "class Solution:\n",
    "    def longestPalindromeSubseq(self, s: str) -> int:\n",
    "\n",
    "        d = defaultdict(int)\n",
    "        def search(s):\n",
    "            if s not in d:\n",
    "                for c in set(s):\n",
    "                    i = s.find(c)\n",
    "                    j = s.rfind(c)\n",
    "                    d[s] = max(d[s], 1 if i==j else 2 + search(s[i+1:j]))\n",
    "            return d[s]\n",
    "        return search(s)"
   ]
  },
  {
   "cell_type": "markdown",
   "id": "ed7b5b96",
   "metadata": {},
   "source": [
    "Runtime 479 ms  \n",
    "Beats  \n",
    "98.20%  \n",
    "Memory 20.7 MB  \n",
    "Beats  \n",
    "81.98%  "
   ]
  }
 ],
 "metadata": {
  "kernelspec": {
   "display_name": "Python 3 (ipykernel)",
   "language": "python",
   "name": "python3"
  },
  "language_info": {
   "codemirror_mode": {
    "name": "ipython",
    "version": 3
   },
   "file_extension": ".py",
   "mimetype": "text/x-python",
   "name": "python",
   "nbconvert_exporter": "python",
   "pygments_lexer": "ipython3",
   "version": "3.8.13"
  }
 },
 "nbformat": 4,
 "nbformat_minor": 5
}
