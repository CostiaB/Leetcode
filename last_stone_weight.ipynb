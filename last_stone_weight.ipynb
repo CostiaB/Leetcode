{
 "cells": [
  {
   "cell_type": "markdown",
   "id": "5a308fda",
   "metadata": {},
   "source": [
    "## 1046. Last Stone Weight\n",
    "Easy\n",
    "\n",
    "You are given an array of integers stones where stones[i] is the weight of the ith stone.\n",
    "\n",
    "We are playing a game with the stones. On each turn, we choose the heaviest two stones and smash them together. Suppose the heaviest two stones have weights x and y with x <= y. The result of this smash is:\n",
    "\n",
    "    If x == y, both stones are destroyed, and\n",
    "    If x != y, the stone of weight x is destroyed, and the stone of weight y has new weight y - x.\n",
    "\n",
    "At the end of the game, there is at most one stone left.\n",
    "\n",
    "Return the weight of the last remaining stone. If there are no stones left, return 0.\n",
    "\n",
    " \n",
    "\n",
    "Example 1:\n",
    "\n",
    "Input: stones = [2,7,4,1,8,1]\n",
    "Output: 1\n",
    "Explanation: \n",
    "We combine 7 and 8 to get 1 so the array converts to [2,4,1,1,1] then,\n",
    "we combine 2 and 4 to get 2 so the array converts to [2,1,1,1] then,\n",
    "we combine 2 and 1 to get 1 so the array converts to [1,1,1] then,\n",
    "we combine 1 and 1 to get 0 so the array converts to [1] then that's the value of the last stone.\n",
    "\n",
    "Example 2:\n",
    "\n",
    "Input: stones = [1]\n",
    "Output: 1\n",
    "\n",
    " \n",
    "\n",
    "Constraints:\n",
    "\n",
    "    1 <= stones.length <= 30\n",
    "    1 <= stones[i] <= 1000\n",
    "\n"
   ]
  },
  {
   "cell_type": "code",
   "execution_count": 1,
   "id": "d30a3934",
   "metadata": {},
   "outputs": [],
   "source": [
    "class Solution:\n",
    "    def lastStoneWeight(self, stones: list) -> int:\n",
    "        if len(stones) == 1:\n",
    "            return stones[0]\n",
    "        while len(stones)>1:\n",
    "            stones = sorted(stones)\n",
    "            y = stones.pop()\n",
    "            x = stones.pop()\n",
    "            if x != y:\n",
    "                stones.append(y-x)\n",
    "        if len(stones)==0:\n",
    "            return 0\n",
    "        return stones[0]"
   ]
  },
  {
   "cell_type": "code",
   "execution_count": 3,
   "id": "6902f913",
   "metadata": {},
   "outputs": [
    {
     "data": {
      "text/plain": [
       "1"
      ]
     },
     "execution_count": 3,
     "metadata": {},
     "output_type": "execute_result"
    }
   ],
   "source": [
    "Solution().lastStoneWeight(stones = [2,7,4,1,8,1])"
   ]
  },
  {
   "cell_type": "markdown",
   "id": "26a65ecb",
   "metadata": {},
   "source": [
    "Runtime: 54 ms, faster than 36.46% of Python3 online submissions for Last Stone Weight.  \n",
    "Memory Usage: 13.8 MB, less than 61.83% of Python3 online submissions for Last Stone Weight."
   ]
  },
  {
   "cell_type": "code",
   "execution_count": 4,
   "id": "43c45e41",
   "metadata": {},
   "outputs": [],
   "source": [
    "class Solution:\n",
    "    def lastStoneWeight(self, stones: list) -> int:\n",
    "        stones = sorted(stones, reverse=True)\n",
    "        i=0\n",
    "        j=1\n",
    "        while len(stones)>1:\n",
    "            stones[j] = stones[i] - stones[j]\n",
    "            stones = stones[j:]\n",
    "            stones = sorted(stones, reverse=True)\n",
    "        if stones:\n",
    "            return stones[0]\n",
    "        return 0\n",
    "            "
   ]
  },
  {
   "cell_type": "code",
   "execution_count": 5,
   "id": "f82367a9",
   "metadata": {},
   "outputs": [
    {
     "data": {
      "text/plain": [
       "1"
      ]
     },
     "execution_count": 5,
     "metadata": {},
     "output_type": "execute_result"
    }
   ],
   "source": [
    "Solution().lastStoneWeight(stones = [2,7,4,1,8,1])"
   ]
  },
  {
   "cell_type": "markdown",
   "id": "831b9b47",
   "metadata": {},
   "source": [
    "Runtime: 38 ms, faster than 81.06% of Python3 online submissions for Last Stone Weight.  \n",
    "Memory Usage: 14 MB, less than 13.55% of Python3 online submissions for Last Stone Weight."
   ]
  }
 ],
 "metadata": {
  "kernelspec": {
   "display_name": "Python 3 (ipykernel)",
   "language": "python",
   "name": "python3"
  },
  "language_info": {
   "codemirror_mode": {
    "name": "ipython",
    "version": 3
   },
   "file_extension": ".py",
   "mimetype": "text/x-python",
   "name": "python",
   "nbconvert_exporter": "python",
   "pygments_lexer": "ipython3",
   "version": "3.7.13"
  }
 },
 "nbformat": 4,
 "nbformat_minor": 5
}
