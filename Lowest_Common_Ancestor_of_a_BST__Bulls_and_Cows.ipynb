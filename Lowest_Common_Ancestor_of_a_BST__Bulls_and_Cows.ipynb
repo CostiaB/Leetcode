{
 "cells": [
  {
   "cell_type": "markdown",
   "id": "9c9ff227",
   "metadata": {},
   "source": [
    "## 235. Lowest Common Ancestor of a Binary Search Tree\n",
    "Easy\n",
    "\n",
    "Given a binary search tree (BST), find the lowest common ancestor (LCA) node of two given nodes in the BST.\n",
    "\n",
    "According to the definition of LCA on Wikipedia: “The lowest common ancestor is defined between two nodes p and q as the lowest node in T that has both p and q as descendants (where we allow a node to be a descendant of itself).”\n",
    "\n",
    " \n",
    "\n",
    "Example 1:\n",
    "<img src='https://assets.leetcode.com/uploads/2018/12/14/binarysearchtree_improved.png'>\n",
    "Input: root = [6,2,8,0,4,7,9,null,null,3,5], p = 2, q = 8\n",
    "Output: 6\n",
    "Explanation: The LCA of nodes 2 and 8 is 6.\n",
    "\n",
    "Example 2:\n",
    "<img src='https://assets.leetcode.com/uploads/2018/12/14/binarysearchtree_improved.png'>\n",
    "Input: root = [6,2,8,0,4,7,9,null,null,3,5], p = 2, q = 4\n",
    "Output: 2\n",
    "Explanation: The LCA of nodes 2 and 4 is 2, since a node can be a descendant of itself according to the LCA definition.\n",
    "\n",
    "Example 3:\n",
    "\n",
    "Input: root = [2,1], p = 2, q = 1\n",
    "Output: 2\n",
    "\n",
    " \n",
    "\n",
    "Constraints:\n",
    "\n",
    "    The number of nodes in the tree is in the range [2, 105].\n",
    "    -109 <= Node.val <= 109\n",
    "    All Node.val are unique.\n",
    "    p != q\n",
    "    p and q will exist in the BST.\n",
    "\n"
   ]
  },
  {
   "cell_type": "code",
   "execution_count": null,
   "id": "c27bc9ad",
   "metadata": {},
   "outputs": [],
   "source": [
    "# Definition for a binary tree node.\n",
    "# class TreeNode:\n",
    "#     def __init__(self, x):\n",
    "#         self.val = x\n",
    "#         self.left = None\n",
    "#         self.right = None\n",
    "\n",
    "class Solution:\n",
    "    def lowestCommonAncestor(self, root: 'TreeNode', p: 'TreeNode', q: 'TreeNode') -> 'TreeNode':\n",
    "        while root:\n",
    "            if p.val > root.val and q.val > root.val:    \n",
    "                root = root.right\n",
    "            elif p.val < root.val and q.val < root.val:\n",
    "                root = root.left\n",
    "            else:\n",
    "                return root"
   ]
  },
  {
   "cell_type": "markdown",
   "id": "d2a8abf9",
   "metadata": {},
   "source": [
    "Runtime: 136 ms, faster than 34.47% of Python3 online submissions for Lowest Common Ancestor of a Binary Search Tree.  \n",
    "Memory Usage: 18.8 MB, less than 22.77% of Python3 online submissions for Lowest Common Ancestor of a Binary Search Tree."
   ]
  },
  {
   "cell_type": "markdown",
   "id": "5b8696be",
   "metadata": {},
   "source": [
    "## 299. Bulls and Cows\n",
    "Medium\n",
    "\n",
    "You are playing the Bulls and Cows game with your friend.\n",
    "\n",
    "You write down a secret number and ask your friend to guess what the number is. When your friend makes a guess, you provide a hint with the following info:\n",
    "\n",
    "    The number of \"bulls\", which are digits in the guess that are in the correct position.\n",
    "    The number of \"cows\", which are digits in the guess that are in your secret number but are located in the wrong position. Specifically, the non-bull digits in the guess that could be rearranged such that they become bulls.\n",
    "\n",
    "Given the secret number secret and your friend's guess guess, return the hint for your friend's guess.\n",
    "\n",
    "The hint should be formatted as \"xAyB\", where x is the number of bulls and y is the number of cows. Note that both secret and guess may contain duplicate digits.\n",
    "\n",
    " \n",
    "\n",
    "Example 1:\n",
    "\n",
    "Input: secret = \"1807\", guess = \"7810\"  \n",
    "Output: \"1A3B\"  \n",
    "Explanation: Bulls are connected with a '|' and cows are underlined:  \n",
    "\"1807\"  \n",
    "  |  \n",
    "\"7810\"  \n",
    "\n",
    "Example 2:  \n",
    "\n",
    "Input: secret = \"1123\", guess = \"0111\"  \n",
    "Output: \"1A1B\"  \n",
    "Explanation: Bulls are connected with a '|' and cows are underlined:  \n",
    "\"1123\"        \"1123\"  \n",
    "  |      or     |  \n",
    "\"0111\"        \"0111\"  \n",
    "Note that only one of the two unmatched 1s is counted as a cow since the non-bull digits can only be rearranged to allow one 1 to be a bull.\n",
    "\n",
    " \n",
    "\n",
    "Constraints:\n",
    "\n",
    "    1 <= secret.length, guess.length <= 1000\n",
    "    secret.length == guess.length\n",
    "    secret and guess consist of digits only.\n",
    "\n"
   ]
  },
  {
   "cell_type": "code",
   "execution_count": 1,
   "id": "7dd7ccb6",
   "metadata": {},
   "outputs": [],
   "source": [
    "class Solution:\n",
    "    def getHint(self, secret: str, guess: str) -> str:\n",
    "        bulls, cows, dict1, dict2 = 0, 0, {}, {}\n",
    "        for i in range(len(secret)):\n",
    "            if secret[i]==guess[i]:\n",
    "                bulls += 1\n",
    "            dict1[secret[i]] = dict1.get(secret[i],0) + 1\n",
    "            dict2[guess[i]] = dict2.get(guess[i],0) + 1\n",
    "        for key, value in dict1.items():\n",
    "            if key in dict2.keys():\n",
    "                print(min(value, dict2[key]))\n",
    "                cows +=  min(value, dict2[key])\n",
    "        return f\"{bulls}A{cows-bulls}B\""
   ]
  },
  {
   "cell_type": "code",
   "execution_count": 2,
   "id": "1c582fb7",
   "metadata": {},
   "outputs": [
    {
     "name": "stdout",
     "output_type": "stream",
     "text": [
      "2\n"
     ]
    },
    {
     "data": {
      "text/plain": [
       "'1A1B'"
      ]
     },
     "execution_count": 2,
     "metadata": {},
     "output_type": "execute_result"
    }
   ],
   "source": [
    "Solution().getHint( \"1123\", guess = \"0111\" )"
   ]
  },
  {
   "cell_type": "markdown",
   "id": "fab96951",
   "metadata": {},
   "source": [
    "Runtime: 67 ms, faster than 45.95% of Python3 online submissions for Bulls and Cows.  \n",
    "Memory Usage: 13.9 MB, less than 78.40% of Python3 online submissions for Bulls and Cows."
   ]
  }
 ],
 "metadata": {
  "kernelspec": {
   "display_name": "Python 3 (ipykernel)",
   "language": "python",
   "name": "python3"
  },
  "language_info": {
   "codemirror_mode": {
    "name": "ipython",
    "version": 3
   },
   "file_extension": ".py",
   "mimetype": "text/x-python",
   "name": "python",
   "nbconvert_exporter": "python",
   "pygments_lexer": "ipython3",
   "version": "3.7.13"
  }
 },
 "nbformat": 4,
 "nbformat_minor": 5
}
