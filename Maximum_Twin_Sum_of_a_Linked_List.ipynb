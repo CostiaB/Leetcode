{
 "cells": [
  {
   "cell_type": "markdown",
   "id": "bff93e45",
   "metadata": {},
   "source": [
    "## 2130. Maximum Twin Sum of a Linked List\n",
    "Medium\n",
    "2.6K\n",
    "58\n",
    "Companies\n",
    "\n",
    "In a linked list of size n, where n is even, the ith node (0-indexed) of the linked list is known as the twin of the (n-1-i)th node, if 0 <= i <= (n / 2) - 1.\n",
    "\n",
    "    For example, if n = 4, then node 0 is the twin of node 3, and node 1 is the twin of node 2. These are the only nodes with twins for n = 4.\n",
    "\n",
    "The twin sum is defined as the sum of a node and its twin.\n",
    "\n",
    "Given the head of a linked list with even length, return the maximum twin sum of the linked list.\n",
    "\n",
    " \n",
    "\n",
    "Example 1:\n",
    "<img src = 'https://assets.leetcode.com/uploads/2021/12/03/eg1drawio.png'>\n",
    "\n",
    "Input: head = [5,4,2,1]\n",
    "Output: 6\n",
    "Explanation:\n",
    "Nodes 0 and 1 are the twins of nodes 3 and 2, respectively. All have twin sum = 6.\n",
    "There are no other nodes with twins in the linked list.\n",
    "Thus, the maximum twin sum of the linked list is 6. \n",
    "\n",
    "Example 2:\n",
    "<img src = 'https://assets.leetcode.com/uploads/2021/12/03/eg2drawio.png'>\n",
    "Input: head = [4,2,2,3]\n",
    "Output: 7\n",
    "Explanation:\n",
    "The nodes with twins present in this linked list are:\n",
    "- Node 0 is the twin of node 3 having a twin sum of 4 + 3 = 7.\n",
    "- Node 1 is the twin of node 2 having a twin sum of 2 + 2 = 4.\n",
    "Thus, the maximum twin sum of the linked list is max(7, 4) = 7. \n",
    "\n",
    "Example 3:\n",
    "<img src = 'https://assets.leetcode.com/uploads/2021/12/03/eg3drawio.png'>\n",
    "\n",
    "Input: head = [1,100000]\n",
    "Output: 100001\n",
    "Explanation:\n",
    "There is only one node with a twin in the linked list having twin sum of 1 + 100000 = 100001.\n",
    "\n",
    " \n",
    "\n",
    "Constraints:\n",
    "\n",
    "    The number of nodes in the list is an even integer in the range [2, 105].\n",
    "    1 <= Node.val <= 105\n",
    "\n"
   ]
  },
  {
   "cell_type": "code",
   "execution_count": null,
   "id": "d36cefb9",
   "metadata": {},
   "outputs": [],
   "source": [
    "# Definition for singly-linked list.\n",
    "# class ListNode:\n",
    "#     def __init__(self, val=0, next=None):\n",
    "#         self.val = val\n",
    "#         self.next = next\n",
    "class Solution:\n",
    "    def pairSum(self, head: Optional[ListNode]) -> int:\n",
    "        slow = fast = head\n",
    "        vals = []\n",
    "        mxs = 0\n",
    "        while slow and fast:\n",
    "            vals.append(slow.val)\n",
    "            slow = slow.next\n",
    "            fast = fast.next.next\n",
    "        print(vals)\n",
    "        while slow:\n",
    "            el = vals.pop()\n",
    "            print(el)\n",
    "            if mxs < (el + slow.val):\n",
    "                mxs = el + slow.val\n",
    "            slow = slow.next\n",
    "        return mxs\n"
   ]
  },
  {
   "cell_type": "markdown",
   "id": "b09e53cf",
   "metadata": {},
   "source": [
    "Runtime 1080 ms \n",
    "Beats  \n",
    "8.34%  \n",
    "Memory 58.3 MB  \n",
    "Beats  \n",
    "5.99%  "
   ]
  }
 ],
 "metadata": {
  "kernelspec": {
   "display_name": "Python 3 (ipykernel)",
   "language": "python",
   "name": "python3"
  },
  "language_info": {
   "codemirror_mode": {
    "name": "ipython",
    "version": 3
   },
   "file_extension": ".py",
   "mimetype": "text/x-python",
   "name": "python",
   "nbconvert_exporter": "python",
   "pygments_lexer": "ipython3",
   "version": "3.8.13"
  }
 },
 "nbformat": 4,
 "nbformat_minor": 5
}
