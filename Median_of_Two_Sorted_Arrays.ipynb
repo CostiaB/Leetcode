{
 "cells": [
  {
   "cell_type": "markdown",
   "id": "c52df28e",
   "metadata": {},
   "source": [
    "## 4. Median of Two Sorted Arrays\n",
    "Hard\n",
    "\n",
    "Given two sorted arrays nums1 and nums2 of size m and n respectively, return the median of the two sorted arrays.\n",
    "\n",
    "The overall run time complexity should be O(log (m+n)).\n",
    "\n",
    " \n",
    "\n",
    "Example 1:\n",
    "\n",
    "Input: nums1 = [1,3], nums2 = [2]  \n",
    "Output: 2.00000  \n",
    "Explanation: merged array = [1,2,3] and median is 2.  \n",
    "\n",
    "Example 2:  \n",
    "\n",
    "Input: nums1 = [1,2], nums2 = [3,4]  \n",
    "Output: 2.50000  \n",
    "Explanation: merged array = [1,2,3,4] and median is (2 + 3) / 2 = 2.5.  \n",
    "\n",
    " \n",
    "\n",
    "Constraints:\n",
    "\n",
    "    nums1.length == m\n",
    "    nums2.length == n\n",
    "    0 <= m <= 1000\n",
    "    0 <= n <= 1000\n",
    "    1 <= m + n <= 2000\n",
    "    -106 <= nums1[i], nums2[i] <= 106\n",
    "\n"
   ]
  },
  {
   "cell_type": "code",
   "execution_count": 1,
   "id": "7b54fc6d",
   "metadata": {},
   "outputs": [],
   "source": [
    "class Solution:\n",
    "    def findMedianSortedArrays(self, nums1: list, nums2: list) -> float:\n",
    "        total = sorted(nums1 + nums2)\n",
    "        mid = len(total) // 2\n",
    "        \n",
    "        if len(total) % 2:\n",
    "            return total[mid]\n",
    "        \n",
    "        return (total[mid-1] + total[mid]) / 2.0"
   ]
  },
  {
   "cell_type": "code",
   "execution_count": 2,
   "id": "71813a57",
   "metadata": {},
   "outputs": [
    {
     "data": {
      "text/plain": [
       "2.5"
      ]
     },
     "execution_count": 2,
     "metadata": {},
     "output_type": "execute_result"
    }
   ],
   "source": [
    "Solution().findMedianSortedArrays(nums1 = [1,2], nums2 = [3,4] )"
   ]
  },
  {
   "cell_type": "markdown",
   "id": "408dc78c",
   "metadata": {},
   "source": [
    "Runtime: 197 ms, faster than 56.93% of Python3 online submissions for Median of Two Sorted Arrays.  \n",
    "Memory Usage: 14.1 MB, less than 67.67% of Python3 online submissions for Median of Two Sorted Arrays."
   ]
  },
  {
   "cell_type": "code",
   "execution_count": null,
   "id": "78cc6d5a",
   "metadata": {},
   "outputs": [],
   "source": [
    "class Solution:\n",
    "    def findMedianSortedArrays(self, nums1: List[int], nums2: List[int]) -> float:\n",
    "        if len(nums2) < len(nums1): nums1, nums2 = nums2, nums1\n",
    "        m, n = len(nums1), len(nums2)  # length of array\n",
    "        \n",
    "        left, right = 0, m-1\n",
    "        while True:\n",
    "            pointer1 = left + (right-left) // 2\n",
    "            pointer2 = (m+n)//2 - pointer1 - 2\n",
    "            \n",
    "            left1 = nums1[pointer1] if pointer1 in range(m) else -math.inf\n",
    "            left2 = nums2[pointer2] if pointer2 in range(n) else -math.inf\n",
    "            right1 = nums1[pointer1+1] if pointer1+1 in range(m) else math.inf\n",
    "            right2 = nums2[pointer2+1] if pointer2+1 in range(n) else math.inf\n",
    "            \n",
    "            if left1 <= right2 and left2 <= right1:\n",
    "                if (m+n) % 2 == 0: return (max(left1, left2) + min(right1, right2)) / 2\n",
    "                else: return min(right1, right2)\n",
    "                \n",
    "            elif left1 > right2: right = pointer1 - 1\n",
    "            else: left = pointer1 + 1"
   ]
  },
  {
   "cell_type": "markdown",
   "id": "be762678",
   "metadata": {},
   "source": [
    "Runtime: 215 ms, faster than 39.54% of Python3 online submissions for Median of Two Sorted Arrays.  \n",
    "Memory Usage: 14.3 MB, less than 24.64% of Python3 online submissions for Median of Two Sorted Arrays."
   ]
  },
  {
   "cell_type": "code",
   "execution_count": null,
   "id": "328c7d41",
   "metadata": {},
   "outputs": [],
   "source": []
  }
 ],
 "metadata": {
  "kernelspec": {
   "display_name": "Python 3 (ipykernel)",
   "language": "python",
   "name": "python3"
  },
  "language_info": {
   "codemirror_mode": {
    "name": "ipython",
    "version": 3
   },
   "file_extension": ".py",
   "mimetype": "text/x-python",
   "name": "python",
   "nbconvert_exporter": "python",
   "pygments_lexer": "ipython3",
   "version": "3.8.13"
  }
 },
 "nbformat": 4,
 "nbformat_minor": 5
}
