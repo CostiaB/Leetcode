{
 "cells": [
  {
   "cell_type": "markdown",
   "id": "e624b909",
   "metadata": {},
   "source": [
    "# 168. Excel Sheet Column Title\n",
    "Easy\n",
    "\n",
    "Given an integer columnNumber, return its corresponding column title as it appears in an Excel sheet.\n",
    "\n",
    "For example:\n",
    "\n",
    "A -> 1  \n",
    "B -> 2  \n",
    "C -> 3  \n",
    "...  \n",
    "Z -> 26  \n",
    "AA -> 27  \n",
    "AB -> 28   \n",
    "...\n",
    "\n",
    " \n",
    "\n",
    "Example 1:  \n",
    "\n",
    "Input: columnNumber = 1  \n",
    "Output: \"A\"  \n",
    "\n",
    "Example 2:  \n",
    "\n",
    "Input: columnNumber = 28  \n",
    "Output: \"AB\"  \n",
    "\n",
    "Example 3:\n",
    "\n",
    "Input: columnNumber = 701  \n",
    "Output: \"ZY\"\n",
    "\n",
    " \n",
    "\n",
    "Constraints:\n",
    "\n",
    "    1 <= columnNumber <= 231 - 1\n",
    "\n"
   ]
  },
  {
   "cell_type": "code",
   "execution_count": null,
   "id": "fda36aeb",
   "metadata": {},
   "outputs": [],
   "source": [
    "class Solution:\n",
    "    def convertToTitle(self, columnNumber: int) -> str:\n",
    "        ans = ''\n",
    "        while columnNumber:\n",
    "            columnNumber -= 1\n",
    "            ch = columnNumber % 26\n",
    "            ans += chr(ch + ord('A'))\n",
    "            columnNumber =  columnNumber // 26\n",
    "        return ans[::-1]\n"
   ]
  },
  {
   "cell_type": "markdown",
   "id": "102f4665",
   "metadata": {},
   "source": [
    "Runtime  34ms Beats 77.82%  \n",
    "Memory 16.11MB  Beats 69.12%"
   ]
  }
 ],
 "metadata": {
  "kernelspec": {
   "display_name": "Python 3 (ipykernel)",
   "language": "python",
   "name": "python3"
  },
  "language_info": {
   "codemirror_mode": {
    "name": "ipython",
    "version": 3
   },
   "file_extension": ".py",
   "mimetype": "text/x-python",
   "name": "python",
   "nbconvert_exporter": "python",
   "pygments_lexer": "ipython3",
   "version": "3.10.12"
  }
 },
 "nbformat": 4,
 "nbformat_minor": 5
}
