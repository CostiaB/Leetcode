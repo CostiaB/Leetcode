{
 "cells": [
  {
   "cell_type": "markdown",
   "id": "d4288929",
   "metadata": {},
   "source": [
    "## 42. Trapping Rain Water\n",
    "Hard\n",
    "\n",
    "Given n non-negative integers representing an elevation map where the width of each bar is 1, compute how much water it can trap after raining.\n",
    "\n",
    " \n",
    "\n",
    "Example 1:\n",
    "<img src = 'https://assets.leetcode.com/uploads/2018/10/22/rainwatertrap.png'>\n",
    "\n",
    "Input: height = [0,1,0,2,1,0,1,3,2,1,2,1]  \n",
    "Output: 6  \n",
    "Explanation: The above elevation map (black section) is represented by array [0,1,0,2,1,0,1,3,2,1,2,1]. In this case, 6 units of rain water (blue section) are being trapped.\n",
    "\n",
    "Example 2:\n",
    "\n",
    "Input: height = [4,2,0,3,2,5]  \n",
    "Output: 9  \n",
    "\n",
    " \n",
    "\n",
    "Constraints:\n",
    "\n",
    "    n == height.length\n",
    "    1 <= n <= 2 * 104\n",
    "    0 <= height[i] <= 105\n",
    "\n"
   ]
  },
  {
   "cell_type": "code",
   "execution_count": null,
   "id": "5e2a2638",
   "metadata": {},
   "outputs": [],
   "source": [
    "class Solution:\n",
    "    def trap(self, height: List[int]) -> int:\n",
    "        h_len = len(height)\n",
    "        biggest_left = [height[0]] * h_len\n",
    "        biggest_right = [height[-1]] * h_len\n",
    "        #print(biggest_left, biggest_right)\n",
    "        for i in range(1, h_len):\n",
    "            biggest_left[i] = max(biggest_left[i-1], height[i])\n",
    "            biggest_right[-i-1] = max(biggest_right[-i], height[-i-1])\n",
    "            #print(biggest_left, biggest_right)\n",
    "        \n",
    "        return sum(min(biggest_left[i], biggest_right[i]) - height[i] for i in range(h_len))"
   ]
  },
  {
   "cell_type": "code",
   "execution_count": null,
   "id": "ba1cf142",
   "metadata": {},
   "outputs": [],
   "source": []
  },
  {
   "cell_type": "markdown",
   "id": "6884363e",
   "metadata": {},
   "source": [
    "Runtime: 161 ms, faster than 82.40% of Python3 online submissions for Trapping Rain Water.  \n",
    "Memory Usage: 16.2 MB, less than 20.36% of Python3 online submissions for Trapping Rain Water."
   ]
  }
 ],
 "metadata": {
  "kernelspec": {
   "display_name": "Python 3 (ipykernel)",
   "language": "python",
   "name": "python3"
  },
  "language_info": {
   "codemirror_mode": {
    "name": "ipython",
    "version": 3
   },
   "file_extension": ".py",
   "mimetype": "text/x-python",
   "name": "python",
   "nbconvert_exporter": "python",
   "pygments_lexer": "ipython3",
   "version": "3.8.13"
  }
 },
 "nbformat": 4,
 "nbformat_minor": 5
}
