{
 "cells": [
  {
   "attachments": {},
   "cell_type": "markdown",
   "id": "67a1321a",
   "metadata": {},
   "source": [
    "## 54. Spiral Matrix\n",
    "Medium\n",
    "\n",
    "Given an m x n matrix, return all elements of the matrix in spiral order.\n",
    "\n",
    " \n",
    "\n",
    "Example 1:\n",
    "<img src = 'https://assets.leetcode.com/uploads/2020/11/13/spiral1.jpg'>\n",
    "Input: matrix = [[1,2,3],[4,5,6],[7,8,9]]\n",
    "Output: [1,2,3,6,9,8,7,4,5]\n",
    "\n",
    "Example 2:\n",
    "<img src = 'https://assets.leetcode.com/uploads/2020/11/13/spiral.jpg'>\n",
    "Input: matrix = [[1,2,3,4],[5,6,7,8],[9,10,11,12]]\n",
    "Output: [1,2,3,4,8,12,11,10,9,5,6,7]\n",
    "\n",
    " \n",
    "\n",
    "Constraints:\n",
    "\n",
    "    m == matrix.length\n",
    "    n == matrix[i].length\n",
    "    1 <= m, n <= 10\n",
    "    -100 <= matrix[i][j] <= 100\n",
    "\n"
   ]
  },
  {
   "cell_type": "code",
   "execution_count": 4,
   "id": "2e075ac1",
   "metadata": {},
   "outputs": [],
   "source": [
    "class Solution:\n",
    "    def spiralOrder(self, matrix: list) -> list:\n",
    "        v_start , v_end = 0 ,  (len(matrix))\n",
    "        h_start, h_end = 0, (len(matrix[0]))\n",
    "        if h_end == 0:\n",
    "            return [t[0] for t in matrix]\n",
    "        if v_end == 0:\n",
    "            return matrix[0]\n",
    "        ans = []\n",
    "        while v_start < v_end and h_start < h_end:\n",
    "            for i in range(h_start, h_end):\n",
    "                ans.append(matrix[v_start][i])\n",
    "            v_start += 1\n",
    "            for i in range(v_start, v_end):\n",
    "                ans.append(matrix[i][h_end - 1])\n",
    "            h_end  -= 1\n",
    "            if not (h_start < h_end and v_start < v_end):\n",
    "                break\n",
    "            for i in range(h_end - 1, h_start - 1, -1):\n",
    "                ans.append(matrix[v_end-1][i])\n",
    "            v_end -= 1\n",
    "            for i in range(v_end-1, v_start-1, -1):\n",
    "                ans.append(matrix[i][h_start])\n",
    "            h_start += 1\n",
    "            \n",
    "        return ans"
   ]
  },
  {
   "cell_type": "code",
   "execution_count": 5,
   "id": "1be93efb",
   "metadata": {},
   "outputs": [
    {
     "data": {
      "text/plain": [
       "[1, 2, 3, 4, 8, 12, 11, 10, 9, 5, 6, 7]"
      ]
     },
     "execution_count": 5,
     "metadata": {},
     "output_type": "execute_result"
    }
   ],
   "source": [
    "Solution().spiralOrder([[1,2,3,4],[5,6,7,8],[9,10,11,12]])"
   ]
  },
  {
   "cell_type": "code",
   "execution_count": 6,
   "id": "de46033a",
   "metadata": {},
   "outputs": [
    {
     "data": {
      "text/plain": [
       "[1, 2, 3, 6, 9, 8, 7, 4, 5]"
      ]
     },
     "execution_count": 6,
     "metadata": {},
     "output_type": "execute_result"
    }
   ],
   "source": [
    "Solution().spiralOrder([[1,2,3],[4,5,6],[7,8,9]])"
   ]
  },
  {
   "cell_type": "markdown",
   "id": "d3aea008",
   "metadata": {},
   "source": [
    "Runtime: 30 ms, faster than 95.47% of Python3 online submissions for Spiral Matrix.  \n",
    "Memory Usage: 13.9 MB, less than 83.39% of Python3 online submissions for Spiral Matrix."
   ]
  }
 ],
 "metadata": {
  "kernelspec": {
   "display_name": "Python 3 (ipykernel)",
   "language": "python",
   "name": "python3"
  },
  "language_info": {
   "codemirror_mode": {
    "name": "ipython",
    "version": 3
   },
   "file_extension": ".py",
   "mimetype": "text/x-python",
   "name": "python",
   "nbconvert_exporter": "python",
   "pygments_lexer": "ipython3",
   "version": "3.7.13"
  }
 },
 "nbformat": 4,
 "nbformat_minor": 5
}
