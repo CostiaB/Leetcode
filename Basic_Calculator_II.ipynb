{
 "cells": [
  {
   "cell_type": "markdown",
   "id": "8b751863",
   "metadata": {},
   "source": [
    "## 227. Basic Calculator II\n",
    "Medium\n",
    "\n",
    "Given a string s which represents an expression, evaluate this expression and return its value. \n",
    "\n",
    "The integer division should truncate toward zero.\n",
    "\n",
    "You may assume that the given expression is always valid. All intermediate results will be in the range of [-231, 231 - 1].\n",
    "\n",
    "Note: You are not allowed to use any built-in function which evaluates strings as mathematical expressions, such as eval().\n",
    "\n",
    " \n",
    "\n",
    "Example 1:\n",
    "\n",
    "Input: s = \"3+2*2\"\n",
    "Output: 7\n",
    "\n",
    "Example 2:\n",
    "\n",
    "Input: s = \" 3/2 \"\n",
    "Output: 1\n",
    "\n",
    "Example 3:\n",
    "\n",
    "Input: s = \" 3+5 / 2 \"\n",
    "Output: 5\n",
    "\n",
    " \n",
    "\n",
    "Constraints:\n",
    "\n",
    "    1 <= s.length <= 3 * 105\n",
    "    s consists of integers and operators ('+', '-', '*', '/') separated by some number of spaces.\n",
    "    s represents a valid expression.\n",
    "    All the integers in the expression are non-negative integers in the range [0, 231 - 1].\n",
    "    The answer is guaranteed to fit in a 32-bit integer.\n",
    "\n"
   ]
  },
  {
   "cell_type": "code",
   "execution_count": 2,
   "id": "b1cfccb1",
   "metadata": {},
   "outputs": [],
   "source": [
    "class Solution:\n",
    "    def calculate(self, s: str) -> int:\n",
    "        int_str = '0123456789'\n",
    "        num = 0\n",
    "        expression = []\n",
    "        operator = '+'\n",
    "        for d in range(len(s)):\n",
    "            i = s[d]\n",
    "            if i in int_str:\n",
    "                num = 10*num + int(i)\n",
    "            if i in '+-*/' or d == len(s)-1 :\n",
    "                if operator == '+':\n",
    "                    expression.append(num)\n",
    "                if operator == '-':\n",
    "                    expression.append(-num)\n",
    "                if operator == '*':\n",
    "                    expression.append(expression.pop()*num)\n",
    "                if  operator == '/':\n",
    "                    expression.append(int(expression.pop()/num))\n",
    "                operator  = i\n",
    "                num = 0\n",
    "            \n",
    "        return sum(expression)"
   ]
  },
  {
   "cell_type": "code",
   "execution_count": 3,
   "id": "0ef09498",
   "metadata": {},
   "outputs": [
    {
     "data": {
      "text/plain": [
       "5"
      ]
     },
     "execution_count": 3,
     "metadata": {},
     "output_type": "execute_result"
    }
   ],
   "source": [
    "Solution().calculate(\"3+2*2-7/3\")"
   ]
  },
  {
   "cell_type": "markdown",
   "id": "a5f71c7c",
   "metadata": {},
   "source": [
    "Runtime: 92 ms, faster than 89.43% of Python3 online submissions for Basic Calculator II.    \n",
    "Memory Usage: 15.6 MB, less than 71.77% of Python3 online submissions for Basic Calculator II."
   ]
  }
 ],
 "metadata": {
  "kernelspec": {
   "display_name": "Python 3 (ipykernel)",
   "language": "python",
   "name": "python3"
  },
  "language_info": {
   "codemirror_mode": {
    "name": "ipython",
    "version": 3
   },
   "file_extension": ".py",
   "mimetype": "text/x-python",
   "name": "python",
   "nbconvert_exporter": "python",
   "pygments_lexer": "ipython3",
   "version": "3.8.11"
  }
 },
 "nbformat": 4,
 "nbformat_minor": 5
}
