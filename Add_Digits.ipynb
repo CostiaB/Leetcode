{
 "cells": [
  {
   "cell_type": "markdown",
   "id": "e8ce09d6",
   "metadata": {},
   "source": [
    "## 258. Add Digits\n",
    "Easy\n",
    "3.4K\n",
    "1.8K\n",
    "Companies\n",
    "\n",
    "Given an integer num, repeatedly add all its digits until the result has only one digit, and return it.\n",
    "\n",
    " \n",
    "\n",
    "Example 1:  \n",
    "\n",
    "Input: num = 38  \n",
    "Output: 2  \n",
    "Explanation: The process is  \n",
    "38 --> 3 + 8 --> 11  \n",
    "11 --> 1 + 1 --> 2   \n",
    "Since 2 has only one digit, return it.  \n",
    "\n",
    "Example 2:  \n",
    "\n",
    "Input: num = 0  \n",
    "Output: 0  \n",
    "\n",
    " \n",
    "\n",
    "Constraints:\n",
    "\n",
    "    0 <= num <= 231 - 1  \n",
    "\n",
    " \n",
    "\n",
    "Follow up: Could you do it without any loop/recursion in O(1) runtime?\n"
   ]
  },
  {
   "cell_type": "code",
   "execution_count": null,
   "id": "d831c5e2",
   "metadata": {},
   "outputs": [],
   "source": [
    "class Solution:\n",
    "    def addDigits(self, num: int) -> int:\n",
    "        while len(str(num))>1:\n",
    "            num = sum([int(i) for i in str(num)])\n",
    "        return num"
   ]
  },
  {
   "cell_type": "markdown",
   "id": "79701a69",
   "metadata": {},
   "source": [
    "Runtime 28 ms  \n",
    "Beats  \n",
    "89.72%  \n",
    "Memory 13.9 MB  \n",
    "Beats  \n",
    "39.79%  "
   ]
  },
  {
   "cell_type": "code",
   "execution_count": null,
   "id": "55669fee",
   "metadata": {},
   "outputs": [],
   "source": [
    "class Solution:\n",
    "    def addDigits(self, num: int) -> int:\n",
    "        if num % 9 == 0 and num != 0:\n",
    "            return 9\n",
    "        else:\n",
    "            return num % 9 "
   ]
  },
  {
   "cell_type": "markdown",
   "id": "e6ceefe2",
   "metadata": {},
   "source": [
    "Runtime 23 ms  \n",
    "Beats  \n",
    "98.73%  \n",
    "Memory 13.8 MB  \n",
    "Beats  \n",
    "39.79%  "
   ]
  }
 ],
 "metadata": {
  "kernelspec": {
   "display_name": "Python 3 (ipykernel)",
   "language": "python",
   "name": "python3"
  },
  "language_info": {
   "codemirror_mode": {
    "name": "ipython",
    "version": 3
   },
   "file_extension": ".py",
   "mimetype": "text/x-python",
   "name": "python",
   "nbconvert_exporter": "python",
   "pygments_lexer": "ipython3",
   "version": "3.8.13"
  }
 },
 "nbformat": 4,
 "nbformat_minor": 5
}
