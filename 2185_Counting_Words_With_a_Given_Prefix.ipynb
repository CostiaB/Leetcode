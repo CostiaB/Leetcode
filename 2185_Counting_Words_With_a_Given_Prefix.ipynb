{
 "cells": [
  {
   "cell_type": "markdown",
   "id": "c2b9dc1e",
   "metadata": {},
   "source": [
    "# 2185. Counting Words With a Given Prefix\n",
    "Easy\n",
    "\n",
    "\n",
    "You are given an array of strings words and a string pref.\n",
    "\n",
    "Return the number of strings in words that contain pref as a prefix.\n",
    "\n",
    "A prefix of a string s is any leading contiguous substring of s.\n",
    "\n",
    " \n",
    "\n",
    "Example 1:\n",
    "  \n",
    "Input: words = [\"pay\",\"attention\",\"practice\",\"attend\"], pref = \"at\"  \n",
    "Output: 2  \n",
    "Explanation: The 2 strings that contain \"at\" as a prefix are: \"attention\" and \"attend\".  \n",
    "\n",
    "Example 2:  \n",
    "    \n",
    "Input: words = [\"leetcode\",\"win\",\"loops\",\"success\"], pref = \"code\"  \n",
    "Output: 0  \n",
    "Explanation: There are no strings that contain \"code\" as a prefix.  \n",
    "\n",
    " \n",
    "\n",
    "Constraints:\n",
    "\n",
    "    1 <= words.length <= 100\n",
    "    1 <= words[i].length, pref.length <= 100\n",
    "    words[i] and pref consist of lowercase English letters.\n",
    "\n"
   ]
  },
  {
   "cell_type": "code",
   "execution_count": null,
   "id": "2f88097c",
   "metadata": {},
   "outputs": [],
   "source": [
    "class Solution:\n",
    "    def prefixCount(self, words: List[str], pref: str) -> int:\n",
    "        cnt = 0\n",
    "        l = (len(pref))\n",
    "        for w in words:\n",
    "            if (len(w) >= l) and (w[:l] == pref):\n",
    "                cnt+=1\n",
    "        return cnt\n"
   ]
  },
  {
   "cell_type": "markdown",
   "id": "7438c9cd",
   "metadata": {},
   "source": [
    "Runtime 35ms Beats 99.44%  \n",
    "Memory 16.42MB Beats 20.83%"
   ]
  },
  {
   "cell_type": "code",
   "execution_count": null,
   "id": "2eb279fd",
   "metadata": {},
   "outputs": [],
   "source": [
    "class Solution:\n",
    "    def prefixCount(self, words: List[str], pref: str) -> int:\n",
    "        cnt = 0\n",
    "        for w in words:\n",
    "            if w.startswith(pref):\n",
    "                cnt+=1\n",
    "        return cnt"
   ]
  },
  {
   "cell_type": "markdown",
   "id": "aad015fd",
   "metadata": {},
   "source": [
    "Runtime 42ms Beats 90.06%  \n",
    "Memory 16.25MB Beats 85.98%"
   ]
  }
 ],
 "metadata": {
  "kernelspec": {
   "display_name": "Python 3 (ipykernel)",
   "language": "python",
   "name": "python3"
  },
  "language_info": {
   "codemirror_mode": {
    "name": "ipython",
    "version": 3
   },
   "file_extension": ".py",
   "mimetype": "text/x-python",
   "name": "python",
   "nbconvert_exporter": "python",
   "pygments_lexer": "ipython3",
   "version": "3.10.12"
  }
 },
 "nbformat": 4,
 "nbformat_minor": 5
}
