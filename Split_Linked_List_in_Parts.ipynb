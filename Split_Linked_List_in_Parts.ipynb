{
 "cells": [
  {
   "cell_type": "markdown",
   "id": "c66cc0ff",
   "metadata": {},
   "source": [
    "# 725. Split Linked List in Parts\n",
    "Medium\n",
    "3.3K\n",
    "275\n",
    "Companies\n",
    "\n",
    "Given the head of a singly linked list and an integer k, split the linked list into k consecutive linked list parts.\n",
    "\n",
    "The length of each part should be as equal as possible: no two parts should have a size differing by more than one. This may lead to some parts being null.\n",
    "\n",
    "The parts should be in the order of occurrence in the input list, and parts occurring earlier should always have a size greater than or equal to parts occurring later.\n",
    "\n",
    "Return an array of the k parts.\n",
    "\n",
    " \n",
    "\n",
    "Example 1:  \n",
    "<img src ='https://assets.leetcode.com/uploads/2021/06/13/split1-lc.jpg'>\n",
    "\n",
    "Input: head = [1,2,3], k = 5  \n",
    "Output: [[1],[2],[3],[],[]]  \n",
    "Explanation:\n",
    "The first element output[0] has output[0].val = 1, output[0].next = null.  \n",
    "The last element output[4] is null, but its string representation as a ListNode is [].  \n",
    "\n",
    "Example 2:  \n",
    "\n",
    "<img src ='https://assets.leetcode.com/uploads/2021/06/13/split2-lc.jpg'>\n",
    "Input: head = [1,2,3,4,5,6,7,8,9,10], k = 3  \n",
    "Output: [[1,2,3,4],[5,6,7],[8,9,10]]  \n",
    "Explanation:  \n",
    "The input has been split into consecutive parts with size difference at most 1, and earlier parts are a larger size than the later parts.\n",
    "\n",
    " \n",
    "\n",
    "Constraints:\n",
    "\n",
    "    The number of nodes in the list is in the range [0, 1000].\n",
    "    0 <= Node.val <= 1000\n",
    "    1 <= k <= 50\n",
    "\n"
   ]
  },
  {
   "cell_type": "code",
   "execution_count": null,
   "id": "ed5810f6",
   "metadata": {},
   "outputs": [],
   "source": [
    "# Definition for singly-linked list.\n",
    "# class ListNode:\n",
    "#     def __init__(self, val=0, next=None):\n",
    "#         self.val = val\n",
    "#         self.next = next\n",
    "class Solution:\n",
    "    def splitListToParts(self, head: Optional[ListNode], k: int) -> List[Optional[ListNode]]:\n",
    "        length = 0\n",
    "        temp = head\n",
    "        #calculate the length of a list\n",
    "        while temp:\n",
    "            length += 1\n",
    "            temp = temp.next\n",
    "        #determine sizes of parts and extra parts\n",
    "        part_size = length // k\n",
    "        extra = length % k\n",
    "\n",
    "        result = []\n",
    "        temp = head\n",
    "\n",
    "        for i in range(k):\n",
    "            result.append(temp)\n",
    "            current_part_size = part_size + 1 if extra > 0 else part_size\n",
    "            extra -= 1\n",
    "            #extend and cut the part of a current size\n",
    "            for j in range(current_part_size - 1):\n",
    "                temp = temp.next\n",
    "            if temp:\n",
    "                temp.next, temp = None, temp.next\n",
    "        return result"
   ]
  },
  {
   "cell_type": "markdown",
   "id": "956afd6e",
   "metadata": {},
   "source": [
    "Runtime  \n",
    "30ms\n",
    "Beats 99.55%of users with Python3  \n",
    "Memory  \n",
    "16.64MB  \n",
    "Beats 83.56%of users with Python3  "
   ]
  }
 ],
 "metadata": {
  "kernelspec": {
   "display_name": "Python 3 (ipykernel)",
   "language": "python",
   "name": "python3"
  },
  "language_info": {
   "codemirror_mode": {
    "name": "ipython",
    "version": 3
   },
   "file_extension": ".py",
   "mimetype": "text/x-python",
   "name": "python",
   "nbconvert_exporter": "python",
   "pygments_lexer": "ipython3",
   "version": "3.10.12"
  }
 },
 "nbformat": 4,
 "nbformat_minor": 5
}
