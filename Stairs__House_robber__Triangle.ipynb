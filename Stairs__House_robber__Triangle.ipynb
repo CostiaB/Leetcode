{
 "cells": [
  {
   "cell_type": "markdown",
   "id": "eec3668c",
   "metadata": {},
   "source": [
    "## 70. Climbing Stairs\n",
    "Easy\n",
    "\n",
    "You are climbing a staircase. It takes n steps to reach the top.\n",
    "\n",
    "Each time you can either climb 1 or 2 steps. In how many distinct ways can you climb to the top?\n",
    "\n",
    " \n",
    "\n",
    "Example 1:\n",
    "\n",
    "Input: n = 2\n",
    "Output: 2\n",
    "Explanation: There are two ways to climb to the top.\n",
    "1. 1 step + 1 step\n",
    "2. 2 steps\n",
    "\n",
    "Example 2:\n",
    "\n",
    "Input: n = 3\n",
    "Output: 3\n",
    "Explanation: There are three ways to climb to the top.\n",
    "1. 1 step + 1 step + 1 step\n",
    "2. 1 step + 2 steps\n",
    "3. 2 steps + 1 step\n",
    "\n",
    " \n",
    "\n",
    "Constraints:\n",
    "\n",
    "    1 <= n <= 45\n",
    "\n"
   ]
  },
  {
   "cell_type": "code",
   "execution_count": 23,
   "id": "81cc28ef",
   "metadata": {},
   "outputs": [],
   "source": [
    "class Solution:\n",
    "    def climbStairs(self, n: int) -> int:\n",
    "        if n==1:\n",
    "            return 1\n",
    "        if n==2:\n",
    "            return 2\n",
    "        arr = [[]] * (n)\n",
    "        arr[0] = 1 \n",
    "        arr[1] = 2\n",
    "        for i in range(2,n):\n",
    "            arr[i] = arr[i-1] + arr[i-2]\n",
    "        return arr[n-1]"
   ]
  },
  {
   "cell_type": "code",
   "execution_count": 26,
   "id": "945c093a",
   "metadata": {},
   "outputs": [
    {
     "data": {
      "text/plain": [
       "8"
      ]
     },
     "execution_count": 26,
     "metadata": {},
     "output_type": "execute_result"
    }
   ],
   "source": [
    "Solution().climbStairs(5)"
   ]
  },
  {
   "cell_type": "markdown",
   "id": "6451e6c2",
   "metadata": {},
   "source": [
    "Runtime: 31 ms, faster than 90.71% of Python3 online submissions for Climbing Stairs.\n",
    "Memory Usage: 13.8 MB, less than 56.61% of Python3 online submissions for Climbing Stairs."
   ]
  },
  {
   "cell_type": "markdown",
   "id": "db2eaff9",
   "metadata": {},
   "source": [
    "## 198. House Robber\n",
    "Medium\n",
    "\n",
    "You are a professional robber planning to rob houses along a street. Each house has a certain amount of money stashed, the only constraint stopping you from robbing each of them is that adjacent houses have security systems connected and it will automatically contact the police if two adjacent houses were broken into on the same night.\n",
    "\n",
    "Given an integer array nums representing the amount of money of each house, return the maximum amount of money you can rob tonight without alerting the police.\n",
    "\n",
    " \n",
    "\n",
    "Example 1:\n",
    "\n",
    "Input: nums = [1,2,3,1]\n",
    "Output: 4\n",
    "Explanation: Rob house 1 (money = 1) and then rob house 3 (money = 3).\n",
    "Total amount you can rob = 1 + 3 = 4.\n",
    "\n",
    "Example 2:\n",
    "\n",
    "Input: nums = [2,7,9,3,1]\n",
    "Output: 12\n",
    "Explanation: Rob house 1 (money = 2), rob house 3 (money = 9) and rob house 5 (money = 1).\n",
    "Total amount you can rob = 2 + 9 + 1 = 12.\n",
    "\n",
    " \n",
    "\n",
    "Constraints:\n",
    "\n",
    "    1 <= nums.length <= 100\n",
    "    0 <= nums[i] <= 400\n",
    "\n"
   ]
  },
  {
   "cell_type": "code",
   "execution_count": 48,
   "id": "758de47b",
   "metadata": {},
   "outputs": [],
   "source": [
    "class Solution:\n",
    "    def rob(self, nums: list) -> int:\n",
    "        if len(nums)==1:\n",
    "            return nums[0]\n",
    "        rn = [[]]*(len(nums)+1)\n",
    "        rn[0] = nums[0]\n",
    "        rn[1] = max(nums[0], nums[1])\n",
    "        for i in range(2,len(nums)):\n",
    "            include = nums[i] + rn[i-2]\n",
    "            skip = rn[i-1]\n",
    "            rn[i] = max(include, skip)\n",
    "            \n",
    "        return rn[len(nums)-1]"
   ]
  },
  {
   "cell_type": "code",
   "execution_count": 49,
   "id": "f92eddec",
   "metadata": {},
   "outputs": [
    {
     "data": {
      "text/plain": [
       "12"
      ]
     },
     "execution_count": 49,
     "metadata": {},
     "output_type": "execute_result"
    }
   ],
   "source": [
    "Solution().rob([2,7,9,3,1])"
   ]
  },
  {
   "cell_type": "markdown",
   "id": "9fd1ba4a",
   "metadata": {},
   "source": [
    "Runtime: 34 ms, faster than 88.95% of Python3 online submissions for House Robber.\n",
    "Memory Usage: 14 MB, less than 19.00% of Python3 online submissions for House Robber."
   ]
  },
  {
   "cell_type": "markdown",
   "id": "7d62c529",
   "metadata": {},
   "source": [
    "## 120. Triangle\n",
    "Medium\n",
    "\n",
    "Given a triangle array, return the minimum path sum from top to bottom.\n",
    "\n",
    "For each step, you may move to an adjacent number of the row below. More formally, if you are on index i on the current row, you may move to either index i or index i + 1 on the next row.\n",
    "\n",
    " \n",
    "\n",
    "Example 1:\n",
    "\n",
    "Input: triangle = [[2],[3,4],[6,5,7],[4,1,8,3]]\n",
    "Output: 11\n",
    "Explanation: The triangle looks like:\n",
    "   2\n",
    "  3 4\n",
    " 6 5 7\n",
    "4 1 8 3\n",
    "The minimum path sum from top to bottom is 2 + 3 + 5 + 1 = 11 (underlined above).\n",
    "\n",
    "Example 2:\n",
    "\n",
    "Input: triangle = [[-10]]\n",
    "Output: -10\n",
    "\n",
    " \n",
    "\n",
    "Constraints:\n",
    "\n",
    "    1 <= triangle.length <= 200\n",
    "    triangle[0].length == 1\n",
    "    triangle[i].length == triangle[i - 1].length + 1\n",
    "    -104 <= triangle[i][j] <= 104\n",
    "\n",
    " \n",
    "Follow up: Could you do this using only O(n) extra space, where n is the total number of rows in the triangle?"
   ]
  },
  {
   "cell_type": "code",
   "execution_count": 4,
   "id": "16b3c96c",
   "metadata": {},
   "outputs": [
    {
     "data": {
      "text/plain": [
       "-1"
      ]
     },
     "execution_count": 4,
     "metadata": {},
     "output_type": "execute_result"
    }
   ],
   "source": [
    "Solution().minimumTotal([[-1],[2,3],[1,-1,-3]])"
   ]
  },
  {
   "cell_type": "code",
   "execution_count": 10,
   "id": "6acae4a6",
   "metadata": {},
   "outputs": [],
   "source": [
    "# working\n",
    "class Solution:\n",
    "    def minimumTotal(self, triangle: list) -> int:\n",
    "        dp = [0] * (len(triangle) + 1)\n",
    "        \n",
    "        for row in triangle[::-1]:\n",
    "            for i, n in enumerate(row):\n",
    "                dp[i] = n + min(dp[i], dp[i+1])\n",
    "            \n",
    "        return dp[0]"
   ]
  },
  {
   "cell_type": "code",
   "execution_count": 11,
   "id": "57c16b8c",
   "metadata": {},
   "outputs": [
    {
     "data": {
      "text/plain": [
       "11"
      ]
     },
     "execution_count": 11,
     "metadata": {},
     "output_type": "execute_result"
    }
   ],
   "source": [
    "Solution().minimumTotal([[2],[3,4],[6,5,7],[4,1,8,3]])"
   ]
  }
 ],
 "metadata": {
  "kernelspec": {
   "display_name": "Python 3 (ipykernel)",
   "language": "python",
   "name": "python3"
  },
  "language_info": {
   "codemirror_mode": {
    "name": "ipython",
    "version": 3
   },
   "file_extension": ".py",
   "mimetype": "text/x-python",
   "name": "python",
   "nbconvert_exporter": "python",
   "pygments_lexer": "ipython3",
   "version": "3.7.13"
  }
 },
 "nbformat": 4,
 "nbformat_minor": 5
}
