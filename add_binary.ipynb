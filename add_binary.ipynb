{
 "cells": [
  {
   "cell_type": "markdown",
   "id": "73c1d441",
   "metadata": {},
   "source": [
    "## 67. Add Binary\n",
    "Easy\n",
    "7.4K\n",
    "729\n",
    "Companies\n",
    "\n",
    "Given two binary strings a and b, return their sum as a binary string.\n",
    "\n",
    " \n",
    "\n",
    "Example 1:\n",
    "\n",
    "Input: a = \"11\", b = \"1\"  \n",
    "Output: \"100\"\n",
    "\n",
    "Example 2:\n",
    "\n",
    "Input: a = \"1010\", b = \"1011\"\n",
    "Output: \"10101\"\n",
    "\n",
    " \n",
    "\n",
    "Constraints:\n",
    "\n",
    "    1 <= a.length, b.length <= 104\n",
    "    a and b consist only of '0' or '1' characters.\n",
    "    Each string does not contain leading zeros except for the zero itself.\n",
    "\n"
   ]
  },
  {
   "cell_type": "code",
   "execution_count": null,
   "id": "3e9ae38f",
   "metadata": {},
   "outputs": [],
   "source": [
    "class Solution:\n",
    "    def addBinary(self, a: str, b: str) -> str:\n",
    "        if a == '0' and b == '0':\n",
    "            return \"0\"\n",
    "        a = int(a, 2)\n",
    "        b = int(b, 2)\n",
    "        ans = bin(a + b)\n",
    "        ans = str(ans).lstrip('0b')\n",
    "        return ans"
   ]
  },
  {
   "cell_type": "markdown",
   "id": "0624d003",
   "metadata": {},
   "source": [
    "class Solution:\n",
    "    def addBinary(self, a: str, b: str) -> str:\n",
    "        s = []\n",
    "        carry = 0\n",
    "        i = len(a) - 1\n",
    "        j = len(b) - 1\n",
    "\n",
    "        while i >= 0 or j >= 0 or carry:\n",
    "            if i >= 0:\n",
    "                carry += int(a[i])\n",
    "                i -= 1\n",
    "            if j >= 0:\n",
    "                carry += int(b[j])\n",
    "                j -= 1\n",
    "            s.append(str(carry % 2))\n",
    "            carry //= 2\n",
    "\n",
    "        return ''.join(reversed(s))"
   ]
  },
  {
   "cell_type": "code",
   "execution_count": null,
   "id": "aca58561",
   "metadata": {},
   "outputs": [],
   "source": []
  }
 ],
 "metadata": {
  "kernelspec": {
   "display_name": "Python 3 (ipykernel)",
   "language": "python",
   "name": "python3"
  },
  "language_info": {
   "codemirror_mode": {
    "name": "ipython",
    "version": 3
   },
   "file_extension": ".py",
   "mimetype": "text/x-python",
   "name": "python",
   "nbconvert_exporter": "python",
   "pygments_lexer": "ipython3",
   "version": "3.8.13"
  }
 },
 "nbformat": 4,
 "nbformat_minor": 5
}
