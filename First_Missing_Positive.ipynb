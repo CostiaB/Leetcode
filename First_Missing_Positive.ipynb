{
 "cells": [
  {
   "cell_type": "markdown",
   "id": "6c9340be",
   "metadata": {},
   "source": [
    "## 41. First Missing Positive\n",
    "Hard\n",
    "\n",
    "Given an unsorted integer array nums, return the smallest missing positive integer.\n",
    "\n",
    "You must implement an algorithm that runs in O(n) time and uses constant extra space.\n",
    "\n",
    " \n",
    "\n",
    "Example 1:\n",
    "\n",
    "Input: nums = [1,2,0]  \n",
    "Output: 3  \n",
    "Explanation: The numbers in the range [1,2] are all in the array.  \n",
    "\n",
    "Example 2:\n",
    "\n",
    "Input: nums = [3,4,-1,1]  \n",
    "Output: 2  \n",
    "Explanation: 1 is in the array but 2 is missing.  \n",
    "\n",
    "Example 3:\n",
    "\n",
    "Input: nums = [7,8,9,11,12]  \n",
    "Output: 1  \n",
    "Explanation: The smallest positive integer 1 is missing.  \n",
    "\n",
    " \n",
    "\n",
    "Constraints:\n",
    "\n",
    "    1 <= nums.length <= 105\n",
    "    -231 <= nums[i] <= 231 - 1\n",
    "\n"
   ]
  },
  {
   "cell_type": "code",
   "execution_count": 1,
   "id": "b04d40d0",
   "metadata": {},
   "outputs": [],
   "source": [
    "class Solution:\n",
    "    def firstMissingPositive(self, nums: list) -> int:\n",
    "        s = set(nums)\n",
    "        for d in range(1,len(nums)+2):\n",
    "            if d not in s:\n",
    "                return d\n",
    "        return len(nums)+1"
   ]
  },
  {
   "cell_type": "code",
   "execution_count": 2,
   "id": "08cb1eeb",
   "metadata": {},
   "outputs": [
    {
     "data": {
      "text/plain": [
       "1"
      ]
     },
     "execution_count": 2,
     "metadata": {},
     "output_type": "execute_result"
    }
   ],
   "source": [
    "Solution().firstMissingPositive([7,8,9,11,12])"
   ]
  },
  {
   "cell_type": "markdown",
   "id": "7b6b5f76",
   "metadata": {},
   "source": [
    "Runtime: 264 ms, faster than 97.86% of Python3 online submissions for First Missing Positive.  \n",
    "Memory Usage: 28.7 MB, less than 17.96% of Python3 online submissions for First Missing Positive."
   ]
  }
 ],
 "metadata": {
  "kernelspec": {
   "display_name": "Python 3 (ipykernel)",
   "language": "python",
   "name": "python3"
  },
  "language_info": {
   "codemirror_mode": {
    "name": "ipython",
    "version": 3
   },
   "file_extension": ".py",
   "mimetype": "text/x-python",
   "name": "python",
   "nbconvert_exporter": "python",
   "pygments_lexer": "ipython3",
   "version": "3.8.13"
  }
 },
 "nbformat": 4,
 "nbformat_minor": 5
}
