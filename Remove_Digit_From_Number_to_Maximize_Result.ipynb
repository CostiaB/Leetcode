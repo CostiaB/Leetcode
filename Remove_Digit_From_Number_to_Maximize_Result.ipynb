{
 "cells": [
  {
   "cell_type": "markdown",
   "id": "85d6fb61",
   "metadata": {},
   "source": [
    "2259. Remove Digit From Number to Maximize Result\n",
    "Easy\n",
    "\n",
    "You are given a string number representing a positive integer and a character digit.\n",
    "\n",
    "Return the resulting string after removing exactly one occurrence of digit from number such that the value of the resulting string in decimal form is maximized. The test cases are generated such that digit occurs at least once in number.\n",
    "\n",
    " \n",
    "\n",
    "Example 1:\n",
    "\n",
    "Input: number = \"123\", digit = \"3\"  \n",
    "Output: \"12\"  \n",
    "Explanation: There is only one '3' in \"123\". After removing '3', the result is \"12\".  \n",
    "\n",
    "Example 2:  \n",
    "\n",
    "Input: number = \"1231\", digit = \"1\"  \n",
    "Output: \"231\"  \n",
    "Explanation: We can remove the first '1' to get \"231\" or remove the second '1' to get \"123\".  \n",
    "Since 231 > 123, we return \"231\".  \n",
    "\n",
    "Example 3:  \n",
    "\n",
    "Input: number = \"551\", digit = \"5\"  \n",
    "Output: \"51\"  \n",
    "Explanation: We can remove either the first or second '5' from \"551\".  \n",
    "Both result in the string \"51\".  \n",
    "\n",
    " \n",
    "\n",
    "Constraints:\n",
    "\n",
    "    2 <= number.length <= 100\n",
    "    number consists of digits from '1' to '9'.\n",
    "    digit is a digit from '1' to '9'.\n",
    "    digit occurs at least once in number.\n",
    "\n"
   ]
  },
  {
   "cell_type": "code",
   "execution_count": null,
   "id": "d8b25e42",
   "metadata": {},
   "outputs": [],
   "source": [
    "class Solution:\n",
    "    def removeDigit(self, number: str, digit: str) -> str:\n",
    "        output = []\n",
    "        for i in range(len(number)):\n",
    "            if number[i] == digit:\n",
    "                output.append(number[:i]+number[i+1:])\n",
    "        return max(output)"
   ]
  },
  {
   "cell_type": "markdown",
   "id": "7b91f94f",
   "metadata": {},
   "source": [
    "    Runtime 31ms Beats 93.78%  \n",
    "    Memory 17.30MB Beats 19.45%"
   ]
  }
 ],
 "metadata": {
  "kernelspec": {
   "display_name": "Python 3 (ipykernel)",
   "language": "python",
   "name": "python3"
  },
  "language_info": {
   "codemirror_mode": {
    "name": "ipython",
    "version": 3
   },
   "file_extension": ".py",
   "mimetype": "text/x-python",
   "name": "python",
   "nbconvert_exporter": "python",
   "pygments_lexer": "ipython3",
   "version": "3.10.12"
  }
 },
 "nbformat": 4,
 "nbformat_minor": 5
}
