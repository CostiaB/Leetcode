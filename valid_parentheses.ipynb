{
 "cells": [
  {
   "cell_type": "markdown",
   "id": "8aa95794",
   "metadata": {},
   "source": [
    "## 20. Valid Parentheses  \n",
    "Easy\n",
    "18.2K\n",
    "1K\n",
    "Companies\n",
    "\n",
    "Given a string s containing just the characters '(', ')', '{', '}', '[' and ']', determine if the input string is valid.\n",
    "\n",
    "An input string is valid if:\n",
    "\n",
    "    Open brackets must be closed by the same type of brackets.\n",
    "    Open brackets must be closed in the correct order.\n",
    "    Every close bracket has a corresponding open bracket of the same type.\n",
    "\n",
    " \n",
    "\n",
    "Example 1:  \n",
    "\n",
    "Input: s = \"()\"  \n",
    "Output: true  \n",
    "\n",
    "Example 2:\n",
    "\n",
    "Input: s = \"()[]{}\"  \n",
    "Output: true  \n",
    "\n",
    "Example 3:\n",
    "\n",
    "Input: s = \"(]\"  \n",
    "Output: false  \n"
   ]
  },
  {
   "cell_type": "code",
   "execution_count": null,
   "id": "55c682d7",
   "metadata": {},
   "outputs": [],
   "source": [
    "class Solution:\n",
    "    def isValid(self, s: str) -> bool:\n",
    "\n",
    "        while '()' in s or '{}'  in s or '[]' in s:\n",
    "            s = s.replace('()', '').replace('[]', '').replace('{}', '')\n",
    "        return False if len(s)>0 else True"
   ]
  },
  {
   "cell_type": "markdown",
   "id": "d89595b8",
   "metadata": {},
   "source": [
    "Runtime 49 ms  \n",
    "Beats  \n",
    "16.48%  \n",
    "Memory 14 MB  \n",
    "Beats  \n",
    "17.97%  "
   ]
  }
 ],
 "metadata": {
  "kernelspec": {
   "display_name": "Python 3 (ipykernel)",
   "language": "python",
   "name": "python3"
  },
  "language_info": {
   "codemirror_mode": {
    "name": "ipython",
    "version": 3
   },
   "file_extension": ".py",
   "mimetype": "text/x-python",
   "name": "python",
   "nbconvert_exporter": "python",
   "pygments_lexer": "ipython3",
   "version": "3.8.13"
  }
 },
 "nbformat": 4,
 "nbformat_minor": 5
}
