{
 "cells": [
  {
   "cell_type": "markdown",
   "id": "f7a4b102",
   "metadata": {},
   "source": [
    "# 2309. Greatest English Letter in Upper and Lower Case\n",
    "Easy\n",
    "\n",
    "\n",
    "Given a string of English letters s, return the greatest English letter which occurs as both a lowercase and uppercase letter in s. The returned letter should be in uppercase. If no such letter exists, return an empty string.\n",
    "\n",
    "An English letter b is greater than another letter a if b appears after a in the English alphabet.\n",
    "\n",
    " \n",
    "\n",
    "Example 1:\n",
    "\n",
    "Input: s = \"lEeTcOdE\"  \n",
    "Output: \"E\"  \n",
    "Explanation:  \n",
    "The letter 'E' is the only letter to appear in both lower and upper case.  \n",
    "\n",
    "Example 2:  \n",
    "\n",
    "Input: s = \"arRAzFif\"  \n",
    "Output: \"R\"  \n",
    "Explanation:  \n",
    "The letter 'R' is the greatest letter to appear in both lower and upper case.  \n",
    "Note that 'A' and 'F' also appear in both lower and upper case, but 'R' is greater than 'F' or 'A'.  \n",
    "\n",
    "Example 3:  \n",
    "\n",
    "Input: s = \"AbCdEfGhIjK\"  \n",
    "Output: \"\"  \n",
    "Explanation:  \n",
    "There is no letter that appears in both lower and upper case.  \n",
    " \n",
    " \n",
    "\n",
    "Constraints:\n",
    "\n",
    "    1 <= s.length <= 1000\n",
    "    s consists of lowercase and uppercase English letters.\n",
    "\n"
   ]
  },
  {
   "cell_type": "code",
   "execution_count": null,
   "id": "a705d9d8",
   "metadata": {},
   "outputs": [],
   "source": [
    "class Solution:\n",
    "    def greatestLetter(self, s: str) -> str:\n",
    "        greatest = ''\n",
    "        letters = set(s)\n",
    "        for l in letters:\n",
    "            if l.isupper() and l.lower() in s:\n",
    "                greatest = max(greatest, l)\n",
    "        return greatest"
   ]
  },
  {
   "cell_type": "markdown",
   "id": "1646cffa",
   "metadata": {},
   "source": [
    "    Runtime 27ms Beats 99.82%\n",
    "    Memory 16.33MB Beats 21.44%"
   ]
  }
 ],
 "metadata": {
  "kernelspec": {
   "display_name": "Python 3 (ipykernel)",
   "language": "python",
   "name": "python3"
  },
  "language_info": {
   "codemirror_mode": {
    "name": "ipython",
    "version": 3
   },
   "file_extension": ".py",
   "mimetype": "text/x-python",
   "name": "python",
   "nbconvert_exporter": "python",
   "pygments_lexer": "ipython3",
   "version": "3.10.12"
  }
 },
 "nbformat": 4,
 "nbformat_minor": 5
}
