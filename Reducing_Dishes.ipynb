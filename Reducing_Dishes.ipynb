{
 "cells": [
  {
   "cell_type": "markdown",
   "id": "f14cff43",
   "metadata": {},
   "source": [
    "## 1402. Reducing Dishes\n",
    "Hard\n",
    "2.4K\n",
    "241\n",
    "Companies\n",
    "\n",
    "A chef has collected data on the satisfaction level of his n dishes. Chef can cook any dish in 1 unit of time.\n",
    "\n",
    "Like-time coefficient of a dish is defined as the time taken to cook that dish including previous dishes multiplied by its satisfaction level i.e. time[i] * satisfaction[i].\n",
    "\n",
    "Return the maximum sum of like-time coefficient that the chef can obtain after dishes preparation.\n",
    "\n",
    "Dishes can be prepared in any order and the chef can discard some dishes to get this maximum value.\n",
    "\n",
    " \n",
    "\n",
    "Example 1:\n",
    "  \n",
    "Input: satisfaction = [-1,-8,0,5,-9]  \n",
    "Output: 14  \n",
    "Explanation: After Removing the second and last dish, the maximum total like-time coefficient will be equal to (-1*1 + 0*2 + 5*3 = 14).  \n",
    "Each dish is prepared in one unit of time.  \n",
    "\n",
    "Example 2:  \n",
    "  \n",
    "Input: satisfaction = [4,3,2]  \n",
    "Output: 20  \n",
    "Explanation: Dishes can be prepared in any order, (2*1 + 3*2 + 4*3 = 20)  \n",
    "  \n",
    "Example 3:  \n",
    "  \n",
    "Input: satisfaction = [-1,-4,-5]  \n",
    "Output: 0  \n",
    "Explanation: People do not like the dishes. No dish is prepared.  \n",
    "\n",
    " \n",
    "\n",
    "Constraints:  \n",
    "  \n",
    "    n == satisfaction.length  \n",
    "    1 <= n <= 500  \n",
    "    -1000 <= satisfaction[i] <= 1000  \n",
    "\n"
   ]
  },
  {
   "cell_type": "code",
   "execution_count": null,
   "id": "eabf7e18",
   "metadata": {},
   "outputs": [],
   "source": [
    "class Solution:\n",
    "    def maxSatisfaction(self, satisfaction: List[int]) -> int:\n",
    "        satisfaction.sort(reverse=False)\n",
    "        ltc = 0\n",
    "        while satisfaction:\n",
    "            s = sum([(t+1)*c for t,c in enumerate(satisfaction)])\n",
    "            if s > ltc:\n",
    "                ltc = s\n",
    "            satisfaction = satisfaction[1:]\n",
    "        return ltc"
   ]
  },
  {
   "cell_type": "markdown",
   "id": "a2d6324c",
   "metadata": {},
   "source": [
    "Runtime 134 ms  \n",
    "Beats   \n",
    "36.7%  \n",
    "Memory 13.9 MB  \n",
    "Beats  \n",
    "77.85%  "
   ]
  },
  {
   "cell_type": "code",
   "execution_count": null,
   "id": "3f813877",
   "metadata": {},
   "outputs": [],
   "source": [
    "class Solution:\n",
    "    def maxSatisfaction(self, satisfaction: List[int]) -> int:\n",
    "        satisfaction.sort(reverse=True)\n",
    "\n",
    "        prefSum, res, n = 0, 0, len(satisfaction)\n",
    "        for i in range(n):\n",
    "            prefSum += satisfaction[i]\n",
    "            if prefSum < 0:\n",
    "                break\n",
    "            res += prefSum\n",
    "\n",
    "        return res"
   ]
  },
  {
   "cell_type": "markdown",
   "id": "13f405cd",
   "metadata": {},
   "source": [
    "Runtime 46 ms  \n",
    "Beats  \n",
    "58.23%  \n",
    "Memory 14 MB  \n",
    "Beats  \n",
    "46.84%  "
   ]
  }
 ],
 "metadata": {
  "kernelspec": {
   "display_name": "Python 3 (ipykernel)",
   "language": "python",
   "name": "python3"
  },
  "language_info": {
   "codemirror_mode": {
    "name": "ipython",
    "version": 3
   },
   "file_extension": ".py",
   "mimetype": "text/x-python",
   "name": "python",
   "nbconvert_exporter": "python",
   "pygments_lexer": "ipython3",
   "version": "3.8.13"
  }
 },
 "nbformat": 4,
 "nbformat_minor": 5
}
