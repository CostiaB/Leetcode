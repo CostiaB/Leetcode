{
 "cells": [
  {
   "cell_type": "markdown",
   "id": "606eb743",
   "metadata": {},
   "source": [
    "## Add Two Numbers\n",
    "Medium\n",
    "\n",
    "You are given two non-empty linked lists representing two non-negative integers. The digits are stored in reverse order, and each of their nodes contains a single digit. Add the two numbers and return the sum as a linked list.\n",
    "\n",
    "You may assume the two numbers do not contain any leading zero, except the number 0 itself.\n",
    "\n",
    " \n",
    "\n",
    "Example 1:\n",
    "\n",
    "<img src = \"img\\addtwonumber1.jpg\">\n",
    "\n",
    "Input: l1 = [2,4,3], l2 = [5,6,4]\n",
    "Output: [7,0,8]\n",
    "Explanation: 342 + 465 = 807.\n",
    "\n",
    "Example 2:\n",
    "\n",
    "Input: l1 = [0], l2 = [0]\n",
    "Output: [0]\n",
    "\n",
    "Example 3:\n",
    "\n",
    "Input: l1 = [9,9,9,9,9,9,9], l2 = [9,9,9,9]\n",
    "Output: [8,9,9,9,0,0,0,1]\n",
    "\n",
    " \n",
    "\n",
    "Constraints:\n",
    "\n",
    "    The number of nodes in each linked list is in the range [1, 100].\n",
    "    0 <= Node.val <= 9\n",
    "    It is guaranteed that the list represents a number that does not have leading zeros.\n",
    "\n"
   ]
  },
  {
   "cell_type": "code",
   "execution_count": null,
   "id": "3166a838",
   "metadata": {},
   "outputs": [],
   "source": [
    "# Definition for singly-linked list.\n",
    "# class ListNode:\n",
    "#     def __init__(self, val=0, next=None):\n",
    "#         self.val = val\n",
    "#         self.next = next\n",
    "class Solution:\n",
    "    def addTwoNumbers(self, l1: Optional[ListNode], l2: Optional[ListNode]) -> Optional[ListNode]:\n",
    "        one, two, dummy = l1, l2, ListNode()\n",
    "        ans = dummy\n",
    "        l1 = []\n",
    "        l2 = []\n",
    "        while one:\n",
    "            l1.append(one.val)\n",
    "            one = one.next\n",
    "        while two:\n",
    "            l2.append(two.val)\n",
    "            two = two.next\n",
    "        s1= ''.join(list(map(str,l1[::-1])))\n",
    "        s2= ''.join(list(map(str,l2[::-1])))\n",
    "        total = int(s1)+int(s2)\n",
    "        for val in str(total)[::-1]:\n",
    "            ans.next = ListNode(int(val))\n",
    "            ans = ans.next\n",
    "        return dummy.next"
   ]
  },
  {
   "cell_type": "markdown",
   "id": "1d509b10",
   "metadata": {},
   "source": [
    "Runtime: 80 ms, faster than 70.07% of Python3 online submissions for Add Two Numbers.\n",
    "\n",
    "\n",
    "Memory Usage: 13.9 MB, less than 42.79% of Python3 online submissions for Add Two Numbers."
   ]
  },
  {
   "cell_type": "code",
   "execution_count": null,
   "id": "eeb0924f",
   "metadata": {},
   "outputs": [],
   "source": [
    "# Definition for singly-linked list.\n",
    "# class ListNode:\n",
    "#     def __init__(self, val=0, next=None):\n",
    "#         self.val = val\n",
    "#         self.next = next\n",
    "class Solution:\n",
    "    def addTwoNumbers(self, l1: Optional[ListNode], l2: Optional[ListNode]) -> Optional[ListNode]:\n",
    "        ans =  ListNode()\n",
    "        ans_temp = ans\n",
    "        \n",
    "        carry = 0\n",
    "        while l1 or l2 or carry:\n",
    "            val1 = l1.val if l1 else 0\n",
    "            val2 = l2.val if l2 else 0\n",
    "            \n",
    "            val = val1 + val2 + carry\n",
    "            carry = val // 10\n",
    "            val = val % 10\n",
    "            ans_temp.next = ListNode(val)\n",
    "            \n",
    "            ans_temp = ans_temp.next\n",
    "            l1 = l1.next if l1 else None\n",
    "            l2 = l2.next if l2 else None\n",
    "            \n",
    "        return ans.next"
   ]
  },
  {
   "cell_type": "markdown",
   "id": "944ab230",
   "metadata": {},
   "source": [
    "Runtime: 59 ms, faster than 99.06% of Python3 online submissions for Add Two Numbers.\n",
    "\n",
    "\n",
    "Memory Usage: 14.2 MB, less than 10.01% of Python3 online submissions for Add Two Numbers."
   ]
  },
  {
   "cell_type": "markdown",
   "id": "c8cb19aa",
   "metadata": {},
   "source": [
    "## Remove Duplicates from Sorted List\n",
    "Easy\n",
    "\n",
    "Given the head of a sorted linked list, delete all duplicates such that each element appears only once. Return the linked list sorted as well.\n",
    "\n",
    " \n",
    "\n",
    "Example 1:\n",
    "<img src = \"img\\list1.jpg\">\n",
    "\n",
    "Input: head = [1,1,2]\n",
    "Output: [1,2]\n",
    "\n",
    "Example 2:\n",
    "<img src = \"img\\list2.jpg\">\n",
    "\n",
    "Input: head = [1,1,2,3,3]\n",
    "Output: [1,2,3]\n",
    "\n",
    " \n",
    "\n",
    "Constraints:\n",
    "\n",
    "    The number of nodes in the list is in the range [0, 300].\n",
    "    -100 <= Node.val <= 100\n",
    "    The list is guaranteed to be sorted in ascending order.\n",
    "\n"
   ]
  },
  {
   "cell_type": "code",
   "execution_count": null,
   "id": "4de5df74",
   "metadata": {},
   "outputs": [],
   "source": [
    "# Definition for singly-linked list.\n",
    "# class ListNode:\n",
    "#     def __init__(self, val=0, next=None):\n",
    "#         self.val = val\n",
    "#         self.next = next\n",
    "class Solution:\n",
    "    def deleteDuplicates(self, head: Optional[ListNode]) -> Optional[ListNode]:\n",
    "        ans = head\n",
    "        while head and head.next:\n",
    "            val = head.val\n",
    "            while val == head.next.val:\n",
    "                head.next = head.next.next\n",
    "                if not head.next:\n",
    "                    return ans\n",
    "            head = head.next\n",
    "        return ans"
   ]
  },
  {
   "cell_type": "code",
   "execution_count": null,
   "id": "9a353bec",
   "metadata": {},
   "outputs": [],
   "source": []
  },
  {
   "cell_type": "code",
   "execution_count": null,
   "id": "19559538",
   "metadata": {},
   "outputs": [],
   "source": []
  },
  {
   "cell_type": "code",
   "execution_count": null,
   "id": "9a1dfbbc",
   "metadata": {},
   "outputs": [],
   "source": []
  }
 ],
 "metadata": {
  "kernelspec": {
   "display_name": "Python 3 (ipykernel)",
   "language": "python",
   "name": "python3"
  },
  "language_info": {
   "codemirror_mode": {
    "name": "ipython",
    "version": 3
   },
   "file_extension": ".py",
   "mimetype": "text/x-python",
   "name": "python",
   "nbconvert_exporter": "python",
   "pygments_lexer": "ipython3",
   "version": "3.7.13"
  }
 },
 "nbformat": 4,
 "nbformat_minor": 5
}
