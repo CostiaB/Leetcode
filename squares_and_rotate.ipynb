{
 "cells": [
  {
   "cell_type": "markdown",
   "id": "8cef59fc",
   "metadata": {},
   "source": [
    "# 977. Squares of a Sorted Array\n",
    "Easy\n",
    "\n",
    "Given an integer array nums sorted in non-decreasing order, return an array of the squares of each number sorted in non-decreasing order.\n",
    "\n",
    " \n",
    "\n",
    "Example 1:\n",
    "\n",
    "Input: nums = [-4,-1,0,3,10]\n",
    "Output: [0,1,9,16,100]\n",
    "Explanation: After squaring, the array becomes [16,1,0,9,100].\n",
    "After sorting, it becomes [0,1,9,16,100].\n",
    "\n",
    "Example 2:\n",
    "\n",
    "Input: nums = [-7,-3,2,3,11]\n",
    "Output: [4,9,9,49,121]\n",
    "\n",
    " \n",
    "\n",
    "Constraints:\n",
    "\n",
    "    1 <= nums.length <= 104\n",
    "    -104 <= nums[i] <= 104\n",
    "    nums is sorted in non-decreasing order.\n",
    "\n",
    " \n",
    "Follow up: Squaring each element and sorting the new array is very trivial, could you find an O(n) solution using a different approach?"
   ]
  },
  {
   "cell_type": "code",
   "execution_count": 127,
   "id": "dfc4f925",
   "metadata": {},
   "outputs": [],
   "source": [
    "class Solution:\n",
    "    def sortedSquares(self, nums: list) -> list:\n",
    "        if nums[0] >= 0:\n",
    "            return [n**2 for n in nums]\n",
    "        if nums[-1] < 0:\n",
    "            return [n**2 for n in nums[::-1]]\n",
    "        \n",
    "        ind = nums.index(next(filter(lambda x: x>=0, nums)))\n",
    "        iterator = iter(nums[:ind][::-1])\n",
    "        squares = []\n",
    "        neg_sq = next(iterator)**2\n",
    "              \n",
    "        for num in nums[ind:]:\n",
    "            pos_sq = num**2\n",
    "            if neg_sq and (pos_sq < neg_sq):\n",
    "                \n",
    "                squares.append(pos_sq)\n",
    "                continue\n",
    "            if neg_sq and pos_sq >= neg_sq:\n",
    "                \n",
    "                squares.append(neg_sq)\n",
    "                \n",
    "                while neg_sq and (pos_sq >= neg_sq):\n",
    "                    try:\n",
    "                        neg_sq = next(iterator)**2\n",
    "                        if neg_sq and (pos_sq >= neg_sq):\n",
    "                            squares.append(neg_sq)\n",
    "                        \n",
    "                    except StopIteration:\n",
    "                        neg_sq = False\n",
    "                        \n",
    "            squares.append(pos_sq)\n",
    "        if neg_sq:\n",
    "            squares.append(neg_sq)\n",
    "            while neg_sq:\n",
    "                    try:\n",
    "                        neg_sq = next(iterator)**2\n",
    "                        squares.append(neg_sq)\n",
    "                    except StopIteration:\n",
    "                        neg_sq = False  \n",
    "        return squares"
   ]
  },
  {
   "cell_type": "code",
   "execution_count": 125,
   "id": "f40441b4",
   "metadata": {},
   "outputs": [
    {
     "data": {
      "text/plain": [
       "[0, 0, 25, 49, 99980001, 100000000, 100000000]"
      ]
     },
     "execution_count": 125,
     "metadata": {},
     "output_type": "execute_result"
    }
   ],
   "source": [
    "Solution().sortedSquares( nums = [-10000,-9999,-7,-5,0,0,10000])"
   ]
  },
  {
   "cell_type": "code",
   "execution_count": 128,
   "id": "15b9a452",
   "metadata": {},
   "outputs": [
    {
     "data": {
      "text/plain": [
       "[0, 1, 4]"
      ]
     },
     "execution_count": 128,
     "metadata": {},
     "output_type": "execute_result"
    }
   ],
   "source": [
    "Solution().sortedSquares( nums = [-2,-1,0])"
   ]
  },
  {
   "cell_type": "markdown",
   "id": "a731b996",
   "metadata": {},
   "source": []
  },
  {
   "cell_type": "code",
   "execution_count": null,
   "id": "8525f8af",
   "metadata": {},
   "outputs": [],
   "source": []
  },
  {
   "cell_type": "code",
   "execution_count": null,
   "id": "aa4ea19e",
   "metadata": {},
   "outputs": [],
   "source": []
  }
 ],
 "metadata": {
  "kernelspec": {
   "display_name": "Python 3 (ipykernel)",
   "language": "python",
   "name": "python3"
  },
  "language_info": {
   "codemirror_mode": {
    "name": "ipython",
    "version": 3
   },
   "file_extension": ".py",
   "mimetype": "text/x-python",
   "name": "python",
   "nbconvert_exporter": "python",
   "pygments_lexer": "ipython3",
   "version": "3.7.13"
  }
 },
 "nbformat": 4,
 "nbformat_minor": 5
}
