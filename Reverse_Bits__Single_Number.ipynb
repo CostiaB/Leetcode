{
 "cells": [
  {
   "cell_type": "markdown",
   "id": "a1e4cc73",
   "metadata": {},
   "source": [
    "## 190. Reverse Bits\n",
    "Easy\n",
    "\n",
    "Reverse bits of a given 32 bits unsigned integer.\n",
    "\n",
    "Note:\n",
    "\n",
    "    Note that in some languages, such as Java, there is no unsigned integer type. In this case, both input and output will be given as a signed integer type. They should not affect your implementation, as the integer's internal binary representation is the same, whether it is signed or unsigned.\n",
    "    In Java, the compiler represents the signed integers using 2's complement notation. Therefore, in Example 2 above, the input represents the signed integer -3 and the output represents the signed integer -1073741825.\n",
    "\n",
    " \n",
    "\n",
    "Example 1:\n",
    "\n",
    "Input: n = 00000010100101000001111010011100\n",
    "Output:    964176192 (00111001011110000010100101000000)\n",
    "Explanation: The input binary string 00000010100101000001111010011100 represents the unsigned integer 43261596, so return 964176192 which its binary representation is 00111001011110000010100101000000.\n",
    "\n",
    "Example 2:\n",
    "\n",
    "Input: n = 11111111111111111111111111111101\n",
    "Output:   3221225471 (10111111111111111111111111111111)\n",
    "Explanation: The input binary string 11111111111111111111111111111101 represents the unsigned integer 4294967293, so return 3221225471 which its binary representation is 10111111111111111111111111111111.\n",
    "\n",
    " \n",
    "\n",
    "Constraints:\n",
    "\n",
    "    The input must be a binary string of length 32\n",
    "\n",
    " \n",
    "\n",
    "Follow up: If this function is called many times, how would you optimize it?\n"
   ]
  },
  {
   "cell_type": "code",
   "execution_count": 1,
   "id": "3182638b",
   "metadata": {},
   "outputs": [],
   "source": [
    "class Solution:\n",
    "    def reverseBits(self, n: int) -> int:\n",
    "        return int(bin(n)[2:].zfill(32)[::-1],base = 2)\n",
    "        "
   ]
  },
  {
   "cell_type": "code",
   "execution_count": 2,
   "id": "17876014",
   "metadata": {},
   "outputs": [
    {
     "data": {
      "text/plain": [
       "964176192"
      ]
     },
     "execution_count": 2,
     "metadata": {},
     "output_type": "execute_result"
    }
   ],
   "source": [
    "Solution().reverseBits(43261596)"
   ]
  },
  {
   "cell_type": "markdown",
   "id": "b361d165",
   "metadata": {},
   "source": [
    "Runtime: 51 ms, faster than 45.92% of Python3 online submissions for Reverse Bits.\n",
    "Memory Usage: 13.8 MB, less than 93.64% of Python3 online submissions for Reverse Bits."
   ]
  },
  {
   "cell_type": "code",
   "execution_count": null,
   "id": "1fb634ed",
   "metadata": {},
   "outputs": [],
   "source": [
    "class Solution:\n",
    "      def reverseBits(self, n: int) -> int:\n",
    "        return int('{:032b}'.format(n)[::-1], 2)\n",
    "        "
   ]
  },
  {
   "cell_type": "markdown",
   "id": "7ab99e98",
   "metadata": {},
   "source": [
    "Runtime: 45 ms, faster than 62.59% of Python3 online submissions for Reverse Bits.\n",
    "Memory Usage: 13.8 MB, less than 49.03% of Python3 online submissions for Reverse Bits."
   ]
  },
  {
   "cell_type": "code",
   "execution_count": 21,
   "id": "a8a7f499",
   "metadata": {},
   "outputs": [],
   "source": [
    "class Solution:\n",
    "      def reverseBits(self, n: int) -> int:\n",
    "        ans = 0\n",
    "        for i in range(32):\n",
    "            ans = (ans<<1) | (n>>i)&1         \n",
    "        return ans\n",
    "        "
   ]
  },
  {
   "cell_type": "markdown",
   "id": "f5a49198",
   "metadata": {},
   "source": [
    "Each time we move ans 1 bit left and add to it last symbol of n, moved to i bytes left"
   ]
  },
  {
   "cell_type": "markdown",
   "id": "42c57676",
   "metadata": {},
   "source": [
    "## 136. Single Number\n",
    "Easy\n",
    "\n",
    "Given a non-empty array of integers nums, every element appears twice except for one. Find that single one.\n",
    "\n",
    "You must implement a solution with a linear runtime complexity and use only constant extra space.\n",
    "\n",
    " \n",
    "\n",
    "Example 1:\n",
    "\n",
    "Input: nums = [2,2,1]\n",
    "Output: 1\n",
    "\n",
    "Example 2:\n",
    "\n",
    "Input: nums = [4,1,2,1,2]\n",
    "Output: 4\n",
    "\n",
    "Example 3:\n",
    "\n",
    "Input: nums = [1]\n",
    "Output: 1\n",
    "\n",
    " \n",
    "\n",
    "Constraints:\n",
    "\n",
    "    1 <= nums.length <= 3 * 104\n",
    "    -3 * 104 <= nums[i] <= 3 * 104\n",
    "    Each element in the array appears twice except for one element which appears only once.\n",
    "\n"
   ]
  },
  {
   "cell_type": "code",
   "execution_count": 22,
   "id": "b47073a4",
   "metadata": {},
   "outputs": [],
   "source": [
    "class Solution:\n",
    "    def singleNumber(self, nums: list) -> int:\n",
    "        for i in nums:\n",
    "            if nums.count(i)==1:\n",
    "                return i\n",
    "        "
   ]
  },
  {
   "cell_type": "code",
   "execution_count": 23,
   "id": "5343013f",
   "metadata": {},
   "outputs": [
    {
     "data": {
      "text/plain": [
       "4"
      ]
     },
     "execution_count": 23,
     "metadata": {},
     "output_type": "execute_result"
    }
   ],
   "source": [
    "Solution().singleNumber([4,1,2,1,2])"
   ]
  },
  {
   "cell_type": "code",
   "execution_count": 32,
   "id": "21c281f9",
   "metadata": {},
   "outputs": [],
   "source": [
    "class Solution:\n",
    "    def singleNumber(self, nums: list) -> int:\n",
    "        number = 0\n",
    "        '''\n",
    "         we can XOR every num - nums that appear twice cancel out each other\n",
    "         we will be left with single number\n",
    "         XOR of same number results in 0\n",
    "         XOR of number with 0 results in number\n",
    "        '''\n",
    "        for num in nums:\n",
    "            number ^= num\n",
    "        \n",
    "        return number\n",
    "         \n",
    "         "
   ]
  },
  {
   "cell_type": "code",
   "execution_count": 33,
   "id": "c4cd2a43",
   "metadata": {},
   "outputs": [
    {
     "data": {
      "text/plain": [
       "4"
      ]
     },
     "execution_count": 33,
     "metadata": {},
     "output_type": "execute_result"
    }
   ],
   "source": [
    "Solution().singleNumber([4,1,2,1,2])"
   ]
  }
 ],
 "metadata": {
  "kernelspec": {
   "display_name": "Python 3 (ipykernel)",
   "language": "python",
   "name": "python3"
  },
  "language_info": {
   "codemirror_mode": {
    "name": "ipython",
    "version": 3
   },
   "file_extension": ".py",
   "mimetype": "text/x-python",
   "name": "python",
   "nbconvert_exporter": "python",
   "pygments_lexer": "ipython3",
   "version": "3.7.13"
  }
 },
 "nbformat": 4,
 "nbformat_minor": 5
}
