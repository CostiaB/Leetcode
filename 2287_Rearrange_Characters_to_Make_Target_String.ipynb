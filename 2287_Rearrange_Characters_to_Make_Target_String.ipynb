{
 "cells": [
  {
   "cell_type": "markdown",
   "id": "5aec6954",
   "metadata": {},
   "source": [
    "# 2287. Rearrange Characters to Make Target String\n",
    "Easy\n",
    "\n",
    "You are given two 0-indexed strings s and target. You can take some letters from s and rearrange them to form new strings.\n",
    "\n",
    "Return the maximum number of copies of target that can be formed by taking letters from s and rearranging them.\n",
    "\n",
    " \n",
    "\n",
    "Example 1:\n",
    "\n",
    "Input: s = \"ilovecodingonleetcode\", target = \"code\"  \n",
    "Output: 2  \n",
    "Explanation:  \n",
    "For the first copy of \"code\", take the letters at indices 4, 5, 6, and 7.  \n",
    "For the second copy of \"code\", take the letters at indices 17, 18, 19, and 20.  \n",
    "The strings that are formed are \"ecod\" and \"code\" which can both be rearranged into \"code\".  \n",
    "We can make at most two copies of \"code\", so we return 2.\n",
    "\n",
    "Example 2:  \n",
    "\n",
    "Input: s = \"abcba\", target = \"abc\"  \n",
    "Output: 1  \n",
    "Explanation:  \n",
    "We can make one copy of \"abc\" by taking the letters at indices 0, 1, and 2.  \n",
    "We can make at most one copy of \"abc\", so we return 1.  \n",
    "Note that while there is an extra 'a' and 'b' at indices 3 and 4, we cannot reuse the letter 'c' at index 2, so we   cannot make a second copy of \"abc\".  \n",
    "\n",
    "Example 3:  \n",
    "  \n",
    "Input: s = \"abbaccaddaeea\", target = \"aaaaa\"  \n",
    "Output: 1  \n",
    "Explanation:  \n",
    "We can make one copy of \"aaaaa\" by taking the letters at indices 0, 3, 6, 9, and 12.  \n",
    "We can make at most one copy of \"aaaaa\", so we return 1.  \n",
    "\n",
    " \n",
    "\n",
    "Constraints:\n",
    "\n",
    "    1 <= s.length <= 100\n",
    "    1 <= target.length <= 10\n",
    "    s and target consist of lowercase English letters.\n",
    "\n"
   ]
  },
  {
   "cell_type": "code",
   "execution_count": null,
   "id": "862e7264",
   "metadata": {},
   "outputs": [],
   "source": [
    "class Solution:\n",
    "    def rearrangeCharacters(self, s: str, target: str) -> int:\n",
    "        t = {}\n",
    "        for e in target:\n",
    "            t[e] = t.get(e ,0) + 1\n",
    "        \n",
    "        d = {}\n",
    "        for el in s:\n",
    "            d[el] = d.get(el, 0) +1\n",
    "\n",
    "        l = [d.get(i, 0) // v for i, v in t.items()]\n",
    "       \n",
    "        return min(l) "
   ]
  },
  {
   "cell_type": "markdown",
   "id": "834f1473",
   "metadata": {},
   "source": [
    "Runtime 32 ms Beats 88.20%  \n",
    "Memory 16.1 MB Beats 95.17%"
   ]
  },
  {
   "cell_type": "code",
   "execution_count": null,
   "id": "bb64c476",
   "metadata": {},
   "outputs": [],
   "source": [
    "class Solution:\n",
    "    def rearrangeCharacters(self, s: str, target: str) -> int:\n",
    "        ans = 999\n",
    "\n",
    "        for el in target:\n",
    "            ans = min(ans, s.count(el)//target.count(el))\n",
    "\n",
    "        return ans\n"
   ]
  },
  {
   "cell_type": "markdown",
   "id": "26a70c99",
   "metadata": {},
   "source": [
    "Runtime 34ms Beats 79.36%  \n",
    "Memory 16.13MB Beats 74.80%"
   ]
  }
 ],
 "metadata": {
  "kernelspec": {
   "display_name": "Python 3 (ipykernel)",
   "language": "python",
   "name": "python3"
  },
  "language_info": {
   "codemirror_mode": {
    "name": "ipython",
    "version": 3
   },
   "file_extension": ".py",
   "mimetype": "text/x-python",
   "name": "python",
   "nbconvert_exporter": "python",
   "pygments_lexer": "ipython3",
   "version": "3.10.12"
  }
 },
 "nbformat": 4,
 "nbformat_minor": 5
}
