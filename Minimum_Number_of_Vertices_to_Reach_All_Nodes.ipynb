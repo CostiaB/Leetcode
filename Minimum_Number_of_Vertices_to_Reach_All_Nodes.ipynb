{
 "cells": [
  {
   "cell_type": "markdown",
   "id": "5cef01b0",
   "metadata": {},
   "source": [
    "## 1557. Minimum Number of Vertices to Reach All Nodes\n",
    "Medium\n",
    "2.9K\n",
    "100\n",
    "Companies\n",
    "\n",
    "Given a directed acyclic graph, with n vertices numbered from 0 to n-1, and an array edges where edges[i] = [fromi, toi] represents a directed edge from node fromi to node toi.\n",
    "\n",
    "Find the smallest set of vertices from which all nodes in the graph are reachable. It's guaranteed that a unique solution exists.\n",
    "\n",
    "Notice that you can return the vertices in any order.\n",
    "\n",
    " \n",
    "\n",
    "Example 1:  \n",
    "<img src='https://assets.leetcode.com/uploads/2020/07/07/untitled22.png'>\n",
    "Input: n = 6, edges = [[0,1],[0,2],[2,5],[3,4],[4,2]]  \n",
    "Output: [0,3]  \n",
    "Explanation: It's not possible to reach all the nodes from a single vertex. From 0 we can reach [0,1,2,5]. From 3 we can reach [3,4,2,5]. So we output [0,3].\n",
    "\n",
    "Example 2:  \n",
    "<img src='https://assets.leetcode.com/uploads/2020/07/07/untitled.png'>\n",
    "Input: n = 5, edges = [[0,1],[2,1],[3,1],[1,4],[2,4]]  \n",
    "Output: [0,2,3]  \n",
    "Explanation: Notice that vertices 0, 3 and 2 are not reachable from any other node, so we must include them. Also any of these vertices can reach nodes 1 and 4.\n",
    "\n",
    " \n",
    "\n",
    "Constraints:\n",
    "\n",
    "    2 <= n <= 10^5\n",
    "    1 <= edges.length <= min(10^5, n * (n - 1) / 2)\n",
    "    edges[i].length == 2\n",
    "    0 <= fromi, toi < n\n",
    "    All pairs (fromi, toi) are distinct.\n"
   ]
  },
  {
   "cell_type": "code",
   "execution_count": null,
   "id": "9788e85c",
   "metadata": {},
   "outputs": [],
   "source": [
    "class Solution:\n",
    "    def findSmallestSetOfVertices(self, n: int, edges: List[List[int]]) -> List[int]:\n",
    "        #list of all endes\n",
    "        all_edges = set(range(n))\n",
    "        # all possible destinations\n",
    "        destinations = set([d for _, d in edges])\n",
    "        ans = list(all_edges - destinations)\n",
    "        \n",
    "        return ans"
   ]
  },
  {
   "cell_type": "markdown",
   "id": "70400221",
   "metadata": {},
   "source": [
    "Runtime 1159 ms  \n",
    "Beats  \n",
    "74.31%  \n",
    "Memory 54.8 MB  \n",
    "Beats  \n",
    "26.66%  "
   ]
  }
 ],
 "metadata": {
  "kernelspec": {
   "display_name": "Python 3 (ipykernel)",
   "language": "python",
   "name": "python3"
  },
  "language_info": {
   "codemirror_mode": {
    "name": "ipython",
    "version": 3
   },
   "file_extension": ".py",
   "mimetype": "text/x-python",
   "name": "python",
   "nbconvert_exporter": "python",
   "pygments_lexer": "ipython3",
   "version": "3.8.13"
  }
 },
 "nbformat": 4,
 "nbformat_minor": 5
}
