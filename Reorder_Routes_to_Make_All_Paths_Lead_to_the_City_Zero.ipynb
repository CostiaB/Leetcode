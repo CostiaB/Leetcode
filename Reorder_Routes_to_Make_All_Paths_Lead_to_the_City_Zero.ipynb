{
 "cells": [
  {
   "attachments": {},
   "cell_type": "markdown",
   "id": "8f0a08d3",
   "metadata": {},
   "source": [
    "## 1466. Reorder Routes to Make All Paths Lead to the City Zero\n",
    "Medium  \n",
    "3.1K  \n",
    "73  \n",
    "Companies  \n",
    "\n",
    "There are n cities numbered from 0 to n - 1 and n - 1 roads such that there is only one way to travel between two different cities (this network form a tree). Last year, The ministry of transport decided to orient the roads in one direction because they are too narrow.\n",
    "\n",
    "Roads are represented by connections where connections[i] = [ai, bi] represents a road from city ai to city bi.\n",
    "\n",
    "This year, there will be a big event in the capital (city 0), and many people want to travel to this city.\n",
    "\n",
    "Your task consists of reorienting some roads such that each city can visit the city 0. Return the minimum number of edges changed.\n",
    "\n",
    "It's guaranteed that each city can reach city 0 after reorder.\n",
    "\n",
    " \n",
    "\n",
    "Example 1:\n",
    "\n",
    "<img src = 'https://assets.leetcode.com/uploads/2020/05/13/sample_1_1819.png'>\n",
    "Input: n = 6, connections = [[0,1],[1,3],[2,3],[4,0],[4,5]]  \n",
    "Output: 3  \n",
    "Explanation: Change the direction of edges show in red such that each node can reach the node 0 (capital).  \n",
    "\n",
    "Example 2:  \n",
    "  \n",
    "  <img src = 'https://assets.leetcode.com/uploads/2020/05/13/sample_2_1819.png'>\n",
    "Input: n = 5, connections = [[1,0],[1,2],[3,2],[3,4]]  \n",
    "Output: 2  \n",
    "Explanation: Change the direction of edges show in red such that each node can reach the node 0 (capital).  \n",
    "  \n",
    "Example 3: \n",
    "   \n",
    "Input: n = 3, connections = [[1,0],[2,0]]  \n",
    "Output: 0  \n",
    "\n",
    " \n",
    "\n",
    "Constraints:  \n",
    "\n",
    "    2 <= n <= 5 * 104  \n",
    "    connections.length == n - 1  \n",
    "    connections[i].length == 2  \n",
    "    0 <= ai, bi <= n - 1  \n",
    "    ai != bi  \n",
    "\n"
   ]
  },
  {
   "cell_type": "code",
   "execution_count": null,
   "id": "7c6bb543",
   "metadata": {},
   "outputs": [],
   "source": [
    "class Solution:\n",
    "    def minReorder(self, n: int, connections: List[List[int]]) -> int:\n",
    "        graph = defaultdict(set)\n",
    "        for ca, cb in connections:\n",
    "            graph[ca].add((cb, True))\n",
    "            graph[cb].add((ca, False))\n",
    "        \n",
    "        routes = deque([(0, False)])\n",
    "        ans = 0\n",
    "        visited = set()\n",
    "        while routes:\n",
    "            city, turnover = routes.popleft()\n",
    "            visited.add(city)\n",
    "            if turnover:\n",
    "                ans += 1\n",
    "            for neighbour in graph[city]:\n",
    "                if neighbour[0] not in visited:\n",
    "                    routes.append(neighbour)\n",
    "        return ans"
   ]
  },
  {
   "cell_type": "markdown",
   "id": "d5a5e9ed",
   "metadata": {},
   "source": [
    "Runtime 1285 ms  \n",
    "Beats  \n",
    "55.14%  \n",
    "Memory 47.8 MB  \n",
    "Beats  \n",
    "67.71%  "
   ]
  }
 ],
 "metadata": {
  "kernelspec": {
   "display_name": "Python 3 (ipykernel)",
   "language": "python",
   "name": "python3"
  },
  "language_info": {
   "codemirror_mode": {
    "name": "ipython",
    "version": 3
   },
   "file_extension": ".py",
   "mimetype": "text/x-python",
   "name": "python",
   "nbconvert_exporter": "python",
   "pygments_lexer": "ipython3",
   "version": "3.8.13"
  }
 },
 "nbformat": 4,
 "nbformat_minor": 5
}
