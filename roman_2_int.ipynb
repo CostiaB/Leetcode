{
 "cells": [
  {
   "cell_type": "code",
   "execution_count": 19,
   "id": "0d6947aa",
   "metadata": {},
   "outputs": [],
   "source": [
    "class Solution:\n",
    "    def romanToInt(self, s: str) -> int:\n",
    "        number = 0\n",
    "        I_stat = False\n",
    "        C_stat = False\n",
    "        X_stat = False\n",
    "        for letter in s[::-1]:\n",
    "            if letter=='I' and I_stat==False:\n",
    "                number += 1\n",
    "            elif letter=='I' and I_stat==True:\n",
    "                number -= 1\n",
    "                I_stat=False\n",
    "                \n",
    "            if letter=='V':\n",
    "                number += 5\n",
    "                I_stat=True\n",
    "                \n",
    "            if letter=='X' and X_stat==False:\n",
    "                number += 10\n",
    "                I_stat = True\n",
    "            if letter=='X' and X_stat==True:\n",
    "                number -= 10\n",
    "                       \n",
    "                \n",
    "           \n",
    "                \n",
    "                       \n",
    "            if letter=='L':\n",
    "                number += 50\n",
    "                X_stat=True\n",
    "                \n",
    "            if letter=='C' and C_stat==False:\n",
    "                number += 100\n",
    "                X_stat = True\n",
    "            if letter=='C' and C_stat==True:\n",
    "                number -= 100\n",
    "           \n",
    "            if letter=='D':\n",
    "                number += 500\n",
    "                C_stat=True\n",
    "            if letter=='M':\n",
    "                number += 1000\n",
    "                C_stat=True\n",
    "        return number"
   ]
  },
  {
   "cell_type": "code",
   "execution_count": 18,
   "id": "f1fafd70",
   "metadata": {},
   "outputs": [
    {
     "data": {
      "text/plain": [
       "1994"
      ]
     },
     "execution_count": 18,
     "metadata": {},
     "output_type": "execute_result"
    }
   ],
   "source": [
    "sol = Solution()\n",
    "sol.romanToInt(s=\"MCMXCIV\")"
   ]
  },
  {
   "cell_type": "code",
   "execution_count": 58,
   "id": "c18c0f4a",
   "metadata": {},
   "outputs": [],
   "source": [
    "class Solution:\n",
    "    def divide(self, dividend: int, divisor: int) -> int:\n",
    "        ans = 0\n",
    "        if dividend == 0: return 0\n",
    "        \n",
    "        X = True\n",
    "        if (dividend > 0 and divisor > 0) or (dividend < 0 and divisor < 0): X = False\n",
    "        dividend = abs(dividend)\n",
    "        divisor = abs(divisor)\n",
    "        if dividend == 1 and divisor == 1: ans = 1    \n",
    "        while dividend >= divisor:\n",
    "            dividend -= divisor\n",
    "            ans += 1\n",
    "        ans -=1\n",
    "        \n",
    "        if X == True:\n",
    "            \n",
    "            return -ans\n",
    "        else:\n",
    "            return ans"
   ]
  },
  {
   "cell_type": "code",
   "execution_count": 59,
   "id": "0bf5411a",
   "metadata": {},
   "outputs": [
    {
     "data": {
      "text/plain": [
       "-1"
      ]
     },
     "execution_count": 59,
     "metadata": {},
     "output_type": "execute_result"
    }
   ],
   "source": [
    "sol = Solution()\n",
    "sol.divide(-1, 1)"
   ]
  },
  {
   "cell_type": "code",
   "execution_count": null,
   "id": "8f93a37f",
   "metadata": {},
   "outputs": [],
   "source": [
    "class Solution:\n",
    "    def divide(self, dividend: int, divisor: int) -> int:\n",
    "        abs_divisor=abs(divisor)\n",
    "        abs_dividend=abs(dividend)\n",
    "        if abs_divisor==1:\n",
    "            divide_time=abs_dividend\n",
    "        unit=len(str(abs_divisor))\n",
    "        divide_time=\"\"\n",
    "        sub_dividend=0\n",
    "        i=0\n",
    "        while i < len(str(abs_dividend)):\n",
    "            sub_dividend=int(str(sub_dividend)+str(abs_dividend)[i:i+unit])\n",
    "            sub_divide_time=0\n",
    "            while sub_dividend>=abs_divisor:\n",
    "                sub_dividend-=abs_divisor\n",
    "                sub_divide_time+=1\n",
    "            divide_time+=str(sub_divide_time)\n",
    "            next_round=sub_dividend \n",
    "            i+=unit\n",
    "        divide_time=int(divide_time)\n",
    "        if (divisor<0 and dividend>0) or (divisor>0 and dividend<0):\n",
    "            return max(-(divide_time),-2**31)\n",
    "        return min(divide_time,2**31-1) "
   ]
  }
 ],
 "metadata": {
  "kernelspec": {
   "display_name": "Python 3 (ipykernel)",
   "language": "python",
   "name": "python3"
  },
  "language_info": {
   "codemirror_mode": {
    "name": "ipython",
    "version": 3
   },
   "file_extension": ".py",
   "mimetype": "text/x-python",
   "name": "python",
   "nbconvert_exporter": "python",
   "pygments_lexer": "ipython3",
   "version": "3.7.13"
  }
 },
 "nbformat": 4,
 "nbformat_minor": 5
}
