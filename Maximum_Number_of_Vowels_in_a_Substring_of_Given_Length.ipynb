{
 "cells": [
  {
   "cell_type": "markdown",
   "id": "05156e08",
   "metadata": {},
   "source": [
    "## 1456. Maximum Number of Vowels in a Substring of Given Length\n",
    "Medium\n",
    "2.4K\n",
    "77\n",
    "Companies\n",
    "\n",
    "Given a string s and an integer k, return the maximum number of vowel letters in any substring of s with length k.  \n",
    "\n",
    "Vowel letters in English are 'a', 'e', 'i', 'o', and 'u'.  \n",
    "\n",
    " \n",
    "\n",
    "Example 1:  \n",
    "\n",
    "Input: s = \"abciiidef\", k = 3  \n",
    "Output: 3  \n",
    "Explanation: The substring \"iii\" contains 3 vowel letters.  \n",
    "\n",
    "Example 2:  \n",
    "\n",
    "Input: s = \"aeiou\", k = 2  \n",
    "Output: 2  \n",
    "Explanation: Any substring of length 2 contains 2 vowels.  \n",
    "\n",
    "Example 3:  \n",
    "\n",
    "Input: s = \"leetcode\", k = 3  \n",
    "Output: 2  \n",
    "Explanation: \"lee\", \"eet\" and \"ode\" contain 2 vowels.  \n",
    "\n",
    " \n",
    "\n",
    "Constraints:  \n",
    "\n",
    "    1 <= s.length <= 105  \n",
    "    s consists of lowercase English letters.  \n",
    "    1 <= k <= s.length  \n",
    "\n"
   ]
  },
  {
   "cell_type": "code",
   "execution_count": null,
   "id": "b54d0ed3",
   "metadata": {},
   "outputs": [],
   "source": [
    "class Solution:\n",
    "    def maxVowels(self, s: str, k: int) -> int:\n",
    "        vowels = {'a', 'e', 'i', 'o', 'u'}\n",
    "        ans = 0\n",
    "        for i in range(k):\n",
    "            if s[i] in vowels:\n",
    "                ans += 1\n",
    "        m_ans = ans\n",
    "        for i in range(k, len(s), 1):\n",
    "            if s[i-k] in vowels:ans -= 1\n",
    "            if s[i] in vowels:ans += 1\n",
    "            m_ans = max(ans, m_ans)\n",
    "        return m_ans"
   ]
  },
  {
   "cell_type": "markdown",
   "id": "f1289225",
   "metadata": {},
   "source": [
    "Runtime  159 ms  \n",
    "Beats  \n",
    "80.89%  \n",
    "Memory 17.2 MB  \n",
    "Beats  \n",
    "15.95%  "
   ]
  }
 ],
 "metadata": {
  "kernelspec": {
   "display_name": "Python 3 (ipykernel)",
   "language": "python",
   "name": "python3"
  },
  "language_info": {
   "codemirror_mode": {
    "name": "ipython",
    "version": 3
   },
   "file_extension": ".py",
   "mimetype": "text/x-python",
   "name": "python",
   "nbconvert_exporter": "python",
   "pygments_lexer": "ipython3",
   "version": "3.8.13"
  }
 },
 "nbformat": 4,
 "nbformat_minor": 5
}
