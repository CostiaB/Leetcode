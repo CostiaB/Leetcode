{
 "cells": [
  {
   "cell_type": "markdown",
   "id": "0cc5aea1",
   "metadata": {},
   "source": [
    "## 142. Linked List Cycle II\n",
    "Medium\n",
    "\n",
    "Given the head of a linked list, return the node where the cycle begins. If there is no cycle, return null.\n",
    "\n",
    "There is a cycle in a linked list if there is some node in the list that can be reached again by continuously following the next pointer. Internally, pos is used to denote the index of the node that tail's next pointer is connected to (0-indexed). It is -1 if there is no cycle. Note that pos is not passed as a parameter.\n",
    "\n",
    "Do not modify the linked list.\n",
    "\n",
    " \n",
    "\n",
    "Example 1:\n",
    "<img src = 'https://assets.leetcode.com/uploads/2018/12/07/circularlinkedlist.png'>\n",
    "Input: head = [3,2,0,-4], pos = 1\n",
    "Output: tail connects to node index 1\n",
    "Explanation: There is a cycle in the linked list, where tail connects to the second node.\n",
    "\n",
    "Example 2:\n",
    "<img src = 'https://assets.leetcode.com/uploads/2018/12/07/circularlinkedlist_test2.png'>\n",
    "Input: head = [1,2], pos = 0\n",
    "Output: tail connects to node index 0\n",
    "Explanation: There is a cycle in the linked list, where tail connects to the first node.\n",
    "\n",
    "Example 3:\n",
    "<img src = 'https://assets.leetcode.com/uploads/2018/12/07/circularlinkedlist_test3.png'>\n",
    "Input: head = [1], pos = -1\n",
    "Output: no cycle\n",
    "Explanation: There is no cycle in the linked list.\n",
    "\n",
    " \n",
    "\n",
    "Constraints:\n",
    "\n",
    "    The number of the nodes in the list is in the range [0, 104].\n",
    "    -105 <= Node.val <= 105\n",
    "    pos is -1 or a valid index in the linked-list.\n",
    "\n",
    " \n",
    "\n",
    "Follow up: Can you solve it using O(1) (i.e. constant) memory?\n"
   ]
  },
  {
   "cell_type": "code",
   "execution_count": null,
   "id": "79c81e6a",
   "metadata": {},
   "outputs": [],
   "source": [
    "# Definition for singly-linked list.\n",
    "# class ListNode:\n",
    "#     def __init__(self, x):\n",
    "#         self.val = x\n",
    "#         self.next = None\n",
    "\n",
    "class Solution:\n",
    "    def detectCycle(self, head: Optional[ListNode]) -> Optional[ListNode]:\n",
    "        ans = tmp = head\n",
    "        if head == None: return None\n",
    "        links = []\n",
    "        while ans.next:\n",
    "            tmp = ans\n",
    "            links.append(tmp)\n",
    "            if ans.next in links:\n",
    "                return ans.next\n",
    "            ans = ans.next\n",
    "        return None"
   ]
  },
  {
   "cell_type": "markdown",
   "id": "7b38609c",
   "metadata": {},
   "source": [
    "Runtime: 981 ms, faster than 5.76% of Python3 online submissions for Linked List Cycle II.  \n",
    "Memory Usage: 17.3 MB, less than 58.10% of Python3 online submissions for Linked List Cycle II."
   ]
  },
  {
   "cell_type": "code",
   "execution_count": null,
   "id": "cefd1be3",
   "metadata": {},
   "outputs": [],
   "source": []
  }
 ],
 "metadata": {
  "kernelspec": {
   "display_name": "Python 3 (ipykernel)",
   "language": "python",
   "name": "python3"
  },
  "language_info": {
   "codemirror_mode": {
    "name": "ipython",
    "version": 3
   },
   "file_extension": ".py",
   "mimetype": "text/x-python",
   "name": "python",
   "nbconvert_exporter": "python",
   "pygments_lexer": "ipython3",
   "version": "3.7.13"
  }
 },
 "nbformat": 4,
 "nbformat_minor": 5
}
