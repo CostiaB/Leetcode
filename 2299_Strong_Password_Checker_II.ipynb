{
 "cells": [
  {
   "cell_type": "markdown",
   "id": "2c4fa397",
   "metadata": {},
   "source": [
    "# 2299. Strong Password Checker II\n",
    "Easy\n",
    "\n",
    "A password is said to be strong if it satisfies all the following criteria:\n",
    "\n",
    "    It has at least 8 characters.  \n",
    "    It contains at least one lowercase letter.  \n",
    "    It contains at least one uppercase letter.  \n",
    "    It contains at least one digit.  \n",
    "    It contains at least one special character. The special characters are the characters in the following string:   \"!@#$%^&*()-+\".  \n",
    "    It does not contain 2 of the same character in adjacent positions (i.e., \"aab\" violates this condition, but \"aba\" does not).  \n",
    "\n",
    "Given a string password, return true if it is a strong password. Otherwise, return false.\n",
    "\n",
    " \n",
    "\n",
    "Example 1:\n",
    "\n",
    "Input: password = \"IloveLe3tcode!\"  \n",
    "Output: true  \n",
    "Explanation: The password meets all the requirements. Therefore, we return true.  \n",
    "\n",
    "Example 2:\n",
    "\n",
    "Input: password = \"Me+You--IsMyDream\"  \n",
    "Output: false  \n",
    "Explanation: The password does not contain a digit and also contains 2 of the same character in adjacent positions. Therefore, we return false.  \n",
    "\n",
    "Example 3:\n",
    "\n",
    "Input: password = \"1aB!\"  \n",
    "Output: false  \n",
    "Explanation: The password does not meet the length requirement. Therefore, we return false.  \n",
    "\n",
    " \n",
    "\n",
    "Constraints:\n",
    "\n",
    "    1 <= password.length <= 100  \n",
    "    password consists of letters, digits, and special characters: \"!@#$%^&*()-+\".  \n",
    "\n"
   ]
  },
  {
   "cell_type": "code",
   "execution_count": null,
   "id": "d2488519",
   "metadata": {},
   "outputs": [],
   "source": [
    "class Solution:\n",
    "    def strongPasswordCheckerII(self, password: str) -> bool:\n",
    "      if len(password) < 8:\n",
    "          return False\n",
    "\n",
    "      if (bool(re.search(r'[a-z]', password))  and\n",
    "          bool(re.search(r'[A-Z]', password)) and\n",
    "          bool(re.search(r'\\d', password)) and \n",
    "          bool(re.search(r'\\W', password))  and\n",
    "          not bool(re.search(r'(.)\\1+', password))):\n",
    "          return True\n",
    "      else:\n",
    "          return False"
   ]
  },
  {
   "cell_type": "markdown",
   "id": "300c22bf",
   "metadata": {},
   "source": [
    "Runtime 38 ms Beats 55.63%  \n",
    "Memory 16.2 MB Beats 39.96%"
   ]
  }
 ],
 "metadata": {
  "kernelspec": {
   "display_name": "Python 3 (ipykernel)",
   "language": "python",
   "name": "python3"
  },
  "language_info": {
   "codemirror_mode": {
    "name": "ipython",
    "version": 3
   },
   "file_extension": ".py",
   "mimetype": "text/x-python",
   "name": "python",
   "nbconvert_exporter": "python",
   "pygments_lexer": "ipython3",
   "version": "3.10.12"
  }
 },
 "nbformat": 4,
 "nbformat_minor": 5
}
