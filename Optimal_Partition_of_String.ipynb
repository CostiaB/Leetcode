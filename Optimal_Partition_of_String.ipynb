{
 "cells": [
  {
   "cell_type": "markdown",
   "id": "1f843bde",
   "metadata": {},
   "source": [
    "## 2405. Optimal Partition of String\n",
    "Medium\n",
    "1.6K\n",
    "66\n",
    "Companies\n",
    "\n",
    "Given a string s, partition the string into one or more substrings such that the characters in each substring are unique. That is, no letter appears in a single substring more than once.\n",
    "\n",
    "Return the minimum number of substrings in such a partition.\n",
    "\n",
    "Note that each character should belong to exactly one substring in a partition.\n",
    "\n",
    " \n",
    "\n",
    "Example 1:\n",
    "\n",
    "Input: s = \"abacaba\"\n",
    "Output: 4\n",
    "Explanation:\n",
    "Two possible partitions are (\"a\",\"ba\",\"cab\",\"a\") and (\"ab\",\"a\",\"ca\",\"ba\").\n",
    "It can be shown that 4 is the minimum number of substrings needed.\n",
    "\n",
    "Example 2:\n",
    "\n",
    "Input: s = \"ssssss\"\n",
    "Output: 6\n",
    "Explanation:\n",
    "The only valid partition is (\"s\",\"s\",\"s\",\"s\",\"s\",\"s\").\n",
    "\n",
    " \n",
    "\n",
    "Constraints:\n",
    "\n",
    "    1 <= s.length <= 105\n",
    "    s consists of only English lowercase letters.\n",
    "\n"
   ]
  },
  {
   "cell_type": "code",
   "execution_count": null,
   "id": "b2edd38b",
   "metadata": {},
   "outputs": [],
   "source": [
    "class Solution:\n",
    "    def partitionString(self, s: str) -> int:\n",
    "        ans = 0\n",
    "        curr = s[0]\n",
    "        for st in s:\n",
    "            if st in curr:\n",
    "                ans += 1\n",
    "                curr = st\n",
    "            else:\n",
    "                curr += st\n",
    "        return ans"
   ]
  },
  {
   "cell_type": "markdown",
   "id": "9e3610aa",
   "metadata": {},
   "source": [
    "Runtime 85 ms  \n",
    "Beats  \n",
    "96.44%  \n",
    "Memory 14.6 MB  \n",
    "Beats  \n",
    "47.10%  "
   ]
  }
 ],
 "metadata": {
  "kernelspec": {
   "display_name": "Python 3 (ipykernel)",
   "language": "python",
   "name": "python3"
  },
  "language_info": {
   "codemirror_mode": {
    "name": "ipython",
    "version": 3
   },
   "file_extension": ".py",
   "mimetype": "text/x-python",
   "name": "python",
   "nbconvert_exporter": "python",
   "pygments_lexer": "ipython3",
   "version": "3.8.13"
  }
 },
 "nbformat": 4,
 "nbformat_minor": 5
}
