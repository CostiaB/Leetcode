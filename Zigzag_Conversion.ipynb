{
 "cells": [
  {
   "cell_type": "markdown",
   "id": "5d663013",
   "metadata": {},
   "source": [
    "## 6. Zigzag Conversion\n",
    "Medium\n",
    "\n",
    "The string \"PAYPALISHIRING\" is written in a zigzag pattern on a given number of rows like this: (you may want to display this pattern in a fixed font for better legibility)\n",
    "\n",
    "P   A   H   N\n",
    "A P L S I I G\n",
    "Y   I   R\n",
    "\n",
    "And then read line by line: \"PAHNAPLSIIGYIR\"\n",
    "\n",
    "Write the code that will take a string and make this conversion given a number of rows:\n",
    "\n",
    "string convert(string s, int numRows);\n",
    "\n",
    " \n",
    "\n",
    "Example 1:\n",
    "\n",
    "Input: s = \"PAYPALISHIRING\", numRows = 3  \n",
    "Output: \"PAHNAPLSIIGYIR\"  \n",
    "\n",
    "Example 2:\n",
    "\n",
    "Input: s = \"PAYPALISHIRING\", numRows = 4  \n",
    "Output: \"PINALSIGYAHRPI\"  \n",
    "Explanation:\n",
    "P     I    N  \n",
    "A   L S  I G  \n",
    "Y A   H R  \n",
    "P     I  \n",
    "\n",
    "Example 3:\n",
    "\n",
    "Input: s = \"A\", numRows = 1\n",
    "Output: \"A\"\n",
    "\n",
    " \n",
    "\n",
    "Constraints:\n",
    "\n",
    "    1 <= s.length <= 1000\n",
    "    s consists of English letters (lower-case and upper-case), ',' and '.'.\n",
    "    1 <= numRows <= 1000\n",
    "\n"
   ]
  },
  {
   "cell_type": "code",
   "execution_count": 8,
   "id": "d56954fd",
   "metadata": {},
   "outputs": [],
   "source": [
    "class Solution:\n",
    "    def convert(self, s: str, numRows: int) -> str:\n",
    "        if numRows == 1:\n",
    "            return s\n",
    "        cols = []\n",
    "        count = 0\n",
    "        diag = numRows - 2 \n",
    "        string = ['-'] * numRows\n",
    "        for c in s:\n",
    "            if count == 0 :\n",
    "                cols.append(c)\n",
    "                count += 1\n",
    "            elif count < numRows:\n",
    "                cols[-1] = cols[-1]+c\n",
    "                count += 1\n",
    "            elif count == numRows and diag > 0:\n",
    "                \n",
    "                cols.append(\"\".join(string[:diag] + [c] + string[(diag + 1):]))\n",
    "                diag -= 1\n",
    "                string = ['-'] * numRows\n",
    "            else:\n",
    "                count = 1\n",
    "                diag = numRows - 2\n",
    "                cols.append(c)\n",
    "        cols[-1] = cols[-1] +'-' * (numRows- len(cols[-1]))      \n",
    "        ans = []\n",
    "        for i in range(numRows):\n",
    "            ans.append(''.join([w[i] for w in cols]))\n",
    "        return ''.join(ans).replace('-', '')\n",
    "            "
   ]
  },
  {
   "cell_type": "code",
   "execution_count": 9,
   "id": "a79e3314",
   "metadata": {},
   "outputs": [
    {
     "data": {
      "text/plain": [
       "'PINALSIGYAHRPI'"
      ]
     },
     "execution_count": 9,
     "metadata": {},
     "output_type": "execute_result"
    }
   ],
   "source": [
    "Solution().convert( s = \"PAYPALISHIRING\", numRows = 4)"
   ]
  },
  {
   "cell_type": "markdown",
   "id": "8633a1cd",
   "metadata": {},
   "source": [
    "Runtime: 693 ms, faster than 9.08% of Python3 online submissions for Zigzag Conversion.  \n",
    "Memory Usage: 15.1 MB, less than 8.82% of Python3 online submissions for Zigzag Conversion."
   ]
  },
  {
   "cell_type": "code",
   "execution_count": null,
   "id": "1ec6d929",
   "metadata": {},
   "outputs": [],
   "source": [
    "class Solution:\n",
    "    def convert(self, s: str, numRows: int) -> str:\n",
    "        if numRows == 1 or numRows >= len(s):\n",
    "            return s\n",
    "\n",
    "        L = [''] * numRows\n",
    "        index, step = 0, 1\n",
    "\n",
    "        for x in s:\n",
    "            L[index] += x\n",
    "            if index == 0:\n",
    "                step = 1\n",
    "            elif index == numRows -1:\n",
    "                step = -1\n",
    "            index += step\n",
    "\n",
    "        return ''.join(L)"
   ]
  },
  {
   "cell_type": "markdown",
   "id": "1caf531f",
   "metadata": {},
   "source": [
    "Runtime: 101 ms, faster than 74.63% of Python3 online submissions for Zigzag Conversion.  \n",
    "Memory Usage: 14 MB, less than 75.67% of Python3 online submissions for Zigzag Conversion."
   ]
  }
 ],
 "metadata": {
  "kernelspec": {
   "display_name": "Python 3 (ipykernel)",
   "language": "python",
   "name": "python3"
  },
  "language_info": {
   "codemirror_mode": {
    "name": "ipython",
    "version": 3
   },
   "file_extension": ".py",
   "mimetype": "text/x-python",
   "name": "python",
   "nbconvert_exporter": "python",
   "pygments_lexer": "ipython3",
   "version": "3.8.13"
  }
 },
 "nbformat": 4,
 "nbformat_minor": 5
}
