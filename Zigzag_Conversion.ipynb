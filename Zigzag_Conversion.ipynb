{
 "cells": [
  {
   "cell_type": "markdown",
   "id": "095f0fd4",
   "metadata": {},
   "source": [
    "## 6. Zigzag Conversion\n",
    "Medium\n",
    "\n",
    "The string \"PAYPALISHIRING\" is written in a zigzag pattern on a given number of rows like this: (you may want to display this pattern in a fixed font for better legibility)\n",
    "\n",
    "P   A   H   N\n",
    "A P L S I I G\n",
    "Y   I   R\n",
    "\n",
    "And then read line by line: \"PAHNAPLSIIGYIR\"\n",
    "\n",
    "Write the code that will take a string and make this conversion given a number of rows:\n",
    "\n",
    "string convert(string s, int numRows);\n",
    "\n",
    " \n",
    "\n",
    "Example 1:\n",
    "\n",
    "Input: s = \"PAYPALISHIRING\", numRows = 3  \n",
    "Output: \"PAHNAPLSIIGYIR\"  \n",
    "\n",
    "Example 2:\n",
    "\n",
    "Input: s = \"PAYPALISHIRING\", numRows = 4  \n",
    "Output: \"PINALSIGYAHRPI\"  \n",
    "Explanation:\n",
    "P     I    N  \n",
    "A   L S  I G  \n",
    "Y A   H R  \n",
    "P     I  \n",
    "\n",
    "Example 3:\n",
    "\n",
    "Input: s = \"A\", numRows = 1\n",
    "Output: \"A\"\n",
    "\n",
    " \n",
    "\n",
    "Constraints:\n",
    "\n",
    "    1 <= s.length <= 1000\n",
    "    s consists of English letters (lower-case and upper-case), ',' and '.'.\n",
    "    1 <= numRows <= 1000\n",
    "\n"
   ]
  },
  {
   "cell_type": "code",
   "execution_count": 8,
   "id": "9110a3c9",
   "metadata": {},
   "outputs": [],
   "source": [
    "class Solution:\n",
    "    def convert(self, s: str, numRows: int) -> str:\n",
    "        if numRows == 1:\n",
    "            return s\n",
    "        cols = []\n",
    "        count = 0\n",
    "        diag = numRows - 2 \n",
    "        string = ['-'] * numRows\n",
    "        for c in s:\n",
    "            if count == 0 :\n",
    "                cols.append(c)\n",
    "                count += 1\n",
    "            elif count < numRows:\n",
    "                cols[-1] = cols[-1]+c\n",
    "                count += 1\n",
    "            elif count == numRows and diag > 0:\n",
    "                \n",
    "                cols.append(\"\".join(string[:diag] + [c] + string[(diag + 1):]))\n",
    "                diag -= 1\n",
    "                string = ['-'] * numRows\n",
    "            else:\n",
    "                count = 1\n",
    "                diag = numRows - 2\n",
    "                cols.append(c)\n",
    "        cols[-1] = cols[-1] +'-' * (numRows- len(cols[-1]))      \n",
    "        ans = []\n",
    "        for i in range(numRows):\n",
    "            ans.append(''.join([w[i] for w in cols]))\n",
    "        return ''.join(ans).replace('-', '')\n",
    "            "
   ]
  },
  {
   "cell_type": "code",
   "execution_count": null,
   "id": "2a88c04d",
   "metadata": {},
   "outputs": [],
   "source": [
    "Solution"
   ]
  },
  {
   "cell_type": "markdown",
   "id": "48609cd7",
   "metadata": {},
   "source": [
    "Runtime: 1153 ms, faster than 7.26% of Python3 online submissions for Zigzag Conversion.  \n",
    "Memory Usage: 15.1 MB, less than 8.86% of Python3 online submissions for Zigzag Conversion."
   ]
  },
  {
   "cell_type": "code",
   "execution_count": null,
   "id": "f67259e9",
   "metadata": {},
   "outputs": [],
   "source": []
  },
  {
   "cell_type": "code",
   "execution_count": null,
   "id": "786a88ff",
   "metadata": {},
   "outputs": [],
   "source": []
  }
 ],
 "metadata": {
  "kernelspec": {
   "display_name": "Python 3 (ipykernel)",
   "language": "python",
   "name": "python3"
  },
  "language_info": {
   "codemirror_mode": {
    "name": "ipython",
    "version": 3
   },
   "file_extension": ".py",
   "mimetype": "text/x-python",
   "name": "python",
   "nbconvert_exporter": "python",
   "pygments_lexer": "ipython3",
   "version": "3.8.13"
  }
 },
 "nbformat": 4,
 "nbformat_minor": 5
}
