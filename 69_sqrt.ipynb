{
 "cells": [
  {
   "cell_type": "markdown",
   "id": "7d0717c9",
   "metadata": {},
   "source": [
    "# 69. Sqrt(x)\n",
    "Easy  \n",
    "\n",
    "\n",
    "Given a non-negative integer x, return the square root of x rounded down to the nearest integer. The returned integer should be non-negative as well.\n",
    "\n",
    "You must not use any built-in exponent function or operator.\n",
    "\n",
    "    For example, do not use pow(x, 0.5) in c++ or x ** 0.5 in python.\n",
    "\n",
    " \n",
    "\n",
    "Example 1:\n",
    "\n",
    "Input: x = 4  \n",
    "Output: 2  \n",
    "Explanation: The square root of 4 is 2, so we return 2.  \n",
    "\n",
    "Example 2:\n",
    "\n",
    "Input: x = 8  \n",
    "Output: 2  \n",
    "Explanation: The square root of 8 is 2.82842..., and since we round it down to the nearest integer, 2 is returned.\n",
    "\n",
    " \n",
    "\n",
    "Constraints:\n",
    "\n",
    "    0 <= x <= 231 - 1"
   ]
  },
  {
   "cell_type": "code",
   "execution_count": null,
   "id": "4f39ef28",
   "metadata": {},
   "outputs": [],
   "source": [
    "class Solution:\n",
    "    def mySqrt(self, x: int) -> int:\n",
    "        if x == 1:\n",
    "            return x\n",
    "        l = 0\n",
    "        r = x\n",
    "        while abs(l - r) != 1:\n",
    "            mid = (l + r) // 2\n",
    "            if mid * mid == x:\n",
    "                return mid\n",
    "            if  mid * mid > x:\n",
    "                r = mid\n",
    "            else:\n",
    "                l = mid\n",
    "\n",
    "        return l"
   ]
  },
  {
   "cell_type": "markdown",
   "id": "b7fb3b7a",
   "metadata": {},
   "source": [
    "Runtime 43 ms\n",
    "Beats 64.95%  \n",
    "Memory 16.2 MB\n",
    "Beats 33.39%"
   ]
  }
 ],
 "metadata": {
  "kernelspec": {
   "display_name": "Python 3 (ipykernel)",
   "language": "python",
   "name": "python3"
  },
  "language_info": {
   "codemirror_mode": {
    "name": "ipython",
    "version": 3
   },
   "file_extension": ".py",
   "mimetype": "text/x-python",
   "name": "python",
   "nbconvert_exporter": "python",
   "pygments_lexer": "ipython3",
   "version": "3.10.12"
  }
 },
 "nbformat": 4,
 "nbformat_minor": 5
}
