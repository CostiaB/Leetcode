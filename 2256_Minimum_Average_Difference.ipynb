{
 "cells": [
  {
   "cell_type": "markdown",
   "id": "717c06c3",
   "metadata": {},
   "source": [
    "# 2256. Minimum Average Difference\n",
    "Medium\n",
    "\n",
    "\n",
    "You are given a 0-indexed integer array nums of length n.\n",
    "\n",
    "The average difference of the index i is the absolute difference between the average of the first i + 1 elements of nums and the average of the last n - i - 1 elements. Both averages should be rounded down to the nearest integer.\n",
    "\n",
    "Return the index with the minimum average difference. If there are multiple such indices, return the smallest one.\n",
    "\n",
    "Note:\n",
    "\n",
    "    The absolute difference of two numbers is the absolute value of their difference.\n",
    "    The average of n elements is the sum of the n elements divided (integer division) by n.\n",
    "    The average of 0 elements is considered to be 0.\n",
    "\n",
    " \n",
    "\n",
    "Example 1:\n",
    "\n",
    "Input: nums = [2,5,3,9,5,3]\n",
    "Output: 3\n",
    "Explanation:\n",
    "- The average difference of index 0 is: |2 / 1 - (5 + 3 + 9 + 5 + 3) / 5| = |2 / 1 - 25 / 5| = |2 - 5| = 3.  \n",
    "- The average difference of index 1 is: |(2 + 5) / 2 - (3 + 9 + 5 + 3) / 4| = |7 / 2 - 20 / 4| = |3 - 5| = 2.  \n",
    "- The average difference of index 2 is: |(2 + 5 + 3) / 3 - (9 + 5 + 3) / 3| = |10 / 3 - 17 / 3| = |3 - 5| = 2.  \n",
    "- The average difference of index 3 is: |(2 + 5 + 3 + 9) / 4 - (5 + 3) / 2| = |19 / 4 - 8 / 2| = |4 - 4| = 0.  \n",
    "- The average difference of index 4 is: |(2 + 5 + 3 + 9 + 5) / 5 - 3 / 1| = |24 / 5 - 3 / 1| = |4 - 3| = 1.  \n",
    "- The average difference of index 5 is: |(2 + 5 + 3 + 9 + 5 + 3) / 6 - 0| = |27 / 6 - 0| = |4 - 0| = 4.  \n",
    "The average difference of index 3 is the minimum average difference so return 3.  \n",
    "\n",
    "Example 2:\n",
    "\n",
    "Input: nums = [0]  \n",
    "Output: 0  \n",
    "Explanation:  \n",
    "The only index is 0 so return 0.  \n",
    "The average difference of index 0 is: |0 / 1 - 0| = |0 - 0| = 0.  \n",
    "\n",
    " \n",
    "\n",
    "Constraints:\n",
    "\n",
    "    1 <= nums.length <= 105\n",
    "    0 <= nums[i] <= 105\n",
    "\n"
   ]
  },
  {
   "cell_type": "code",
   "execution_count": null,
   "id": "e20dc302",
   "metadata": {},
   "outputs": [],
   "source": [
    "from math import floor\n",
    "class Solution:\n",
    "    def minimumAverageDifference(self, nums: List[int]) -> int:\n",
    "        avg = float(inf)\n",
    "        ind = 0\n",
    "        n = len(nums)\n",
    "        sumR = sum(nums)\n",
    "        sumL = 0\n",
    "        nR = n\n",
    "        nL = 0 \n",
    "        for i in range(n):\n",
    "            sumR -= nums[i]\n",
    "            sumL += nums[i]\n",
    "            nR -= 1\n",
    "            nL += 1  \n",
    "            avgL = floor(sumL/nL)\n",
    "            avgR = floor(sumR/(nR if nR > 1  else 1    ))\n",
    "            diff = abs(avgL-avgR)\n",
    "            if diff < avg:\n",
    "                avg = diff\n",
    "                ind = i\n",
    "            \n",
    "        return ind\n",
    "        "
   ]
  },
  {
   "cell_type": "markdown",
   "id": "43e66f87",
   "metadata": {},
   "source": [
    "    Runtime 772ms Beats 65.65%\n",
    "    Memory 27.77MB Beats 22.17%"
   ]
  }
 ],
 "metadata": {
  "kernelspec": {
   "display_name": "Python 3 (ipykernel)",
   "language": "python",
   "name": "python3"
  },
  "language_info": {
   "codemirror_mode": {
    "name": "ipython",
    "version": 3
   },
   "file_extension": ".py",
   "mimetype": "text/x-python",
   "name": "python",
   "nbconvert_exporter": "python",
   "pygments_lexer": "ipython3",
   "version": "3.10.12"
  }
 },
 "nbformat": 4,
 "nbformat_minor": 5
}
