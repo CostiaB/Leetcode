{
 "cells": [
  {
   "attachments": {},
   "cell_type": "markdown",
   "id": "c0350a78",
   "metadata": {},
   "source": [
    "## 858. Mirror Reflection\n",
    "Medium\n",
    "\n",
    "There is a special square room with mirrors on each of the four walls. Except for the southwest corner, there are receptors on each of the remaining corners, numbered 0, 1, and 2.\n",
    "\n",
    "The square room has walls of length p and a laser ray from the southwest corner first meets the east wall at a distance q from the 0th receptor.\n",
    "\n",
    "Given the two integers p and q, return the number of the receptor that the ray meets first.\n",
    "\n",
    "The test cases are guaranteed so that the ray will meet a receptor eventually.\n",
    "\n",
    "<img src='https://s3-lc-upload.s3.amazonaws.com/uploads/2018/06/18/reflection.png'> \n",
    "\n",
    "Example 1:\n",
    "\n",
    "Input: p = 2, q = 1\n",
    "Output: 2\n",
    "Explanation: The ray meets receptor 2 the first time it gets reflected back to the left wall.\n",
    "\n",
    "Example 2:\n",
    "\n",
    "Input: p = 3, q = 1\n",
    "Output: 1\n",
    "\n",
    " \n",
    "\n",
    "Constraints:\n",
    "\n",
    "    1 <= q <= p <= 1000\n",
    "\n"
   ]
  },
  {
   "cell_type": "code",
   "execution_count": 8,
   "id": "e565fc2d",
   "metadata": {},
   "outputs": [],
   "source": [
    "import math\n",
    "def lcm(a, b):\n",
    "    return abs(a*b) // math.gcd(a, b)\n",
    "class Solution:\n",
    "    def mirrorReflection(self, p: int, q: int) -> int:\n",
    "        L = lcm(p,q)\n",
    "\n",
    "        if (L//q)%2 == 0:\n",
    "            return 2\n",
    "\n",
    "        return (L//p)%2"
   ]
  },
  {
   "cell_type": "code",
   "execution_count": 10,
   "id": "1f4a3d73",
   "metadata": {},
   "outputs": [
    {
     "data": {
      "text/plain": [
       "1"
      ]
     },
     "execution_count": 10,
     "metadata": {},
     "output_type": "execute_result"
    }
   ],
   "source": [
    "Solution().mirrorReflection(3, 1)"
   ]
  },
  {
   "cell_type": "markdown",
   "id": "4c07e3a2",
   "metadata": {},
   "source": [
    "Runtime: 48 ms, faster than 48.71% of Python3 online submissions for Mirror Reflection.\n",
    "Memory Usage: 13.9 MB, less than 65.14% of Python3 online submissions for Mirror Reflection."
   ]
  }
 ],
 "metadata": {
  "kernelspec": {
   "display_name": "Python 3 (ipykernel)",
   "language": "python",
   "name": "python3"
  },
  "language_info": {
   "codemirror_mode": {
    "name": "ipython",
    "version": 3
   },
   "file_extension": ".py",
   "mimetype": "text/x-python",
   "name": "python",
   "nbconvert_exporter": "python",
   "pygments_lexer": "ipython3",
   "version": "3.7.13"
  }
 },
 "nbformat": 4,
 "nbformat_minor": 5
}
