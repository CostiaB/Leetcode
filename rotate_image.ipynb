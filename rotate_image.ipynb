{
 "cells": [
  {
   "cell_type": "markdown",
   "id": "aa5d41e0",
   "metadata": {},
   "source": [
    "## 48. Rotate Image  \n",
    "Medium\n",
    "13.7K\n",
    "631\n",
    "Companies\n",
    "\n",
    "You are given an n x n 2D matrix representing an image, rotate the image by 90 degrees (clockwise).\n",
    "\n",
    "You have to rotate the image in-place, which means you have to modify the input 2D matrix directly. DO NOT allocate another 2D matrix and do the rotation.\n",
    "\n",
    " \n",
    "\n",
    "Example 1:\n",
    "\n",
    "<img src = 'https://assets.leetcode.com/uploads/2020/08/28/mat1.jpg'>\n",
    "Input: matrix = [[1,2,3],[4,5,6],[7,8,9]]  \n",
    "\n",
    "Output: [[7,4,1],[8,5,2],[9,6,3]]  \n",
    "\n",
    "Example 2:\n",
    "\n",
    "<img src = 'https://assets.leetcode.com/uploads/2020/08/28/mat2.jpg'>\n",
    "Input: matrix = [[5,1,9,11],[2,4,8,10],[13,3,6,7],[15,14,12,16]]  \n",
    "\n",
    "Output: [[15,13,2,5],[14,3,4,1],[12,6,8,9],[16,7,10,11]]  \n",
    "\n",
    " \n",
    "\n",
    "Constraints:\n",
    "\n",
    "    n == matrix.length == matrix[i].length\n",
    "    1 <= n <= 20\n",
    "    -1000 <= matrix[i][j] <= 1000\n",
    "\n"
   ]
  },
  {
   "cell_type": "code",
   "execution_count": null,
   "id": "947e65fc",
   "metadata": {},
   "outputs": [],
   "source": [
    "class Solution:\n",
    "    def rotate(self, matrix: List[List[int]]) -> None:\n",
    "        \"\"\"\n",
    "        Do not return anything, modify matrix in-place instead.\n",
    "        \"\"\"\n",
    "        # reverse matrix\n",
    "        w = 0\n",
    "        h = len(matrix) -1\n",
    "        while w < h:\n",
    "            matrix[w], matrix[h] = matrix[h], matrix[w]\n",
    "            w += 1\n",
    "            h -= 1\n",
    "        # transpose matrix\n",
    "        for i in range(len(matrix)):\n",
    "            for j in range(i):\n",
    "                matrix[i][j], matrix[j][i] = matrix[j][i], matrix[i][j]\n",
    "\n"
   ]
  },
  {
   "cell_type": "markdown",
   "id": "f91ad26f",
   "metadata": {},
   "source": [
    "Runtime 34 ms  \n",
    "Beats   \n",
    "83.90%  \n",
    "Memory 13.8 MB  \n",
    "Beats  \n",
    "97.90%  "
   ]
  }
 ],
 "metadata": {
  "kernelspec": {
   "display_name": "Python 3 (ipykernel)",
   "language": "python",
   "name": "python3"
  },
  "language_info": {
   "codemirror_mode": {
    "name": "ipython",
    "version": 3
   },
   "file_extension": ".py",
   "mimetype": "text/x-python",
   "name": "python",
   "nbconvert_exporter": "python",
   "pygments_lexer": "ipython3",
   "version": "3.8.13"
  }
 },
 "nbformat": 4,
 "nbformat_minor": 5
}
