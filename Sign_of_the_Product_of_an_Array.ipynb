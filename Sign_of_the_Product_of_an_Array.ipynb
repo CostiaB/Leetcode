{
 "cells": [
  {
   "cell_type": "markdown",
   "id": "71a3f562",
   "metadata": {},
   "source": [
    "## 1822. Sign of the Product of an Array\n",
    "Easy\n",
    "1.8K\n",
    "178\n",
    "Companies\n",
    "\n",
    "There is a function signFunc(x) that returns:\n",
    "\n",
    "    1 if x is positive.\n",
    "    -1 if x is negative.\n",
    "    0 if x is equal to 0.\n",
    "\n",
    "You are given an integer array nums. Let product be the product of all values in the array nums.\n",
    "\n",
    "Return signFunc(product).\n",
    "\n",
    " \n",
    "\n",
    "Example 1:\n",
    "\n",
    "Input: nums = [-1,-2,-3,-4,3,2,1]  \n",
    "Output: 1  \n",
    "Explanation: The product of all values in the array is 144, and signFunc(144) = 1  \n",
    "\n",
    "Example 2:  \n",
    "\n",
    "Input: nums = [1,5,0,2,-3]  \n",
    "Output: 0  \n",
    "Explanation: The product of all values in the array is 0, and signFunc(0) = 0  \n",
    "\n",
    "Example 3:  \n",
    "\n",
    "Input: nums = [-1,1,-1,1,-1]  \n",
    "Output: -1  \n",
    "Explanation: The product of all values in the array is -1, and signFunc(-1) = -1  \n",
    "\n",
    " \n",
    "\n",
    "Constraints:\n",
    "\n",
    "    1 <= nums.length <= 1000\n",
    "    -100 <= nums[i] <= 100\n",
    "\n"
   ]
  },
  {
   "cell_type": "code",
   "execution_count": null,
   "id": "6d1987fc",
   "metadata": {},
   "outputs": [],
   "source": [
    "class Solution:\n",
    "    def arraySign(self, nums: List[int]) -> int:\n",
    "        m = 1\n",
    "        ans = 1\n",
    "        for i in nums:\n",
    "            if i == 0:\n",
    "                return 0\n",
    "            m *= i\n",
    "        if m > 0:\n",
    "            ans = 1\n",
    "        elif m < 0:\n",
    "            ans = -1\n",
    "        return ans"
   ]
  },
  {
   "cell_type": "markdown",
   "id": "f4700dee",
   "metadata": {},
   "source": [
    "Runtime 78 ms    \n",
    "Beats  \n",
    "5.64%  \n",
    "Memory 16.5 MB  \n",
    "Beats  \n",
    "7.53%  "
   ]
  }
 ],
 "metadata": {
  "kernelspec": {
   "display_name": "Python 3 (ipykernel)",
   "language": "python",
   "name": "python3"
  },
  "language_info": {
   "codemirror_mode": {
    "name": "ipython",
    "version": 3
   },
   "file_extension": ".py",
   "mimetype": "text/x-python",
   "name": "python",
   "nbconvert_exporter": "python",
   "pygments_lexer": "ipython3",
   "version": "3.8.13"
  }
 },
 "nbformat": 4,
 "nbformat_minor": 5
}
