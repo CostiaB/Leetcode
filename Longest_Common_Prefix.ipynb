{
 "cells": [
  {
   "cell_type": "markdown",
   "id": "0e29a5eb",
   "metadata": {},
   "source": [
    "## 14. Longest Common Prefix\n",
    "Easy\n",
    "\n",
    "Write a function to find the longest common prefix string amongst an array of strings.\n",
    "\n",
    "If there is no common prefix, return an empty string \"\".\n",
    "\n",
    " \n",
    "\n",
    "Example 1:\n",
    "\n",
    "Input: strs = [\"flower\",\"flow\",\"flight\"]\n",
    "Output: \"fl\"\n",
    "\n",
    "Example 2:\n",
    "\n",
    "Input: strs = [\"dog\",\"racecar\",\"car\"]\n",
    "Output: \"\"\n",
    "Explanation: There is no common prefix among the input strings.\n",
    "\n",
    " \n",
    "\n",
    "Constraints:\n",
    "\n",
    "    1 <= strs.length <= 200\n",
    "    0 <= strs[i].length <= 200\n",
    "    strs[i] consists of only lowercase English letters.\n",
    "\n"
   ]
  },
  {
   "cell_type": "code",
   "execution_count": 40,
   "id": "832477ff",
   "metadata": {},
   "outputs": [],
   "source": [
    "class Solution:\n",
    "    def longestCommonPrefix(self, strs: list) -> str:\n",
    "        if len(strs)==1 or len(strs[0])==0:\n",
    "            return strs[0]\n",
    "        for i in range(len(strs[0])):\n",
    "            for s in strs[1:]:\n",
    "                if i<len(s):\n",
    "                    if s[i]!=strs[0][i]:\n",
    "                        return strs[0][:i]\n",
    "                else:\n",
    "                    return strs[0][:i]\n",
    "        return strs[0]\n",
    "                    \n",
    "                        "
   ]
  },
  {
   "cell_type": "code",
   "execution_count": 41,
   "id": "57ff9f6c",
   "metadata": {},
   "outputs": [
    {
     "data": {
      "text/plain": [
       "'a'"
      ]
     },
     "execution_count": 41,
     "metadata": {},
     "output_type": "execute_result"
    }
   ],
   "source": [
    "Solution().longestCommonPrefix( ['afd','a'])"
   ]
  },
  {
   "cell_type": "code",
   "execution_count": 42,
   "id": "bd0f0c44",
   "metadata": {},
   "outputs": [
    {
     "data": {
      "text/plain": [
       "'fl'"
      ]
     },
     "execution_count": 42,
     "metadata": {},
     "output_type": "execute_result"
    }
   ],
   "source": [
    "Solution().longestCommonPrefix( [\"flower\",\"flow\",\"flight\"])"
   ]
  },
  {
   "cell_type": "code",
   "execution_count": 43,
   "id": "de78d1b0",
   "metadata": {},
   "outputs": [
    {
     "data": {
      "text/plain": [
       "''"
      ]
     },
     "execution_count": 43,
     "metadata": {},
     "output_type": "execute_result"
    }
   ],
   "source": [
    "Solution().longestCommonPrefix( [\"\",\"\"])"
   ]
  },
  {
   "cell_type": "code",
   "execution_count": 44,
   "id": "8478cb65",
   "metadata": {},
   "outputs": [
    {
     "data": {
      "text/plain": [
       "'flower'"
      ]
     },
     "execution_count": 44,
     "metadata": {},
     "output_type": "execute_result"
    }
   ],
   "source": [
    "Solution().longestCommonPrefix( [\"flower\",\"flower\",\"flower\",\"flower\"])"
   ]
  },
  {
   "cell_type": "code",
   "execution_count": 45,
   "id": "50228ff3",
   "metadata": {},
   "outputs": [
    {
     "data": {
      "text/plain": [
       "'aa'"
      ]
     },
     "execution_count": 45,
     "metadata": {},
     "output_type": "execute_result"
    }
   ],
   "source": [
    "Solution().longestCommonPrefix([\"aaa\",\"aa\",\"aaa\"])"
   ]
  },
  {
   "cell_type": "code",
   "execution_count": 46,
   "id": "4b3ee8b0",
   "metadata": {},
   "outputs": [
    {
     "data": {
      "text/plain": [
       "'a'"
      ]
     },
     "execution_count": 46,
     "metadata": {},
     "output_type": "execute_result"
    }
   ],
   "source": [
    "Solution().longestCommonPrefix([\"a\",\"ac\"])"
   ]
  },
  {
   "cell_type": "markdown",
   "id": "2dbe5d89",
   "metadata": {},
   "source": [
    "Runtime: 76 ms, faster than 9.22% of Python3 online submissions for Longest Common Prefix.\n",
    "Memory Usage: 14 MB, less than 49.47% of Python3 online submissions for Longest Common Prefix."
   ]
  }
 ],
 "metadata": {
  "kernelspec": {
   "display_name": "Python 3 (ipykernel)",
   "language": "python",
   "name": "python3"
  },
  "language_info": {
   "codemirror_mode": {
    "name": "ipython",
    "version": 3
   },
   "file_extension": ".py",
   "mimetype": "text/x-python",
   "name": "python",
   "nbconvert_exporter": "python",
   "pygments_lexer": "ipython3",
   "version": "3.7.13"
  }
 },
 "nbformat": 4,
 "nbformat_minor": 5
}
