{
 "cells": [
  {
   "cell_type": "markdown",
   "id": "0e29a5eb",
   "metadata": {},
   "source": [
    "## 14. Longest Common Prefix\n",
    "Easy\n",
    "\n",
    "Write a function to find the longest common prefix string amongst an array of strings.\n",
    "\n",
    "If there is no common prefix, return an empty string \"\".\n",
    "\n",
    " \n",
    "\n",
    "Example 1:\n",
    "\n",
    "Input: strs = [\"flower\",\"flow\",\"flight\"]\n",
    "Output: \"fl\"\n",
    "\n",
    "Example 2:\n",
    "\n",
    "Input: strs = [\"dog\",\"racecar\",\"car\"]\n",
    "Output: \"\"\n",
    "Explanation: There is no common prefix among the input strings.\n",
    "\n",
    " \n",
    "\n",
    "Constraints:\n",
    "\n",
    "    1 <= strs.length <= 200\n",
    "    0 <= strs[i].length <= 200\n",
    "    strs[i] consists of only lowercase English letters.\n",
    "\n"
   ]
  },
  {
   "cell_type": "code",
   "execution_count": 31,
   "id": "99410a56",
   "metadata": {},
   "outputs": [],
   "source": [
    "class Solution:\n",
    "    def longestCommonPrefix(self, strs: list) -> str:\n",
    "        ans = \"\"\n",
    "        if len(strs)==1:\n",
    "            return strs[0]\n",
    "        for i in range(len(strs[0])):\n",
    "            for s in strs[1:]:\n",
    "                #№№print (s)\n",
    "                #print('ds', i)\n",
    "                if len(s) > (i):\n",
    "                    print('ds', i, len(s))\n",
    "                    if s[i]!=strs[0][i]:\n",
    "                        return s[0:i]\n",
    "        return s[0:i]"
   ]
  },
  {
   "cell_type": "code",
   "execution_count": 33,
   "id": "57ff9f6c",
   "metadata": {},
   "outputs": [
    {
     "name": "stdout",
     "output_type": "stream",
     "text": [
      "ds 0 1\n"
     ]
    },
    {
     "data": {
      "text/plain": [
       "'a'"
      ]
     },
     "execution_count": 33,
     "metadata": {},
     "output_type": "execute_result"
    }
   ],
   "source": [
    "Solution().longestCommonPrefix( ['afd','a'])"
   ]
  },
  {
   "cell_type": "code",
   "execution_count": 32,
   "id": "bd0f0c44",
   "metadata": {},
   "outputs": [
    {
     "name": "stdout",
     "output_type": "stream",
     "text": [
      "ds 0 4\n",
      "ds 0 6\n",
      "ds 1 4\n",
      "ds 1 6\n",
      "ds 2 4\n",
      "ds 2 6\n"
     ]
    },
    {
     "data": {
      "text/plain": [
       "'fl'"
      ]
     },
     "execution_count": 32,
     "metadata": {},
     "output_type": "execute_result"
    }
   ],
   "source": [
    "Solution().longestCommonPrefix( [\"flower\",\"flow\",\"flight\"])"
   ]
  }
 ],
 "metadata": {
  "kernelspec": {
   "display_name": "Python 3 (ipykernel)",
   "language": "python",
   "name": "python3"
  },
  "language_info": {
   "codemirror_mode": {
    "name": "ipython",
    "version": 3
   },
   "file_extension": ".py",
   "mimetype": "text/x-python",
   "name": "python",
   "nbconvert_exporter": "python",
   "pygments_lexer": "ipython3",
   "version": "3.8.11"
  }
 },
 "nbformat": 4,
 "nbformat_minor": 5
}
