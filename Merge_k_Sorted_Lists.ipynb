{
 "cells": [
  {
   "cell_type": "markdown",
   "id": "2366646e",
   "metadata": {},
   "source": [
    "## 23. Merge k Sorted Lists\n",
    "Hard\n",
    "\n",
    "You are given an array of k linked-lists lists, each linked-list is sorted in ascending order.\n",
    "\n",
    "Merge all the linked-lists into one sorted linked-list and return it.\n",
    "\n",
    " \n",
    "\n",
    "Example 1:\n",
    "\n",
    "Input: lists = [[1,4,5],[1,3,4],[2,6]]  \n",
    "Output: [1,1,2,3,4,4,5,6]  \n",
    "Explanation: The linked-lists are:  \n",
    "[  \n",
    "  1->4->5,  \n",
    "  1->3->4,  \n",
    "  2->6  \n",
    "]    \n",
    "\n",
    "merging them into one sorted list:  \n",
    "1->1->2->3->4->4->5->6    \n",
    "\n",
    "Example 2:  \n",
    "\n",
    "Input: lists = []  \n",
    "Output: []  \n",
    "  \n",
    "Example 3:  \n",
    "  \n",
    "Input: lists = [[]]  \n",
    "Output: []  \n",
    " \n",
    " \n",
    "\n",
    "Constraints:\n",
    "\n",
    "    k == lists.length\n",
    "    0 <= k <= 104\n",
    "    0 <= lists[i].length <= 500\n",
    "    -104 <= lists[i][j] <= 104\n",
    "    lists[i] is sorted in ascending order.\n",
    "    The sum of lists[i].length will not exceed 104.\n",
    "\n"
   ]
  },
  {
   "cell_type": "code",
   "execution_count": null,
   "id": "80fe2c53",
   "metadata": {},
   "outputs": [],
   "source": [
    "# Definition for singly-linked list.\n",
    "# class ListNode:\n",
    "#     def __init__(self, val=0, next=None):\n",
    "#         self.val = val\n",
    "#         self.next = next\n",
    "class Solution:\n",
    "    def mergeKLists(self, lists: List[Optional[ListNode]]) -> Optional[ListNode]:\n",
    "        head = tmp = ListNode()\n",
    "        vals = []\n",
    "        for l in lists:\n",
    "            while l:\n",
    "                vals.append(l.val)\n",
    "                l = l.next\n",
    "        for n in sorted(vals):\n",
    "            tmp.next = ListNode(n)\n",
    "            tmp = tmp.next\n",
    "        return head.next\n",
    "        \n",
    "        "
   ]
  },
  {
   "cell_type": "markdown",
   "id": "4b0b42bc",
   "metadata": {},
   "source": [
    "O(NlogN)  \n",
    "\n",
    "Runtime: 225 ms, faster than 55.80% of Python3 online submissions for Merge k Sorted Lists.  \n",
    "Memory Usage: 18.3 MB, less than 28.57% of Python3 online submissions for Merge k Sorted Lists."
   ]
  }
 ],
 "metadata": {
  "kernelspec": {
   "display_name": "Python 3 (ipykernel)",
   "language": "python",
   "name": "python3"
  },
  "language_info": {
   "codemirror_mode": {
    "name": "ipython",
    "version": 3
   },
   "file_extension": ".py",
   "mimetype": "text/x-python",
   "name": "python",
   "nbconvert_exporter": "python",
   "pygments_lexer": "ipython3",
   "version": "3.8.13"
  }
 },
 "nbformat": 4,
 "nbformat_minor": 5
}
