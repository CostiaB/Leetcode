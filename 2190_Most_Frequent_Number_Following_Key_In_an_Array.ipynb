{
 "cells": [
  {
   "cell_type": "markdown",
   "id": "56a06781",
   "metadata": {},
   "source": [
    "# 2190. Most Frequent Number Following Key In an Array\n",
    "Easy\n",
    "\n",
    "\n",
    "You are given a 0-indexed integer array nums. You are also given an integer key, which is present in nums.\n",
    "\n",
    "For every unique integer target in nums, count the number of times target immediately follows an occurrence of key in nums. In other words, count the number of indices i such that:\n",
    "\n",
    "    0 <= i <= nums.length - 2,\n",
    "    nums[i] == key and,\n",
    "    nums[i + 1] == target.\n",
    "\n",
    "Return the target with the maximum count. The test cases will be generated such that the target with maximum count is unique.\n",
    "\n",
    " \n",
    "\n",
    "Example 1:\n",
    "  \n",
    "Input: nums = [1,100,200,1,100], key = 1  \n",
    "Output: 100  \n",
    "Explanation: For target = 100, there are 2 occurrences at indices 1 and 4 which follow an occurrence of key.\n",
    "No other integers follow an occurrence of key, so we return 100.\n",
    "\n",
    "Example 2:  \n",
    "  \n",
    "Input: nums = [2,2,2,2,3], key = 2  \n",
    "Output: 2  \n",
    "Explanation: For target = 2, there are 3 occurrences at indices 1, 2, and 3 which follow an occurrence of key.\n",
    "For target = 3, there is only one occurrence at index 4 which follows an occurrence of key.\n",
    "target = 2 has the maximum number of occurrences following an occurrence of key, so we return 2.\n",
    "\n",
    " \n",
    "\n",
    "Constraints:\n",
    "\n",
    "    2 <= nums.length <= 1000\n",
    "    1 <= nums[i] <= 1000\n",
    "    The test cases will be generated such that the answer is unique.\n",
    "\n"
   ]
  },
  {
   "cell_type": "code",
   "execution_count": null,
   "id": "06384330",
   "metadata": {},
   "outputs": [],
   "source": [
    "class Solution:\n",
    "    def mostFrequent(self, nums: List[int], key: int) -> int:\n",
    "\n",
    "        d = {}\n",
    "        for i in range(len(nums)):\n",
    "            if (nums[i] == key) and (i<len(nums)-1):\n",
    "                d[nums[i + 1]] = d.get(nums[i+1],0) + 1\n",
    "        \n",
    "        d = sorted(d , key = lambda x: d[x])\n",
    "\n",
    "        return d[-1] "
   ]
  },
  {
   "cell_type": "markdown",
   "id": "e9366e8a",
   "metadata": {},
   "source": [
    "Runtime 84ms  Beats 57.45%  \n",
    "Memory 16.48MB Beats 51.06%"
   ]
  }
 ],
 "metadata": {
  "kernelspec": {
   "display_name": "Python 3 (ipykernel)",
   "language": "python",
   "name": "python3"
  },
  "language_info": {
   "codemirror_mode": {
    "name": "ipython",
    "version": 3
   },
   "file_extension": ".py",
   "mimetype": "text/x-python",
   "name": "python",
   "nbconvert_exporter": "python",
   "pygments_lexer": "ipython3",
   "version": "3.10.12"
  }
 },
 "nbformat": 4,
 "nbformat_minor": 5
}
