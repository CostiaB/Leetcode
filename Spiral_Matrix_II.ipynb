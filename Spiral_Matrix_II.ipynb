{
 "cells": [
  {
   "cell_type": "markdown",
   "id": "305201e6",
   "metadata": {},
   "source": [
    "## 59. Spiral Matrix II\n",
    "Medium\n",
    "5.6K\n",
    "232\n",
    "Companies\n",
    "\n",
    "Given a positive integer n, generate an n x n matrix filled with elements from 1 to n2 in spiral order.\n",
    "\n",
    " \n",
    "\n",
    "Example 1:  \n",
    "<img src='https://assets.leetcode.com/uploads/2020/11/13/spiraln.jpg'>\n",
    "Input: n = 3  \n",
    "Output: [[1,2,3],[8,9,4],[7,6,5]]  \n",
    "\n",
    "Example 2:  \n",
    "\n",
    "Input: n = 1  \n",
    "Output: [[1]]  \n",
    "  \n",
    " \n",
    "\n",
    "Constraints:  \n",
    "\n",
    "    1 <= n <= 20  \n",
    "\n"
   ]
  },
  {
   "cell_type": "code",
   "execution_count": null,
   "id": "d6fef58e",
   "metadata": {},
   "outputs": [],
   "source": [
    "class Solution:\n",
    "    def generateMatrix(self, n: int) -> List[List[int]]:\n",
    "        ans = [[0] * n for _ in range(n)]\n",
    "        i, j, di, dj = 0, 0, 0, 1\n",
    "        for k in range(n*n):\n",
    "            ans[i][j] = k + 1\n",
    "            if ans[(i + di) % n][(j + dj) % n]:\n",
    "                di, dj = dj, -di\n",
    "            i += di\n",
    "            j += dj\n",
    "        return ans"
   ]
  },
  {
   "cell_type": "markdown",
   "id": "aa8864e0",
   "metadata": {},
   "source": [
    "Runtime 52 ms  \n",
    "Beats  \n",
    "28.76%  \n",
    "Memory 16.3 MB  \n",
    "Beats  \n",
    "29.22%  "
   ]
  }
 ],
 "metadata": {
  "kernelspec": {
   "display_name": "Python 3 (ipykernel)",
   "language": "python",
   "name": "python3"
  },
  "language_info": {
   "codemirror_mode": {
    "name": "ipython",
    "version": 3
   },
   "file_extension": ".py",
   "mimetype": "text/x-python",
   "name": "python",
   "nbconvert_exporter": "python",
   "pygments_lexer": "ipython3",
   "version": "3.8.13"
  }
 },
 "nbformat": 4,
 "nbformat_minor": 5
}
