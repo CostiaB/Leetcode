{
 "cells": [
  {
   "cell_type": "markdown",
   "id": "677cc9fc",
   "metadata": {},
   "source": [
    "## 29. Divide Two Integers\n",
    "Medium\n",
    "\n",
    "Given two integers dividend and divisor, divide two integers without using multiplication, division, and mod operator.\n",
    "\n",
    "The integer division should truncate toward zero, which means losing its fractional part. For example, 8.345 would be truncated to 8, and -2.7335 would be truncated to -2.\n",
    "\n",
    "Return the quotient after dividing dividend by divisor.\n",
    "\n",
    "Note: Assume we are dealing with an environment that could only store integers within the 32-bit signed integer range: [−231, 231 − 1]. For this problem, if the quotient is strictly greater than 231 - 1, then return 231 - 1, and if the quotient is strictly less than -231, then return -231.\n",
    "\n",
    " \n",
    "\n",
    "Example 1:\n",
    "\n",
    "Input: dividend = 10, divisor = 3  \n",
    "Output: 3  \n",
    "Explanation: 10/3 = 3.33333.. which is truncated to 3.  \n",
    "\n",
    "Example 2:\n",
    "\n",
    "Input: dividend = 7, divisor = -3  \n",
    "Output: -2  \n",
    "Explanation: 7/-3 = -2.33333.. which is truncated to -2.  \n",
    "\n",
    " \n",
    "\n",
    "Constraints:\n",
    "\n",
    "    -231 <= dividend, divisor <= 231 - 1\n",
    "    divisor != 0\n",
    "\n"
   ]
  },
  {
   "cell_type": "code",
   "execution_count": null,
   "id": "24ed47af",
   "metadata": {},
   "outputs": [],
   "source": [
    "class Solution:\n",
    "    def divide(self, dividend: int, divisor: int) -> int:\n",
    "        if dividend == 0: return 0\n",
    "        if dividend == -2147483648 and divisor == -1: return 2147483647\n",
    "        sign = 1\n",
    "        if dividend < 0: \n",
    "            sign = -1 * sign\n",
    "            dividend = -1 * dividend\n",
    "        if divisor < 0:\n",
    "            sign = -1 * sign\n",
    "            divisor = -1 * divisor\n",
    "        quotient = 0\n",
    "        while dividend >= divisor:\n",
    "            # k is used to determine how many times we need to multiply divisor by 2\n",
    "            # Logic is, we will consider even multiples of divisor as long as divisor\n",
    "            # <= dividend. If it becomes > dividend, then we will get the quotient as\n",
    "            # 2 ^ k\n",
    "            # We subtract the multiple of divisor which is just below the multiple \n",
    "            # that became > dividend from dividend\n",
    "            # a << b will add 0 bits b number of times to a to the right end. \n",
    "            # i.e; 2 << 2 will be 1000 since 2 == 10 in binary and adding 2 0 bits \n",
    "            # at end will make it 1000 which is 8 \n",
    "\n",
    "            # Example, dividend = 10 and divisor = 3\n",
    "            k = 0\n",
    "            # k = 0, dividend = 10 > (divisor << 1 = 6)\n",
    "            # k = 1, dividend = 10 < (divisor << 2 = 12)\n",
    "            while dividend > divisor << (k + 1): k += 1\n",
    "            # quotient += 1 << 1 === quotient += 2 [10 in binary]\n",
    "            # quotient = 2\n",
    "            quotient += 1 << k\n",
    "            # dividend -= 3 << 1 === dividend -= 6 [110 in binary]\n",
    "            # dividend = 4\n",
    "            dividend -= divisor << k\n",
    "        \n",
    "        return quotient * sign"
   ]
  },
  {
   "cell_type": "markdown",
   "id": "4ea8b4fa",
   "metadata": {},
   "source": [
    "Runtime: 34 ms, faster than 94.75% of Python3 online submissions for Divide Two Integers.  \n",
    "Memory Usage: 14 MB, less than 27.41% of Python3 online submissions for Divide Two Integers."
   ]
  }
 ],
 "metadata": {
  "kernelspec": {
   "display_name": "Python 3 (ipykernel)",
   "language": "python",
   "name": "python3"
  },
  "language_info": {
   "codemirror_mode": {
    "name": "ipython",
    "version": 3
   },
   "file_extension": ".py",
   "mimetype": "text/x-python",
   "name": "python",
   "nbconvert_exporter": "python",
   "pygments_lexer": "ipython3",
   "version": "3.8.13"
  }
 },
 "nbformat": 4,
 "nbformat_minor": 5
}
