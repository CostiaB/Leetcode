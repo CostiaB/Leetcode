{
 "cells": [
  {
   "cell_type": "markdown",
   "id": "cdaf937c",
   "metadata": {},
   "source": [
    "# 2283. Check if Number Has Equal Digit Count and Digit Value\n",
    "Easy\n",
    "\n",
    "\n",
    "You are given a 0-indexed string num of length n consisting of digits.\n",
    "\n",
    "Return true if for every index i in the range 0 <= i < n, the digit i occurs num[i] times in num, otherwise return false.\n",
    "\n",
    " \n",
    "\n",
    "Example 1:  \n",
    "  \n",
    "Input: num = \"1210\"  \n",
    "Output: true   \n",
    "Explanation:  \n",
    "num[0] = '1'. The digit 0 occurs once in num.  \n",
    "num[1] = '2'. The digit 1 occurs twice in num.  \n",
    "num[2] = '1'. The digit 2 occurs once in num.  \n",
    "num[3] = '0'. The digit 3 occurs zero times in num.  \n",
    "The condition holds true for every index in \"1210\", so return true.  \n",
    "\n",
    "Example 2:  \n",
    "  \n",
    "Input: num = \"030\"  \n",
    "Output: false  \n",
    "Explanation:  \n",
    "num[0] = '0'. The digit 0 should occur zero times, but actually occurs twice in num.  \n",
    "num[1] = '3'. The digit 1 should occur three times, but actually occurs zero times in num.  \n",
    "num[2] = '0'. The digit 2 occurs zero times in num.  \n",
    "The indices 0 and 1 both violate the condition, so return false.  \n",
    "\n",
    " \n",
    "\n",
    "Constraints:  \n",
    "  \n",
    "    n == num.length  \n",
    "    1 <= n <= 10  \n",
    "    num consists of digits.  \n",
    "\n"
   ]
  },
  {
   "cell_type": "code",
   "execution_count": null,
   "id": "0205095b",
   "metadata": {},
   "outputs": [],
   "source": [
    "class Solution:\n",
    "    def digitCount(self, num: str) -> bool:\n",
    "        for i, s in enumerate(num):\n",
    "            print(i)\n",
    "            if num.count(str(i)) != int(s):\n",
    "                return False\n",
    "        return True"
   ]
  },
  {
   "cell_type": "markdown",
   "id": "54a99fc8",
   "metadata": {},
   "source": [
    "Runtime 37 ms Beats 68.83%  \n",
    "Memory 16.1 MB Beats 92.55%"
   ]
  }
 ],
 "metadata": {
  "kernelspec": {
   "display_name": "Python 3 (ipykernel)",
   "language": "python",
   "name": "python3"
  },
  "language_info": {
   "codemirror_mode": {
    "name": "ipython",
    "version": 3
   },
   "file_extension": ".py",
   "mimetype": "text/x-python",
   "name": "python",
   "nbconvert_exporter": "python",
   "pygments_lexer": "ipython3",
   "version": "3.10.12"
  }
 },
 "nbformat": 4,
 "nbformat_minor": 5
}
