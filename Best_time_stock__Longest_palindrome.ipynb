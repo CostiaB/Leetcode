{
 "cells": [
  {
   "cell_type": "markdown",
   "id": "974e3f8d",
   "metadata": {},
   "source": [
    "## 121. Best Time to Buy and Sell Stock\n",
    "Easy\n",
    "\n",
    "You are given an array prices where prices[i] is the price of a given stock on the ith day.\n",
    "\n",
    "You want to maximize your profit by choosing a single day to buy one stock and choosing a different day in the future to sell that stock.\n",
    "\n",
    "Return the maximum profit you can achieve from this transaction. If you cannot achieve any profit, return 0.\n",
    "\n",
    " \n",
    "\n",
    "Example 1:\n",
    "\n",
    "Input: prices = [7,1,5,3,6,4]\n",
    "Output: 5\n",
    "Explanation: Buy on day 2 (price = 1) and sell on day 5 (price = 6), profit = 6-1 = 5.\n",
    "Note that buying on day 2 and selling on day 1 is not allowed because you must buy before you sell.\n",
    "\n",
    "Example 2:\n",
    "\n",
    "Input: prices = [7,6,4,3,1]\n",
    "Output: 0\n",
    "Explanation: In this case, no transactions are done and the max profit = 0.\n",
    "\n",
    " \n",
    "\n",
    "Constraints:\n",
    "\n",
    "    1 <= prices.length <= 105\n",
    "    0 <= prices[i] <= 104\n",
    "\n"
   ]
  },
  {
   "cell_type": "code",
   "execution_count": 1,
   "id": "fd8a17b4",
   "metadata": {},
   "outputs": [],
   "source": [
    "class Solution:\n",
    "    def maxProfit(self, prices: list) -> int:\n",
    "        buy_price = prices[0]\n",
    "        sell_price = 0\n",
    "        profit = 0\n",
    "        for price in prices:\n",
    "            if price < buy_price:\n",
    "                buy_price = price\n",
    "            sell_price = price\n",
    "            if sell_price - buy_price > profit:\n",
    "                profit = sell_price - buy_price\n",
    "        return profit\n",
    "            "
   ]
  },
  {
   "cell_type": "code",
   "execution_count": 2,
   "id": "cee4dd30",
   "metadata": {},
   "outputs": [
    {
     "data": {
      "text/plain": [
       "5"
      ]
     },
     "execution_count": 2,
     "metadata": {},
     "output_type": "execute_result"
    }
   ],
   "source": [
    "Solution().maxProfit([7,1,5,3,6,4])"
   ]
  },
  {
   "cell_type": "markdown",
   "id": "ac083b63",
   "metadata": {},
   "source": [
    "Runtime: 1043 ms, faster than 94.90% of Python3 online submissions for Best Time to Buy and Sell Stock.  \n",
    "Memory Usage: 25.1 MB, less than 38.07% of Python3 online submissions for Best Time to Buy and Sell Stock."
   ]
  },
  {
   "cell_type": "markdown",
   "id": "51e5d452",
   "metadata": {},
   "source": [
    "## 409. Longest Palindrome\n",
    "Easy\n",
    "\n",
    "Given a string s which consists of lowercase or uppercase letters, return the length of the longest palindrome that can be built with those letters.\n",
    "\n",
    "Letters are case sensitive, for example, \"Aa\" is not considered a palindrome here.\n",
    "\n",
    " \n",
    "\n",
    "Example 1:\n",
    "\n",
    "Input: s = \"abccccdd\"\n",
    "Output: 7\n",
    "Explanation: One longest palindrome that can be built is \"dccaccd\", whose length is 7.\n",
    "\n",
    "Example 2:\n",
    "\n",
    "Input: s = \"a\"\n",
    "Output: 1\n",
    "Explanation: The longest palindrome that can be built is \"a\", whose length is 1.\n",
    "\n",
    " \n",
    "\n",
    "Constraints:\n",
    "\n",
    "    1 <= s.length <= 2000\n",
    "    s consists of lowercase and/or uppercase English letters only.\n",
    "\n"
   ]
  },
  {
   "cell_type": "code",
   "execution_count": 3,
   "id": "f757844f",
   "metadata": {},
   "outputs": [],
   "source": [
    "class Solution:\n",
    "    def longestPalindrome(self, s: str) -> int:\n",
    "        chars = {}\n",
    "        for l in s:\n",
    "            if l not in chars.keys():\n",
    "                chars[l] = 1\n",
    "            else: \n",
    "                chars[l]+=1 \n",
    "        return sum([i//2 for i in chars.values()])*2 +int(any([i%2 for i in chars.values()]))"
   ]
  },
  {
   "cell_type": "code",
   "execution_count": 5,
   "id": "492b533f",
   "metadata": {},
   "outputs": [
    {
     "data": {
      "text/plain": [
       "3"
      ]
     },
     "execution_count": 5,
     "metadata": {},
     "output_type": "execute_result"
    }
   ],
   "source": [
    "Solution().longestPalindrome('abb')"
   ]
  },
  {
   "cell_type": "code",
   "execution_count": 6,
   "id": "51ba9909",
   "metadata": {},
   "outputs": [
    {
     "data": {
      "text/plain": [
       "2"
      ]
     },
     "execution_count": 6,
     "metadata": {},
     "output_type": "execute_result"
    }
   ],
   "source": [
    "Solution().longestPalindrome('bb')"
   ]
  },
  {
   "cell_type": "markdown",
   "id": "d8f62498",
   "metadata": {},
   "source": [
    "Runtime: 66 ms, faster than 16.04% of Python3 online submissions for Longest Palindrome.  \n",
    "Memory Usage: 13.9 MB, less than 21.86% of Python3 online submissions for Longest Palindrome."
   ]
  }
 ],
 "metadata": {
  "kernelspec": {
   "display_name": "Python 3 (ipykernel)",
   "language": "python",
   "name": "python3"
  },
  "language_info": {
   "codemirror_mode": {
    "name": "ipython",
    "version": 3
   },
   "file_extension": ".py",
   "mimetype": "text/x-python",
   "name": "python",
   "nbconvert_exporter": "python",
   "pygments_lexer": "ipython3",
   "version": "3.8.11"
  }
 },
 "nbformat": 4,
 "nbformat_minor": 5
}
