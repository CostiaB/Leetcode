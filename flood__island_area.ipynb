{
 "cells": [
  {
   "cell_type": "markdown",
   "id": "572f56a7",
   "metadata": {},
   "source": [
    "## Flood Fill\n",
    "Easy\n",
    "\n",
    "An image is represented by an m x n integer grid image where image[i][j] represents the pixel value of the image.\n",
    "\n",
    "You are also given three integers sr, sc, and newColor. You should perform a flood fill on the image starting from the pixel image[sr][sc].\n",
    "\n",
    "To perform a flood fill, consider the starting pixel, plus any pixels connected 4-directionally to the starting pixel of the same color as the starting pixel, plus any pixels connected 4-directionally to those pixels (also with the same color), and so on. Replace the color of all of the aforementioned pixels with newColor.\n",
    "\n",
    "Return the modified image after performing the flood fill.\n",
    "\n",
    " \n",
    "\n",
    "Example 1:\n",
    "\n",
    "Input: image = [[1,1,1],[1,1,0],[1,0,1]], sr = 1, sc = 1, newColor = 2\n",
    "Output: [[2,2,2],[2,2,0],[2,0,1]]\n",
    "Explanation: From the center of the image with position (sr, sc) = (1, 1) (i.e., the red pixel), all pixels connected by a path of the same color as the starting pixel (i.e., the blue pixels) are colored with the new color.\n",
    "Note the bottom corner is not colored 2, because it is not 4-directionally connected to the starting pixel.\n",
    "\n",
    "Example 2:\n",
    "\n",
    "Input: image = [[0,0,0],[0,0,0]], sr = 0, sc = 0, newColor = 2\n",
    "Output: [[2,2,2],[2,2,2]]\n",
    "\n",
    " \n",
    "\n",
    "Constraints:\n",
    "\n",
    "    m == image.length\n",
    "    n == image[i].length\n",
    "    1 <= m, n <= 50\n",
    "    0 <= image[i][j], newColor < 216\n",
    "    0 <= sr < m\n",
    "    0 <= sc < n\n",
    "\n"
   ]
  },
  {
   "cell_type": "code",
   "execution_count": 12,
   "id": "58672f54",
   "metadata": {},
   "outputs": [],
   "source": [
    "class Solution:\n",
    "    def floodFill(self, image: list, sr: int, sc: int, newColor: int) -> list:\n",
    "        def flood(row, col, color):\n",
    "            if  row >= len(image) or row < 0:\n",
    "                return\n",
    "            if col >= len(image[0]) or col < 0:\n",
    "                return\n",
    "            if image[row][col] == newColor:\n",
    "                return\n",
    "            if image[row][col] == color:\n",
    "                image[row][col] = newColor\n",
    "            else:\n",
    "                return\n",
    "\n",
    "            flood(row + 1, col, color)\n",
    "            flood(row - 1, col, color)\n",
    "            flood(row, col + 1, color)\n",
    "            flood(row, col - 1, color)\n",
    "\n",
    "\n",
    "        source_color = image[sr][sc]\n",
    "        flood(sr, sc, source_color)\n",
    "        return image"
   ]
  },
  {
   "cell_type": "code",
   "execution_count": 13,
   "id": "bf53f288",
   "metadata": {},
   "outputs": [
    {
     "data": {
      "text/plain": [
       "[[2, 2, 2], [2, 2, 0], [2, 0, 1]]"
      ]
     },
     "execution_count": 13,
     "metadata": {},
     "output_type": "execute_result"
    }
   ],
   "source": [
    "Solution().floodFill(image = [[1,1,1],[1,1,0],[1,0,1]], sr = 1, sc = 1, newColor = 2)"
   ]
  },
  {
   "cell_type": "markdown",
   "id": "b79f9859",
   "metadata": {},
   "source": [
    "## Max Area of Island\n",
    "Medium\n",
    "\n",
    "You are given an m x n binary matrix grid. An island is a group of 1's (representing land) connected 4-directionally (horizontal or vertical.) You may assume all four edges of the grid are surrounded by water.\n",
    "\n",
    "The area of an island is the number of cells with a value 1 in the island.\n",
    "\n",
    "Return the maximum area of an island in grid. If there is no island, return 0.\n",
    "\n",
    " \n",
    "\n",
    "Example 1:\n",
    "<img src='https://assets.leetcode.com/uploads/2021/05/01/maxarea1-grid.jpg'>\n",
    "\n",
    "Input: grid = [[0,0,1,0,0,0,0,1,0,0,0,0,0],[0,0,0,0,0,0,0,1,1,1,0,0,0],[0,1,1,0,1,0,0,0,0,0,0,0,0],[0,1,0,0,1,1,0,0,1,0,1,0,0],[0,1,0,0,1,1,0,0,1,1,1,0,0],[0,0,0,0,0,0,0,0,0,0,1,0,0],[0,0,0,0,0,0,0,1,1,1,0,0,0],[0,0,0,0,0,0,0,1,1,0,0,0,0]]\n",
    "Output: 6\n",
    "Explanation: The answer is not 11, because the island must be connected 4-directionally.\n",
    "\n",
    "Example 2:\n",
    "\n",
    "Input: grid = [[0,0,0,0,0,0,0,0]]\n",
    "Output: 0\n",
    "\n",
    " \n",
    "\n",
    "Constraints:\n",
    "\n",
    "    m == grid.length\n",
    "    n == grid[i].length\n",
    "    1 <= m, n <= 50\n",
    "    grid[i][j] is either 0 or 1.\n",
    "\n"
   ]
  },
  {
   "cell_type": "code",
   "execution_count": 25,
   "id": "f404aefa",
   "metadata": {},
   "outputs": [],
   "source": [
    "class Solution:\n",
    "    def maxAreaOfIsland(self, grid: list)-> int:\n",
    "        nrow, ncol = len(grid), len(grid[0])\n",
    "        visited = set()\n",
    "        def dfs(r, c):\n",
    "            if (r < 0 or r == nrow or c < 0 or c == ncol or\n",
    "               grid[r][c] == 0 or (r, c) in visited):\n",
    "                return 0\n",
    "            \n",
    "            visited.add((r, c))\n",
    "            \n",
    "            return (1 + dfs(r+1, c) +\n",
    "                    dfs(r-1, c) +\n",
    "                    dfs(r, c+1) +\n",
    "                    dfs(r, c-1)\n",
    "                   )\n",
    "        area = 0\n",
    "        for r in range(nrow):\n",
    "            for c in range(ncol):\n",
    "                area = max (area, dfs(r, c))\n",
    "        return area"
   ]
  },
  {
   "cell_type": "code",
   "execution_count": 26,
   "id": "861afd4f",
   "metadata": {},
   "outputs": [
    {
     "data": {
      "text/plain": [
       "6"
      ]
     },
     "execution_count": 26,
     "metadata": {},
     "output_type": "execute_result"
    }
   ],
   "source": [
    "grid = [[0,0,1,0,0,0,0,1,0,0,0,0,0],[0,0,0,0,0,0,0,1,1,1,0,0,0],[0,1,1,0,1,0,0,0,0,0,0,0,0],[0,1,0,0,1,1,0,0,1,0,1,0,0],[0,1,0,0,1,1,0,0,1,1,1,0,0],[0,0,0,0,0,0,0,0,0,0,1,0,0],[0,0,0,0,0,0,0,1,1,1,0,0,0],[0,0,0,0,0,0,0,1,1,0,0,0,0]]\n",
    "\n",
    "Solution().maxAreaOfIsland(grid)"
   ]
  }
 ],
 "metadata": {
  "kernelspec": {
   "display_name": "Python 3 (ipykernel)",
   "language": "python",
   "name": "python3"
  },
  "language_info": {
   "codemirror_mode": {
    "name": "ipython",
    "version": 3
   },
   "file_extension": ".py",
   "mimetype": "text/x-python",
   "name": "python",
   "nbconvert_exporter": "python",
   "pygments_lexer": "ipython3",
   "version": "3.7.13"
  }
 },
 "nbformat": 4,
 "nbformat_minor": 5
}
