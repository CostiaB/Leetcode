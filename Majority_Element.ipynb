{
 "cells": [
  {
   "cell_type": "markdown",
   "id": "56e4cb64",
   "metadata": {},
   "source": [
    "## 169. Majority Element\n",
    "Easy  \n",
    "14.4K  \n",
    "440  \n",
    "Companies  \n",
    "\n",
    "Given an array nums of size n, return the majority element.\n",
    "\n",
    "The majority element is the element that appears more than ⌊n / 2⌋ times. You may assume that the majority element always exists in the array.\n",
    "\n",
    " \n",
    "\n",
    "Example 1:\n",
    "\n",
    "Input: nums = [3,2,3]\n",
    "Output: 3\n",
    "\n",
    "Example 2:\n",
    "\n",
    "Input: nums = [2,2,1,1,1,2,2]\n",
    "Output: 2\n",
    "\n",
    " \n",
    "\n",
    "Constraints:\n",
    "\n",
    "    n == nums.length\n",
    "    1 <= n <= 5 * 104\n",
    "    -109 <= nums[i] <= 109\n",
    "\n",
    " \n",
    "Follow-up: Could you solve the problem in linear time and in O(1) space?"
   ]
  },
  {
   "cell_type": "code",
   "execution_count": null,
   "id": "95ab14d7",
   "metadata": {},
   "outputs": [],
   "source": [
    "class Solution:\n",
    "    def majorityElement(self, nums: List[int]) -> int:\n",
    "        nums.sort()\n",
    "        return nums[len(nums)//2]"
   ]
  },
  {
   "cell_type": "markdown",
   "id": "1e26fed4",
   "metadata": {},
   "source": [
    "Runtime 161 ms  \n",
    "Beats  \n",
    "81.74%  \n",
    "Memory 15.5 MB  \n",
    "Beats  \n",
    "22.71%  "
   ]
  },
  {
   "cell_type": "code",
   "execution_count": null,
   "id": "2e4c0bc0",
   "metadata": {},
   "outputs": [],
   "source": [
    "class Solution:\n",
    "    def majorityElement(self, nums: List[int]) -> int:\n",
    "        counts = collections.Counter(nums)\n",
    "        return max(counts.keys(), key=counts.get)"
   ]
  },
  {
   "cell_type": "markdown",
   "id": "d3d0c686",
   "metadata": {},
   "source": [
    "Runtime 158 ms  \n",
    "Beats  \n",
    "89.74%  \n",
    "Memory 15.4 MB  \n",
    "Beats  \n",
    "73.59%  "
   ]
  }
 ],
 "metadata": {
  "kernelspec": {
   "display_name": "Python 3 (ipykernel)",
   "language": "python",
   "name": "python3"
  },
  "language_info": {
   "codemirror_mode": {
    "name": "ipython",
    "version": 3
   },
   "file_extension": ".py",
   "mimetype": "text/x-python",
   "name": "python",
   "nbconvert_exporter": "python",
   "pygments_lexer": "ipython3",
   "version": "3.8.13"
  }
 },
 "nbformat": 4,
 "nbformat_minor": 5
}
