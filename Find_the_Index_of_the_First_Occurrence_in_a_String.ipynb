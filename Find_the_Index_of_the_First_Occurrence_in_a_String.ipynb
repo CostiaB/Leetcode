{
 "cells": [
  {
   "cell_type": "markdown",
   "id": "67b56b7a",
   "metadata": {},
   "source": [
    "## 28. Find the Index of the First Occurrence in a String\n",
    "Medium\n",
    "1.8K\n",
    "115\n",
    "Companies\n",
    "\n",
    "Given two strings needle and haystack, return the index of the first occurrence of needle in haystack, or -1 if needle is not part of haystack.\n",
    "\n",
    " \n",
    "\n",
    "Example 1:\n",
    "\n",
    "Input: haystack = \"sadbutsad\", needle = \"sad\"  \n",
    "Output: 0  \n",
    "Explanation: \"sad\" occurs at index 0 and 6.  \n",
    "The first occurrence is at index 0, so we return 0.  \n",
    "\n",
    "Example 2:\n",
    "\n",
    "Input: haystack = \"leetcode\", needle = \"leeto\"  \n",
    "Output: -1  \n",
    "Explanation: \"leeto\" did not occur in \"leetcode\", so we return -1.  \n",
    "\n",
    " \n",
    "\n",
    "Constraints:\n",
    "\n",
    "    1 <= haystack.length, needle.length <= 104\n",
    "    haystack and needle consist of only lowercase English characters.\n",
    "\n"
   ]
  },
  {
   "cell_type": "code",
   "execution_count": null,
   "id": "22e2620d",
   "metadata": {},
   "outputs": [],
   "source": [
    "class Solution:\n",
    "    def strStr(self, haystack: str, needle: str) -> int:\n",
    "        l = len(needle)\n",
    "        print(haystack)\n",
    "        for i,t in enumerate(haystack):\n",
    "            if t == needle[0]:\n",
    "                if haystack[i:(i+l)]==needle:\n",
    "                    return i\n",
    "            print(t)\n",
    "        return -1"
   ]
  },
  {
   "cell_type": "markdown",
   "id": "337333b3",
   "metadata": {},
   "source": [
    "Runtime 29 ms  \n",
    "Beats  \n",
    "82.53% \n",
    "Memory 13.9 MB  \n",
    "Beats  \n",
    "11.3%  "
   ]
  }
 ],
 "metadata": {
  "kernelspec": {
   "display_name": "Python 3 (ipykernel)",
   "language": "python",
   "name": "python3"
  },
  "language_info": {
   "codemirror_mode": {
    "name": "ipython",
    "version": 3
   },
   "file_extension": ".py",
   "mimetype": "text/x-python",
   "name": "python",
   "nbconvert_exporter": "python",
   "pygments_lexer": "ipython3",
   "version": "3.8.13"
  }
 },
 "nbformat": 4,
 "nbformat_minor": 5
}
