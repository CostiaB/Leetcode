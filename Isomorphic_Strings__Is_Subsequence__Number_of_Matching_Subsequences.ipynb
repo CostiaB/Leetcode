{
 "cells": [
  {
   "cell_type": "markdown",
   "id": "e21047a7",
   "metadata": {},
   "source": [
    "## 205. Isomorphic Strings\n",
    "Easy\n",
    "\n",
    "Given two strings s and t, determine if they are isomorphic.\n",
    "\n",
    "Two strings s and t are isomorphic if the characters in s can be replaced to get t.\n",
    "\n",
    "All occurrences of a character must be replaced with another character while preserving the order of characters. No two characters may map to the same character, but a character may map to itself.\n",
    "\n",
    " \n",
    "\n",
    "Example 1:\n",
    "\n",
    "Input: s = \"egg\", t = \"add\"\n",
    "Output: true\n",
    "\n",
    "Example 2:\n",
    "\n",
    "Input: s = \"foo\", t = \"bar\"\n",
    "Output: false\n",
    "\n",
    "Example 3:\n",
    "\n",
    "Input: s = \"paper\", t = \"title\"\n",
    "Output: true\n",
    "\n",
    " \n",
    "\n",
    "Constraints:\n",
    "\n",
    "    1 <= s.length <= 5 * 104\n",
    "    t.length == s.length\n",
    "    s and t consist of any valid ascii character.\n",
    "\n"
   ]
  },
  {
   "cell_type": "code",
   "execution_count": 14,
   "id": "cd3b30ae",
   "metadata": {},
   "outputs": [],
   "source": [
    "class Solution:\n",
    "    def isIsomorphic(self, s: str, t: str) -> bool:\n",
    "        dict_s = {e: s.count(e) for e in set(s)}\n",
    "        dict_t = {e: t.count(e) for e in set(t)}\n",
    "        return sorted(dict_s.values()) == sorted(dict_t.values())  "
   ]
  },
  {
   "cell_type": "code",
   "execution_count": 15,
   "id": "0eba3b1a",
   "metadata": {},
   "outputs": [
    {
     "data": {
      "text/plain": [
       "True"
      ]
     },
     "execution_count": 15,
     "metadata": {},
     "output_type": "execute_result"
    }
   ],
   "source": [
    "Solution().isIsomorphic(s = \"egg\", t = \"add\")"
   ]
  },
  {
   "cell_type": "code",
   "execution_count": 16,
   "id": "7cd4b950",
   "metadata": {},
   "outputs": [
    {
     "data": {
      "text/plain": [
       "True"
      ]
     },
     "execution_count": 16,
     "metadata": {},
     "output_type": "execute_result"
    }
   ],
   "source": [
    "Solution().isIsomorphic(\"bbbaaaba\", \"aaabbbba\")"
   ]
  },
  {
   "cell_type": "code",
   "execution_count": 8,
   "id": "895c3e9d",
   "metadata": {},
   "outputs": [
    {
     "data": {
      "text/plain": [
       "dict_values([2, 3, 1])"
      ]
     },
     "execution_count": 8,
     "metadata": {},
     "output_type": "execute_result"
    }
   ],
   "source": [
    "{e: s.count(e) for e in set(s)}.values()"
   ]
  },
  {
   "cell_type": "code",
   "execution_count": 10,
   "id": "61e36971",
   "metadata": {},
   "outputs": [
    {
     "data": {
      "text/plain": [
       "dict_values([2, 1, 3])"
      ]
     },
     "execution_count": 10,
     "metadata": {},
     "output_type": "execute_result"
    }
   ],
   "source": [
    "{e: t.count(e) for e in set(t)}.values()"
   ]
  },
  {
   "cell_type": "code",
   "execution_count": 12,
   "id": "2e1ee258",
   "metadata": {},
   "outputs": [
    {
     "data": {
      "text/plain": [
       "True"
      ]
     },
     "execution_count": 12,
     "metadata": {},
     "output_type": "execute_result"
    }
   ],
   "source": [
    "sorted({e: t.count(e) for e in set(t)}.values()) == sorted({e: s.count(e) for e in set(s)}.values())"
   ]
  },
  {
   "cell_type": "code",
   "execution_count": null,
   "id": "1cce0dc5",
   "metadata": {},
   "outputs": [],
   "source": []
  },
  {
   "cell_type": "markdown",
   "id": "c9832a04",
   "metadata": {},
   "source": [
    "## 392. Is Subsequence\n",
    "Easy\n",
    "\n",
    "Given two strings s and t, return true if s is a subsequence of t, or false otherwise.\n",
    "\n",
    "A subsequence of a string is a new string that is formed from the original string by deleting some (can be none) of the characters without disturbing the relative positions of the remaining characters. (i.e., \"ace\" is a subsequence of \"abcde\" while \"aec\" is not).\n",
    "\n",
    " \n",
    "\n",
    "Example 1:\n",
    "\n",
    "Input: s = \"abc\", t = \"ahbgdc\"\n",
    "Output: true\n",
    "\n",
    "Example 2:\n",
    "\n",
    "Input: s = \"axc\", t = \"ahbgdc\"\n",
    "Output: false\n",
    "\n",
    " \n",
    "\n",
    "Constraints:\n",
    "\n",
    "    0 <= s.length <= 100\n",
    "    0 <= t.length <= 104\n",
    "    s and t consist only of lowercase English letters.\n",
    "\n",
    " \n",
    "Follow up: Suppose there are lots of incoming s, say s1, s2, ..., sk where k >= 109, and you want to check one by one to see if t has its subsequence. In this scenario, how would you change your code?"
   ]
  },
  {
   "cell_type": "code",
   "execution_count": 57,
   "id": "42d2b53f",
   "metadata": {},
   "outputs": [],
   "source": [
    "class Solution:\n",
    "    def isSubsequence(self, s: str, t: str) -> bool:\n",
    "        n = len(s)\n",
    "        m = len(t)\n",
    "        i,j = (0,0)\n",
    "        while i < n and j < m:\n",
    "            #print(i,j,'m',m)\n",
    "            if s[i] == t[j]:\n",
    "                i+=1\n",
    "                j+=1\n",
    "            else:\n",
    "                j+=1\n",
    "        return i == n\n",
    "            \n",
    "        "
   ]
  },
  {
   "cell_type": "code",
   "execution_count": 58,
   "id": "9735b909",
   "metadata": {},
   "outputs": [
    {
     "data": {
      "text/plain": [
       "True"
      ]
     },
     "execution_count": 58,
     "metadata": {},
     "output_type": "execute_result"
    }
   ],
   "source": [
    "s = \"abc\"\n",
    "t = \"ahbgdc\" \n",
    "\n",
    "Solution().isSubsequence(s,t)"
   ]
  },
  {
   "cell_type": "code",
   "execution_count": 59,
   "id": "9177a96c",
   "metadata": {},
   "outputs": [
    {
     "data": {
      "text/plain": [
       "False"
      ]
     },
     "execution_count": 59,
     "metadata": {},
     "output_type": "execute_result"
    }
   ],
   "source": [
    "Solution().isSubsequence(\"axc\", \"ahbgdc\")\n"
   ]
  },
  {
   "cell_type": "code",
   "execution_count": 55,
   "id": "1d827a62",
   "metadata": {},
   "outputs": [
    {
     "data": {
      "text/plain": [
       "True"
      ]
     },
     "execution_count": 55,
     "metadata": {},
     "output_type": "execute_result"
    }
   ],
   "source": [
    "Solution().isSubsequence(\"\", \"c\")"
   ]
  },
  {
   "cell_type": "markdown",
   "id": "388b74c4",
   "metadata": {},
   "source": [
    "Runtime: 39 ms, faster than 80.92% of Python3 online submissions for Is Subsequence.  \n",
    "Memory Usage: 13.9 MB, less than 82.51% of Python3 online submissions for Is Subsequence."
   ]
  },
  {
   "cell_type": "markdown",
   "id": "f30fec96",
   "metadata": {},
   "source": [
    "## 792. Number of Matching Subsequences\n",
    "Medium\n",
    "\n",
    "Given a string s and an array of strings words, return the number of words[i] that is a subsequence of s.\n",
    "\n",
    "A subsequence of a string is a new string generated from the original string with some characters (can be none) deleted without changing the relative order of the remaining characters.\n",
    "\n",
    "    For example, \"ace\" is a subsequence of \"abcde\".\n",
    "\n",
    " \n",
    "\n",
    "Example 1:\n",
    "\n",
    "Input: s = \"abcde\", words = [\"a\",\"bb\",\"acd\",\"ace\"]\n",
    "Output: 3\n",
    "Explanation: There are three strings in words that are a subsequence of s: \"a\", \"acd\", \"ace\".\n",
    "\n",
    "Example 2:\n",
    "\n",
    "Input: s = \"dsahjpjauf\", words = [\"ahjpjau\",\"ja\",\"ahbwzgqnuk\",\"tnmlanowax\"]\n",
    "Output: 2\n",
    "\n",
    " \n",
    "\n",
    "Constraints:\n",
    "\n",
    "    1 <= s.length <= 5 * 104\n",
    "    1 <= words.length <= 5000\n",
    "    1 <= words[i].length <= 50\n",
    "    s and words[i] consist of only lowercase English letters.\n",
    "\n"
   ]
  },
  {
   "cell_type": "code",
   "execution_count": 80,
   "id": "1b5392db",
   "metadata": {},
   "outputs": [],
   "source": [
    "class Solution:\n",
    "    def numMatchingSubseq(self, s: str, words: list) -> int:\n",
    "        def isSubsequence(s: str, t: str) -> bool:\n",
    "            n = len(s)\n",
    "            m = len(t)\n",
    "            i,j = (0,0)\n",
    "            while i < n and j < m:\n",
    "                if s[i] == t[j]:\n",
    "                    i+=1\n",
    "                    j+=1\n",
    "                else:\n",
    "                    j+=1\n",
    "            return i == n\n",
    "        print({word:words.count(word) for word in words })\n",
    "        occurences = {word:words.count(word) for word in words }\n",
    "        print([isSubsequence(s=word, t=s)*occurences[word] for word in words])\n",
    "        return sum([isSubsequence(s=word, t=s)*occurences[word] for word in set(words)]) "
   ]
  },
  {
   "cell_type": "code",
   "execution_count": 75,
   "id": "4822c5e4",
   "metadata": {},
   "outputs": [
    {
     "name": "stdout",
     "output_type": "stream",
     "text": [
      "{'a': 1, 'bb': 1, 'acd': 1, 'ace': 1}\n"
     ]
    },
    {
     "data": {
      "text/plain": [
       "3"
      ]
     },
     "execution_count": 75,
     "metadata": {},
     "output_type": "execute_result"
    }
   ],
   "source": [
    "Solution().numMatchingSubseq(s = \"abcde\", words = [\"a\",\"bb\",\"acd\",\"ace\"] )"
   ]
  },
  {
   "cell_type": "code",
   "execution_count": 81,
   "id": "b9ce8815",
   "metadata": {},
   "outputs": [
    {
     "name": "stdout",
     "output_type": "stream",
     "text": [
      "{'qlhxagxdq': 2, 'lhyiftwtut': 1, 'yfzwraahab': 1}\n",
      "[2, 2, 0, 0]\n"
     ]
    },
    {
     "data": {
      "text/plain": [
       "2"
      ]
     },
     "execution_count": 81,
     "metadata": {},
     "output_type": "execute_result"
    }
   ],
   "source": [
    "Solution().numMatchingSubseq(\"qlhxagxdqh\", [\"qlhxagxdq\",\"qlhxagxdq\",\"lhyiftwtut\",\"yfzwraahab\"])"
   ]
  },
  {
   "cell_type": "markdown",
   "id": "6a5eb453",
   "metadata": {},
   "source": [
    "Runtime: 8070 ms, faster than 5.01% of Python3 online submissions for Number of Matching Subsequences.  \n",
    "Memory Usage: 15.6 MB, less than 50.42% of Python3 online submissions for Number of Matching Subsequences."
   ]
  }
 ],
 "metadata": {
  "kernelspec": {
   "display_name": "Python 3 (ipykernel)",
   "language": "python",
   "name": "python3"
  },
  "language_info": {
   "codemirror_mode": {
    "name": "ipython",
    "version": 3
   },
   "file_extension": ".py",
   "mimetype": "text/x-python",
   "name": "python",
   "nbconvert_exporter": "python",
   "pygments_lexer": "ipython3",
   "version": "3.8.11"
  }
 },
 "nbformat": 4,
 "nbformat_minor": 5
}
