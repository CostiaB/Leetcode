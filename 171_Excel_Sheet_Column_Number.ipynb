{
 "cells": [
  {
   "cell_type": "markdown",
   "id": "19c80562",
   "metadata": {},
   "source": [
    "# 171. Excel Sheet Column Number\n",
    "Easy\n",
    "\n",
    "Given a string columnTitle that represents the column title as appears in an Excel sheet, return its corresponding column number.\n",
    "\n",
    "For example:\n",
    "\n",
    "A -> 1  \n",
    "B -> 2   \n",
    "C -> 3  \n",
    "...  \n",
    "Z -> 26  \n",
    "AA -> 27  \n",
    "AB -> 28   \n",
    "...  \n",
    "\n",
    " \n",
    "\n",
    "Example 1:\n",
    "\n",
    "Input: columnTitle = \"A\"\n",
    "Output: 1\n",
    "\n",
    "Example 2:\n",
    "\n",
    "Input: columnTitle = \"AB\"\n",
    "Output: 28\n",
    "\n",
    "Example 3:\n",
    "\n",
    "Input: columnTitle = \"ZY\"\n",
    "Output: 701\n",
    "\n",
    " \n",
    "\n",
    "Constraints:\n",
    "\n",
    "    1 <= columnTitle.length <= 7\n",
    "    columnTitle consists only of uppercase English letters.\n",
    "    columnTitle is in the range [\"A\", \"FXSHRXW\"].\n",
    "\n"
   ]
  },
  {
   "cell_type": "code",
   "execution_count": null,
   "id": "923cf7cd",
   "metadata": {},
   "outputs": [],
   "source": [
    "class Solution:\n",
    "    def titleToNumber(self, columnTitle: str) -> int:\n",
    "        num = 0\n",
    "        for i, el in enumerate(columnTitle[::-1]):\n",
    "            num += (ord(el)-64) * 26**i \n",
    "        return num"
   ]
  },
  {
   "cell_type": "markdown",
   "id": "a3ba536d",
   "metadata": {},
   "source": [
    "Runtime 28ms Beats 98.34%  \n",
    "Memory 16.11MB  Beats 70.89%"
   ]
  }
 ],
 "metadata": {
  "kernelspec": {
   "display_name": "Python 3 (ipykernel)",
   "language": "python",
   "name": "python3"
  },
  "language_info": {
   "codemirror_mode": {
    "name": "ipython",
    "version": 3
   },
   "file_extension": ".py",
   "mimetype": "text/x-python",
   "name": "python",
   "nbconvert_exporter": "python",
   "pygments_lexer": "ipython3",
   "version": "3.10.12"
  }
 },
 "nbformat": 4,
 "nbformat_minor": 5
}
