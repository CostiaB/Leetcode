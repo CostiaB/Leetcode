{
 "cells": [
  {
   "cell_type": "markdown",
   "id": "a7cb1a2e",
   "metadata": {},
   "source": [
    "# 2325. Decode the Message\n",
    "Easy\n",
    "\n",
    "You are given the strings key and message, which represent a cipher key and a secret message, respectively. The steps to decode message are as follows:\n",
    "\n",
    "    Use the first appearance of all 26 lowercase English letters in key as the order of the substitution table.\n",
    "    Align the substitution table with the regular English alphabet.\n",
    "    Each letter in message is then substituted using the table.\n",
    "    Spaces ' ' are transformed to themselves.\n",
    "\n",
    "    For example, given key = \"happy boy\" (actual key would have at least one instance of each letter in the alphabet), we have the partial substitution table of ('h' -> 'a', 'a' -> 'b', 'p' -> 'c', 'y' -> 'd', 'b' -> 'e', 'o' -> 'f').\n",
    "\n",
    "Return the decoded message.\n",
    "\n",
    " \n",
    "\n",
    "Example 1:\n",
    "<img src = 'https://assets.leetcode.com/uploads/2022/05/08/ex1new4.jpg'>  \n",
    "Input: key = \"the quick brown fox jumps over the lazy dog\", message = \"vkbs bs t suepuv\"  \n",
    "Output: \"this is a secret\"\n",
    "Explanation: The diagram above shows the substitution table.  \n",
    "It is obtained by taking the first appearance of each letter in \"the quick brown fox jumps over the lazy dog\".  \n",
    "\n",
    "Example 2:  \n",
    "<img src = 'https://assets.leetcode.com/uploads/2022/05/08/ex2new.jpg'>  \n",
    "Input: key = \"eljuxhpwnyrdgtqkviszcfmabo\", message = \"zwx hnfx lqantp mnoeius ycgk vcnjrdb\"  \n",
    "Output: \"the five boxing wizards jump quickly\"  \n",
    "Explanation: The diagram above shows the substitution table.  \n",
    "It is obtained by taking the first appearance of each letter in \"eljuxhpwnyrdgtqkviszcfmabo\".  \n",
    "\n",
    " \n",
    "\n",
    "Constraints:\n",
    "\n",
    "    26 <= key.length <= 2000\n",
    "    key consists of lowercase English letters and ' '.\n",
    "    key contains every letter in the English alphabet ('a' to 'z') at least once.\n",
    "    1 <= message.length <= 2000\n",
    "    message consists of lowercase English letters and ' '.\n",
    "\n"
   ]
  },
  {
   "cell_type": "code",
   "execution_count": null,
   "id": "b6b8821c",
   "metadata": {},
   "outputs": [],
   "source": [
    "class Solution:\n",
    "    def decodeMessage(self, key: str, message: str) -> str:\n",
    "        print(chr(97))\n",
    "        print(chr(122))\n",
    "        code = range(97, 123)\n",
    "        code = iter(code)\n",
    "        cipher = {}\n",
    "        for l in key:\n",
    "            if len(cipher) == 26:\n",
    "                break\n",
    "            if cipher.get(l, 0) == 0 and l != \" \":\n",
    "                cipher[l] = chr(next(code))\n",
    "        \n",
    "        ans = []\n",
    "        for s in message:\n",
    "            if s != \" \":\n",
    "                ans.append(cipher[s])\n",
    "            else:\n",
    "                ans.append(\" \")\n",
    "        \n",
    "        return \"\".join(ans)"
   ]
  },
  {
   "cell_type": "markdown",
   "id": "30fb8a3d",
   "metadata": {},
   "source": [
    "Runtime 36ms Beats 84.03%  \n",
    "Memory 16.51MB Beats 25.37%"
   ]
  },
  {
   "cell_type": "code",
   "execution_count": null,
   "id": "624df573",
   "metadata": {},
   "outputs": [],
   "source": [
    "class Solution:\n",
    "    def decodeMessage(self, key: str, message: str) -> str:\n",
    "        code = 97\n",
    "        cipher = {}\n",
    "        cipher[\" \"] = \" \"\n",
    "        for l in key:\n",
    "            if l != \" \" and l not in cipher:\n",
    "                cipher[l] = chr(code)\n",
    "                code += 1\n",
    "\n",
    "        ans = \"\" \n",
    "        for c in message:\n",
    "            ans += cipher[c]\n",
    "        \n",
    "        return ans"
   ]
  },
  {
   "cell_type": "markdown",
   "id": "0136dae9",
   "metadata": {},
   "source": [
    "Runtime 36ms Beats 84.03%  \n",
    "Memory 16.51MB Beats 25.37%"
   ]
  }
 ],
 "metadata": {
  "kernelspec": {
   "display_name": "Python 3 (ipykernel)",
   "language": "python",
   "name": "python3"
  },
  "language_info": {
   "codemirror_mode": {
    "name": "ipython",
    "version": 3
   },
   "file_extension": ".py",
   "mimetype": "text/x-python",
   "name": "python",
   "nbconvert_exporter": "python",
   "pygments_lexer": "ipython3",
   "version": "3.10.12"
  }
 },
 "nbformat": 4,
 "nbformat_minor": 5
}
