{
 "cells": [
  {
   "cell_type": "markdown",
   "id": "dc4abee9",
   "metadata": {},
   "source": [
    "## 88. Merge Sorted Array\n",
    "Easy\n",
    "9.4K\n",
    "880\n",
    "Companies\n",
    "\n",
    "You are given two integer arrays nums1 and nums2, sorted in non-decreasing order, and two integers m and n, representing the number of elements in nums1 and nums2 respectively.\n",
    "\n",
    "Merge nums1 and nums2 into a single array sorted in non-decreasing order.\n",
    "\n",
    "The final sorted array should not be returned by the function, but instead be stored inside the array nums1. To accommodate this, nums1 has a length of m + n, where the first m elements denote the elements that should be merged, and the last n elements are set to 0 and should be ignored. nums2 has a length of n.\n",
    "\n",
    " \n",
    "\n",
    "Example 1:\n",
    "\n",
    "Input: nums1 = [1,2,3,0,0,0], m = 3, nums2 = [2,5,6], n = 3  \n",
    "Output: [1,2,2,3,5,6]  \n",
    "Explanation: The arrays we are merging are [1,2,3] and [2,5,6].  \n",
    "The result of the merge is [1,2,2,3,5,6] with the underlined elements coming from nums1.  \n",
    "\n",
    "Example 2:\n",
    "\n",
    "Input: nums1 = [1], m = 1, nums2 = [], n = 0  \n",
    "Output: [1]  \n",
    "Explanation: The arrays we are merging are [1] and [].  \n",
    "The result of the merge is [1].  \n",
    "\n",
    "Example 3:\n",
    "\n",
    "Input: nums1 = [0], m = 0, nums2 = [1], n = 1  \n",
    "Output: [1]  \n",
    "Explanation: The arrays we are merging are [] and [1].  \n",
    "The result of the merge is [1].  \n",
    "Note that because m = 0, there are no elements in nums1. The 0 is only there to ensure the merge result can fit in nums1.\n",
    "\n",
    " \n",
    "\n",
    "Constraints:\n",
    "\n",
    "    nums1.length == m + n  \n",
    "    nums2.length == n  \n",
    "    0 <= m, n <= 200  \n",
    "    1 <= m + n <= 200  \n",
    "    -109 <= nums1[i], nums2[j] <= 109  \n",
    "\n",
    " \n",
    "\n",
    "Follow up: Can you come up with an algorithm that runs in O(m + n) time?\n"
   ]
  },
  {
   "cell_type": "code",
   "execution_count": null,
   "id": "6cfead43",
   "metadata": {},
   "outputs": [],
   "source": [
    "class Solution:\n",
    "    def merge(self, nums1: List[int], m: int, nums2: List[int], n: int) -> None:\n",
    "        \"\"\"\n",
    "        Do not return anything, modify nums1 in-place instead.\n",
    "        \"\"\"\n",
    "        # Initialize nums1's index\n",
    "        i = m - 1\n",
    "        # Initialize nums2's index\n",
    "        j = n - 1\n",
    "        # Initialize a variable k to store the last index of the 1st array...\n",
    "        k = m + n - 1\n",
    "        while j >= 0:\n",
    "            if i >= 0 and nums1[i] > nums2[j]:\n",
    "                nums1[k] = nums1[i]\n",
    "                k -= 1\n",
    "                i -= 1\n",
    "            else:\n",
    "                nums1[k] = nums2[j]\n",
    "                k -= 1\n",
    "                j -= 1"
   ]
  },
  {
   "cell_type": "markdown",
   "id": "e36e3aaa",
   "metadata": {},
   "source": [
    "Runtime 40 ms  \n",
    "Beats  \n",
    "60.2%  \n",
    "Memory 13.9 MB  \n",
    "Beats  \n",
    "29.30%  "
   ]
  }
 ],
 "metadata": {
  "kernelspec": {
   "display_name": "Python 3 (ipykernel)",
   "language": "python",
   "name": "python3"
  },
  "language_info": {
   "codemirror_mode": {
    "name": "ipython",
    "version": 3
   },
   "file_extension": ".py",
   "mimetype": "text/x-python",
   "name": "python",
   "nbconvert_exporter": "python",
   "pygments_lexer": "ipython3",
   "version": "3.8.13"
  }
 },
 "nbformat": 4,
 "nbformat_minor": 5
}
