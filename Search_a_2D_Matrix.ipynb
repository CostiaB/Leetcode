{
 "cells": [
  {
   "cell_type": "markdown",
   "id": "f468b524",
   "metadata": {},
   "source": [
    "##  74. Search a 2D Matrix\n",
    "Medium\n",
    "\n",
    "Write an efficient algorithm that searches for a value target in an m x n integer matrix matrix. This matrix has the following properties:\n",
    "\n",
    "    Integers in each row are sorted from left to right.\n",
    "    The first integer of each row is greater than the last integer of the previous row.\n",
    "\n",
    " \n",
    "\n",
    "Example 1:\n",
    "<img src = 'https://assets.leetcode.com/uploads/2020/10/05/mat.jpg'>\n",
    "\n",
    "Input: matrix = [[1,3,5,7],[10,11,16,20],[23,30,34,60]], target = 3\n",
    "Output: true\n",
    "\n",
    "Example 2:\n",
    "<img src = 'https://assets.leetcode.com/uploads/2020/10/05/mat2.jpg'>\n",
    "\n",
    "Input: matrix = [[1,3,5,7],[10,11,16,20],[23,30,34,60]], target = 13\n",
    "Output: false\n",
    "\n",
    " \n",
    "\n",
    "Constraints:\n",
    "\n",
    "    m == matrix.length\n",
    "    n == matrix[i].length\n",
    "    1 <= m, n <= 100\n",
    "    -104 <= matrix[i][j], target <= 104\n",
    "\n"
   ]
  },
  {
   "cell_type": "code",
   "execution_count": 1,
   "id": "9a153755",
   "metadata": {},
   "outputs": [],
   "source": [
    "class Solution:\n",
    "    \n",
    "    def searchMatrix(self, matrix: list, target: int) -> bool:\n",
    "        m = len(matrix)\n",
    "        k = len(matrix[0])\n",
    "        st = 0\n",
    "        fin = m * k - 1\n",
    "        def coord(n):\n",
    "            return n//(m+1), n%k\n",
    "        l_k = coord(st)\n",
    "        h_k = coord(fin)\n",
    "        low = matrix[l_k[0]][l_k[1]]\n",
    "        high = matrix[h_k[0]][h_k[1]]\n",
    "        print(st,fin,low,high)\n",
    "        while low <= high:\n",
    "            if fin<0:\n",
    "                return False\n",
    "            \n",
    "            mid_l =(fin + st) // 2\n",
    "            mid_k = coord(mid_l)\n",
    "            mid = matrix[mid_k[0]][mid_k[1]]\n",
    "            if  mid > target:\n",
    "                fin = mid_l - 1\n",
    "            elif mid < target:\n",
    "                st = mid_l + 1\n",
    "            else:\n",
    "                return True\n",
    "            if st>m*k - 1:\n",
    "                return False\n",
    "            l_k = coord(st)\n",
    "            h_k = coord(fin)\n",
    "            print('h ',high, ', l ', low, 'm', mid,st,fin,l_k,  h_k)\n",
    "            low = matrix[l_k[0]][l_k[1]]\n",
    "            high = matrix[h_k[0]][h_k[1]]\n",
    "            print('h ',high, ', l ', low, 'm', mid,'st',st,fin,l_k,  h_k)\n",
    "            \n",
    "        \n",
    "        return False\n",
    "            \n",
    "            \n",
    "        "
   ]
  },
  {
   "cell_type": "code",
   "execution_count": 110,
   "id": "4e7e11b3",
   "metadata": {},
   "outputs": [],
   "source": [
    "class Solution:\n",
    "    \n",
    "    def searchMatrix(self, matrix: list, target: int) -> bool:\n",
    "        m = len(matrix)\n",
    "        k = len(matrix[0])\n",
    "        st = 0\n",
    "        fin = m * k - 1\n",
    "        def coord(n):\n",
    "            y = n // k\n",
    "            x =  n % k\n",
    "            val = matrix[y][x]\n",
    "            return val\n",
    "        low = coord(st)\n",
    "        high = coord(fin)\n",
    "        while low <= high:\n",
    "            if fin < 0:\n",
    "                return False\n",
    "            \n",
    "            mid_l =(fin + st) // 2\n",
    "            mid = coord(mid_l)\n",
    "            if  mid > target:\n",
    "                fin = mid_l - 1\n",
    "            elif mid < target:\n",
    "                st = mid_l + 1\n",
    "            else:\n",
    "                return True\n",
    "            if st > m*k - 1:\n",
    "                return False\n",
    "            low = coord(st)\n",
    "            high = coord(fin)\n",
    "        return False\n",
    "            "
   ]
  },
  {
   "cell_type": "code",
   "execution_count": 111,
   "id": "1eeff811",
   "metadata": {},
   "outputs": [
    {
     "data": {
      "text/plain": [
       "True"
      ]
     },
     "execution_count": 111,
     "metadata": {},
     "output_type": "execute_result"
    }
   ],
   "source": [
    "Solution().searchMatrix(matrix = [[1,3,5,7],[10,11,16,20],[23,30,34,60]], target = 3)"
   ]
  },
  {
   "cell_type": "code",
   "execution_count": 112,
   "id": "e37a9a33",
   "metadata": {},
   "outputs": [
    {
     "data": {
      "text/plain": [
       "True"
      ]
     },
     "execution_count": 112,
     "metadata": {},
     "output_type": "execute_result"
    }
   ],
   "source": [
    "Solution().searchMatrix(matrix = [[1,2]], target = 2)"
   ]
  },
  {
   "cell_type": "code",
   "execution_count": 113,
   "id": "05b9ebce",
   "metadata": {},
   "outputs": [
    {
     "data": {
      "text/plain": [
       "True"
      ]
     },
     "execution_count": 113,
     "metadata": {},
     "output_type": "execute_result"
    }
   ],
   "source": [
    "Solution().searchMatrix(matrix = [[1],[3]], target = 3)"
   ]
  },
  {
   "cell_type": "code",
   "execution_count": 114,
   "id": "610498f8",
   "metadata": {},
   "outputs": [
    {
     "data": {
      "text/plain": [
       "False"
      ]
     },
     "execution_count": 114,
     "metadata": {},
     "output_type": "execute_result"
    }
   ],
   "source": [
    "Solution().searchMatrix(matrix = [[-10,-8,-8,-8],[-5,-4,-2,0]], target = 7)"
   ]
  },
  {
   "cell_type": "markdown",
   "id": "9c611954",
   "metadata": {},
   "source": [
    "Runtime: 87 ms, faster than 17.84% of Python3 online submissions for Search a 2D Matrix.  \n",
    "Memory Usage: 14.5 MB, less than 43.16% of Python3 online submissions for Search a 2D Matrix."
   ]
  }
 ],
 "metadata": {
  "kernelspec": {
   "display_name": "Python 3 (ipykernel)",
   "language": "python",
   "name": "python3"
  },
  "language_info": {
   "codemirror_mode": {
    "name": "ipython",
    "version": 3
   },
   "file_extension": ".py",
   "mimetype": "text/x-python",
   "name": "python",
   "nbconvert_exporter": "python",
   "pygments_lexer": "ipython3",
   "version": "3.7.13"
  }
 },
 "nbformat": 4,
 "nbformat_minor": 5
}
