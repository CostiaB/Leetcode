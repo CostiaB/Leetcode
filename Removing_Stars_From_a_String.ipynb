{
 "cells": [
  {
   "cell_type": "markdown",
   "id": "8b223f49",
   "metadata": {},
   "source": [
    "## 2390. Removing Stars From a String\n",
    "Medium\n",
    "1.5K\n",
    "104\n",
    "Companies\n",
    "\n",
    "You are given a string s, which contains stars *.\n",
    "\n",
    "In one operation, you can:\n",
    "\n",
    "    Choose a star in s.\n",
    "    Remove the closest non-star character to its left, as well as remove the star itself.\n",
    "\n",
    "Return the string after all stars have been removed.\n",
    "\n",
    "Note:\n",
    "\n",
    "    The input will be generated such that the operation is always possible.\n",
    "    It can be shown that the resulting string will always be unique.\n",
    "\n",
    " \n",
    "\n",
    "Example 1:\n",
    "\n",
    "Input: s = \"leet**cod*e\"  \n",
    "Output: \"lecoe\"  \n",
    "Explanation: Performing the removals from left to right:  \n",
    "- The closest character to the 1st star is 't' in \"leet**cod*e\". s becomes \"lee*cod*e\".  \n",
    "- The closest character to the 2nd star is 'e' in \"lee*cod*e\". s becomes \"lecod*e\".  \n",
    "- The closest character to the 3rd star is 'd' in \"lecod*e\". s becomes \"lecoe\".  \n",
    "There are no more stars, so we return \"lecoe\".  \n",
    "\n",
    "Example 2:  \n",
    "\n",
    "Input: s = \"erase*****\"  \n",
    "Output: \"\"  \n",
    "Explanation: The entire string is removed, so we return an empty string.  \n",
    "\n",
    " \n",
    "\n",
    "Constraints:\n",
    "\n",
    "    1 <= s.length <= 105\n",
    "    s consists of lowercase English letters and stars *.\n",
    "    The operation above can be performed on s.\n",
    "\n"
   ]
  },
  {
   "cell_type": "code",
   "execution_count": null,
   "id": "0bc6eb21",
   "metadata": {},
   "outputs": [],
   "source": [
    "class Solution:\n",
    "    def removeStars(self, s: str) -> str:\n",
    "        \n",
    "        while s.find('*') > 0:\n",
    "            ind = s.find('*') \n",
    "            if ind > 0:\n",
    "                s1 = s[:ind-1] + s[ind+1:]\n",
    "                s = s1\n",
    "        \n",
    "        return s"
   ]
  },
  {
   "cell_type": "markdown",
   "id": "31151a57",
   "metadata": {},
   "source": [
    "Runtime 4399 ms  \n",
    "Beats  \n",
    "5.7%  \n",
    "Memory 15.3 MB  \n",
    "Beats  \n",
    "93.9%  "
   ]
  },
  {
   "cell_type": "code",
   "execution_count": null,
   "id": "f5ba6843",
   "metadata": {},
   "outputs": [],
   "source": [
    "class Solution:\n",
    "    def removeStars(self, s: str) -> str:\n",
    "        ans = []\n",
    "        for l in s:\n",
    "            if l == '*':\n",
    "                ans.pop()\n",
    "            else:\n",
    "                ans += [l]\n",
    "        return ''.join(ans)\n"
   ]
  },
  {
   "cell_type": "markdown",
   "id": "dac8a967",
   "metadata": {},
   "source": [
    "Runtime 258 ms  \n",
    "Beats  \n",
    "41.94%  \n",
    "Memory 15.8 MB  \n",
    "Beats  \n",
    "14.29%  "
   ]
  },
  {
   "cell_type": "code",
   "execution_count": null,
   "id": "5d909cd9",
   "metadata": {},
   "outputs": [],
   "source": [
    "class Solution:\n",
    "    def removeStars(self, s: str) -> str:\n",
    "        ans = []\n",
    "        for l in s:\n",
    "            if l == '*':\n",
    "                ans.pop()\n",
    "            else:\n",
    "                ans.append(l)\n",
    "        return ''.join(ans)\n"
   ]
  },
  {
   "cell_type": "markdown",
   "id": "ee287f0f",
   "metadata": {},
   "source": [
    "Runtime 212 ms  \n",
    "Beats  \n",
    "95.74%  \n",
    "Memory 15.7 MB  \n",
    "Beats  \n",
    "14.29%  "
   ]
  }
 ],
 "metadata": {
  "kernelspec": {
   "display_name": "Python 3 (ipykernel)",
   "language": "python",
   "name": "python3"
  },
  "language_info": {
   "codemirror_mode": {
    "name": "ipython",
    "version": 3
   },
   "file_extension": ".py",
   "mimetype": "text/x-python",
   "name": "python",
   "nbconvert_exporter": "python",
   "pygments_lexer": "ipython3",
   "version": "3.8.13"
  }
 },
 "nbformat": 4,
 "nbformat_minor": 5
}
