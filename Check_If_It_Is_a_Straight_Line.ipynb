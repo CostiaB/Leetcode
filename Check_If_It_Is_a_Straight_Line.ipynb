{
 "cells": [
  {
   "cell_type": "markdown",
   "id": "22447d28",
   "metadata": {},
   "source": [
    "## 1232. Check If It Is a Straight Line\n",
    "Easy\n",
    "2.3K\n",
    "241\n",
    "Companies\n",
    "\n",
    "You are given an array coordinates, coordinates[i] = [x, y], where [x, y] represents the coordinate of a point. Check if these points make a straight line in the XY plane.\n",
    "\n",
    " \n",
    "\n",
    " \n",
    "\n",
    "Example 1:\n",
    "<img src ='https://assets.leetcode.com/uploads/2019/10/15/untitled-diagram-2.jpg'>\n",
    "Input: coordinates = [[1,2],[2,3],[3,4],[4,5],[5,6],[6,7]]  \n",
    "Output: true  \n",
    "\n",
    "Example 2:\n",
    "<img src ='https://assets.leetcode.com/uploads/2019/10/09/untitled-diagram-1.jpg'>\n",
    "Input: coordinates = [[1,1],[2,2],[3,4],[4,5],[5,6],[7,7]]  \n",
    "Output: false  \n",
    "\n",
    " \n",
    "\n",
    "Constraints:\n",
    "\n",
    "    2 <= coordinates.length <= 1000\n",
    "    coordinates[i].length == 2\n",
    "    -10^4 <= coordinates[i][0], coordinates[i][1] <= 10^4\n",
    "    coordinates contains no duplicate point.\n"
   ]
  },
  {
   "cell_type": "code",
   "execution_count": null,
   "id": "7a2e592b",
   "metadata": {},
   "outputs": [],
   "source": [
    "class Solution:\n",
    "\n",
    "    def checkStraightLine(self, coordinates: List[List[int]]) -> bool:\n",
    "\n",
    "        x1, y1 = coordinates[0]\n",
    "\n",
    "        x2, y2 = coordinates[1]\n",
    "\n",
    "        for x, y in coordinates[2:]:\n",
    "\n",
    "            if (x - x2)*(y1 - y2) != (x1 - x2)*(y - y2):\n",
    "\n",
    "                return False\n",
    "\n",
    "        \n",
    "\n",
    "        return True\n",
    "\n"
   ]
  },
  {
   "cell_type": "markdown",
   "id": "59275340",
   "metadata": {},
   "source": [
    "Runtime 66 ms  \n",
    "Beats  \n",
    "95.77%  \n",
    "Memory 16.8 MB  \n",
    "Beats  \n",
    "84.90%  "
   ]
  }
 ],
 "metadata": {
  "kernelspec": {
   "display_name": "Python 3 (ipykernel)",
   "language": "python",
   "name": "python3"
  },
  "language_info": {
   "codemirror_mode": {
    "name": "ipython",
    "version": 3
   },
   "file_extension": ".py",
   "mimetype": "text/x-python",
   "name": "python",
   "nbconvert_exporter": "python",
   "pygments_lexer": "ipython3",
   "version": "3.8.13"
  }
 },
 "nbformat": 4,
 "nbformat_minor": 5
}
