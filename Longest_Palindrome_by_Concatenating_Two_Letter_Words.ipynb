{
 "cells": [
  {
   "cell_type": "markdown",
   "id": "9f20a097",
   "metadata": {},
   "source": [
    "## 2131. Longest Palindrome by Concatenating Two Letter Words\n",
    "Medium\n",
    "\n",
    "You are given an array of strings words. Each element of words consists of two lowercase English letters.\n",
    "\n",
    "Create the longest possible palindrome by selecting some elements from words and concatenating them in any order. Each element can be selected at most once.\n",
    "\n",
    "Return the length of the longest palindrome that you can create. If it is impossible to create any palindrome, return 0.\n",
    "\n",
    "A palindrome is a string that reads the same forward and backward.\n",
    "\n",
    " \n",
    "\n",
    "Example 1:\n",
    "\n",
    "Input: words = [\"lc\",\"cl\",\"gg\"]\n",
    "Output: 6\n",
    "Explanation: One longest palindrome is \"lc\" + \"gg\" + \"cl\" = \"lcggcl\", of length 6.\n",
    "Note that \"clgglc\" is another longest palindrome that can be created.\n",
    "\n",
    "Example 2:\n",
    "\n",
    "Input: words = [\"ab\",\"ty\",\"yt\",\"lc\",\"cl\",\"ab\"]\n",
    "Output: 8\n",
    "Explanation: One longest palindrome is \"ty\" + \"lc\" + \"cl\" + \"yt\" = \"tylcclyt\", of length 8.\n",
    "Note that \"lcyttycl\" is another longest palindrome that can be created.\n",
    "\n",
    "Example 3:\n",
    "\n",
    "Input: words = [\"cc\",\"ll\",\"xx\"]\n",
    "Output: 2\n",
    "Explanation: One longest palindrome is \"cc\", of length 2.\n",
    "Note that \"ll\" is another longest palindrome that can be created, and so is \"xx\".\n",
    "\n",
    " \n",
    "\n",
    "Constraints:\n",
    "\n",
    "    1 <= words.length <= 105\n",
    "    words[i].length == 2\n",
    "    words[i] consists of lowercase English letters.\n",
    "\n"
   ]
  },
  {
   "cell_type": "code",
   "execution_count": 1,
   "id": "8856c57f",
   "metadata": {},
   "outputs": [],
   "source": [
    "class Solution:\n",
    "    def longestPalindrome(self, words: list) -> int:\n",
    "        all_dict = {}\n",
    "        for w in words:\n",
    "            if len(set(w))==1:\n",
    "                all_dict[w] = all_dict.get(w, [0, 0, 0])\n",
    "                all_dict[w][2] += 1\n",
    "               \n",
    "            elif w[::-1] in all_dict.keys():\n",
    "                all_dict[w[::-1]] = all_dict.get(w[::-1], [0, 0, 0])\n",
    "                all_dict[w[::-1]][1] += 1                \n",
    "            else:\n",
    "                all_dict[w] = all_dict.get(w, [0, 0, 0])\n",
    "                all_dict[w][0] += 1\n",
    "            \n",
    "        ans = 0\n",
    "        one_step = True\n",
    "        for w in all_dict:\n",
    "            cnt = all_dict[w]\n",
    "            if cnt[1]>=1:\n",
    "                ans += min(cnt[0],cnt[1])*4\n",
    "               \n",
    "            elif cnt[2]>1:\n",
    "                ans += cnt[2]//2*4\n",
    "                if cnt[2]%2==1 and one_step==True:\n",
    "                    ans += 2\n",
    "                    one_step = False\n",
    "               \n",
    "                \n",
    "            elif cnt[2]%2==1 and one_step==True:\n",
    "               \n",
    "                ans += 2\n",
    "                one_step = False\n",
    "        \n",
    "        \n",
    "        return  ans"
   ]
  },
  {
   "cell_type": "code",
   "execution_count": 2,
   "id": "28e15219",
   "metadata": {},
   "outputs": [
    {
     "data": {
      "text/plain": [
       "22"
      ]
     },
     "execution_count": 2,
     "metadata": {},
     "output_type": "execute_result"
    }
   ],
   "source": [
    "Solution().longestPalindrome([\"dd\",\"aa\",\"bb\",\"dd\",\"aa\",\"dd\",\"bb\",\"dd\",\"aa\",\"cc\",\"bb\",\"cc\",\"dd\",\"cc\"])"
   ]
  },
  {
   "cell_type": "markdown",
   "id": "5d28881a",
   "metadata": {},
   "source": [
    "Runtime: 2500 ms, faster than 21.43% of Python3 online submissions for Longest Palindrome by Concatenating Two Letter Words.  \n",
    "Memory Usage: 38.6 MB, less than 6.77% of Python3 online submissions for Longest Palindrome by Concatenating Two Letter Words."
   ]
  }
 ],
 "metadata": {
  "kernelspec": {
   "display_name": "Python 3 (ipykernel)",
   "language": "python",
   "name": "python3"
  },
  "language_info": {
   "codemirror_mode": {
    "name": "ipython",
    "version": 3
   },
   "file_extension": ".py",
   "mimetype": "text/x-python",
   "name": "python",
   "nbconvert_exporter": "python",
   "pygments_lexer": "ipython3",
   "version": "3.7.13"
  }
 },
 "nbformat": 4,
 "nbformat_minor": 5
}
