{
 "cells": [
  {
   "cell_type": "markdown",
   "id": "545818ed",
   "metadata": {},
   "source": [
    "## 540. Single Element in a Sorted Array\n",
    "Medium\n",
    "8.2K\n",
    "126\n",
    "Companies\n",
    "\n",
    "You are given a sorted array consisting of only integers where every element appears exactly twice, except for one element which appears exactly once.\n",
    "\n",
    "Return the single element that appears only once.\n",
    "\n",
    "Your solution must run in O(log n) time and O(1) space.\n",
    "\n",
    " \n",
    "\n",
    "Example 1:\n",
    "\n",
    "Input: nums = [1,1,2,3,3,4,4,8,8]  \n",
    "Output: 2  \n",
    "\n",
    "Example 2:\n",
    "\n",
    "Input: nums = [3,3,7,7,10,11,11]  \n",
    "Output: 10  \n",
    "\n",
    " \n",
    "\n",
    "Constraints:\n",
    "\n",
    "    1 <= nums.length <= 105  \n",
    "    0 <= nums[i] <= 105\n",
    "\n"
   ]
  },
  {
   "cell_type": "code",
   "execution_count": null,
   "id": "d7eb2c23",
   "metadata": {},
   "outputs": [],
   "source": [
    "class Solution:\n",
    "    def singleNonDuplicate(self, nums: List[int]) -> int:\n",
    "        n = len(nums)-1\n",
    "        while n >=1:\n",
    "            if nums[n] != nums[n-1]:\n",
    "                return nums[n]\n",
    "            n-=2\n",
    "\n",
    "        return nums[0]   "
   ]
  },
  {
   "cell_type": "markdown",
   "id": "cb1b6379",
   "metadata": {},
   "source": [
    "#### O(n) solution\n",
    "\n",
    "Runtime 187 ms  \n",
    "Beats   \n",
    "39.95%  \n",
    "Memory 23.7 MB  \n",
    "Beats  \n",
    "86.81%  "
   ]
  },
  {
   "cell_type": "code",
   "execution_count": null,
   "id": "3738119f",
   "metadata": {},
   "outputs": [],
   "source": [
    "class Solution:\n",
    "    def singleNonDuplicate(self, nums: List[int]) -> int:\n",
    "        left = 0\n",
    "        right = len(nums) - 1\n",
    "        while left < right:\n",
    "            mid = (left + right) // 2\n",
    "            if mid % 2 == 1:\n",
    "                mid -= 1\n",
    "            if nums[mid] != nums[mid + 1]:\n",
    "                right = mid\n",
    "            else:\n",
    "                left = mid + 2\n",
    "        return nums[left]"
   ]
  },
  {
   "cell_type": "markdown",
   "id": "fe097796",
   "metadata": {},
   "source": [
    "#### O(logn) solution\n",
    "Runtime 182 ms  \n",
    "Beats  \n",
    "55.3%  \n",
    "Memory 23.8 MB  \n",
    "Beats  \n",
    "39.30%"
   ]
  }
 ],
 "metadata": {
  "kernelspec": {
   "display_name": "Python 3 (ipykernel)",
   "language": "python",
   "name": "python3"
  },
  "language_info": {
   "codemirror_mode": {
    "name": "ipython",
    "version": 3
   },
   "file_extension": ".py",
   "mimetype": "text/x-python",
   "name": "python",
   "nbconvert_exporter": "python",
   "pygments_lexer": "ipython3",
   "version": "3.8.13"
  }
 },
 "nbformat": 4,
 "nbformat_minor": 5
}
