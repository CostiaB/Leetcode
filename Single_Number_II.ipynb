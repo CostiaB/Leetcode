{
 "cells": [
  {
   "cell_type": "markdown",
   "id": "5a01f9dc",
   "metadata": {},
   "source": [
    "# 137. Single Number II\n",
    "Medium\n",
    "7K\n",
    "619\n",
    "Companies\n",
    "\n",
    "Given an integer array nums where every element appears three times except for one, which appears exactly once. Find the single element and return it.\n",
    "\n",
    "You must implement a solution with a linear runtime complexity and use only constant extra space.\n",
    "\n",
    " \n",
    "\n",
    "Example 1:  \n",
    "\n",
    "Input: nums = [2,2,3,2]  \n",
    "Output: 3  \n",
    "\n",
    "Example 2:  \n",
    "  \n",
    "Input: nums = [0,1,0,1,0,1,99]  \n",
    "Output: 99  \n",
    "\n",
    " \n",
    "\n",
    "Constraints:\n",
    "\n",
    "    1 <= nums.length <= 3 * 104\n",
    "    -231 <= nums[i] <= 231 - 1\n",
    "    Each element in nums appears exactly three times except for one element which appears once.\n",
    "\n"
   ]
  },
  {
   "cell_type": "code",
   "execution_count": null,
   "id": "54cdd959",
   "metadata": {},
   "outputs": [],
   "source": [
    "class Solution:\n",
    "    def singleNumber(self, nums: List[int]) -> int:\n",
    "        s = set(nums)\n",
    "        for n in s:\n",
    "            if nums.count(n) == 1:\n",
    "                return n"
   ]
  },
  {
   "cell_type": "markdown",
   "id": "a21f399c",
   "metadata": {},
   "source": [
    "Runtime 1238 ms  \n",
    "Beats  \n",
    "6.29%  \n",
    "Memory 18.5 MB  \n",
    "Beats  \n",
    "20.87%"
   ]
  },
  {
   "cell_type": "code",
   "execution_count": null,
   "id": "576827d5",
   "metadata": {},
   "outputs": [],
   "source": [
    "class Solution:\n",
    "    def singleNumber(self, nums: List[int]) -> int:\n",
    "        for n in nums:\n",
    "            if nums.count(n) == 1:\n",
    "                return n"
   ]
  },
  {
   "cell_type": "markdown",
   "id": "f68787e0",
   "metadata": {},
   "source": [
    "Runtime 1122 ms  \n",
    "Beats  \n",
    "17.93%  \n",
    "Memory 18.2 MB  \n",
    "Beats  \n",
    "45.25%"
   ]
  },
  {
   "cell_type": "code",
   "execution_count": null,
   "id": "00e9f396",
   "metadata": {},
   "outputs": [],
   "source": [
    "class Solution:\n",
    "    def singleNumber(self, nums: List[int]) -> int:\n",
    "        s = set(nums)\n",
    "        return (3*sum(s)-sum(nums))//2"
   ]
  },
  {
   "cell_type": "markdown",
   "id": "46077cc3",
   "metadata": {},
   "source": [
    "Runtime 67 ms  \n",
    "Beats  \n",
    "90.91%  \n",
    "Memory 18.3 MB  \n",
    "Beats\n",
    "35.98%"
   ]
  }
 ],
 "metadata": {
  "kernelspec": {
   "display_name": "Python 3 (ipykernel)",
   "language": "python",
   "name": "python3"
  },
  "language_info": {
   "codemirror_mode": {
    "name": "ipython",
    "version": 3
   },
   "file_extension": ".py",
   "mimetype": "text/x-python",
   "name": "python",
   "nbconvert_exporter": "python",
   "pygments_lexer": "ipython3",
   "version": "3.8.13"
  }
 },
 "nbformat": 4,
 "nbformat_minor": 5
}
