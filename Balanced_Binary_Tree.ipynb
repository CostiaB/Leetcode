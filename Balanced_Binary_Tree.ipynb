{
 "cells": [
  {
   "cell_type": "markdown",
   "id": "c7895a14",
   "metadata": {},
   "source": [
    "## 110. Balanced Binary Tree\n",
    "Easy\n",
    "\n",
    "Given a binary tree, determine if it is height-balanced.\n",
    "\n",
    "For this problem, a height-balanced binary tree is defined as:\n",
    "\n",
    "    a binary tree in which the left and right subtrees of every node differ in height by no more than 1.\n",
    "\n",
    " \n",
    "\n",
    "Example 1:\n",
    "<img src = 'https://assets.leetcode.com/uploads/2020/10/06/balance_1.jpg'>\n",
    "Input: root = [3,9,20,null,null,15,7]  \n",
    "Output: true  \n",
    "\n",
    "Example 2:\n",
    "\n",
    "<img src = 'https://assets.leetcode.com/uploads/2020/10/06/balance_2.jpg'>  \n",
    "Input: root = [1,2,2,3,3,null,null,4,4]  \n",
    "Output: false  \n",
    "\n",
    "Example 3:\n",
    "\n",
    "Input: root = []  \n",
    "Output: true  \n",
    "\n",
    " \n",
    "\n",
    "Constraints:\n",
    "\n",
    "    The number of nodes in the tree is in the range [0, 5000].\n",
    "    -104 <= Node.val <= 104\n",
    "\n",
    "Accepted\n",
    "920,674\n",
    "Submissions\n",
    "1,919,328"
   ]
  },
  {
   "cell_type": "code",
   "execution_count": null,
   "id": "3bdb95bf",
   "metadata": {},
   "outputs": [],
   "source": [
    "# Definition for a binary tree node.\n",
    "# class TreeNode:\n",
    "#     def __init__(self, val=0, left=None, right=None):\n",
    "#         self.val = val\n",
    "#         self.left = left\n",
    "#         self.right = right\n",
    "class Solution:\n",
    "    def __init__(self):\n",
    "        self.ans = True\n",
    "        \n",
    "    def isBalanced(self, root: Optional[TreeNode]) -> bool:\n",
    "        self.length(root)\n",
    "        return self.ans\n",
    "       \n",
    "    def length(self, root):\n",
    "        if root == None:\n",
    "            return 0\n",
    "        right = self.length(root.right)\n",
    "        left = self.length(root.left)\n",
    "        if abs(left-right) >1:\n",
    "            self.ans = False\n",
    "        return max(right, left) + 1"
   ]
  },
  {
   "cell_type": "markdown",
   "id": "7efcecb5",
   "metadata": {},
   "source": [
    "Runtime: 97 ms, faster than 36.95% of Python3 online submissions for Balanced Binary Tree.  \n",
    "Memory Usage: 18.7 MB, less than 60.65% of Python3 online submissions for Balanced Binary Tree."
   ]
  }
 ],
 "metadata": {
  "kernelspec": {
   "display_name": "Python 3 (ipykernel)",
   "language": "python",
   "name": "python3"
  },
  "language_info": {
   "codemirror_mode": {
    "name": "ipython",
    "version": 3
   },
   "file_extension": ".py",
   "mimetype": "text/x-python",
   "name": "python",
   "nbconvert_exporter": "python",
   "pygments_lexer": "ipython3",
   "version": "3.7.13"
  }
 },
 "nbformat": 4,
 "nbformat_minor": 5
}
