{
 "cells": [
  {
   "cell_type": "markdown",
   "id": "8d14ed0c",
   "metadata": {},
   "source": [
    "## 875. Koko Eating Bananas\n",
    "Medium\n",
    "7.1K\n",
    "325\n",
    "Companies\n",
    "\n",
    "Koko loves to eat bananas. There are n piles of bananas, the ith pile has piles[i] bananas. The guards have gone and will come back in h hours.\n",
    "\n",
    "Koko can decide her bananas-per-hour eating speed of k. Each hour, she chooses some pile of bananas and eats k bananas from that pile. If the pile has less than k bananas, she eats all of them instead and will not eat any more bananas during this hour.\n",
    "\n",
    "Koko likes to eat slowly but still wants to finish eating all the bananas before the guards return.\n",
    "\n",
    "Return the minimum integer k such that she can eat all the bananas within h hours.\n",
    "\n",
    " \n",
    "\n",
    "Example 1:  \n",
    "\n",
    "Input: piles = [3,6,7,11], h = 8  \n",
    "Output: 4  \n",
    "  \n",
    "Example 2:  \n",
    "\n",
    "Input: piles = [30,11,23,4,20], h = 5  \n",
    "Output: 30  \n",
    "  \n",
    "Example 3:  \n",
    "  \n",
    "Input: piles = [30,11,23,4,20], h = 6  \n",
    "Output: 23  \n",
    "\n",
    "   \n",
    "\n",
    "Constraints:\n",
    "\n",
    "    1 <= piles.length <= 104  \n",
    "    piles.length <= h <= 109  \n",
    "    1 <= piles[i] <= 109  \n",
    "\n"
   ]
  },
  {
   "cell_type": "code",
   "execution_count": null,
   "id": "22d15934",
   "metadata": {},
   "outputs": [],
   "source": [
    "class Solution:\n",
    "    def minEatingSpeed(self, piles: List[int], h: int) -> int:\n",
    "        min_v = math.ceil(sum(piles) / h)\n",
    "        max_v = max(piles)\n",
    "        while min_v < max_v:\n",
    "            banana_speed = (min_v + max_v) // 2\n",
    "            if sum([math.ceil(b / banana_speed) for b in piles]) > h:\n",
    "                min_v = banana_speed + 1\n",
    "            else:\n",
    "                max_v = banana_speed\n",
    "        return min_v"
   ]
  },
  {
   "cell_type": "markdown",
   "id": "5efad192",
   "metadata": {},
   "source": [
    "Runtime  433 ms  \n",
    "Beats  \n",
    "85.89%  \n",
    "Memory 15.5 MB  \n",
    "Beats  \n",
    "62.98%  "
   ]
  }
 ],
 "metadata": {
  "kernelspec": {
   "display_name": "Python 3 (ipykernel)",
   "language": "python",
   "name": "python3"
  },
  "language_info": {
   "codemirror_mode": {
    "name": "ipython",
    "version": 3
   },
   "file_extension": ".py",
   "mimetype": "text/x-python",
   "name": "python",
   "nbconvert_exporter": "python",
   "pygments_lexer": "ipython3",
   "version": "3.8.13"
  }
 },
 "nbformat": 4,
 "nbformat_minor": 5
}
