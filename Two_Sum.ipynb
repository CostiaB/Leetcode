{
 "cells": [
  {
   "cell_type": "markdown",
   "id": "9d7755fe",
   "metadata": {},
   "source": [
    "# 1. Two Sum\n",
    "Easy\n",
    "48.2K\n",
    "1.6K\n",
    "Companies\n",
    "\n",
    "Given an array of integers nums and an integer target, return indices of the two numbers such that they add up to target.\n",
    "\n",
    "You may assume that each input would have exactly one solution, and you may not use the same element twice.\n",
    "\n",
    "You can return the answer in any order.\n",
    "\n",
    " \n",
    "\n",
    "Example 1:\n",
    "\n",
    "Input: nums = [2,7,11,15], target = 9  \n",
    "Output: [0,1] \n",
    "Explanation: Because nums[0] + nums[1] == 9, we return [0, 1].  \n",
    "\n",
    "Example 2:\n",
    "  \n",
    "Input: nums = [3,2,4], target = 6  \n",
    "Output: [1,2]  \n",
    "\n",
    "Example 3:  \n",
    "  \n",
    "Input: nums = [3,3], target = 6  \n",
    "Output: [0,1]  \n",
    "\n",
    " \n",
    "\n",
    "Constraints:\n",
    "\n",
    "    2 <= nums.length <= 104\n",
    "    -109 <= nums[i] <= 109\n",
    "    -109 <= target <= 109\n",
    "    Only one valid answer exists.\n"
   ]
  },
  {
   "cell_type": "code",
   "execution_count": null,
   "id": "64414b2e",
   "metadata": {},
   "outputs": [],
   "source": [
    "class Solution:\n",
    "    def twoSum(self, nums: List[int], target: int) -> List[int]:\n",
    "        elements = {}\n",
    "        for i in range(len(nums)):\n",
    "            diff = target - nums[i]\n",
    "            if diff in elements:\n",
    "                return i, elements[diff]\n",
    "            elements[nums[i]] = i"
   ]
  },
  {
   "cell_type": "markdown",
   "id": "4925913c",
   "metadata": {},
   "source": [
    "Runtime 70 ms  \n",
    "Beats  \n",
    "88.97%  \n",
    "Memory 17.7 MB  \n",
    "Beats  \n",
    "35.47%  "
   ]
  }
 ],
 "metadata": {
  "kernelspec": {
   "display_name": "Python 3 (ipykernel)",
   "language": "python",
   "name": "python3"
  },
  "language_info": {
   "codemirror_mode": {
    "name": "ipython",
    "version": 3
   },
   "file_extension": ".py",
   "mimetype": "text/x-python",
   "name": "python",
   "nbconvert_exporter": "python",
   "pygments_lexer": "ipython3",
   "version": "3.8.13"
  }
 },
 "nbformat": 4,
 "nbformat_minor": 5
}
