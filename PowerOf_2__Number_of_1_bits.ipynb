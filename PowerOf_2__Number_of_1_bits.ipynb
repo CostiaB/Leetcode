{
 "cells": [
  {
   "cell_type": "markdown",
   "id": "3f9e0467",
   "metadata": {},
   "source": [
    "## 231. Power of Two\n",
    "Easy\n",
    "\n",
    "Given an integer n, return true if it is a power of two. Otherwise, return false.\n",
    "\n",
    "An integer n is a power of two, if there exists an integer x such that n == 2x.\n",
    "\n",
    " \n",
    "\n",
    "Example 1:\n",
    "\n",
    "Input: n = 1\n",
    "Output: true\n",
    "Explanation: 20 = 1\n",
    "\n",
    "Example 2:\n",
    "\n",
    "Input: n = 16\n",
    "Output: true\n",
    "Explanation: 24 = 16\n",
    "\n",
    "Example 3:\n",
    "\n",
    "Input: n = 3\n",
    "Output: false\n",
    "\n",
    " \n",
    "\n",
    "Constraints:\n",
    "\n",
    "    -231 <= n <= 231 - 1\n",
    "\n",
    " \n",
    "Follow up: Could you solve it without loops/recursion?"
   ]
  },
  {
   "cell_type": "code",
   "execution_count": 27,
   "id": "84cd5857",
   "metadata": {},
   "outputs": [],
   "source": [
    "class Solution:\n",
    "    def isPowerOfTwo(self, n: int) -> bool:\n",
    "        if n<=0:\n",
    "            return False\n",
    "        ans = [False]\n",
    "        def divider(k):\n",
    "            if k==1:\n",
    "                ans[0] = True\n",
    "            elif k%2==0:\n",
    "                divider(k//2)  \n",
    "        divider(n)\n",
    "        return ans[0]"
   ]
  },
  {
   "cell_type": "code",
   "execution_count": 28,
   "id": "0511bafb",
   "metadata": {},
   "outputs": [
    {
     "data": {
      "text/plain": [
       "False"
      ]
     },
     "execution_count": 28,
     "metadata": {},
     "output_type": "execute_result"
    }
   ],
   "source": [
    "Solution().isPowerOfTwo(6)\n"
   ]
  },
  {
   "cell_type": "markdown",
   "id": "35ca2c4f",
   "metadata": {},
   "source": [
    "Runtime: 45 ms, faster than 60.77% of Python3 online submissions for Power of Two.\n",
    "Memory Usage: 13.8 MB, less than 52.53% of Python3 online submissions for Power of Two."
   ]
  },
  {
   "cell_type": "code",
   "execution_count": 59,
   "id": "718e1dd8",
   "metadata": {},
   "outputs": [],
   "source": [
    "class Solution:\n",
    "    def isPowerOfTwo(self, n: int) -> bool:\n",
    "        if n ==1: return True\n",
    "        return set(bin(n)[3:]) == {'0'}\n"
   ]
  },
  {
   "cell_type": "code",
   "execution_count": 61,
   "id": "c3147c57",
   "metadata": {},
   "outputs": [
    {
     "data": {
      "text/plain": [
       "False"
      ]
     },
     "execution_count": 61,
     "metadata": {},
     "output_type": "execute_result"
    }
   ],
   "source": [
    "Solution().isPowerOfTwo(7)"
   ]
  },
  {
   "cell_type": "markdown",
   "id": "0d2cd90b",
   "metadata": {},
   "source": [
    "Your runtime beats 30.04 % of python3 submission"
   ]
  },
  {
   "cell_type": "code",
   "execution_count": 63,
   "id": "2c6400e1",
   "metadata": {},
   "outputs": [],
   "source": [
    "class Solution:\n",
    "    def isPowerOfTwo(self, n: int) -> bool:\n",
    "        return n>0 and not(n & (n-1))"
   ]
  },
  {
   "cell_type": "code",
   "execution_count": 64,
   "id": "56f1dea0",
   "metadata": {},
   "outputs": [
    {
     "data": {
      "text/plain": [
       "False"
      ]
     },
     "execution_count": 64,
     "metadata": {},
     "output_type": "execute_result"
    }
   ],
   "source": [
    "Solution().isPowerOfTwo(7)"
   ]
  },
  {
   "cell_type": "markdown",
   "id": "0fba534a",
   "metadata": {},
   "source": [
    "Runtime: 36 ms, faster than 85.66% of Python3 online submissions for Power of Two.\n",
    "Memory Usage: 13.8 MB, less than 95.33% of Python3 online submissions for Power of Two."
   ]
  },
  {
   "cell_type": "code",
   "execution_count": 95,
   "id": "735ea97e",
   "metadata": {},
   "outputs": [],
   "source": [
    "class Solution:\n",
    "    def isPowerOfTwo(self, n: int) -> bool:\n",
    "        t=1\n",
    "        if n==1:\n",
    "            return True\n",
    "        if n<0:\n",
    "            return False\n",
    "        while t<=n:\n",
    "            print(t)\n",
    "            if t==n:\n",
    "                return True\n",
    "            elif t<n:\n",
    "                t = t << 1\n",
    "        return False"
   ]
  },
  {
   "cell_type": "code",
   "execution_count": 96,
   "id": "886e3722",
   "metadata": {},
   "outputs": [
    {
     "name": "stdout",
     "output_type": "stream",
     "text": [
      "1\n",
      "2\n",
      "4\n"
     ]
    },
    {
     "data": {
      "text/plain": [
       "False"
      ]
     },
     "execution_count": 96,
     "metadata": {},
     "output_type": "execute_result"
    }
   ],
   "source": [
    "Solution().isPowerOfTwo(7)"
   ]
  },
  {
   "cell_type": "markdown",
   "id": "a5bacae7",
   "metadata": {},
   "source": [
    "Runtime: 25 ms, faster than 99.32% of Python3 online submissions for Power of Two.\n",
    "Memory Usage: 14.1 MB, less than 8.50% of Python3 online submissions for Power of Two."
   ]
  },
  {
   "cell_type": "code",
   "execution_count": 90,
   "id": "c1b99e42",
   "metadata": {},
   "outputs": [
    {
     "data": {
      "text/plain": [
       "8"
      ]
     },
     "execution_count": 90,
     "metadata": {},
     "output_type": "execute_result"
    }
   ],
   "source": [
    "t = 4\n",
    "t = t << 1\n",
    "t\n",
    "#2>>1\n",
    "#1>>1"
   ]
  },
  {
   "cell_type": "markdown",
   "id": "63970628",
   "metadata": {},
   "source": [
    "## 191. Number of 1 Bits\n",
    "Easy\n",
    "\n",
    "Write a function that takes an unsigned integer and returns the number of '1' bits it has (also known as the Hamming weight).\n",
    "\n",
    "Note:\n",
    "\n",
    "    Note that in some languages, such as Java, there is no unsigned integer type. In this case, the input will be given as a signed integer type. It should not affect your implementation, as the integer's internal binary representation is the same, whether it is signed or unsigned.\n",
    "    In Java, the compiler represents the signed integers using 2's complement notation. Therefore, in Example 3, the input represents the signed integer. -3.\n",
    "\n",
    " \n",
    "\n",
    "Example 1:\n",
    "\n",
    "Input: n = 00000000000000000000000000001011\n",
    "Output: 3\n",
    "Explanation: The input binary string 00000000000000000000000000001011 has a total of three '1' bits.\n",
    "\n",
    "Example 2:\n",
    "\n",
    "Input: n = 00000000000000000000000010000000\n",
    "Output: 1\n",
    "Explanation: The input binary string 00000000000000000000000010000000 has a total of one '1' bit.\n",
    "\n",
    "Example 3:\n",
    "\n",
    "Input: n = 11111111111111111111111111111101\n",
    "Output: 31\n",
    "Explanation: The input binary string 11111111111111111111111111111101 has a total of thirty one '1' bits.\n",
    "\n",
    " \n",
    "\n",
    "Constraints:\n",
    "\n",
    "    The input must be a binary string of length 32.\n",
    "\n",
    " \n",
    "Follow up: If this function is called many times, how would you optimize it?"
   ]
  },
  {
   "cell_type": "code",
   "execution_count": 83,
   "id": "b522634f",
   "metadata": {},
   "outputs": [],
   "source": [
    "class Solution:\n",
    "    def hammingWeight(self, n: int) -> int:\n",
    "        return sum([1 if e =='1' else 0 for e in bin(n)[2:]])"
   ]
  },
  {
   "cell_type": "code",
   "execution_count": 84,
   "id": "326eef74",
   "metadata": {},
   "outputs": [
    {
     "data": {
      "text/plain": [
       "4"
      ]
     },
     "execution_count": 84,
     "metadata": {},
     "output_type": "execute_result"
    }
   ],
   "source": [
    "n = 2147483659\n",
    "Solution().hammingWeight(n)"
   ]
  },
  {
   "cell_type": "markdown",
   "id": "1bb4ee5f",
   "metadata": {},
   "source": [
    "Runtime: 30 ms, faster than 95.16% of Python3 online submissions for Number of 1 Bits.\n",
    "Memory Usage: 14 MB, less than 7.70% of Python3 online submissions for Number of 1 Bits."
   ]
  },
  {
   "cell_type": "code",
   "execution_count": null,
   "id": "f534c645",
   "metadata": {},
   "outputs": [],
   "source": [
    "class Solution:\n",
    "    def hammingWeight(self, n: int) -> int:\n",
    "        \n",
    "        return "
   ]
  },
  {
   "cell_type": "code",
   "execution_count": null,
   "id": "67e6a5ad",
   "metadata": {},
   "outputs": [],
   "source": []
  }
 ],
 "metadata": {
  "kernelspec": {
   "display_name": "Python 3 (ipykernel)",
   "language": "python",
   "name": "python3"
  },
  "language_info": {
   "codemirror_mode": {
    "name": "ipython",
    "version": 3
   },
   "file_extension": ".py",
   "mimetype": "text/x-python",
   "name": "python",
   "nbconvert_exporter": "python",
   "pygments_lexer": "ipython3",
   "version": "3.8.11"
  }
 },
 "nbformat": 4,
 "nbformat_minor": 5
}
