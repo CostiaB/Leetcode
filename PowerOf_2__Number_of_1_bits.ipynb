{
 "cells": [
  {
   "cell_type": "markdown",
   "id": "ddd06268",
   "metadata": {},
   "source": [
    "## 231. Power of Two\n",
    "Easy\n",
    "\n",
    "Given an integer n, return true if it is a power of two. Otherwise, return false.\n",
    "\n",
    "An integer n is a power of two, if there exists an integer x such that n == 2x.\n",
    "\n",
    " \n",
    "\n",
    "Example 1:\n",
    "\n",
    "Input: n = 1\n",
    "Output: true\n",
    "Explanation: 20 = 1\n",
    "\n",
    "Example 2:\n",
    "\n",
    "Input: n = 16\n",
    "Output: true\n",
    "Explanation: 24 = 16\n",
    "\n",
    "Example 3:\n",
    "\n",
    "Input: n = 3\n",
    "Output: false\n",
    "\n",
    " \n",
    "\n",
    "Constraints:\n",
    "\n",
    "    -231 <= n <= 231 - 1\n",
    "\n",
    " \n",
    "Follow up: Could you solve it without loops/recursion?"
   ]
  },
  {
   "cell_type": "code",
   "execution_count": 27,
   "id": "28bf688d",
   "metadata": {},
   "outputs": [],
   "source": [
    "class Solution:\n",
    "    def isPowerOfTwo(self, n: int) -> bool:\n",
    "        if n<=0:\n",
    "            return False\n",
    "        ans = [False]\n",
    "        def divider(k):\n",
    "            if k==1:\n",
    "                ans[0] = True\n",
    "            elif k%2==0:\n",
    "                divider(k//2)  \n",
    "        divider(n)\n",
    "        return ans[0]"
   ]
  },
  {
   "cell_type": "code",
   "execution_count": 28,
   "id": "fe849620",
   "metadata": {},
   "outputs": [
    {
     "data": {
      "text/plain": [
       "False"
      ]
     },
     "execution_count": 28,
     "metadata": {},
     "output_type": "execute_result"
    }
   ],
   "source": [
    "Solution().isPowerOfTwo(6)\n"
   ]
  },
  {
   "cell_type": "markdown",
   "id": "83c097c8",
   "metadata": {},
   "source": [
    "Runtime: 45 ms, faster than 60.77% of Python3 online submissions for Power of Two.\n",
    "Memory Usage: 13.8 MB, less than 52.53% of Python3 online submissions for Power of Two."
   ]
  },
  {
   "cell_type": "code",
   "execution_count": 59,
   "id": "4a4ed93b",
   "metadata": {},
   "outputs": [],
   "source": [
    "class Solution:\n",
    "    def isPowerOfTwo(self, n: int) -> bool:\n",
    "        if n ==1: return True\n",
    "        return set(bin(n)[3:]) == {'0'}\n"
   ]
  },
  {
   "cell_type": "code",
   "execution_count": 61,
   "id": "7f177b3a",
   "metadata": {},
   "outputs": [
    {
     "data": {
      "text/plain": [
       "False"
      ]
     },
     "execution_count": 61,
     "metadata": {},
     "output_type": "execute_result"
    }
   ],
   "source": [
    "Solution().isPowerOfTwo(7)"
   ]
  },
  {
   "cell_type": "markdown",
   "id": "f48a8296",
   "metadata": {},
   "source": [
    "Your runtime beats 30.04 % of python3 submission"
   ]
  },
  {
   "cell_type": "code",
   "execution_count": 63,
   "id": "64ca0286",
   "metadata": {},
   "outputs": [],
   "source": [
    "class Solution:\n",
    "    def isPowerOfTwo(self, n: int) -> bool:\n",
    "        return n>0 and not(n & (n-1))"
   ]
  },
  {
   "cell_type": "code",
   "execution_count": 64,
   "id": "73899b49",
   "metadata": {},
   "outputs": [
    {
     "data": {
      "text/plain": [
       "False"
      ]
     },
     "execution_count": 64,
     "metadata": {},
     "output_type": "execute_result"
    }
   ],
   "source": [
    "Solution().isPowerOfTwo(7)"
   ]
  },
  {
   "cell_type": "markdown",
   "id": "cf91e710",
   "metadata": {},
   "source": [
    "Runtime: 36 ms, faster than 85.66% of Python3 online submissions for Power of Two.\n",
    "Memory Usage: 13.8 MB, less than 95.33% of Python3 online submissions for Power of Two."
   ]
  },
  {
   "cell_type": "code",
   "execution_count": null,
   "id": "f9260c21",
   "metadata": {},
   "outputs": [],
   "source": [
    "class Solution:\n",
    "    def isPowerOfTwo(self, n: int) -> bool:\n",
    "        if n<=0: return False\n",
    "        while nn <<"
   ]
  },
  {
   "cell_type": "code",
   "execution_count": 68,
   "id": "6f0f5562",
   "metadata": {},
   "outputs": [
    {
     "data": {
      "text/plain": [
       "0"
      ]
     },
     "execution_count": 68,
     "metadata": {},
     "output_type": "execute_result"
    }
   ],
   "source": [
    "5>>1\n",
    "2>>1\n",
    "1>>1"
   ]
  },
  {
   "cell_type": "code",
   "execution_count": 69,
   "id": "1dddbdc3",
   "metadata": {},
   "outputs": [
    {
     "data": {
      "text/plain": [
       "2"
      ]
     },
     "execution_count": 69,
     "metadata": {},
     "output_type": "execute_result"
    }
   ],
   "source": [
    "4>>1\n",
    "#2>>1\n",
    "#1>>1"
   ]
  },
  {
   "cell_type": "markdown",
   "id": "e83a6ca8",
   "metadata": {},
   "source": [
    "## 191. Number of 1 Bits\n",
    "Easy\n",
    "\n",
    "Write a function that takes an unsigned integer and returns the number of '1' bits it has (also known as the Hamming weight).\n",
    "\n",
    "Note:\n",
    "\n",
    "    Note that in some languages, such as Java, there is no unsigned integer type. In this case, the input will be given as a signed integer type. It should not affect your implementation, as the integer's internal binary representation is the same, whether it is signed or unsigned.\n",
    "    In Java, the compiler represents the signed integers using 2's complement notation. Therefore, in Example 3, the input represents the signed integer. -3.\n",
    "\n",
    " \n",
    "\n",
    "Example 1:\n",
    "\n",
    "Input: n = 00000000000000000000000000001011\n",
    "Output: 3\n",
    "Explanation: The input binary string 00000000000000000000000000001011 has a total of three '1' bits.\n",
    "\n",
    "Example 2:\n",
    "\n",
    "Input: n = 00000000000000000000000010000000\n",
    "Output: 1\n",
    "Explanation: The input binary string 00000000000000000000000010000000 has a total of one '1' bit.\n",
    "\n",
    "Example 3:\n",
    "\n",
    "Input: n = 11111111111111111111111111111101\n",
    "Output: 31\n",
    "Explanation: The input binary string 11111111111111111111111111111101 has a total of thirty one '1' bits.\n",
    "\n",
    " \n",
    "\n",
    "Constraints:\n",
    "\n",
    "    The input must be a binary string of length 32.\n",
    "\n",
    " \n",
    "Follow up: If this function is called many times, how would you optimize it?"
   ]
  },
  {
   "cell_type": "code",
   "execution_count": 83,
   "id": "5438df7d",
   "metadata": {},
   "outputs": [],
   "source": [
    "class Solution:\n",
    "    def hammingWeight(self, n: int) -> int:\n",
    "        return sum([1 if e =='1' else 0 for e in bin(n)[2:]])"
   ]
  },
  {
   "cell_type": "code",
   "execution_count": 84,
   "id": "6b1d628b",
   "metadata": {},
   "outputs": [
    {
     "data": {
      "text/plain": [
       "4"
      ]
     },
     "execution_count": 84,
     "metadata": {},
     "output_type": "execute_result"
    }
   ],
   "source": [
    "n = 2147483659\n",
    "Solution().hammingWeight(n)"
   ]
  },
  {
   "cell_type": "markdown",
   "id": "9433d56a",
   "metadata": {},
   "source": [
    "Runtime: 30 ms, faster than 95.16% of Python3 online submissions for Number of 1 Bits.\n",
    "Memory Usage: 14 MB, less than 7.70% of Python3 online submissions for Number of 1 Bits."
   ]
  }
 ],
 "metadata": {
  "kernelspec": {
   "display_name": "Python 3 (ipykernel)",
   "language": "python",
   "name": "python3"
  },
  "language_info": {
   "codemirror_mode": {
    "name": "ipython",
    "version": 3
   },
   "file_extension": ".py",
   "mimetype": "text/x-python",
   "name": "python",
   "nbconvert_exporter": "python",
   "pygments_lexer": "ipython3",
   "version": "3.8.11"
  }
 },
 "nbformat": 4,
 "nbformat_minor": 5
}
