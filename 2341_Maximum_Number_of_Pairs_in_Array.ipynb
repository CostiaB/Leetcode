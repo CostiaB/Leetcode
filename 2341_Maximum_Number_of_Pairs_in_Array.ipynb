{
 "cells": [
  {
   "cell_type": "markdown",
   "id": "82812b20",
   "metadata": {},
   "source": [
    "# 2341. Maximum Number of Pairs in Array\n",
    "Easy\n",
    "\n",
    "\n",
    "You are given a 0-indexed integer array nums. In one operation, you may do the following:\n",
    "\n",
    "    Choose two integers in nums that are equal.  \n",
    "    Remove both integers from nums, forming a pair.  \n",
    "\n",
    "The operation is done on nums as many times as possible.  \n",
    "\n",
    "Return a 0-indexed integer array answer of size 2 where answer[0] is the number of pairs that are formed and answer[1] is the number of leftover integers in nums after doing the operation as many times as possible.\n",
    "\n",
    " \n",
    "\n",
    "Example 1:  \n",
    "\n",
    "Input: nums = [1,3,2,1,3,2,2]  \n",
    "Output: [3,1]  \n",
    "Explanation:  \n",
    "Form a pair with nums[0] and nums[3] and remove them from nums. Now, nums = [3,2,3,2,2].  \n",
    "Form a pair with nums[0] and nums[2] and remove them from nums. Now, nums = [2,2,2].  \n",
    "Form a pair with nums[0] and nums[1] and remove them from nums. Now, nums = [2].  \n",
    "No more pairs can be formed. A total of 3 pairs have been formed, and there is 1 number leftover in nums.  \n",
    "\n",
    "Example 2:\n",
    "\n",
    "Input: nums = [1,1]  \n",
    "Output: [1,0]  \n",
    "Explanation: Form a pair with nums[0] and nums[1] and remove them from nums. Now, nums = [].  \n",
    "No more pairs can be formed. A total of 1 pair has been formed, and there are 0 numbers leftover in nums.  \n",
    "\n",
    "Example 3:\n",
    "\n",
    "Input: nums = [0]  \n",
    "Output: [0,1]  \n",
    "Explanation: No pairs can be formed, and there is 1 number leftover in nums.  \n",
    "\n",
    " \n",
    "\n",
    "Constraints:\n",
    "\n",
    "    1 <= nums.length <= 100\n",
    "    0 <= nums[i] <= 100\n",
    "\n"
   ]
  },
  {
   "cell_type": "code",
   "execution_count": null,
   "id": "d9a8be49",
   "metadata": {},
   "outputs": [],
   "source": [
    "class Solution:\n",
    "    def numberOfPairs(self, nums: List[int]) -> List[int]:\n",
    "        ans = [0,0]\n",
    "        u_items = set(nums)\n",
    "\n",
    "        while len(nums) != len(set(nums)):\n",
    "            \n",
    "            for el in u_items:\n",
    "                if nums.count(el) >= 2:\n",
    "                    nums.remove(el)\n",
    "                    nums.remove(el)  \n",
    "                    ans[0] += 1\n",
    "            \n",
    "\n",
    "        ans[1] = len(nums)\n",
    "\n",
    "        return ans\n",
    "        "
   ]
  },
  {
   "cell_type": "markdown",
   "id": "22ba6bef",
   "metadata": {},
   "source": [
    "    Runtime 33ms Beats 95.58%  \n",
    "    Memory 16.39MB Beats 6.56%"
   ]
  },
  {
   "cell_type": "code",
   "execution_count": null,
   "id": "32f770b7",
   "metadata": {},
   "outputs": [],
   "source": [
    "class Solution:\n",
    "    def numberOfPairs(self, nums: List[int]) -> List[int]:\n",
    "        ans = [0, 0]\n",
    "        itms = set(nums)\n",
    "        for el in itms:\n",
    "            occ = nums.count(el)\n",
    "            ans[0] += occ // 2\n",
    "            ans[1] += occ % 2\n",
    "\n",
    "        return ans"
   ]
  },
  {
   "cell_type": "markdown",
   "id": "10261e91",
   "metadata": {},
   "source": [
    "    Runtime 41 ms Beats 63.1%\n",
    "    Memory 16.3 MB Beats 6.56%"
   ]
  }
 ],
 "metadata": {
  "kernelspec": {
   "display_name": "Python 3 (ipykernel)",
   "language": "python",
   "name": "python3"
  },
  "language_info": {
   "codemirror_mode": {
    "name": "ipython",
    "version": 3
   },
   "file_extension": ".py",
   "mimetype": "text/x-python",
   "name": "python",
   "nbconvert_exporter": "python",
   "pygments_lexer": "ipython3",
   "version": "3.10.12"
  }
 },
 "nbformat": 4,
 "nbformat_minor": 5
}
