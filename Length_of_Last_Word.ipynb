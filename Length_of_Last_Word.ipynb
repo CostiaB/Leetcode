{
 "cells": [
  {
   "cell_type": "markdown",
   "id": "1807c52e",
   "metadata": {},
   "source": [
    "## 58. Length of Last Word\n",
    "Easy  \n",
    "3K  \n",
    "156  \n",
    "Companies  \n",
    "\n",
    "Given a string s consisting of words and spaces, return the length of the last word in the string.\n",
    "\n",
    "A word is a maximal\n",
    "substring\n",
    "consisting of non-space characters only.\n",
    "\n",
    " \n",
    "\n",
    "Example 1:\n",
    "\n",
    "Input: s = \"Hello World\"  \n",
    "Output: 5  \n",
    "Explanation: The last word is \"World\" with length 5.  \n",
    "\n",
    "Example 2:\n",
    "  \n",
    "Input: s = \"   fly me   to   the moon  \"  \n",
    "Output: 4  \n",
    "Explanation: The last word is \"moon\" with length 4.  \n",
    "\n",
    "Example 3:  \n",
    "  \n",
    "Input: s = \"luffy is still joyboy\"  \n",
    "Output: 6  \n",
    "Explanation: The last word is \"joyboy\" with length 6.  \n",
    "\n",
    " \n",
    "\n",
    "Constraints:\n",
    "\n",
    "    1 <= s.length <= 104\n",
    "    s consists of only English letters and spaces ' '.\n",
    "    There will be at least one word in s.\n",
    "\n"
   ]
  },
  {
   "cell_type": "code",
   "execution_count": null,
   "id": "5db37205",
   "metadata": {},
   "outputs": [],
   "source": [
    "class Solution:\n",
    "    def lengthOfLastWord(self, s: str) -> int:\n",
    "        return len(s.strip(\" \").split(\" \")[-1])"
   ]
  },
  {
   "cell_type": "markdown",
   "id": "07f5bffb",
   "metadata": {},
   "source": [
    "Runtime 27 ms  \n",
    "Beats  \n",
    "87.72%  \n",
    "Memory 13.9 MB  \n",
    "Beats  \n",
    "26.18%  "
   ]
  },
  {
   "cell_type": "code",
   "execution_count": null,
   "id": "896b8aaa",
   "metadata": {},
   "outputs": [],
   "source": [
    "class Solution:\n",
    "    def lengthOfLastWord(self, s: str) -> int:\n",
    "        n, l = 0, 0\n",
    "        s += \" \"\n",
    "        for c in s:\n",
    "            if c != \" \":\n",
    "                n += 1\n",
    "            else:\n",
    "                if n > 0:\n",
    "                    l = n\n",
    "                n = 0\n",
    "        return l"
   ]
  },
  {
   "cell_type": "markdown",
   "id": "ba0e85b7",
   "metadata": {},
   "source": [
    "Runtime 36 ms  \n",
    "Beats  \n",
    "23.51%  \n",
    "Memory 13.8 MB  \n",
    "Beats  \n",
    "97.12%  "
   ]
  }
 ],
 "metadata": {
  "kernelspec": {
   "display_name": "Python 3 (ipykernel)",
   "language": "python",
   "name": "python3"
  },
  "language_info": {
   "codemirror_mode": {
    "name": "ipython",
    "version": 3
   },
   "file_extension": ".py",
   "mimetype": "text/x-python",
   "name": "python",
   "nbconvert_exporter": "python",
   "pygments_lexer": "ipython3",
   "version": "3.8.13"
  }
 },
 "nbformat": 4,
 "nbformat_minor": 5
}
