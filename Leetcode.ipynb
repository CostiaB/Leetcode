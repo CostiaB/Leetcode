{
 "cells": [
  {
   "cell_type": "markdown",
   "id": "69e69e67",
   "metadata": {},
   "source": [
    "# Two Sum\n",
    "Given an array of integers nums and an integer target, return indices of the two numbers such that they add up to target.\n",
    "\n",
    "You may assume that each input would have exactly one solution, and you may not use the same element twice.\n",
    "\n",
    "You can return the answer in any order.\n",
    "\n",
    " \n",
    "\n",
    "Example 1:\n",
    "\n",
    "Input: nums = [2,7,11,15], target = 9\n",
    "Output: [0,1]\n",
    "Explanation: Because nums[0] + nums[1] == 9, we return [0, 1].\n",
    "\n",
    "Example 2:\n",
    "\n",
    "Input: nums = [3,2,4], target = 6\n",
    "Output: [1,2]\n",
    "\n",
    "Example 3:\n",
    "\n",
    "Input: nums = [3,3], target = 6\n",
    "Output: [0,1]\n",
    "\n",
    " \n",
    "\n",
    "Constraints:\n",
    "\n",
    "    2 <= nums.length <= 104\n",
    "    -109 <= nums[i] <= 109\n",
    "    -109 <= target <= 109\n",
    "    Only one valid answer exists.\n",
    "\n",
    " \n",
    "Follow-up: Can you come up with an algorithm that is less than O(n2) time complexity?"
   ]
  },
  {
   "cell_type": "code",
   "execution_count": 20,
   "id": "8f6ffda3",
   "metadata": {},
   "outputs": [],
   "source": [
    "class Solution:\n",
    "    def twoSum(self, nums: list, target: int) -> list:\n",
    "        for ind_i, i in enumerate(nums):\n",
    "            print('i =',i )\n",
    "            for ind_j, j in enumerate(nums[ind_i+1:]):\n",
    "                print(j)\n",
    "                if (i + j) == target:\n",
    "                    return [ind_i, ind_j+ind_i+1]\n",
    "            "
   ]
  },
  {
   "cell_type": "code",
   "execution_count": 21,
   "id": "6d41f674",
   "metadata": {},
   "outputs": [
    {
     "name": "stdout",
     "output_type": "stream",
     "text": [
      "i = 3\n",
      "2\n",
      "4\n",
      "i = 2\n",
      "4\n"
     ]
    },
    {
     "data": {
      "text/plain": [
       "[1, 2]"
      ]
     },
     "execution_count": 21,
     "metadata": {},
     "output_type": "execute_result"
    }
   ],
   "source": [
    "Solution().twoSum([3,2,4], 6)\n"
   ]
  },
  {
   "cell_type": "markdown",
   "id": "edb139a7",
   "metadata": {},
   "source": [
    "# 704. Binary Search\n",
    "Easy\n",
    "\n",
    "Given an array of integers nums which is sorted in ascending order, and an integer target, write a function to search target in nums. If target exists, then return its index. Otherwise, return -1.\n",
    "\n",
    "You must write an algorithm with O(log n) runtime complexity.\n",
    "\n",
    " \n",
    "\n",
    "Example 1:\n",
    "\n",
    "Input: nums = [-1,0,3,5,9,12], target = 9\n",
    "Output: 4\n",
    "Explanation: 9 exists in nums and its index is 4\n",
    "\n",
    "Example 2:\n",
    "\n",
    "Input: nums = [-1,0,3,5,9,12], target = 2\n",
    "Output: -1\n",
    "Explanation: 2 does not exist in nums so return -1\n",
    "\n",
    " \n",
    "\n",
    "Constraints:\n",
    "\n",
    "    1 <= nums.length <= 104\n",
    "    -104 < nums[i], target < 104\n",
    "    All the integers in nums are unique.\n",
    "    nums is sorted in ascending order.\n",
    "\n"
   ]
  },
  {
   "cell_type": "code",
   "execution_count": 49,
   "id": "d403b44f",
   "metadata": {},
   "outputs": [],
   "source": [
    "class Solution:\n",
    "    def search(self, nums: list, target: int) -> int:\n",
    "        left = 0\n",
    "        right = len(nums) -1\n",
    "        while left <= right:\n",
    "            middle = (left + right) // 2\n",
    "            print(\"m:\", middle)\n",
    "            print('r:', right)\n",
    "            print('l:', left)\n",
    "            print(\"nums[middle]:\",nums[middle])\n",
    "            if nums[middle] == target:\n",
    "                return middle\n",
    "            elif target > nums[middle]:\n",
    "                left = middle + 1\n",
    "            else:\n",
    "                print(3)\n",
    "                right = middle - 1\n",
    "            \n",
    "            \n",
    "        return -1"
   ]
  },
  {
   "cell_type": "code",
   "execution_count": 50,
   "id": "abfdfbdb",
   "metadata": {},
   "outputs": [
    {
     "name": "stdout",
     "output_type": "stream",
     "text": [
      "m: 2\n",
      "r: 5\n",
      "l: 0\n",
      "nums[middle]: 3\n",
      "m: 4\n",
      "r: 5\n",
      "l: 3\n",
      "nums[middle]: 9\n"
     ]
    },
    {
     "data": {
      "text/plain": [
       "4"
      ]
     },
     "execution_count": 50,
     "metadata": {},
     "output_type": "execute_result"
    }
   ],
   "source": [
    "Solution().search(nums = [-1,0,3,5,9,12], target = 9)\n"
   ]
  },
  {
   "cell_type": "markdown",
   "id": "3d9dd8dc",
   "metadata": {},
   "source": [
    "# 278. First Bad Version\n",
    "Easy\n",
    "\n",
    "You are a product manager and currently leading a team to develop a new product. Unfortunately, the latest version of your product fails the quality check. Since each version is developed based on the previous version, all the versions after a bad version are also bad.\n",
    "\n",
    "Suppose you have n versions [1, 2, ..., n] and you want to find out the first bad one, which causes all the following ones to be bad.\n",
    "\n",
    "You are given an API bool isBadVersion(version) which returns whether version is bad. Implement a function to find the first bad version. You should minimize the number of calls to the API.\n",
    "\n",
    " \n",
    "\n",
    "Example 1:\n",
    "\n",
    "Input: n = 5, bad = 4\n",
    "Output: 4\n",
    "Explanation:\n",
    "call isBadVersion(3) -> false\n",
    "call isBadVersion(5) -> true\n",
    "call isBadVersion(4) -> true\n",
    "Then 4 is the first bad version.\n",
    "\n",
    "Example 2:\n",
    "\n",
    "Input: n = 1, bad = 1\n",
    "Output: 1\n",
    "\n",
    " \n",
    "\n",
    "Constraints:\n",
    "\n",
    "    1 <= bad <= n <= 231 - 1\n",
    "\n"
   ]
  },
  {
   "cell_type": "code",
   "execution_count": 53,
   "id": "0c30e207",
   "metadata": {},
   "outputs": [],
   "source": [
    "class Solution:\n",
    "    def firstBadVersion(self, n: int) -> int:\n",
    "        left = 1\n",
    "        right = n\n",
    "        \n",
    "            \n",
    "        while left <=right:\n",
    "            mid =  (right+left) // 2\n",
    "            check = isBadVersion(mid)\n",
    "            if check:\n",
    "                right = mid - 1\n",
    "            else:\n",
    "                left = mid + 1\n",
    "        if isBadVersion(left):\n",
    "            return left\n",
    "        return right\n",
    "            "
   ]
  },
  {
   "cell_type": "markdown",
   "id": "dfe8eaa3",
   "metadata": {},
   "source": [
    "## 283. Move Zeroes\n",
    "Easy\n",
    "\n",
    "Given an integer array nums, move all 0's to the end of it while maintaining the relative order of the non-zero elements.\n",
    "\n",
    "Note that you must do this in-place without making a copy of the array.\n",
    "\n",
    " \n",
    "\n",
    "Example 1:\n",
    "\n",
    "Input: nums = [0,1,0,3,12]\n",
    "Output: [1,3,12,0,0]\n",
    "\n",
    "Example 2:\n",
    "\n",
    "Input: nums = [0]\n",
    "Output: [0]\n",
    "\n",
    " \n",
    "\n",
    "Constraints:\n",
    "\n",
    "    1 <= nums.length <= 104\n",
    "    -231 <= nums[i] <= 231 - 1\n",
    "\n",
    " "
   ]
  },
  {
   "cell_type": "code",
   "execution_count": 80,
   "id": "782efd1f",
   "metadata": {},
   "outputs": [],
   "source": [
    "class Solution:\n",
    "    def moveZeroes(self, nums: list) -> None:\n",
    "        \"\"\"\n",
    "        Do not return anything, modify nums in-place instead.\n",
    "        \"\"\"\n",
    "        n = len(nums)\n",
    "        i = 0\n",
    "        while i <= n-1:\n",
    "            if nums[i] == 0:\n",
    "                nums.pop(i)\n",
    "                nums.insert(len(nums), 0)\n",
    "                n -= 1\n",
    "            else:\n",
    "                i += 1\n"
   ]
  },
  {
   "cell_type": "code",
   "execution_count": 81,
   "id": "f0f03d3d",
   "metadata": {},
   "outputs": [
    {
     "data": {
      "text/plain": [
       "[1, 3, 12, 0, 0]"
      ]
     },
     "execution_count": 81,
     "metadata": {},
     "output_type": "execute_result"
    }
   ],
   "source": [
    "nums = [0,1,0,3,12] \n",
    "Solution().moveZeroes(nums)\n",
    "nums"
   ]
  },
  {
   "cell_type": "markdown",
   "id": "d68f0581",
   "metadata": {},
   "source": [
    "## 21. Merge Two Sorted Lists\n",
    "Easy\n",
    "\n",
    "You are given the heads of two sorted linked lists list1 and list2.\n",
    "\n",
    "Merge the two lists in a one sorted list. The list should be made by splicing together the nodes of the first two lists.\n",
    "\n",
    "Return the head of the merged linked list.\n",
    "\n",
    " \n",
    "\n",
    "Example 1:\n",
    "<img src = 'https://assets.leetcode.com/uploads/2020/10/03/merge_ex1.jpg'>\n",
    "\n",
    "Input: list1 = [1,2,4], list2 = [1,3,4]\n",
    "Output: [1,1,2,3,4,4]\n",
    "\n",
    "Example 2:\n",
    "\n",
    "Input: list1 = [], list2 = []\n",
    "Output: []\n",
    "\n",
    "Example 3:\n",
    "\n",
    "Input: list1 = [], list2 = [0]\n",
    "Output: [0]\n",
    "\n",
    " \n",
    "\n",
    "Constraints:\n",
    "\n",
    "    The number of nodes in both lists is in the range [0, 50].\n",
    "    -100 <= Node.val <= 100\n",
    "    Both list1 and list2 are sorted in non-decreasing order.\n",
    "\n"
   ]
  },
  {
   "cell_type": "code",
   "execution_count": null,
   "id": "0ca04ce0",
   "metadata": {},
   "outputs": [],
   "source": [
    "class Solution:\n",
    "    def mergeTwoLists(self, list1: Optional[ListNode], list2: Optional[ListNode]) -> Optional[ListNode]:\n",
    "        curr = ans = ListNode()\n",
    "        while list1 and list2:               \n",
    "            if list1.val < list2.val:\n",
    "                curr.next = list1\n",
    "                list1, curr = list1.next, list1\n",
    "            else:\n",
    "                curr.next = list2\n",
    "                list2, curr = list2.next, list2\n",
    "                \n",
    "        if list1 or list2:\n",
    "            curr.next = list1 if list1 else list2\n",
    "            \n",
    "        return ans.next\n"
   ]
  },
  {
   "cell_type": "markdown",
   "id": "408fc951",
   "metadata": {},
   "source": [
    "## 206. Reverse Linked List\n",
    "Easy\n",
    "\n",
    "Given the head of a singly linked list, reverse the list, and return the reversed list.\n",
    "\n",
    " \n",
    "\n",
    "Example 1:\n",
    "<img src = 'https://assets.leetcode.com/uploads/2021/02/19/rev1ex1.jpg'>\n",
    "\n",
    "Input: head = [1,2,3,4,5]\n",
    "Output: [5,4,3,2,1]\n",
    "\n",
    "Example 2:\n",
    "<img src = 'https://assets.leetcode.com/uploads/2021/02/19/rev1ex2.jpg'>\n",
    "\n",
    "Input: head = [1,2]\n",
    "Output: [2,1]\n",
    "\n",
    "Example 3:\n",
    "\n",
    "Input: head = []\n",
    "Output: []\n",
    "\n",
    " \n",
    "\n",
    "Constraints:\n",
    "\n",
    "    The number of nodes in the list is the range [0, 5000].\n",
    "    -5000 <= Node.val <= 5000\n",
    "\n",
    " \n",
    "\n",
    "Follow up: A linked list can be reversed either iteratively or recursively. Could you implement both?\n"
   ]
  },
  {
   "cell_type": "code",
   "execution_count": null,
   "id": "a5f5e4e6",
   "metadata": {},
   "outputs": [],
   "source": [
    "# Definition for singly-linked list.\n",
    "# class ListNode:\n",
    "#     def __init__(self, val=0, next=None):\n",
    "#         self.val = val\n",
    "#         self.next = next\n",
    "class Solution:\n",
    "    def reverseList(self, head: Optional[ListNode]) -> Optional[ListNode]:\n",
    "        cur = ans = head\n",
    "        tmp = []\n",
    "        while cur:\n",
    "            tmp.append(cur.val)\n",
    "            cur = cur.next\n",
    "        tmp = tmp[::-1]\n",
    "        for val  in tmp:\n",
    "            head.val = val\n",
    "            head = head.next\n",
    "        return ans\n",
    "        "
   ]
  },
  {
   "cell_type": "code",
   "execution_count": null,
   "id": "2f92b0cb",
   "metadata": {},
   "outputs": [],
   "source": []
  },
  {
   "cell_type": "code",
   "execution_count": null,
   "id": "f3bce6c1",
   "metadata": {},
   "outputs": [],
   "source": []
  },
  {
   "cell_type": "code",
   "execution_count": null,
   "id": "28a45546",
   "metadata": {},
   "outputs": [],
   "source": []
  },
  {
   "cell_type": "code",
   "execution_count": null,
   "id": "3c26bfeb",
   "metadata": {},
   "outputs": [],
   "source": []
  },
  {
   "cell_type": "code",
   "execution_count": null,
   "id": "ac97e86e",
   "metadata": {},
   "outputs": [],
   "source": []
  },
  {
   "cell_type": "code",
   "execution_count": null,
   "id": "33e93847",
   "metadata": {},
   "outputs": [],
   "source": []
  },
  {
   "cell_type": "code",
   "execution_count": null,
   "id": "d226a346",
   "metadata": {},
   "outputs": [],
   "source": []
  },
  {
   "cell_type": "code",
   "execution_count": 91,
   "id": "4680f137",
   "metadata": {},
   "outputs": [],
   "source": [
    "from sklearn.metrics import roc_auc_score\n",
    "import numpy as np"
   ]
  },
  {
   "cell_type": "code",
   "execution_count": 97,
   "id": "14c724c0",
   "metadata": {},
   "outputs": [
    {
     "data": {
      "text/plain": [
       "0.7916666666666666"
      ]
     },
     "execution_count": 97,
     "metadata": {},
     "output_type": "execute_result"
    }
   ],
   "source": [
    "a = np.array([0.6,0.5,0.3,0.2,0.2,0.1,0])\n",
    "b = np.array([1,0,1,0,1,0,0])\n",
    "roc_auc_score(y_true=b, y_score=a)"
   ]
  },
  {
   "cell_type": "code",
   "execution_count": 98,
   "id": "c40022c2",
   "metadata": {},
   "outputs": [
    {
     "data": {
      "text/plain": [
       "0.7916666666666666"
      ]
     },
     "execution_count": 98,
     "metadata": {},
     "output_type": "execute_result"
    }
   ],
   "source": [
    "9.5/12"
   ]
  },
  {
   "cell_type": "code",
   "execution_count": 106,
   "id": "c5940026",
   "metadata": {},
   "outputs": [
    {
     "data": {
      "text/plain": [
       "0.5416666666666666"
      ]
     },
     "execution_count": 106,
     "metadata": {},
     "output_type": "execute_result"
    }
   ],
   "source": [
    "a = np.array([1,1,0,0,0,0,0])\n",
    "b = np.array([1,0,1,0,1,0,0])\n",
    "roc_auc_score(y_true=b, y_score=a)"
   ]
  },
  {
   "cell_type": "code",
   "execution_count": 107,
   "id": "70bc602c",
   "metadata": {},
   "outputs": [
    {
     "data": {
      "text/plain": [
       "0.5416666666666666"
      ]
     },
     "execution_count": 107,
     "metadata": {},
     "output_type": "execute_result"
    }
   ],
   "source": [
    "6.5/12\n"
   ]
  }
 ],
 "metadata": {
  "kernelspec": {
   "display_name": "Python 3 (ipykernel)",
   "language": "python",
   "name": "python3"
  },
  "language_info": {
   "codemirror_mode": {
    "name": "ipython",
    "version": 3
   },
   "file_extension": ".py",
   "mimetype": "text/x-python",
   "name": "python",
   "nbconvert_exporter": "python",
   "pygments_lexer": "ipython3",
   "version": "3.8.11"
  }
 },
 "nbformat": 4,
 "nbformat_minor": 5
}
