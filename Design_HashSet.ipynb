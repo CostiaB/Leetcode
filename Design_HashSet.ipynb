{
 "cells": [
  {
   "cell_type": "markdown",
   "id": "d0965fd8",
   "metadata": {},
   "source": [
    "## 705. Design HashSet\n",
    "Easy\n",
    "3.4K\n",
    "273\n",
    "Companies\n",
    "\n",
    "Design a HashSet without using any built-in hash table libraries.\n",
    "\n",
    "Implement MyHashSet class:\n",
    "\n",
    "    void add(key) Inserts the value key into the HashSet.\n",
    "    bool contains(key) Returns whether the value key exists in the HashSet or not.\n",
    "    void remove(key) Removes the value key in the HashSet. If key does not exist in the HashSet, do nothing.\n",
    "\n",
    " \n",
    "\n",
    "Example 1:\n",
    "\n",
    "Input\n",
    "[\"MyHashSet\", \"add\", \"add\", \"contains\", \"contains\", \"add\", \"contains\", \"remove\", \"contains\"]  \n",
    "[[], [1], [2], [1], [3], [2], [2], [2], [2]]  \n",
    "Output  \n",
    "[null, null, null, true, false, null, true, null, false]  \n",
    "\n",
    "Explanation\n",
    "MyHashSet myHashSet = new MyHashSet();  \n",
    "myHashSet.add(1);      // set = [1]  \n",
    "myHashSet.add(2);      // set = [1, 2]  \n",
    "myHashSet.contains(1); // return True  \n",
    "myHashSet.contains(3); // return False, (not found)  \n",
    "myHashSet.add(2);      // set = [1, 2]  \n",
    "myHashSet.contains(2); // return True  \n",
    "myHashSet.remove(2);   // set = [1]  \n",
    "myHashSet.contains(2); // return False, (already removed)  \n",
    "\n",
    " \n",
    "\n",
    "Constraints:\n",
    "\n",
    "    0 <= key <= 106\n",
    "    At most 104 calls will be made to add, remove, and contains.\n",
    "\n"
   ]
  },
  {
   "cell_type": "code",
   "execution_count": null,
   "id": "7519d311",
   "metadata": {},
   "outputs": [],
   "source": [
    "class MyHashSet:\n",
    "\n",
    "    def __init__(self):\n",
    "        self.s = set()\n",
    "        \n",
    "\n",
    "    def add(self, key: int) -> None:\n",
    "        if not(key in self.s):\n",
    "            self.s.add(key)\n",
    "        \n",
    "\n",
    "    def remove(self, key: int) -> None:\n",
    "        if key in self.s:\n",
    "            self.s.remove(key)\n",
    "        \n",
    "\n",
    "    def contains(self, key: int) -> bool:\n",
    "        return key in self.s\n",
    "        \n",
    "\n",
    "\n",
    "# Your MyHashSet object will be instantiated and called as such:\n",
    "# obj = MyHashSet()\n",
    "# obj.add(key)\n",
    "# obj.remove(key)\n",
    "# param_3 = obj.contains(key)"
   ]
  },
  {
   "cell_type": "markdown",
   "id": "e6f1e978",
   "metadata": {},
   "source": [
    "Runtime 145 ms\n",
    "Beats  \n",
    "93.68%  \n",
    "Memory 22 MB  \n",
    "Beats  \n",
    "54.62%  "
   ]
  }
 ],
 "metadata": {
  "kernelspec": {
   "display_name": "Python 3 (ipykernel)",
   "language": "python",
   "name": "python3"
  },
  "language_info": {
   "codemirror_mode": {
    "name": "ipython",
    "version": 3
   },
   "file_extension": ".py",
   "mimetype": "text/x-python",
   "name": "python",
   "nbconvert_exporter": "python",
   "pygments_lexer": "ipython3",
   "version": "3.8.13"
  }
 },
 "nbformat": 4,
 "nbformat_minor": 5
}
