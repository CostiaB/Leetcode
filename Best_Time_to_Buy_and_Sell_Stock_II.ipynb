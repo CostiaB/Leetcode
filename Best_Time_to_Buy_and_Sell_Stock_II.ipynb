{
 "cells": [
  {
   "cell_type": "markdown",
   "id": "543b6159",
   "metadata": {},
   "source": [
    "## 122. Best Time to Buy and Sell Stock II\n",
    "Medium\n",
    "10.5K\n",
    "2.5K\n",
    "Companies\n",
    "\n",
    "You are given an integer array prices where prices[i] is the price of a given stock on the ith day.\n",
    "\n",
    "On each day, you may decide to buy and/or sell the stock. You can only hold at most one share of the stock at any time. However, you can buy it then immediately sell it on the same day.\n",
    "\n",
    "Find and return the maximum profit you can achieve.\n",
    "\n",
    " \n",
    "\n",
    "Example 1:\n",
    "\n",
    "Input: prices = [7,1,5,3,6,4]  \n",
    "Output: 7  \n",
    "Explanation: Buy on day 2 (price = 1) and sell on day 3 (price = 5), profit = 5-1 = 4.  \n",
    "Then buy on day 4 (price = 3) and sell on day 5 (price = 6), profit = 6-3 = 3.  \n",
    "Total profit is 4 + 3 = 7.  \n",
    "\n",
    "Example 2:  \n",
    "\n",
    "Input: prices = [1,2,3,4,5]  \n",
    "Output: 4  \n",
    "Explanation: Buy on day 1 (price = 1) and sell on day 5 (price = 5), profit = 5-1 = 4.  \n",
    "Total profit is 4.  \n",
    "\n",
    "Example 3:  \n",
    "\n",
    "Input: prices = [7,6,4,3,1]  \n",
    "Output: 0  \n",
    "Explanation: There is no way to make a positive profit, so we never buy the stock to achieve the maximum profit of 0.\n",
    "\n",
    " \n",
    "\n",
    "Constraints:\n",
    "\n",
    "    1 <= prices.length <= 3 * 104\n",
    "    0 <= prices[i] <= 104\n",
    "\n"
   ]
  },
  {
   "cell_type": "code",
   "execution_count": null,
   "id": "dde78c43",
   "metadata": {},
   "outputs": [],
   "source": [
    "class Solution:\n",
    "    def maxProfit(self, prices: List[int]) -> int:\n",
    "        profit = 0\n",
    "        for i in range(len(prices)-1):\n",
    "            if prices[i+1]-prices[i] > 0:\n",
    "                profit += prices[i+1]-prices[i]\n",
    "        return profit\n"
   ]
  },
  {
   "cell_type": "markdown",
   "id": "cc7e63a3",
   "metadata": {},
   "source": [
    "Runtime 64 ms  \n",
    "Beats  \n",
    "68.65%  \n",
    "Memory 15.2 MB  \n",
    "Beats  \n",
    "58.51%  "
   ]
  }
 ],
 "metadata": {
  "kernelspec": {
   "display_name": "Python 3 (ipykernel)",
   "language": "python",
   "name": "python3"
  },
  "language_info": {
   "codemirror_mode": {
    "name": "ipython",
    "version": 3
   },
   "file_extension": ".py",
   "mimetype": "text/x-python",
   "name": "python",
   "nbconvert_exporter": "python",
   "pygments_lexer": "ipython3",
   "version": "3.8.13"
  }
 },
 "nbformat": 4,
 "nbformat_minor": 5
}
