{
 "cells": [
  {
   "cell_type": "markdown",
   "id": "c7c045de",
   "metadata": {},
   "source": [
    "## 912. Sort an Array\n",
    "Medium\n",
    "4.4K\n",
    "662\n",
    "Companies\n",
    "\n",
    "Given an array of integers nums, sort the array in ascending order and return it.\n",
    "\n",
    "You must solve the problem without using any built-in functions in O(nlog(n)) time complexity and with the smallest space complexity possible.\n",
    "\n",
    " \n",
    "\n",
    "Example 1:\n",
    "\n",
    "Input: nums = [5,2,3,1]  \n",
    "Output: [1,2,3,5]  \n",
    "Explanation: After sorting the array, the positions of some numbers are not changed (for example, 2 and 3), while the positions of other numbers are changed (for example, 1 and 5).\n",
    "\n",
    "Example 2:\n",
    "\n",
    "Input: nums = [5,1,1,2,0,0]  \n",
    "Output: [0,0,1,1,2,5]  \n",
    "Explanation: Note that the values of nums are not necessairly unique.\n",
    "\n",
    " \n",
    "\n",
    "Constraints:\n",
    "\n",
    "    1 <= nums.length <= 5 * 104\n",
    "    -5 * 104 <= nums[i] <= 5 * 104\n",
    "\n"
   ]
  },
  {
   "cell_type": "code",
   "execution_count": null,
   "id": "423508e0",
   "metadata": {},
   "outputs": [],
   "source": [
    "class Solution:\n",
    "    def merge_sort(self, nums):\n",
    "        if len(nums) <= 1:\n",
    "            return nums\n",
    "        middle = len(nums) // 2\n",
    "        left = self.merge_sort(nums[:middle])\n",
    "        right = self.merge_sort(nums[middle:])\n",
    "        return self.merge(left, right)\n",
    "\n",
    "    def merge(self, left, right):\n",
    "        i = 0\n",
    "        j = 0\n",
    "        merged = []\n",
    "        while i < len(left) and j < len(right):\n",
    "            if left[i] <= right[j]:\n",
    "                merged.append(left[i])\n",
    "                i += 1\n",
    "            else:\n",
    "                merged.append(right[j])\n",
    "                j += 1\n",
    "        merged += left[i:]\n",
    "        merged += right[j:]\n",
    "        return merged\n",
    "\n",
    "    def sortArray(self, nums):\n",
    "        return self.merge_sort(nums)"
   ]
  },
  {
   "cell_type": "markdown",
   "id": "93da712b",
   "metadata": {},
   "source": [
    "Runtime 1885 ms  \n",
    "Beats   \n",
    "53.79%  \n",
    "Memory 22.8 MB  \n",
    "Beats  \n",
    "39.15%  "
   ]
  }
 ],
 "metadata": {
  "kernelspec": {
   "display_name": "Python 3 (ipykernel)",
   "language": "python",
   "name": "python3"
  },
  "language_info": {
   "codemirror_mode": {
    "name": "ipython",
    "version": 3
   },
   "file_extension": ".py",
   "mimetype": "text/x-python",
   "name": "python",
   "nbconvert_exporter": "python",
   "pygments_lexer": "ipython3",
   "version": "3.8.13"
  }
 },
 "nbformat": 4,
 "nbformat_minor": 5
}
