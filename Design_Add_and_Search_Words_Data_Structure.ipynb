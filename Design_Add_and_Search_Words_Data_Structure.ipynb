{
 "cells": [
  {
   "cell_type": "markdown",
   "id": "95d44a60",
   "metadata": {},
   "source": [
    "## 211. Design Add and Search Words Data Structure\n",
    "Medium\n",
    "6.7K\n",
    "382\n",
    "Companies\n",
    "\n",
    "Design a data structure that supports adding new words and finding if a string matches any previously added string.\n",
    "\n",
    "Implement the WordDictionary class:\n",
    "\n",
    "    WordDictionary() Initializes the object.\n",
    "    void addWord(word) Adds word to the data structure, it can be matched later.\n",
    "    bool search(word) Returns true if there is any string in the data structure that matches word or false otherwise. word may contain dots '.' where dots can be matched with any letter.\n",
    "\n",
    " \n",
    "\n",
    "Example:\n",
    "\n",
    "Input\n",
    "[\"WordDictionary\",\"addWord\",\"addWord\",\"addWord\",\"search\",\"search\",\"search\",\"search\"]  \n",
    "[[],[\"bad\"],[\"dad\"],[\"mad\"],[\"pad\"],[\"bad\"],[\".ad\"],[\"b..\"]]  \n",
    "Output  \n",
    "[null,null,null,null,false,true,true,true]  \n",
    "\n",
    "Explanation  \n",
    "WordDictionary wordDictionary = new WordDictionary();  \n",
    "wordDictionary.addWord(\"bad\");  \n",
    "wordDictionary.addWord(\"dad\");  \n",
    "wordDictionary.addWord(\"mad\");  \n",
    "wordDictionary.search(\"pad\"); // return False  \n",
    "wordDictionary.search(\"bad\"); // return True  \n",
    "wordDictionary.search(\".ad\"); // return True  \n",
    "wordDictionary.search(\"b..\"); // return True  \n",
    "\n",
    " \n",
    "\n",
    "Constraints:\n",
    "\n",
    "    1 <= word.length <= 25\n",
    "    word in addWord consists of lowercase English letters.\n",
    "    word in search consist of '.' or lowercase English letters.\n",
    "    There will be at most 3 dots in word for search queries.\n",
    "    At most 104 calls will be made to addWord and search.\n",
    "\n"
   ]
  },
  {
   "cell_type": "code",
   "execution_count": null,
   "id": "f5b027ce",
   "metadata": {},
   "outputs": [],
   "source": [
    "class WordDictionary:\n",
    "\n",
    "    def __init__(self):\n",
    "        self.text = []\n",
    "\n",
    "    def addWord(self, word: str) -> None:\n",
    "        self.text += [word]\n",
    "\n",
    "    def search(self, word: str) -> bool:\n",
    "        if '.' not in word:\n",
    "            return word in self.text\n",
    "\n",
    "        for t in self.text:\n",
    "            if len(t) != len(word):\n",
    "                continue\n",
    "            for i in range(len(word)):\n",
    "                if word[i] == '.':\n",
    "                    continue\n",
    "                if word[i] != t[i]:\n",
    "                    break\n",
    "            else:\n",
    "                return True\n",
    "        return False\n",
    "\n",
    "\n",
    "# Your WordDictionary object will be instantiated and called as such:\n",
    "# obj = WordDictionary()\n",
    "# obj.addWord(word)\n",
    "# param_2 = obj.search(word)"
   ]
  },
  {
   "cell_type": "markdown",
   "id": "4cdda8ce",
   "metadata": {},
   "source": [
    "Runtime 7392 ms  \n",
    "Beats  \n",
    "86.19%  \n",
    "Memory 21.8 MB  \n",
    "Beats  \n",
    "99.5%  "
   ]
  }
 ],
 "metadata": {
  "kernelspec": {
   "display_name": "Python 3 (ipykernel)",
   "language": "python",
   "name": "python3"
  },
  "language_info": {
   "codemirror_mode": {
    "name": "ipython",
    "version": 3
   },
   "file_extension": ".py",
   "mimetype": "text/x-python",
   "name": "python",
   "nbconvert_exporter": "python",
   "pygments_lexer": "ipython3",
   "version": "3.8.13"
  }
 },
 "nbformat": 4,
 "nbformat_minor": 5
}
