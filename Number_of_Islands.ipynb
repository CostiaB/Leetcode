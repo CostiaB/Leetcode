{
 "cells": [
  {
   "cell_type": "markdown",
   "id": "c8888096",
   "metadata": {},
   "source": [
    "## 200. Number of Islands\n",
    "Medium\n",
    "\n",
    "Given an m x n 2D binary grid grid which represents a map of '1's (land) and '0's (water), return the number of islands.\n",
    "\n",
    "An island is surrounded by water and is formed by connecting adjacent lands horizontally or vertically. You may assume all four edges of the grid are all surrounded by water.\n",
    "\n",
    " \n",
    "\n",
    "Example 1:\n",
    "\n",
    "Input: grid = [\n",
    "  [\"1\",\"1\",\"1\",\"1\",\"0\"],\n",
    "  [\"1\",\"1\",\"0\",\"1\",\"0\"],\n",
    "  [\"1\",\"1\",\"0\",\"0\",\"0\"],\n",
    "  [\"0\",\"0\",\"0\",\"0\",\"0\"]\n",
    "]\n",
    "Output: 1\n",
    "\n",
    "Example 2:\n",
    "\n",
    "Input: grid = [\n",
    "  [\"1\",\"1\",\"0\",\"0\",\"0\"],\n",
    "  [\"1\",\"1\",\"0\",\"0\",\"0\"],\n",
    "  [\"0\",\"0\",\"1\",\"0\",\"0\"],\n",
    "  [\"0\",\"0\",\"0\",\"1\",\"1\"]\n",
    "]\n",
    "Output: 3\n",
    "\n",
    " \n",
    "\n",
    "Constraints:\n",
    "\n",
    "    m == grid.length\n",
    "    n == grid[i].length\n",
    "    1 <= m, n <= 300\n",
    "    grid[i][j] is '0' or '1'.\n",
    "\n"
   ]
  },
  {
   "cell_type": "code",
   "execution_count": null,
   "id": "9f043c43",
   "metadata": {},
   "outputs": [],
   "source": [
    "class Solution:\n",
    "    def numIslands(self, grid: List[List[str]]) -> int:\n",
    "        count, max_row, max_col = 0, len(grid), len(grid[0])\n",
    "        def is_island(x, y):\n",
    "            if x >= max_row or x < 0 or y >= max_col or y < 0 or  grid[x][y] != '1':\n",
    "                return\n",
    "            grid[x][y] = 1\n",
    "            for new_x, new_y in [(0,1), (0,-1), (1,0), (-1,0)]:\n",
    "                is_island(x+new_x, y+new_y)\n",
    "            return\n",
    "                \n",
    "        for x in range(0, max_row):\n",
    "            for y in range(0, max_col):\n",
    "                if grid[x][y]=='1':\n",
    "                    count += 1\n",
    "                    is_island(x, y)\n",
    "        return count"
   ]
  },
  {
   "cell_type": "markdown",
   "id": "968f0f98",
   "metadata": {},
   "source": [
    "Runtime: 406 ms, faster than 70.03% of Python3 online submissions for Number of Islands.  \n",
    "Memory Usage: 16.5 MB, less than 48.25% of Python3 online submissions for Number of Islands."
   ]
  }
 ],
 "metadata": {
  "kernelspec": {
   "display_name": "Python 3 (ipykernel)",
   "language": "python",
   "name": "python3"
  },
  "language_info": {
   "codemirror_mode": {
    "name": "ipython",
    "version": 3
   },
   "file_extension": ".py",
   "mimetype": "text/x-python",
   "name": "python",
   "nbconvert_exporter": "python",
   "pygments_lexer": "ipython3",
   "version": "3.7.13"
  }
 },
 "nbformat": 4,
 "nbformat_minor": 5
}
