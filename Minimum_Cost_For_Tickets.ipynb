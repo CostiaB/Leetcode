{
 "cells": [
  {
   "cell_type": "markdown",
   "id": "902d6cfa",
   "metadata": {},
   "source": [
    "## 983. Minimum Cost For Tickets\n",
    "Medium\n",
    "6.7K\n",
    "119\n",
    "Companies\n",
    "\n",
    "You have planned some train traveling one year in advance. The days of the year in which you will travel are given as an integer array days. Each day is an integer from 1 to 365.\n",
    "\n",
    "Train tickets are sold in three different ways:\n",
    "\n",
    "    a 1-day pass is sold for costs[0] dollars,  \n",
    "    a 7-day pass is sold for costs[1] dollars, and  \n",
    "    a 30-day pass is sold for costs[2] dollars.  \n",
    "\n",
    "The passes allow that many days of consecutive travel.\n",
    "\n",
    "    For example, if we get a 7-day pass on day 2, then we can travel for 7 days: 2, 3, 4, 5, 6, 7, and 8.  \n",
    "\n",
    "Return the minimum number of dollars you need to travel every day in the given list of days.\n",
    "\n",
    " \n",
    "\n",
    "Example 1:\n",
    "\n",
    "Input: days = [1,4,6,7,8,20], costs = [2,7,15]  \n",
    "Output: 11  \n",
    "Explanation: For example, here is one way to buy passes that lets you travel your travel plan:  \n",
    "On day 1, you bought a 1-day pass for costs[0] = 2, which covered day 1.  \n",
    "On day 3, you bought a 7-day pass for costs[1] = 7, which covered days 3, 4, ..., 9.  \n",
    "On day 20, you bought a 1-day pass for costs[0] = 2, which covered day 20.  \n",
    "In total, you spent $ 11 and covered all the days of your travel.  \n",
    "\n",
    "Example 2:\n",
    "\n",
    "Input: days = [1,2,3,4,5,6,7,8,9,10,30,31], costs = [2,7,15]  \n",
    "Output: 17  \n",
    "Explanation: For example, here is one way to buy passes that lets you travel your travel  plan:  \n",
    "On day 1, you bought a 30-day pass for costs[2] = $15 which covered days 1, 2, ..., 30.  \n",
    "On day 31, you bought a 1-day pass for costs[0] = $2 which covered day 31.  \n",
    "In total, you spent $17 and covered all the days of your travel.  \n",
    "\n",
    " \n",
    "\n",
    "Constraints:\n",
    "\n",
    "    1 <= days.length <= 365\n",
    "    1 <= days[i] <= 365\n",
    "    days is in strictly increasing order.\n",
    "    costs.length == 3\n",
    "    1 <= costs[i] <= 1000\n",
    "\n"
   ]
  },
  {
   "cell_type": "code",
   "execution_count": null,
   "id": "a66c06b0",
   "metadata": {},
   "outputs": [],
   "source": [
    "class Solution:\n",
    "    def mincostTickets(self, days: List[int], costs: List[int]) -> int:\n",
    "        n = len(days)\n",
    "        dp = [float('inf')]*366\n",
    "        dp[0] = 0\n",
    "        i = 0\n",
    "        for j in range(1, 366):\n",
    "            if i < n and j == days[i]:\n",
    "                dp[j] = min(dp[j], dp[j-1] + costs[0])\n",
    "                if j>= 7:\n",
    "                    dp[j] = min(dp[j], dp[j-7]+costs[1])\n",
    "                else:\n",
    "                    dp[j] = min(dp[j], costs[1])\n",
    "                if j>= 30:\n",
    "                    dp[j] = min(dp[j], dp[j-30] + costs[2])\n",
    "                else:\n",
    "                    dp[j] = min(dp[j],costs[2])\n",
    "                i += 1\n",
    "            else:\n",
    "                dp[j] = dp[j-1]\n",
    "        \n",
    "        return dp[365]"
   ]
  },
  {
   "cell_type": "markdown",
   "id": "4b7298c3",
   "metadata": {},
   "source": [
    "Runtime 50 ms  \n",
    "Beats  \n",
    "52.73%  \n",
    "Memory 13.9 MB  \n",
    "Beats  \n",
    "83.75%  "
   ]
  }
 ],
 "metadata": {
  "kernelspec": {
   "display_name": "Python 3 (ipykernel)",
   "language": "python",
   "name": "python3"
  },
  "language_info": {
   "codemirror_mode": {
    "name": "ipython",
    "version": 3
   },
   "file_extension": ".py",
   "mimetype": "text/x-python",
   "name": "python",
   "nbconvert_exporter": "python",
   "pygments_lexer": "ipython3",
   "version": "3.8.13"
  }
 },
 "nbformat": 4,
 "nbformat_minor": 5
}
