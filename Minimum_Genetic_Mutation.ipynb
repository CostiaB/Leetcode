{
 "cells": [
  {
   "cell_type": "markdown",
   "id": "80e458d6",
   "metadata": {},
   "source": [
    "## 433. Minimum Genetic Mutation\n",
    "Medium\n",
    "\n",
    "A gene string can be represented by an 8-character long string, with choices from 'A', 'C', 'G', and 'T'.\n",
    "\n",
    "Suppose we need to investigate a mutation from a gene string start to a gene string end where one mutation is defined as one single character changed in the gene string.\n",
    "\n",
    "    For example, \"AACCGGTT\" --> \"AACCGGTA\" is one mutation.\n",
    "\n",
    "There is also a gene bank bank that records all the valid gene mutations. A gene must be in bank to make it a valid gene string.\n",
    "\n",
    "Given the two gene strings start and end and the gene bank bank, return the minimum number of mutations needed to mutate from start to end. If there is no such a mutation, return -1.\n",
    "\n",
    "Note that the starting point is assumed to be valid, so it might not be included in the bank.\n",
    "\n",
    " \n",
    "\n",
    "Example 1:\n",
    "\n",
    "Input: start = \"AACCGGTT\", end = \"AACCGGTA\", bank = [\"AACCGGTA\"]\n",
    "Output: 1\n",
    "\n",
    "Example 2:\n",
    "\n",
    "Input: start = \"AACCGGTT\", end = \"AAACGGTA\", bank = [\"AACCGGTA\",\"AACCGCTA\",\"AAACGGTA\"]\n",
    "Output: 2\n",
    "\n",
    "Example 3:\n",
    "\n",
    "Input: start = \"AAAAACCC\", end = \"AACCCCCC\", bank = [\"AAAACCCC\",\"AAACCCCC\",\"AACCCCCC\"]\n",
    "Output: 3\n",
    "\n",
    " \n",
    "\n",
    "Constraints:\n",
    "\n",
    "    start.length == 8\n",
    "    end.length == 8\n",
    "    0 <= bank.length <= 10\n",
    "    bank[i].length == 8\n",
    "    start, end, and bank[i] consist of only the characters ['A', 'C', 'G', 'T'].\n",
    "\n"
   ]
  },
  {
   "cell_type": "code",
   "execution_count": 1,
   "id": "2aa54612",
   "metadata": {},
   "outputs": [],
   "source": [
    "class Solution:\n",
    "    def minMutation(self, start: str, end: str, bank: list) -> int:\n",
    "        if end not in bank:\n",
    "            return -1\n",
    "        aminos = list('AGCT')\n",
    "        mutations = [(start, 0)]\n",
    "        while len(mutations) > 0:\n",
    "            (gene, num) = mutations.pop(0)\n",
    "            #scan whole length of a gene\n",
    "            for i in range(8):\n",
    "                v = gene[i]\n",
    "                left_part = gene[:i]\n",
    "                right_part= gene[i+1:]\n",
    "                #check all possible variants of genes\n",
    "                for c in aminos:\n",
    "                    if c != v:\n",
    "                        new_gene = left_part + c + right_part\n",
    "                        if new_gene in bank:\n",
    "                            if new_gene == end:\n",
    "                                return num +  1\n",
    "                            bank.remove(new_gene)\n",
    "                            mutations.append((new_gene, num + 1))\n",
    "        return -1"
   ]
  },
  {
   "cell_type": "code",
   "execution_count": 2,
   "id": "7b9cbfe1",
   "metadata": {},
   "outputs": [
    {
     "data": {
      "text/plain": [
       "3"
      ]
     },
     "execution_count": 2,
     "metadata": {},
     "output_type": "execute_result"
    }
   ],
   "source": [
    "Solution().minMutation(start = \"AAAAACCC\", end = \"AACCCCCC\", bank = [\"AAAACCCC\",\"AAACCCCC\",\"AACCCCCC\"])"
   ]
  },
  {
   "cell_type": "markdown",
   "id": "9b31530c",
   "metadata": {},
   "source": [
    "Runtime: 27 ms, faster than 98.26% of Python3 online submissions for Minimum Genetic Mutation.\n",
    "Memory Usage: 14 MB, less than 37.78% of Python3 online submissions for Minimum Genetic Mutation."
   ]
  }
 ],
 "metadata": {
  "kernelspec": {
   "display_name": "Python 3 (ipykernel)",
   "language": "python",
   "name": "python3"
  },
  "language_info": {
   "codemirror_mode": {
    "name": "ipython",
    "version": 3
   },
   "file_extension": ".py",
   "mimetype": "text/x-python",
   "name": "python",
   "nbconvert_exporter": "python",
   "pygments_lexer": "ipython3",
   "version": "3.8.13"
  }
 },
 "nbformat": 4,
 "nbformat_minor": 5
}
