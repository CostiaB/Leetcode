{
 "cells": [
  {
   "cell_type": "markdown",
   "id": "93cdacff",
   "metadata": {},
   "source": [
    "## 1706. Where Will the Ball Fall\n",
    "Medium\n",
    "\n",
    "You have a 2-D grid of size m x n representing a box, and you have n balls. The box is open on the top and bottom sides.\n",
    "\n",
    "Each cell in the box has a diagonal board spanning two corners of the cell that can redirect a ball to the right or to the left.\n",
    "\n",
    "    A board that redirects the ball to the right spans the top-left corner to the bottom-right corner and is represented in the grid as 1.\n",
    "    A board that redirects the ball to the left spans the top-right corner to the bottom-left corner and is represented in the grid as -1.\n",
    "\n",
    "We drop one ball at the top of each column of the box. Each ball can get stuck in the box or fall out of the bottom. A ball gets stuck if it hits a \"V\" shaped pattern between two boards or if a board redirects the ball into either wall of the box.\n",
    "\n",
    "Return an array answer of size n where answer[i] is the column that the ball falls out of at the bottom after dropping the ball from the ith column at the top, or -1 if the ball gets stuck in the box.\n",
    "\n",
    " \n",
    "\n",
    "Example 1:\n",
    "<img src = 'https://assets.leetcode.com/uploads/2019/09/26/ball.jpg'>  \n",
    "    Input: grid = [[1,1,1,-1,-1],[1,1,1,-1,-1],[-1,-1,-1,1,1],[1,1,1,1,-1],[-1,-1,-1,-1,-1]]  \n",
    "    Output: [1,-1,-1,-1,-1]  \n",
    "Explanation: This example is shown in the photo.\n",
    "Ball b0 is dropped at column 0 and falls out of the box at column 1.\n",
    "Ball b1 is dropped at column 1 and will get stuck in the box between column 2 and 3 and row 1.\n",
    "Ball b2 is dropped at column 2 and will get stuck on the box between column 2 and 3 and row 0.\n",
    "Ball b3 is dropped at column 3 and will get stuck on the box between column 2 and 3 and row 0.\n",
    "Ball b4 is dropped at column 4 and will get stuck on the box between column 2 and 3 and row 1.\n",
    "\n",
    "Example 2:\n",
    "\n",
    "Input: grid = [[-1]]  \n",
    "Output: [-1]  \n",
    "Explanation: The ball gets stuck against the left wall.\n",
    "\n",
    "Example 3:\n",
    "\n",
    "Input: grid = [[1,1,1,1,1,1],[-1,-1,-1,-1,-1,-1],[1,1,1,1,1,1],[-1,-1,-1,-1,-1,-1]]  \n",
    "Output: [0,1,2,3,4,-1]  \n",
    "\n",
    " \n",
    "\n",
    "Constraints:\n",
    "\n",
    "    m == grid.length\n",
    "    n == grid[i].length\n",
    "    1 <= m, n <= 100\n",
    "    grid[i][j] is 1 or -1.\n",
    "\n"
   ]
  },
  {
   "cell_type": "code",
   "execution_count": 3,
   "id": "f74e4734",
   "metadata": {},
   "outputs": [],
   "source": [
    "class Solution:\n",
    "    def findBall(self, grid: list) -> list:\n",
    "        row, col = len(grid), len(grid[0])\n",
    "        ans = [None] * col\n",
    "        for i in range(col):\n",
    "            h_p = i # horizontal position\n",
    "            v_p = 0 # vertical position or step\n",
    "            while v_p != row:\n",
    "                v = grid[v_p][h_p]\n",
    "                if ((h_p == 0 and v == -1) or\n",
    "                    (h_p == (col-1) and v == 1)):\n",
    "                    # strike at wall\n",
    "                    h_p = -1\n",
    "                    break\n",
    "                elif v != grid[v_p][h_p+v]:\n",
    "                    # trapped between inner walls\n",
    "                    h_p = -1\n",
    "                    break\n",
    "                # keep moving down\n",
    "                h_p += v\n",
    "                v_p += 1\n",
    "            \n",
    "            ans[i] = h_p\n",
    "            \n",
    "        return ans"
   ]
  },
  {
   "cell_type": "code",
   "execution_count": 5,
   "id": "ba6e958e",
   "metadata": {},
   "outputs": [
    {
     "data": {
      "text/plain": [
       "[1, -1, -1, -1, -1]"
      ]
     },
     "execution_count": 5,
     "metadata": {},
     "output_type": "execute_result"
    }
   ],
   "source": [
    "Solution().findBall([[1,1,1,-1,-1],[1,1,1,-1,-1],[-1,-1,-1,1,1],[1,1,1,1,-1],[-1,-1,-1,-1,-1]])"
   ]
  },
  {
   "cell_type": "markdown",
   "id": "1cd6fc0d",
   "metadata": {},
   "source": [
    "Runtime: 422 ms, faster than 19.50% of Python3 online submissions for Where Will the Ball Fall.  \n",
    "Memory Usage: 14.2 MB, less than 98.51% of Python3 online submissions for Where Will the Ball Fall."
   ]
  }
 ],
 "metadata": {
  "kernelspec": {
   "display_name": "Python 3 (ipykernel)",
   "language": "python",
   "name": "python3"
  },
  "language_info": {
   "codemirror_mode": {
    "name": "ipython",
    "version": 3
   },
   "file_extension": ".py",
   "mimetype": "text/x-python",
   "name": "python",
   "nbconvert_exporter": "python",
   "pygments_lexer": "ipython3",
   "version": "3.8.11"
  }
 },
 "nbformat": 4,
 "nbformat_minor": 5
}
