{
 "cells": [
  {
   "cell_type": "markdown",
   "id": "2ea8b00b",
   "metadata": {},
   "source": [
    "## 66. Plus One\n",
    "Easy\n",
    "6.5K\n",
    "4.7K\n",
    "Companies\n",
    "\n",
    "You are given a large integer represented as an integer array digits, where each digits[i] is the ith digit of the integer. The digits are ordered from most significant to least significant in left-to-right order. The large integer does not contain any leading 0's.\n",
    "\n",
    "Increment the large integer by one and return the resulting array of digits.\n",
    "\n",
    " \n",
    "\n",
    "Example 1:\n",
    "\n",
    "Input: digits = [1,2,3]  \n",
    "Output: [1,2,4]  \n",
    "Explanation: The array represents the integer 123.  \n",
    "Incrementing by one gives 123 + 1 = 124.  \n",
    "Thus, the result should be [1,2,4].  \n",
    "\n",
    "Example 2:\n",
    "\n",
    "Input: digits = [4,3,2,1]  \n",
    "Output: [4,3,2,2]  \n",
    "Explanation: The array represents the integer 4321.  \n",
    "Incrementing by one gives 4321 + 1 = 4322.  \n",
    "Thus, the result should be [4,3,2,2].  \n",
    "\n",
    "Example 3:\n",
    "\n",
    "Input: digits = [9]  \n",
    "Output: [1,0]  \n",
    "Explanation: The array represents the integer 9.  \n",
    "Incrementing by one gives 9 + 1 = 10.  \n",
    "Thus, the result should be [1,0].  \n",
    "\n",
    " \n",
    "\n",
    "Constraints:\n",
    "\n",
    "    1 <= digits.length <= 100  \n",
    "    0 <= digits[i] <= 9  \n",
    "    digits does not contain any leading 0's.  \n",
    "\n"
   ]
  },
  {
   "cell_type": "code",
   "execution_count": null,
   "id": "36fbbfba",
   "metadata": {},
   "outputs": [],
   "source": [
    "class Solution:\n",
    "    def plusOne(self, digits: List[int]) -> List[int]:\n",
    "        d = ''.join(map(str, digits))\n",
    "        d = int(d)+1\n",
    "        return [int(s) for s in str(d)]"
   ]
  },
  {
   "cell_type": "markdown",
   "id": "0fc16055",
   "metadata": {},
   "source": [
    "Runtime 27 ms \n",
    "Beats \n",
    "95.50% \n",
    "Memory 13.8 MB \n",
    "Beats \n",
    "49.92% "
   ]
  },
  {
   "cell_type": "code",
   "execution_count": null,
   "id": "c48af0b7",
   "metadata": {},
   "outputs": [],
   "source": [
    "class Solution:\n",
    "    def plusOne(self, digit: List[int]) -> List[int]:\n",
    "        for i in range(len(digit)-1, -1, -1):\n",
    "            if digit[i] == 9:\n",
    "                digit[i] = 0\n",
    "            else:\n",
    "                digit[i]+=1\n",
    "                return digit\n",
    "        digit.append(0) \n",
    "        digit[0] = 1\n",
    "        return digit"
   ]
  },
  {
   "cell_type": "markdown",
   "id": "804b05c7",
   "metadata": {},
   "source": [
    "Runtime 32 ms \n",
    "Beats \n",
    "79.15% \n",
    "Memory 13.8 MB \n",
    "Beats \n",
    "49.92% "
   ]
  }
 ],
 "metadata": {
  "kernelspec": {
   "display_name": "Python 3 (ipykernel)",
   "language": "python",
   "name": "python3"
  },
  "language_info": {
   "codemirror_mode": {
    "name": "ipython",
    "version": 3
   },
   "file_extension": ".py",
   "mimetype": "text/x-python",
   "name": "python",
   "nbconvert_exporter": "python",
   "pygments_lexer": "ipython3",
   "version": "3.8.13"
  }
 },
 "nbformat": 4,
 "nbformat_minor": 5
}
