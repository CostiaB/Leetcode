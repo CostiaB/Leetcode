{
 "cells": [
  {
   "cell_type": "markdown",
   "id": "e7409e17",
   "metadata": {},
   "source": [
    "## 77. Combinations\n",
    "Medium\n",
    "\n",
    "Given two integers n and k, return all possible combinations of k numbers out of the range [1, n].\n",
    "\n",
    "You may return the answer in any order.\n",
    "\n",
    " \n",
    "\n",
    "Example 1:\n",
    "\n",
    "Input: n = 4, k = 2\n",
    "Output:\n",
    "[\n",
    "  [2,4],\n",
    "  [3,4],\n",
    "  [2,3],\n",
    "  [1,2],\n",
    "  [1,3],\n",
    "  [1,4],\n",
    "]\n",
    "\n",
    "Example 2:\n",
    "\n",
    "Input: n = 1, k = 1\n",
    "Output: [[1]]\n",
    "\n",
    " \n",
    "\n",
    "Constraints:\n",
    "\n",
    "    1 <= n <= 20\n",
    "    1 <= k <= n\n",
    "\n"
   ]
  },
  {
   "cell_type": "code",
   "execution_count": 2,
   "id": "277d95e7",
   "metadata": {},
   "outputs": [],
   "source": [
    "class Solution:\n",
    "    def combine(self, n: int, k: int) -> list:\n",
    "        \n",
    "        def comb (l, n, k, j):\n",
    "            if len(l)==k:\n",
    "                ans.append(l.copy())\n",
    "                return\n",
    "            for i in range(j, n+1):\n",
    "                comb(l+[i], n, k, i+1)\n",
    "                    \n",
    "            \n",
    "        l = []\n",
    "        ans = []\n",
    "        comb(l, n, k, 1)\n",
    "        return ans"
   ]
  },
  {
   "cell_type": "code",
   "execution_count": 5,
   "id": "7906a58d",
   "metadata": {},
   "outputs": [
    {
     "data": {
      "text/plain": [
       "[[1, 2], [1, 3], [1, 4], [2, 3], [2, 4], [3, 4]]"
      ]
     },
     "execution_count": 5,
     "metadata": {},
     "output_type": "execute_result"
    }
   ],
   "source": [
    "Solution().combine(4,2)"
   ]
  },
  {
   "cell_type": "markdown",
   "id": "1f678f46",
   "metadata": {},
   "source": [
    "## 46. Permutations\n",
    "Medium\n",
    "\n",
    "Given an array nums of distinct integers, return all the possible permutations. You can return the answer in any order.\n",
    "\n",
    " \n",
    "\n",
    "Example 1:\n",
    "\n",
    "Input: nums = [1,2,3]\n",
    "Output: [[1,2,3],[1,3,2],[2,1,3],[2,3,1],[3,1,2],[3,2,1]]\n",
    "\n",
    "Example 2:\n",
    "\n",
    "Input: nums = [0,1]\n",
    "Output: [[0,1],[1,0]]\n",
    "\n",
    "Example 3:\n",
    "\n",
    "Input: nums = [1]\n",
    "Output: [[1]]\n",
    "\n",
    " \n",
    "\n",
    "Constraints:\n",
    "\n",
    "    1 <= nums.length <= 6\n",
    "    -10 <= nums[i] <= 10\n",
    "    All the integers of nums are unique.\n",
    "\n"
   ]
  },
  {
   "cell_type": "code",
   "execution_count": 17,
   "id": "64213568",
   "metadata": {},
   "outputs": [],
   "source": [
    "class Solution:\n",
    "    def permute(self, nums: list) -> list:\n",
    "        if len(nums)>1:\n",
    "            ans = []\n",
    "            for i in range(len(nums)):\n",
    "                for lst in self.permute(nums[:i]+nums[i+1:]):\n",
    "                    \n",
    "                    ans.append([nums[i]]+lst)\n",
    "            return ans\n",
    "        else:\n",
    "            return [nums]\n",
    "            "
   ]
  },
  {
   "cell_type": "code",
   "execution_count": 11,
   "id": "feec903c",
   "metadata": {},
   "outputs": [
    {
     "data": {
      "text/plain": [
       "[[1, 7, 3], [1, 3, 7], [7, 1, 3], [7, 3, 1], [3, 1, 7], [3, 7, 1]]"
      ]
     },
     "execution_count": 11,
     "metadata": {},
     "output_type": "execute_result"
    }
   ],
   "source": [
    "Solution().permute([1,7,3])"
   ]
  },
  {
   "cell_type": "code",
   "execution_count": 18,
   "id": "fdc3c9d1",
   "metadata": {},
   "outputs": [
    {
     "data": {
      "text/plain": [
       "[[1, 7], [7, 1]]"
      ]
     },
     "execution_count": 18,
     "metadata": {},
     "output_type": "execute_result"
    }
   ],
   "source": [
    "Solution().permute([1,7])"
   ]
  },
  {
   "cell_type": "code",
   "execution_count": 19,
   "id": "0f997737",
   "metadata": {},
   "outputs": [
    {
     "data": {
      "text/plain": [
       "[[7]]"
      ]
     },
     "execution_count": 19,
     "metadata": {},
     "output_type": "execute_result"
    }
   ],
   "source": [
    "Solution().permute([7])"
   ]
  },
  {
   "cell_type": "markdown",
   "id": "0b9be484",
   "metadata": {},
   "source": [
    "## 784. Letter Case Permutation\n",
    "Medium\n",
    "\n",
    "Given a string s, you can transform every letter individually to be lowercase or uppercase to create another string.\n",
    "\n",
    "Return a list of all possible strings we could create. Return the output in any order.\n",
    "\n",
    " \n",
    "\n",
    "Example 1:\n",
    "\n",
    "Input: s = \"a1b2\"\n",
    "Output: [\"a1b2\",\"a1B2\",\"A1b2\",\"A1B2\"]\n",
    "\n",
    "Example 2:\n",
    "\n",
    "Input: s = \"3z4\"\n",
    "Output: [\"3z4\",\"3Z4\"]\n",
    "\n",
    " \n",
    "\n",
    "Constraints:\n",
    "\n",
    "    1 <= s.length <= 12\n",
    "    s consists of lowercase English letters, uppercase English letters, and digits.\n",
    "\n"
   ]
  },
  {
   "cell_type": "code",
   "execution_count": 20,
   "id": "552c5242",
   "metadata": {},
   "outputs": [],
   "source": [
    "class Solution:\n",
    "    def letterCasePermutation(self, s: str) -> list:\n",
    "        ans = []\n",
    "        def let_perm(i, tmp):\n",
    "            if len(tmp)==len(s):\n",
    "                ans.append(tmp)\n",
    "                return\n",
    "            else:\n",
    "                if s[i].isalpha():\n",
    "                    let_perm(i+1,tmp + s[i].swapcase())\n",
    "                let_perm(i+1,tmp + s[i])\n",
    "            return tmp\n",
    "        let_perm(0,\"\")\n",
    "        return ans"
   ]
  },
  {
   "cell_type": "code",
   "execution_count": 21,
   "id": "a99a0c8d",
   "metadata": {},
   "outputs": [
    {
     "data": {
      "text/plain": [
       "['A1B2', 'A1b2', 'a1B2', 'a1b2']"
      ]
     },
     "execution_count": 21,
     "metadata": {},
     "output_type": "execute_result"
    }
   ],
   "source": [
    "Solution().letterCasePermutation('a1b2')"
   ]
  },
  {
   "cell_type": "code",
   "execution_count": 22,
   "id": "dc0533fc",
   "metadata": {},
   "outputs": [
    {
     "data": {
      "text/plain": [
       "['']"
      ]
     },
     "execution_count": 22,
     "metadata": {},
     "output_type": "execute_result"
    }
   ],
   "source": [
    "Solution().letterCasePermutation('')"
   ]
  },
  {
   "cell_type": "code",
   "execution_count": 24,
   "id": "2feb8aaa",
   "metadata": {},
   "outputs": [
    {
     "data": {
      "text/plain": [
       "['G', 'g']"
      ]
     },
     "execution_count": 24,
     "metadata": {},
     "output_type": "execute_result"
    }
   ],
   "source": [
    "Solution().letterCasePermutation('g')"
   ]
  }
 ],
 "metadata": {
  "kernelspec": {
   "display_name": "Python 3 (ipykernel)",
   "language": "python",
   "name": "python3"
  },
  "language_info": {
   "codemirror_mode": {
    "name": "ipython",
    "version": 3
   },
   "file_extension": ".py",
   "mimetype": "text/x-python",
   "name": "python",
   "nbconvert_exporter": "python",
   "pygments_lexer": "ipython3",
   "version": "3.8.11"
  }
 },
 "nbformat": 4,
 "nbformat_minor": 5
}
