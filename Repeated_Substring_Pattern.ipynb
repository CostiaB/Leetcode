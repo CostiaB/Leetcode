{
 "cells": [
  {
   "cell_type": "markdown",
   "id": "6dc4f866",
   "metadata": {},
   "source": [
    "## 459. Repeated Substring Pattern\n",
    "Easy\n",
    "4.2K\n",
    "376\n",
    "Companies\n",
    "\n",
    "Given a string s, check if it can be constructed by taking a substring of it and appending multiple copies of the substring together.\n",
    "\n",
    " \n",
    "\n",
    "Example 1:\n",
    "\n",
    "Input: s = \"abab\"  \n",
    "Output: true  \n",
    "Explanation: It is the substring \"ab\" twice.  \n",
    "\n",
    "Example 2:\n",
    "\n",
    "Input: s = \"aba\"  \n",
    "Output: false  \n",
    "\n",
    "Example 3:\n",
    "\n",
    "Input: s = \"abcabcabcabc\"  \n",
    "Output: true  \n",
    "Explanation: It is the substring \"abc\" four times or the substring \"abcabc\" twice.\n",
    "\n",
    " \n",
    "\n",
    "Constraints:\n",
    "\n",
    "    1 <= s.length <= 104\n",
    "    s consists of lowercase English letters.\n",
    "\n"
   ]
  },
  {
   "cell_type": "code",
   "execution_count": null,
   "id": "d9a37235",
   "metadata": {},
   "outputs": [],
   "source": [
    "class Solution:\n",
    "    def repeatedSubstringPattern(self, s: str) -> bool:\n",
    "        l = len(s)\n",
    "        t = 1   \n",
    "        while t < l:\n",
    "            st = s[0:t]\n",
    "            l_st = len(st)\n",
    "            occ = s.count(st)\n",
    "            if l // occ == l / occ and occ > 1 and l // occ == l_st :\n",
    "                return True\n",
    "            t+=1\n",
    "        return False"
   ]
  },
  {
   "cell_type": "markdown",
   "id": "cf65fb78",
   "metadata": {},
   "source": [
    "Runtime 3667 ms  \n",
    "Beats  \n",
    "5%  \n",
    "Memory 13.9 MB  \n",
    "Beats  \n",
    "51.83%  "
   ]
  },
  {
   "cell_type": "code",
   "execution_count": null,
   "id": "2fe03dae",
   "metadata": {},
   "outputs": [],
   "source": [
    "class Solution:\n",
    "    def repeatedSubstringPattern(self, s: str) -> bool:\n",
    "    # we need to check if s in a string complsed from s without first and from s without last element \n",
    "        return s in s[1:] + s[:-1] "
   ]
  },
  {
   "cell_type": "markdown",
   "id": "e246b4db",
   "metadata": {},
   "source": [
    "Runtime 41 ms  \n",
    "Beats   \n",
    "70.41%  \n",
    "Memory 13.9 MB  \n",
    "Beats  \n",
    "51.83%  "
   ]
  },
  {
   "cell_type": "code",
   "execution_count": null,
   "id": "dfad1015",
   "metadata": {},
   "outputs": [],
   "source": [
    "class Solution:\n",
    "    def repeatedSubstringPattern(self, s: str) -> bool:\n",
    "        n, t = len(s), ''\n",
    "        for i in range(n//2):\n",
    "            t +=s [i]\n",
    "            if t*(n//(i+1)) == s:\n",
    "                 return True\n",
    "        return False"
   ]
  },
  {
   "cell_type": "markdown",
   "id": "261ce8af",
   "metadata": {},
   "source": [
    "Runtime 107 ms  \n",
    "Beats   \n",
    "41.10%  \n",
    "Memory 13.8 MB  \n",
    "Beats  \n",
    "99.26%  "
   ]
  }
 ],
 "metadata": {
  "kernelspec": {
   "display_name": "Python 3 (ipykernel)",
   "language": "python",
   "name": "python3"
  },
  "language_info": {
   "codemirror_mode": {
    "name": "ipython",
    "version": 3
   },
   "file_extension": ".py",
   "mimetype": "text/x-python",
   "name": "python",
   "nbconvert_exporter": "python",
   "pygments_lexer": "ipython3",
   "version": "3.8.13"
  }
 },
 "nbformat": 4,
 "nbformat_minor": 5
}
