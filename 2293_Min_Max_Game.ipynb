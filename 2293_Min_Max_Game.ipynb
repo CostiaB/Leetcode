{
 "cells": [
  {
   "cell_type": "markdown",
   "id": "7e234df4",
   "metadata": {},
   "source": [
    "# 2293. Min Max Game\n",
    "Easy\n",
    "\n",
    "You are given a 0-indexed integer array nums whose length is a power of 2.\n",
    "\n",
    "Apply the following algorithm on nums:\n",
    "\n",
    "    Let n be the length of nums. If n == 1, end the process. Otherwise, create a new 0-indexed integer array newNums of length n / 2.\n",
    "    For every even index i where 0 <= i < n / 2, assign the value of newNums[i] as min(nums[2 * i], nums[2 * i + 1]).\n",
    "    For every odd index i where 0 <= i < n / 2, assign the value of newNums[i] as max(nums[2 * i], nums[2 * i + 1]).\n",
    "    Replace the array nums with newNums.\n",
    "    Repeat the entire process starting from step 1.\n",
    "\n",
    "Return the last number that remains in nums after applying the algorithm.\n",
    "\n",
    " \n",
    "\n",
    "Example 1:  \n",
    "<img src = 'https://assets.leetcode.com/uploads/2022/04/13/example1drawio-1.png'>\n",
    "  \n",
    "Input: nums = [1,3,5,2,4,8,2,2]  \n",
    "Output: 1  \n",
    "Explanation: The following arrays are the results of applying the algorithm repeatedly.  \n",
    "First: nums = [1,5,4,2]  \n",
    "Second: nums = [1,4]  \n",
    "Third: nums = [1]  \n",
    "1 is the last remaining number, so we return 1.  \n",
    "\n",
    "Example 2:  \n",
    "\n",
    "Input: nums = [3]  \n",
    "Output: 3  \n",
    "Explanation: 3 is already the last remaining number, so we return 3.  \n",
    "  \n",
    " \n",
    "\n",
    "Constraints:\n",
    "\n",
    "    1 <= nums.length <= 1024\n",
    "    1 <= nums[i] <= 109\n",
    "    nums.length is a power of 2.\n",
    "\n"
   ]
  },
  {
   "cell_type": "code",
   "execution_count": null,
   "id": "5cc30ebe",
   "metadata": {},
   "outputs": [],
   "source": [
    "class Solution:\n",
    "    def minMaxGame(self, nums: List[int]) -> int:\n",
    "        ans = 0\n",
    "        def game(nums):\n",
    "            n = len(nums)\n",
    "            if n == 1:\n",
    "                return nums[0]\n",
    "\n",
    "            if n == 1:\n",
    "                return ans\n",
    "            else:\n",
    "                newNums = [None] * int(n/2)\n",
    "            \n",
    "            for i in range(n//2):\n",
    "                if i < n/2 and i % 2 == 0:\n",
    "                    newNums[i] = min(nums[2 * i], nums[2 * i + 1])\n",
    "                else:\n",
    "                    newNums[i] = max(nums[2 * i], nums[2 * i + 1])\n",
    "           \n",
    "            if type(newNums) == list:\n",
    "                newNums = game(newNums)\n",
    "            return newNums\n",
    "        \n",
    "        \n",
    "        nums = game(nums)\n",
    "          \n",
    "        return nums"
   ]
  },
  {
   "cell_type": "markdown",
   "id": "c7df9b47",
   "metadata": {},
   "source": [
    "Runtime 53ms Beats 92.54%  \n",
    "Memory 16.52MB Beats 15.62%"
   ]
  }
 ],
 "metadata": {
  "kernelspec": {
   "display_name": "Python 3 (ipykernel)",
   "language": "python",
   "name": "python3"
  },
  "language_info": {
   "codemirror_mode": {
    "name": "ipython",
    "version": 3
   },
   "file_extension": ".py",
   "mimetype": "text/x-python",
   "name": "python",
   "nbconvert_exporter": "python",
   "pygments_lexer": "ipython3",
   "version": "3.10.12"
  }
 },
 "nbformat": 4,
 "nbformat_minor": 5
}
