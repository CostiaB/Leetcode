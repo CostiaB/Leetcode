{
 "cells": [
  {
   "cell_type": "markdown",
   "id": "49356f50",
   "metadata": {},
   "source": [
    "# 347. Top K Frequent Elements\n",
    "Medium\n",
    "14.2K\n",
    "504\n",
    "Companies\n",
    "\n",
    "Given an integer array nums and an integer k, return the k most frequent elements. You may return the answer in any order.\n",
    "\n",
    " \n",
    "\n",
    "Example 1:\n",
    "\n",
    "Input: nums = [1,1,1,2,2,3], k = 2  \n",
    "Output: [1,2]  \n",
    "\n",
    "Example 2:\n",
    "\n",
    "Input: nums = [1], k = 1  \n",
    "Output: [1]  \n",
    " \n",
    "\n",
    "Constraints:\n",
    "\n",
    "    1 <= nums.length <= 105\n",
    "    -104 <= nums[i] <= 104\n",
    "    k is in the range [1, the number of unique elements in the array].\n",
    "    It is guaranteed that the answer is unique.\n",
    "\n",
    " \n",
    "\n",
    "Follow up: Your algorithm's time complexity must be better than O(n log n), where n is the array's size.\n"
   ]
  },
  {
   "cell_type": "code",
   "execution_count": null,
   "id": "486d5c17",
   "metadata": {},
   "outputs": [],
   "source": [
    "from collections import Counter\n",
    "class Solution:\n",
    "    def topKFrequent(self, nums: List[int], k: int) -> List[int]:\n",
    "        count = Counter(nums)\n",
    "        lst = sorted(count.items(), key=lambda kv: kv[1], reverse = True)\n",
    "        ans = [t[0] for t in lst[:k]] \n",
    "        return ans"
   ]
  },
  {
   "cell_type": "markdown",
   "id": "4f9680c8",
   "metadata": {},
   "source": [
    "Runtime 110 ms  \n",
    "Beats  \n",
    "62.35%  \n",
    "Memory 21.1 MB  \n",
    "Beats  \n",
    "30.27%  "
   ]
  }
 ],
 "metadata": {
  "kernelspec": {
   "display_name": "Python 3 (ipykernel)",
   "language": "python",
   "name": "python3"
  },
  "language_info": {
   "codemirror_mode": {
    "name": "ipython",
    "version": 3
   },
   "file_extension": ".py",
   "mimetype": "text/x-python",
   "name": "python",
   "nbconvert_exporter": "python",
   "pygments_lexer": "ipython3",
   "version": "3.8.13"
  }
 },
 "nbformat": 4,
 "nbformat_minor": 5
}
