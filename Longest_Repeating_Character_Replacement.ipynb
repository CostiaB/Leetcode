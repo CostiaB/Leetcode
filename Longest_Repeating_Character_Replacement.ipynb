{
 "cells": [
  {
   "cell_type": "markdown",
   "id": "9a96b088",
   "metadata": {},
   "source": [
    "## 424. Longest Repeating Character Replacement\n",
    "Medium\n",
    "\n",
    "You are given a string s and an integer k. You can choose any character of the string and change it to any other uppercase English character. You can perform this operation at most k times.\n",
    "\n",
    "Return the length of the longest substring containing the same letter you can get after performing the above operations.\n",
    "\n",
    " \n",
    "\n",
    "Example 1:\n",
    "\n",
    "Input: s = \"ABAB\", k = 2\n",
    "Output: 4\n",
    "Explanation: Replace the two 'A's with two 'B's or vice versa.\n",
    "\n",
    "Example 2:\n",
    "\n",
    "Input: s = \"AABABBA\", k = 1\n",
    "Output: 4\n",
    "Explanation: Replace the one 'A' in the middle with 'B' and form \"AABBBBA\".\n",
    "The substring \"BBBB\" has the longest repeating letters, which is 4.\n",
    "\n",
    " \n",
    "\n",
    "Constraints:\n",
    "\n",
    "    1 <= s.length <= 105\n",
    "    s consists of only uppercase English letters.\n",
    "    0 <= k <= s.length\n",
    "\n"
   ]
  },
  {
   "cell_type": "code",
   "execution_count": 1,
   "id": "f2a34ce4",
   "metadata": {},
   "outputs": [],
   "source": [
    "class Solution:\n",
    "    def characterReplacement(self, s: str, k: int) -> int:\n",
    "        freqs = {letter : 0 for letter in s}\n",
    "        l, r, ans = 0, 0, 0 \n",
    "        while l < len(s):\n",
    "            freqs[s[l]] += 1\n",
    "            while l - r + 1 - max(freqs.values()) > k:\n",
    "                freqs[s[r]] -= 1\n",
    "                r += 1\n",
    "            ans = max(ans, l - r  + 1)\n",
    "            l += 1\n",
    "        return ans"
   ]
  },
  {
   "cell_type": "code",
   "execution_count": 3,
   "id": "ccbff8dc",
   "metadata": {},
   "outputs": [
    {
     "data": {
      "text/plain": [
       "6"
      ]
     },
     "execution_count": 3,
     "metadata": {},
     "output_type": "execute_result"
    }
   ],
   "source": [
    "Solution().characterReplacement(\"ABAAAB\", 2)"
   ]
  },
  {
   "cell_type": "markdown",
   "id": "dc714fe3",
   "metadata": {},
   "source": [
    "Runtime: 192 ms, faster than 60.82% of Python3 online submissions for Longest Repeating Character Replacement.  \n",
    "Memory Usage: 14 MB, less than 58.30% of Python3 online submissions for Longest Repeating Character Replacement."
   ]
  }
 ],
 "metadata": {
  "kernelspec": {
   "display_name": "Python 3 (ipykernel)",
   "language": "python",
   "name": "python3"
  },
  "language_info": {
   "codemirror_mode": {
    "name": "ipython",
    "version": 3
   },
   "file_extension": ".py",
   "mimetype": "text/x-python",
   "name": "python",
   "nbconvert_exporter": "python",
   "pygments_lexer": "ipython3",
   "version": "3.7.13"
  }
 },
 "nbformat": 4,
 "nbformat_minor": 5
}
