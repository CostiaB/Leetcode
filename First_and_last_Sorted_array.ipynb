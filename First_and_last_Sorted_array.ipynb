{
 "cells": [
  {
   "cell_type": "markdown",
   "id": "b2b1b93e",
   "metadata": {},
   "source": [
    "## 34. Find First and Last Position of Element in Sorted Array\n",
    "Medium\n",
    "\n",
    "Given an array of integers nums sorted in non-decreasing order, find the starting and ending position of a given target value.\n",
    "\n",
    "If target is not found in the array, return [-1, -1].\n",
    "\n",
    "You must write an algorithm with O(log n) runtime complexity.\n",
    "\n",
    " \n",
    "\n",
    "Example 1:\n",
    "\n",
    "Input: nums = [5,7,7,8,8,10], target = 8\n",
    "Output: [3,4]\n",
    "\n",
    "Example 2:\n",
    "\n",
    "Input: nums = [5,7,7,8,8,10], target = 6\n",
    "Output: [-1,-1]\n",
    "\n",
    "Example 3:\n",
    "\n",
    "Input: nums = [], target = 0\n",
    "Output: [-1,-1]\n",
    "\n",
    " \n",
    "\n",
    "Constraints:\n",
    "\n",
    "    0 <= nums.length <= 105\n",
    "    -109 <= nums[i] <= 109\n",
    "    nums is a non-decreasing array.\n",
    "    -109 <= target <= 109\n",
    "\n"
   ]
  },
  {
   "cell_type": "code",
   "execution_count": 8,
   "id": "aac4f27a",
   "metadata": {},
   "outputs": [],
   "source": [
    "class Solution:\n",
    "    def searchRange(self, nums: list, target: int) -> list:\n",
    "        #two binary searches for right and left index\n",
    "        l = 0\n",
    "        r = len(nums) - 1\n",
    "        ans = [-1, -1]\n",
    "        while l <= r:\n",
    "            midl = (l+r)//2\n",
    "            if nums[midl] == target:\n",
    "                ans[0] = midl\n",
    "                r =  midl - 1 # moving to the left to find the first occurence of the target\n",
    "                \n",
    "            elif nums[midl] > target:\n",
    "                r = midl - 1\n",
    "            elif nums[midl] < target:\n",
    "                l = midl + 1\n",
    "        \n",
    "        l = 0\n",
    "        r = len(nums) - 1    \n",
    "        while l <= r:\n",
    "            midl = (l+r)//2\n",
    "            if nums[midl] == target:\n",
    "                ans[1] = midl\n",
    "                l =  midl + 1 # moving to the right to find the second occurence of the target\n",
    "            elif nums[midl] > target:\n",
    "                r = midl - 1\n",
    "            elif nums[midl] < target:\n",
    "                l = midl + 1\n",
    "            \n",
    "            \n",
    "        return ans"
   ]
  },
  {
   "cell_type": "code",
   "execution_count": 9,
   "id": "5e38b669",
   "metadata": {},
   "outputs": [
    {
     "data": {
      "text/plain": [
       "[0, 1]"
      ]
     },
     "execution_count": 9,
     "metadata": {},
     "output_type": "execute_result"
    }
   ],
   "source": [
    "Solution().searchRange([2,2], 2)"
   ]
  },
  {
   "cell_type": "code",
   "execution_count": 10,
   "id": "4ad40429",
   "metadata": {},
   "outputs": [
    {
     "data": {
      "text/plain": [
       "[0, 0]"
      ]
     },
     "execution_count": 10,
     "metadata": {},
     "output_type": "execute_result"
    }
   ],
   "source": [
    "Solution().searchRange([1], 1)"
   ]
  },
  {
   "cell_type": "markdown",
   "id": "501ce073",
   "metadata": {},
   "source": [
    "Runtime: 83 ms, faster than 98.27% of Python3 online submissions for Find First and Last Position of Element in Sorted Array.  \n",
    "Memory Usage: 15.4 MB, less than 92.49% of Python3 online submissions for Find First and Last Position of Element in Sorted Array."
   ]
  }
 ],
 "metadata": {
  "kernelspec": {
   "display_name": "Python 3 (ipykernel)",
   "language": "python",
   "name": "python3"
  },
  "language_info": {
   "codemirror_mode": {
    "name": "ipython",
    "version": 3
   },
   "file_extension": ".py",
   "mimetype": "text/x-python",
   "name": "python",
   "nbconvert_exporter": "python",
   "pygments_lexer": "ipython3",
   "version": "3.8.11"
  }
 },
 "nbformat": 4,
 "nbformat_minor": 5
}
