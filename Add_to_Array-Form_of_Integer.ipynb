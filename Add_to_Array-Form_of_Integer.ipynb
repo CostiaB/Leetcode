{
 "cells": [
  {
   "cell_type": "markdown",
   "id": "ab66a5f9",
   "metadata": {},
   "source": [
    "## 989. Add to Array-Form of Integer\n",
    "Easy\n",
    "1.9K\n",
    "173\n",
    "Companies\n",
    "\n",
    "The array-form of an integer num is an array representing its digits in left to right order.\n",
    "\n",
    "    For example, for num = 1321, the array form is [1,3,2,1].\n",
    "\n",
    "Given num, the array-form of an integer, and an integer k, return the array-form of the integer num + k.\n",
    "\n",
    " \n",
    "\n",
    "Example 1:\n",
    "\n",
    "Input: num = [1,2,0,0], k = 34  \n",
    "Output: [1,2,3,4]  \n",
    "Explanation: 1200 + 34 = 1234  \n",
    "\n",
    "Example 2:\n",
    "\n",
    "Input: num = [2,7,4], k = 181  \n",
    "Output: [4,5,5]  \n",
    "Explanation: 274 + 181 = 455  \n",
    "\n",
    "Example 3:\n",
    "\n",
    "Input: num = [2,1,5], k = 806  \n",
    "Output: [1,0,2,1]  \n",
    "Explanation: 215 + 806 = 1021  \n",
    "\n",
    " \n",
    "\n",
    "Constraints:\n",
    "\n",
    "    1 <= num.length <= 104  \n",
    "    0 <= num[i] <= 9  \n",
    "    num does not contain any leading zeros except for the zero itself.  \n",
    "    1 <= k <= 104  \n",
    "\n"
   ]
  },
  {
   "cell_type": "code",
   "execution_count": null,
   "id": "acdb4292",
   "metadata": {},
   "outputs": [],
   "source": [
    "class Solution:\n",
    "    def addToArrayForm(self, num: List[int], k: int) -> List[int]:\n",
    "        s_nums = ''.join(map(str, num))\n",
    "        ans = int(s_nums) + k \n",
    "        return [int(l) for l in str(ans)]"
   ]
  },
  {
   "cell_type": "markdown",
   "id": "f18270f1",
   "metadata": {},
   "source": [
    "Runtime 319 ms  \n",
    "Beats  \n",
    "66.76%  \n",
    "Memory 15 MB  \n",
    "Beats  \n",
    "85.98%  "
   ]
  }
 ],
 "metadata": {
  "kernelspec": {
   "display_name": "Python 3 (ipykernel)",
   "language": "python",
   "name": "python3"
  },
  "language_info": {
   "codemirror_mode": {
    "name": "ipython",
    "version": 3
   },
   "file_extension": ".py",
   "mimetype": "text/x-python",
   "name": "python",
   "nbconvert_exporter": "python",
   "pygments_lexer": "ipython3",
   "version": "3.8.13"
  }
 },
 "nbformat": 4,
 "nbformat_minor": 5
}
