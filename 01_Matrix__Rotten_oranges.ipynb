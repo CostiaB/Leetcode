{
 "cells": [
  {
   "cell_type": "markdown",
   "id": "f4bc728c",
   "metadata": {},
   "source": [
    "542. 01 Matrix\n",
    "Medium\n",
    "\n",
    "Given an m x n binary matrix mat, return the distance of the nearest 0 for each cell.\n",
    "\n",
    "The distance between two adjacent cells is 1.\n",
    "\n",
    " \n",
    "\n",
    "Example 1:\n",
    "<img src = 'https://assets.leetcode.com/uploads/2021/04/24/01-1-grid.jpg'>\n",
    "\n",
    "Input: mat = [[0,0,0],[0,1,0],[0,0,0]]\n",
    "Output: [[0,0,0],[0,1,0],[0,0,0]]\n",
    "\n",
    "Example 2:\n",
    "\n",
    "Input: mat = [[0,0,0],[0,1,0],[1,1,1]]\n",
    "Output: [[0,0,0],[0,1,0],[1,2,1]]\n",
    "\n",
    " \n",
    "\n",
    "Constraints:\n",
    "\n",
    "    m == mat.length\n",
    "    n == mat[i].length\n",
    "    1 <= m, n <= 104\n",
    "    1 <= m * n <= 104\n",
    "    mat[i][j] is either 0 or 1.\n",
    "    There is at least one 0 in mat.\n",
    "\n"
   ]
  },
  {
   "cell_type": "code",
   "execution_count": 2,
   "id": "55593c9c",
   "metadata": {},
   "outputs": [],
   "source": [
    "class Solution:\n",
    "    def updateMatrix(self, mat: list) -> list:\n",
    "        h = len(mat)\n",
    "        w = len(mat[0])\n",
    "        tmp = []\n",
    "        for i in range(h):\n",
    "            for j in range(w):\n",
    "                if mat[i][j] == 0:\n",
    "                    tmp.append((i,j))\n",
    "                else:\n",
    "                    mat[i][j] = 'b'\n",
    "        \n",
    "        for row, col in tmp:\n",
    "            for dx, dy in (1,0), (-1,0), (0,1), (0, -1):\n",
    "                nr = row + dx\n",
    "                nc = col + dy\n",
    "                \n",
    "                if 0 <= nr < h and 0 <= nc < w  and mat[nr][nc] == 'b':\n",
    "                    mat[nr][nc] = mat[row][col] + 1\n",
    "                    tmp.append((nr,nc))\n",
    "        return mat"
   ]
  },
  {
   "cell_type": "code",
   "execution_count": 3,
   "id": "2272b6c8",
   "metadata": {},
   "outputs": [
    {
     "data": {
      "text/plain": [
       "[[0, 0, 0], [0, 1, 0], [1, 2, 1]]"
      ]
     },
     "execution_count": 3,
     "metadata": {},
     "output_type": "execute_result"
    }
   ],
   "source": [
    "Solution().updateMatrix([[0,0,0],[0,1,0],[1,1,1]])"
   ]
  },
  {
   "cell_type": "code",
   "execution_count": null,
   "id": "b0ef9eca",
   "metadata": {},
   "outputs": [],
   "source": []
  },
  {
   "cell_type": "markdown",
   "id": "745ed088",
   "metadata": {},
   "source": [
    "994. Rotting Oranges\n",
    "Medium\n",
    "\n",
    "You are given an m x n grid where each cell can have one of three values:\n",
    "\n",
    "    0 representing an empty cell,\n",
    "    1 representing a fresh orange, or\n",
    "    2 representing a rotten orange.\n",
    "\n",
    "Every minute, any fresh orange that is 4-directionally adjacent to a rotten orange becomes rotten.\n",
    "\n",
    "Return the minimum number of minutes that must elapse until no cell has a fresh orange. If this is impossible, return -1.\n",
    "\n",
    " \n",
    "\n",
    "Example 1:\n",
    "<img src = 'https://assets.leetcode.com/uploads/2019/02/16/oranges.png'>\n",
    "Input: grid = [[2,1,1],[1,1,0],[0,1,1]]\n",
    "Output: 4\n",
    "\n",
    "Example 2:\n",
    "\n",
    "Input: grid = [[2,1,1],[0,1,1],[1,0,1]]\n",
    "Output: -1\n",
    "Explanation: The orange in the bottom left corner (row 2, column 0) is never rotten, because rotting only happens 4-directionally.\n",
    "\n",
    "Example 3:\n",
    "\n",
    "Input: grid = [[0,2]]\n",
    "Output: 0\n",
    "Explanation: Since there are already no fresh oranges at minute 0, the answer is just 0.\n",
    "\n",
    " \n",
    "\n",
    "Constraints:\n",
    "\n",
    "    m == grid.length\n",
    "    n == grid[i].length\n",
    "    1 <= m, n <= 10\n",
    "    grid[i][j] is 0, 1, or 2.\n",
    "\n"
   ]
  },
  {
   "cell_type": "code",
   "execution_count": 6,
   "id": "2ca2286f",
   "metadata": {},
   "outputs": [],
   "source": [
    "class Solution:\n",
    "    def orangesRotting(self, grid: list) -> int:\n",
    "        num_rows = len(grid)\n",
    "        num_cols = len(grid[0])\n",
    "        num_minutes = 0\n",
    "        fresh_oranges = {}\n",
    "        rotten_oranges = []\n",
    "        \n",
    "        # Iterate over all the grids, save rotten orange, fresh orange\n",
    "        for row in range(num_rows):\n",
    "            for col in range(num_cols):\n",
    "                cell = grid[row][col]\n",
    "                if cell == 2:\n",
    "                    rotten_oranges.append((row, col))\n",
    "                elif cell == 1:\n",
    "                    fresh_oranges[(row, col)] = 1\n",
    "                \n",
    "        while True:\n",
    "            new_rotten_oranges = []\n",
    "            for rotten_orange in rotten_oranges:\n",
    "                r, c = rotten_orange\n",
    "                adj = [(r+1,c), (r-1, c), (r,c+1), (r,c-1)]\n",
    "                for r0, c0 in adj:\n",
    "                    if 0<=r0<num_rows and 0<=c0<num_cols and (r0,c0) in fresh_oranges:\n",
    "                        new_rotten_oranges.append((r0,c0))\n",
    "                        del fresh_oranges[(r0,c0)] \n",
    "            \n",
    "            if len(new_rotten_oranges) == 0:\n",
    "                break\n",
    "            num_minutes += 1\n",
    "            rotten_oranges = new_rotten_oranges[:]\n",
    "            \n",
    "        if fresh_oranges:\n",
    "            return -1\n",
    "        else:\n",
    "            return num_minutes"
   ]
  },
  {
   "cell_type": "code",
   "execution_count": 7,
   "id": "3c650e0a",
   "metadata": {},
   "outputs": [
    {
     "data": {
      "text/plain": [
       "-1"
      ]
     },
     "execution_count": 7,
     "metadata": {},
     "output_type": "execute_result"
    }
   ],
   "source": [
    "Solution().orangesRotting([[2,1,1],[0,1,1],[1,0,1]])"
   ]
  },
  {
   "cell_type": "code",
   "execution_count": null,
   "id": "7a4c6dd9",
   "metadata": {},
   "outputs": [],
   "source": []
  },
  {
   "cell_type": "code",
   "execution_count": null,
   "id": "197b2670",
   "metadata": {},
   "outputs": [],
   "source": []
  }
 ],
 "metadata": {
  "kernelspec": {
   "display_name": "Python 3 (ipykernel)",
   "language": "python",
   "name": "python3"
  },
  "language_info": {
   "codemirror_mode": {
    "name": "ipython",
    "version": 3
   },
   "file_extension": ".py",
   "mimetype": "text/x-python",
   "name": "python",
   "nbconvert_exporter": "python",
   "pygments_lexer": "ipython3",
   "version": "3.7.13"
  }
 },
 "nbformat": 4,
 "nbformat_minor": 5
}
