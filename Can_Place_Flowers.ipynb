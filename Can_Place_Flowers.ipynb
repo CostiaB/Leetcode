{
 "cells": [
  {
   "cell_type": "markdown",
   "id": "2904b56b",
   "metadata": {},
   "source": [
    "## 605. Can Place Flowers\n",
    "Easy\n",
    "4.5K\n",
    "796\n",
    "Companies\n",
    "\n",
    "You have a long flowerbed in which some of the plots are planted, and some are not. However, flowers cannot be planted in adjacent plots.\n",
    "\n",
    "Given an integer array flowerbed containing 0's and 1's, where 0 means empty and 1 means not empty, and an integer n, return if n new flowers can be planted in the flowerbed without violating the no-adjacent-flowers rule.\n",
    "\n",
    " \n",
    "\n",
    "Example 1:\n",
    "  \n",
    "Input: flowerbed = [1,0,0,0,1], n = 1  \n",
    "Output: true  \n",
    "\n",
    "Example 2:  \n",
    "  \n",
    "Input: flowerbed = [1,0,0,0,1], n = 2  \n",
    "Output: false  \n",
    "\n",
    " \n",
    "\n",
    "Constraints:\n",
    "\n",
    "    1 <= flowerbed.length <= 2 * 104\n",
    "    flowerbed[i] is 0 or 1.\n",
    "    There are no two adjacent flowers in flowerbed.\n",
    "    0 <= n <= flowerbed.length\n",
    "\n"
   ]
  },
  {
   "cell_type": "code",
   "execution_count": null,
   "id": "f2a068e4",
   "metadata": {},
   "outputs": [],
   "source": [
    "class Solution:\n",
    "    def canPlaceFlowers(self, flowerbed: List[int], n: int) -> bool:\n",
    "        for i in range(len(flowerbed)):\n",
    "            #check whether places near 0 is vacant and if that place is end of a flowerbed\n",
    "            if flowerbed[i] == 0 and (i == 0 or flowerbed[i-1] == 0) and (i == len(flowerbed) - 1 or flowerbed[i+1] == 0):\n",
    "                flowerbed[i] = 1\n",
    "                n -= 1 #decrease flower slots\n",
    "        if n > 0:\n",
    "            return False\n",
    "        return True"
   ]
  },
  {
   "cell_type": "markdown",
   "id": "3a6ae80a",
   "metadata": {},
   "source": [
    "Runtime 162 ms  \n",
    "Beats  \n",
    "81.99%  \n",
    "Memory 14.4 MB  \n",
    "Beats  \n",
    "20.94%  "
   ]
  }
 ],
 "metadata": {
  "kernelspec": {
   "display_name": "Python 3 (ipykernel)",
   "language": "python",
   "name": "python3"
  },
  "language_info": {
   "codemirror_mode": {
    "name": "ipython",
    "version": 3
   },
   "file_extension": ".py",
   "mimetype": "text/x-python",
   "name": "python",
   "nbconvert_exporter": "python",
   "pygments_lexer": "ipython3",
   "version": "3.8.13"
  }
 },
 "nbformat": 4,
 "nbformat_minor": 5
}
