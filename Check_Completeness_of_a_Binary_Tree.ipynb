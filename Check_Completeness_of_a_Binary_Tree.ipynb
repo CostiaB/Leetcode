{
 "cells": [
  {
   "cell_type": "markdown",
   "id": "fa291b6e",
   "metadata": {},
   "source": [
    "## 958. Check Completeness of a Binary Tree\n",
    "Medium\n",
    "3.4K\n",
    "43\n",
    "Companies\n",
    "\n",
    "Given the root of a binary tree, determine if it is a complete binary tree.\n",
    "\n",
    "In a complete binary tree, every level, except possibly the last, is completely filled, and all nodes in the last level are as far left as possible. It can have between 1 and 2h nodes inclusive at the last level h.\n",
    "\n",
    " \n",
    "\n",
    "Example 1:\n",
    "\n",
    "Input: root = [1,2,3,4,5,6]  \n",
    "Output: true  \n",
    "Explanation: Every level before the last is full (ie. levels with node-values {1} and {2, 3}), and all nodes in the last level ({4, 5, 6}) are as far left as possible.\n",
    "\n",
    "Example 2:\n",
    "\n",
    "Input: root = [1,2,3,4,5,null,7]  \n",
    "Output: false  \n",
    "Explanation: The node with value 7 isn't as far left as possible.  \n",
    "\n",
    " \n",
    "\n",
    "Constraints:\n",
    "\n",
    "    The number of nodes in the tree is in the range [1, 100].\n",
    "    1 <= Node.val <= 1000\n",
    "\n"
   ]
  },
  {
   "cell_type": "code",
   "execution_count": null,
   "id": "d121a357",
   "metadata": {},
   "outputs": [],
   "source": [
    "# Definition for a binary tree node.\n",
    "# class TreeNode:\n",
    "#     def __init__(self, val=0, left=None, right=None):\n",
    "#         self.val = val\n",
    "#         self.left = left\n",
    "#         self.right = right\n",
    "class Solution:\n",
    "    def isCompleteTree(self, root: Optional[TreeNode]) -> bool:\n",
    "        tree = [root]\n",
    "        null_branch = False\n",
    "\n",
    "        while tree:\n",
    "            level = tree.pop(0)\n",
    "\n",
    "            if level is None:\n",
    "                null_branch = True\n",
    "                continue\n",
    "            if null_branch:\n",
    "                return False\n",
    "\n",
    "            tree.append(level.left)\n",
    "            tree.append(level.right)\n",
    "        return True"
   ]
  },
  {
   "cell_type": "markdown",
   "id": "bdfc742c",
   "metadata": {},
   "source": [
    "Runtime 42 ms  \n",
    "Beats  \n",
    "27.81%  \n",
    "Memory  13.9 MB  \n",
    "Beats  \n",
    "61.14%  "
   ]
  }
 ],
 "metadata": {
  "kernelspec": {
   "display_name": "Python 3 (ipykernel)",
   "language": "python",
   "name": "python3"
  },
  "language_info": {
   "codemirror_mode": {
    "name": "ipython",
    "version": 3
   },
   "file_extension": ".py",
   "mimetype": "text/x-python",
   "name": "python",
   "nbconvert_exporter": "python",
   "pygments_lexer": "ipython3",
   "version": "3.8.13"
  }
 },
 "nbformat": 4,
 "nbformat_minor": 5
}
