{
 "cells": [
  {
   "cell_type": "markdown",
   "id": "3cceabc9",
   "metadata": {},
   "source": [
    "## 5. Longest Palindromic Substring\n",
    "Medium\n",
    "\n",
    "Given a string s, return the longest palindromic substring in s.\n",
    "\n",
    " \n",
    "\n",
    "Example 1:\n",
    "\n",
    "Input: s = \"babad\"  \n",
    "Output: \"bab\"  \n",
    "Explanation: \"aba\" is also a valid answer.  \n",
    "\n",
    "Example 2:\n",
    "\n",
    "Input: s = \"cbbd\"  \n",
    "Output: \"bb\"  \n",
    "\n",
    " \n",
    "\n",
    "Constraints:\n",
    "\n",
    "    1 <= s.length <= 1000\n",
    "    s consist of only digits and English letters.\n",
    "\n"
   ]
  },
  {
   "cell_type": "code",
   "execution_count": 1,
   "id": "e0a84941",
   "metadata": {},
   "outputs": [],
   "source": [
    "class Solution:\n",
    "       def longestPalindrome(self, s: str) -> str:\n",
    "        \"\"\"\n",
    "        :type s: str\n",
    "        :rtype: str\n",
    "        \"\"\"\n",
    "        maximum = \"\"\n",
    "        temp = \"\"\n",
    "        for index in range(len(s)):\n",
    "            if len(maximum) >= len(s) - index:\n",
    "                break\n",
    "            for index2 in range(index+len(maximum),len(s)+1):\n",
    "                fw = s[index:index2] \n",
    "                bw = fw[::-1]\n",
    "                if fw == bw:\n",
    "                    temp = fw\n",
    "                    if len(temp) > len(maximum):\n",
    "                        maximum = temp\n",
    "        return maximum\n"
   ]
  },
  {
   "cell_type": "markdown",
   "id": "aaecc788",
   "metadata": {},
   "source": [
    "Runtime: 9865 ms, faster than 5.00% of Python3 online submissions for Longest Palindromic Substring.  \n",
    "Memory Usage: 14 MB, less than 27.82% of Python3 online submissions for Longest Palindromic Substring."
   ]
  },
  {
   "cell_type": "code",
   "execution_count": 2,
   "id": "e2e5997f",
   "metadata": {},
   "outputs": [],
   "source": [
    "class Solution:\n",
    "       def longestPalindrome(self, s: str) -> str:\n",
    "            _str = '$#' + '#'.join(s) + '#@'\n",
    "            _id,mx = 0,0\n",
    "            p = [0 for i in range(len(_str) + 1)]\n",
    "            for i in range(1,len(_str) - 1):\n",
    "                if i < mx:\n",
    "                    p[i] = min(mx - i,p[2 * _id - i])\n",
    "                else:\n",
    "                    p[i] = 1\n",
    "                while _str[i - p[i]] == _str[i + p[i]]:\n",
    "                    p[i] += 1\n",
    "                if mx < i + p[i]:\n",
    "                    _id = i\n",
    "                    mx = i + p[i]\n",
    "            _id,mx = 0,0\n",
    "            for i in range(len(_str)):\n",
    "                if mx < p[i]:\n",
    "                    _id = i\n",
    "                    mx = p[i]\n",
    "            return _str[_id - p[_id] + 1:_id + p[_id]].replace('#','')\n"
   ]
  },
  {
   "cell_type": "markdown",
   "id": "7dfd016c",
   "metadata": {},
   "source": [
    "Runtime: 348 ms, faster than 94.57% of Python3 online submissions for Longest Palindromic Substring.  \n",
    "Memory Usage: 14 MB, less than 57.38% of Python3 online submissions for Longest Palindromic Substring."
   ]
  }
 ],
 "metadata": {
  "kernelspec": {
   "display_name": "Python 3 (ipykernel)",
   "language": "python",
   "name": "python3"
  },
  "language_info": {
   "codemirror_mode": {
    "name": "ipython",
    "version": 3
   },
   "file_extension": ".py",
   "mimetype": "text/x-python",
   "name": "python",
   "nbconvert_exporter": "python",
   "pygments_lexer": "ipython3",
   "version": "3.8.13"
  }
 },
 "nbformat": 4,
 "nbformat_minor": 5
}
