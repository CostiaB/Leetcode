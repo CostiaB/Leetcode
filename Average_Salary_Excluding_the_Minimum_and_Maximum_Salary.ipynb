{
 "cells": [
  {
   "cell_type": "markdown",
   "id": "f7186ad6",
   "metadata": {},
   "source": [
    "## 1491. Average Salary Excluding the Minimum and Maximum Salary\n",
    "Easy\n",
    "1.8K\n",
    "163\n",
    "Companies\n",
    "\n",
    "You are given an array of unique integers salary where salary[i] is the salary of the ith employee.  \n",
    "\n",
    "Return the average salary of employees excluding the minimum and maximum salary. Answers within 10-5 of the actual   answer will be accepted.  \n",
    "\n",
    " \n",
    "  \n",
    "Example 1:  \n",
    "  \n",
    "Input: salary = [4000,3000,1000,2000]  \n",
    "Output: 2500.00000  \n",
    "Explanation: Minimum salary and maximum salary are 1000 and 4000 respectively.  \n",
    "Average salary excluding minimum and maximum salary is (2000+3000) / 2 = 2500  \n",
    "\n",
    "Example 2:  \n",
    "  \n",
    "Input: salary = [1000,2000,3000]  \n",
    "Output: 2000.00000  \n",
    "Explanation: Minimum salary and maximum salary are 1000 and 3000 respectively.  \n",
    "Average salary excluding minimum and maximum salary is (2000) / 1 = 2000  \n",
    "\n",
    " \n",
    "\n",
    "Constraints:  \n",
    "  \n",
    "    3 <= salary.length <= 100  \n",
    "    1000 <= salary[i] <= 106 \n",
    "    All the integers of salary are unique.  \n",
    "\n"
   ]
  },
  {
   "cell_type": "code",
   "execution_count": null,
   "id": "6b20c2fb",
   "metadata": {},
   "outputs": [],
   "source": [
    "class Solution:\n",
    "    def average(self, salary: List[int]) -> float:\n",
    "        min_s, max_s = float('inf'), float('-inf')\n",
    "        ss = 0\n",
    "        n = 0\n",
    "        for d in salary:\n",
    "            if d < min_s:\n",
    "                min_s = d\n",
    "            if d > max_s:\n",
    "                max_s = d\n",
    "            ss += d\n",
    "            n += 1\n",
    "\n",
    "        return (ss - min_s - max_s)/(n-2)"
   ]
  }
 ],
 "metadata": {
  "kernelspec": {
   "display_name": "Python 3 (ipykernel)",
   "language": "python",
   "name": "python3"
  },
  "language_info": {
   "codemirror_mode": {
    "name": "ipython",
    "version": 3
   },
   "file_extension": ".py",
   "mimetype": "text/x-python",
   "name": "python",
   "nbconvert_exporter": "python",
   "pygments_lexer": "ipython3",
   "version": "3.8.13"
  }
 },
 "nbformat": 4,
 "nbformat_minor": 5
}
