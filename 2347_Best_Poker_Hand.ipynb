{
 "cells": [
  {
   "cell_type": "markdown",
   "id": "6d6117ac",
   "metadata": {},
   "source": [
    "# 2347. Best Poker Hand\n",
    "Easy\n",
    "\n",
    "You are given an integer array ranks and a character array suits. You have 5 cards where the ith card has a rank of ranks[i] and a suit of suits[i].\n",
    "\n",
    "The following are the types of poker hands you can make from best to worst:\n",
    "\n",
    "    \"Flush\": Five cards of the same suit.\n",
    "    \"Three of a Kind\": Three cards of the same rank.\n",
    "    \"Pair\": Two cards of the same rank.\n",
    "    \"High Card\": Any single card.\n",
    "\n",
    "Return a string representing the best type of poker hand you can make with the given cards.\n",
    "\n",
    "Note that the return values are case-sensitive.\n",
    "\n",
    " \n",
    "\n",
    "Example 1:\n",
    "\n",
    "Input: ranks = [13,2,3,1,9], suits = [\"a\",\"a\",\"a\",\"a\",\"a\"]  \n",
    "Output: \"Flush\"  \n",
    "Explanation: The hand with all the cards consists of 5 cards with the same suit, so we have a \"Flush\".  \n",
    "\n",
    "Example 2:\n",
    "\n",
    "Input: ranks = [4,4,2,4,4], suits = [\"d\",\"a\",\"a\",\"b\",\"c\"]  \n",
    "Output: \"Three of a Kind\"  \n",
    "Explanation: The hand with the first, second, and fourth card consists of 3 cards with the same rank, so we have a \"Three of a Kind\".  \n",
    "Note that we could also make a \"Pair\" hand but \"Three of a Kind\" is a better hand.  \n",
    "Also note that other cards could be used to make the \"Three of a Kind\" hand.  \n",
    "\n",
    "Example 3:\n",
    "\n",
    "Input: ranks = [10,10,2,12,9], suits = [\"a\",\"b\",\"c\",\"a\",\"d\"]\n",
    "Output: \"Pair\"\n",
    "Explanation: The hand with the first and second card consists of 2 cards with the same rank, so we have a \"Pair\".\n",
    "Note that we cannot make a \"Flush\" or a \"Three of a Kind\".\n",
    "\n",
    " \n",
    "\n",
    "Constraints:\n",
    "\n",
    "    ranks.length == suits.length == 5\n",
    "    1 <= ranks[i] <= 13\n",
    "    'a' <= suits[i] <= 'd'\n",
    "    No two cards have the same rank and suit.\n",
    "\n"
   ]
  },
  {
   "cell_type": "code",
   "execution_count": null,
   "id": "51881e5d",
   "metadata": {},
   "outputs": [],
   "source": [
    "class Solution:\n",
    "    def bestHand(self, ranks: List[int], suits: List[str]) -> str:\n",
    "        if(len(set(suits)) == 1):\n",
    "            return \"Flush\"\n",
    "        \n",
    "        h={}\n",
    "        \n",
    "        for i in range(5):\n",
    "            h[ranks[i]] = h.get(ranks[i], 0) + 1\n",
    "        t = h.values()\n",
    "        print(t)\n",
    "        if 3 in t or 4 in t or 5 in t:\n",
    "            return \"Three of a Kind\"\n",
    "        elif 2 in t:\n",
    "            return \"Pair\"\n",
    "        return \"High Card\""
   ]
  },
  {
   "cell_type": "markdown",
   "id": "8b5e8018",
   "metadata": {},
   "source": [
    "    Runtime 46 ms Beats 12.30%\n",
    "    Memory 16.3 MB Beats 12.76%"
   ]
  },
  {
   "cell_type": "code",
   "execution_count": null,
   "id": "11e6e896",
   "metadata": {},
   "outputs": [],
   "source": [
    "class Solution:\n",
    "    def bestHand(self, ranks: List[int], suits: List[str]) -> str:\n",
    "        if(len(set(suits)) == 1):\n",
    "            return \"Flush\"\n",
    "        \n",
    "        h={}\n",
    "        ans = ''\n",
    "        for i in ranks:\n",
    "            h[i] = h.get(i, 0) + 1\n",
    "            if h[i] >= 3:\n",
    "                return \"Three of a Kind\"\n",
    "            if h[i] == 2:\n",
    "                ans = 'Pair'\n",
    "        if ans == '':\n",
    "            ans = 'High Card'    \n",
    "        \n",
    "        return ans\n",
    "        "
   ]
  },
  {
   "cell_type": "markdown",
   "id": "f2387db0",
   "metadata": {},
   "source": [
    "    Runtime 34 ms Beats 90.66%\n",
    "    Memory 16.4 MB Beats 12.76%"
   ]
  }
 ],
 "metadata": {
  "kernelspec": {
   "display_name": "Python 3 (ipykernel)",
   "language": "python",
   "name": "python3"
  },
  "language_info": {
   "codemirror_mode": {
    "name": "ipython",
    "version": 3
   },
   "file_extension": ".py",
   "mimetype": "text/x-python",
   "name": "python",
   "nbconvert_exporter": "python",
   "pygments_lexer": "ipython3",
   "version": "3.10.12"
  }
 },
 "nbformat": 4,
 "nbformat_minor": 5
}
